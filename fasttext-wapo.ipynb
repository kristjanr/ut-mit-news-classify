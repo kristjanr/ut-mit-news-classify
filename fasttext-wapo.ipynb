{
 "cells": [
  {
   "cell_type": "code",
   "execution_count": 1,
   "metadata": {},
   "outputs": [],
   "source": [
    "from sklearn.model_selection import train_test_split\n",
    "import sklearn.metrics as metrics\n",
    "import gzip\n",
    "import pandas as pd\n",
    "import numpy as np\n",
    "import fasttext\n",
    "from data_utils import load_opinion_data"
   ]
  },
  {
   "source": [
    "## Prepare data"
   ],
   "cell_type": "markdown",
   "metadata": {}
  },
  {
   "cell_type": "code",
   "execution_count": 7,
   "metadata": {},
   "outputs": [
    {
     "output_type": "stream",
     "name": "stdout",
     "text": [
      "x_train.shape (100591,)\ny_train.shape (100591,)\nx_val.shape (11176,)\ny_val.shape (11176,)\nx_test.shape (12418,)\ny_test.shape (12418,)\n"
     ]
    }
   ],
   "source": [
    "x_train, y_train, x_val, y_val, x_test, y_test = load_opinion_data(val_size=0.1)"
   ]
  },
  {
   "cell_type": "code",
   "execution_count": 6,
   "metadata": {},
   "outputs": [],
   "source": [
    "train_path = f'../articles_wapo_fasttext_train.txt'\n",
    "valid_path = f'../articles_wapo_fasttext_val.txt'\n",
    "test_path = f'../articles_wapo_fasttext_test.txt'\n",
    "\n",
    "y_train_str = ['opinion' if label == 1 else 'news' for label in y_train]\n",
    "y_val_str = ['opinion' if label == 1 else 'news' for label in y_val]\n",
    "y_test_str = ['opinion' if label == 1 else 'news' for label in y_test]\n",
    "\n",
    "with open(train_path, 'w') as f:\n",
    "    for idx in range(len(x_train)):\n",
    "        f.write(f'__label__{y_train_str[idx]} {x_train[idx]}\\n')\n",
    "\n",
    "with open(valid_path, 'w') as f:\n",
    "    for idx in range(len(x_val)):\n",
    "        f.write(f'__label__{y_val_str[idx]} {x_val[idx]}\\n')\n",
    "\n",
    "with open(test_path, 'w') as f:\n",
    "    for idx in range(len(x_test)):\n",
    "        f.write(f'__label__{y_test_str[idx]} {x_test[idx]}\\n')"
   ]
  },
  {
   "cell_type": "code",
   "execution_count": 3,
   "metadata": {},
   "outputs": [],
   "source": [
    "def evaluate_model(model, path_to_validation):\n",
    "    results = model.test_label(path_to_validation)\n",
    "    opinion = results['__label__opinion']\n",
    "    news = results['__label__news']\n",
    "    opinion = (opinion['precision'], opinion['recall'])\n",
    "    news = (news['precision'], news['recall'])\n",
    "\n",
    "    print(f\"Opinion — Precision: {opinion[0]} – Recall: {opinion[1]}\")\n",
    "    print(f\"News — Precision: {news[0]} – Recall: {news[1]}\")"
   ]
  },
  {
   "source": [
    "### Should later evaluate the model manually, because FastText messes up Recall calculation."
   ],
   "cell_type": "markdown",
   "metadata": {}
  },
  {
   "source": [
    "## Train & Evaluate on validation and test sets"
   ],
   "cell_type": "markdown",
   "metadata": {}
  },
  {
   "cell_type": "code",
   "execution_count": 4,
   "metadata": {},
   "outputs": [
    {
     "output_type": "stream",
     "name": "stdout",
     "text": [
      "Opinion — Precision: 0.8358112475759535 – Recall: nan\nNews — Precision: 0.9582511164191505 – Recall: nan\n"
     ]
    }
   ],
   "source": [
    "model = fasttext.train_supervised(train_path, epoch=5, wordNgrams=1, lr=0.8)\n",
    "\n",
    "evaluate_model(model, valid_path)"
   ]
  },
  {
   "cell_type": "code",
   "execution_count": 5,
   "metadata": {},
   "outputs": [
    {
     "output_type": "stream",
     "name": "stdout",
     "text": [
      "Opinion — Precision: 0.8420427553444181 – Recall: nan\nNews — Precision: 0.9578908142351407 – Recall: nan\n"
     ]
    }
   ],
   "source": [
    "evaluate_model(model, test_path)"
   ]
  },
  {
   "cell_type": "code",
   "execution_count": null,
   "metadata": {},
   "outputs": [],
   "source": []
  }
 ],
 "metadata": {
  "kernelspec": {
   "name": "python380jvsc74a57bd01d47407f50cb4f57b03fc08e1f31d8212463fce5635b845e385eb7c9dcc614a7",
   "display_name": "Python 3.8.0 64-bit ('nlp': conda)"
  },
  "language_info": {
   "codemirror_mode": {
    "name": "ipython",
    "version": 3
   },
   "file_extension": ".py",
   "mimetype": "text/x-python",
   "name": "python",
   "nbconvert_exporter": "python",
   "pygments_lexer": "ipython3",
   "version": "3.8.0-final"
  }
 },
 "nbformat": 4,
 "nbformat_minor": 2
}