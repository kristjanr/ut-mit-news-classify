{
 "cells": [
  {
   "cell_type": "code",
   "execution_count": 5,
   "id": "changed-symposium",
   "metadata": {},
   "outputs": [],
   "source": [
    "import pickle\n",
    "from sklearn.model_selection import train_test_split\n",
    "from sklearn.preprocessing import MultiLabelBinarizer\n",
    "from sklearn.feature_extraction.text import TfidfVectorizer\n",
    "import sklearn.metrics as metrics\n",
    "from sklearn.multioutput import ClassifierChain\n",
    "from sklearn.dummy import DummyClassifier\n",
    "from sklearn.naive_bayes import ComplementNB\n",
    "from sklearn.linear_model import LogisticRegression\n"
   ]
  },
  {
   "cell_type": "code",
   "execution_count": 6,
   "id": "pretty-design",
   "metadata": {},
   "outputs": [],
   "source": [
    "with open('../NYTcorpus_train.p', mode='rb') as f:\n",
    "    data = pickle.load(f)"
   ]
  },
  {
   "cell_type": "code",
   "execution_count": 3,
   "id": "metropolitan-passion",
   "metadata": {},
   "outputs": [],
   "source": [
    "labels = [a[3:] for a in data]\n",
    "articles = [a[2] for a in data]\n",
    "\n",
    "n_samples = 10000\n",
    "\n",
    "x_train, x_val, y_train, y_val = train_test_split(articles, labels, train_size=n_samples, test_size=n_samples, random_state=0)\n",
    "\n",
    "tfidf_vectorizer = TfidfVectorizer(\n",
    "    max_features=40000,\n",
    "    analyzer='word', \n",
    "    stop_words='english', \n",
    "    ngram_range=(1, 1), # logit accuracy with unigrams 0.1487, unigrams + bigrams 0.1524, unigrams + bigrams + trigrams 0.1537\n",
    "    strip_accents='ascii')\n",
    "\n",
    "tfidf_vectorizer.fit(x_train)\n",
    "\n",
    "x_train = tfidf_vectorizer.transform(x_train)\n",
    "x_val = tfidf_vectorizer.transform(x_val)\n",
    "\n",
    "mlb = MultiLabelBinarizer()\n",
    "y_train = mlb.fit_transform(y_train)\n",
    "y_val = mlb.transform(y_val)\n"
   ]
  },
  {
   "cell_type": "code",
   "execution_count": 4,
   "id": "separate-standard",
   "metadata": {},
   "outputs": [],
   "source": [
    "def stats(mlb, y_val, y_pred):\n",
    "    total = len(y_val)\n",
    "    all_labels_correct = 0\n",
    "\n",
    "    for y_v, y_p in zip(mlb.inverse_transform(y_val), mlb.inverse_transform(y_pred)):\n",
    "        if set(y_v) == set(y_p):\n",
    "            all_labels_correct +=1\n",
    "\n",
    "    print(\"Hamming loss %f, accuracy %f\" % (metrics.hamming_loss(y_val, y_pred), metrics.accuracy_score(y_val, y_pred)))\n",
    "    print(\"Number of correctly labeled articles out of a total of %d articles : %d\" % (total, all_labels_correct))\n",
    "    print(\"Manually calculated accuracy (for sanity check): \", all_labels_correct/total)\n",
    "    "
   ]
  },
  {
   "cell_type": "code",
   "execution_count": 5,
   "id": "caring-hello",
   "metadata": {},
   "outputs": [
    {
     "name": "stdout",
     "output_type": "stream",
     "text": [
      "Hamming loss 0.005647, accuracy 0.000000\n",
      "Number of correctly labeled articles out of a total of 10000 articles : 0\n",
      "Manually calculated accuracy (for sanity check):  0.0\n"
     ]
    }
   ],
   "source": [
    "base_classifier = DummyClassifier()\n",
    "chain = ClassifierChain(base_classifier, order='random', random_state=0)\n",
    "chain.fit(x_train, y_train)\n",
    "\n",
    "y_pred = chain.predict(x_val)\n",
    "\n",
    "stats(mlb, y_val, y_pred)\n"
   ]
  },
  {
   "cell_type": "code",
   "execution_count": 6,
   "id": "roman-trainer",
   "metadata": {},
   "outputs": [
    {
     "name": "stdout",
     "output_type": "stream",
     "text": [
      "Hamming loss 0.005167, accuracy 0.116000\n",
      "Number of correctly labeled articles out of a total of 10000 articles : 1160\n",
      "Manually calculated accuracy (for sanity check):  0.116\n"
     ]
    }
   ],
   "source": [
    "base_classifier = ComplementNB()\n",
    "chain = ClassifierChain(base_classifier, order='random', random_state=0)\n",
    "chain.fit(x_train, y_train)\n",
    "\n",
    "y_pred = chain.predict(x_val)\n",
    "\n",
    "stats(mlb, y_val, y_pred)\n"
   ]
  },
  {
   "cell_type": "code",
   "execution_count": 7,
   "id": "contained-count",
   "metadata": {},
   "outputs": [
    {
     "name": "stdout",
     "output_type": "stream",
     "text": [
      "Hamming loss 0.004829, accuracy 0.148700\n",
      "Number of correctly labeled articles out of a total of 10000 articles : 1487\n",
      "Manually calculated accuracy (for sanity check):  0.1487\n"
     ]
    }
   ],
   "source": [
    "base_classifier = LogisticRegression(solver='lbfgs', random_state=0)\n",
    "chain = ClassifierChain(base_classifier, order='random', random_state=0)\n",
    "chain.fit(x_train, y_train)\n",
    "\n",
    "y_pred = chain.predict(x_val)\n",
    "\n",
    "stats(mlb, y_val, y_pred)\n"
   ]
  },
  {
   "cell_type": "code",
   "execution_count": null,
   "id": "continuous-nevada",
   "metadata": {},
   "outputs": [],
   "source": []
  }
 ],
 "metadata": {
  "kernelspec": {
   "display_name": "Python 3",
   "language": "python",
   "name": "python3"
  },
  "language_info": {
   "codemirror_mode": {
    "name": "ipython",
    "version": 3
   },
   "file_extension": ".py",
   "mimetype": "text/x-python",
   "name": "python",
   "nbconvert_exporter": "python",
   "pygments_lexer": "ipython3",
   "version": "3.9.1"
  }
 },
 "nbformat": 4,
 "nbformat_minor": 5
}
