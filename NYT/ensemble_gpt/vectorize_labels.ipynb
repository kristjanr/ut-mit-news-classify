{
 "cells": [
  {
   "cell_type": "markdown",
   "metadata": {},
   "source": [
    "# Description\n",
    "\n",
    "This notebook solves a mistake made in `align_ensemble_with_gpt2_large` (and `_test`). The mistake was that the labels were saved as lists of strings. They should be saved as sparse vectors instead."
   ]
  },
  {
   "cell_type": "markdown",
   "metadata": {},
   "source": [
    "# Definitions"
   ]
  },
  {
   "cell_type": "code",
   "execution_count": 4,
   "metadata": {
    "id": "beVtVqF4hte8"
   },
   "outputs": [],
   "source": [
    "from torch.utils.data import IterableDataset, Dataset, DataLoader\n",
    "import os\n",
    "import sys\n",
    "import torch\n",
    "from pathlib import Path\n",
    "import gc\n",
    "import numpy as np\n",
    "from tqdm.autonotebook import tqdm\n",
    "import random\n",
    "\n",
    "module_path = \"/gpfs/space/home/mykyta/nlp/ut-mit-news-classify/NYT/\"\n",
    "if module_path not in sys.path:\n",
    "    sys.path.append(module_path)\n",
    "import utils"
   ]
  },
  {
   "cell_type": "code",
   "execution_count": 6,
   "metadata": {},
   "outputs": [],
   "source": [
    "from utils import labels2vec\n",
    "\n",
    "class EmbeddedDataset(Dataset):\n",
    "    def __init__(self, X, y):\n",
    "        self.X = X\n",
    "        self.y = y\n",
    "\n",
    "    def __len__(self):\n",
    "        return len(self.X)\n",
    "\n",
    "    def __getitem__(self, idx):\n",
    "        return self.X[idx], self.y[idx], idx"
   ]
  },
  {
   "cell_type": "markdown",
   "metadata": {},
   "source": [
    "# Load data"
   ]
  },
  {
   "cell_type": "code",
   "execution_count": 22,
   "metadata": {},
   "outputs": [],
   "source": [
    "shared_dir = Path('/gpfs/space/projects/stud_nlp_share')\n",
    "\n",
    "ensemble_train_path = shared_dir / 'ensemble-aligned' / 'train' / 'aligned_filtered.pt'\n",
    "ensemble_test_path = shared_dir / 'ensemble-aligned' / 'test' / 'aligned_filtered.pt'\n",
    "\n",
    "gpt2large_train_path = shared_dir / 'single-gpt2-large-aligned' / 'train' / 'aligned_filtered.pt'\n",
    "gpt2large_test_path = shared_dir / 'single-gpt2-large-aligned' / 'test' / 'aligned_filtered.pt'"
   ]
  },
  {
   "cell_type": "code",
   "execution_count": 27,
   "metadata": {},
   "outputs": [
    {
     "name": "stdout",
     "output_type": "stream",
     "text": [
      "-rw-r--r-- 1 mykyta users 4.5G Jun  5 00:39 /gpfs/space/projects/stud_nlp_share/ensemble-aligned/train/aligned_filtered.pt\n",
      "-rw-r--r-- 1 mykyta users 510M Jun  5 13:41 /gpfs/space/projects/stud_nlp_share/ensemble-aligned/test/aligned_filtered.pt\n",
      "-rw-r--r-- 1 mykyta users 5.8G Jun  5 00:48 /gpfs/space/projects/stud_nlp_share/single-gpt2-large-aligned/train/aligned_filtered.pt\n",
      "-rw-r--r-- 1 mykyta users 652M Jun  5 13:42 /gpfs/space/projects/stud_nlp_share/single-gpt2-large-aligned/test/aligned_filtered.pt\n"
     ]
    }
   ],
   "source": [
    "!ls -lah $ensemble_train_path\n",
    "!ls -lah $ensemble_test_path\n",
    "!ls -lah $gpt2large_train_path\n",
    "!ls -lah $gpt2large_test_path"
   ]
  },
  {
   "cell_type": "markdown",
   "metadata": {},
   "source": [
    "# Vectorize labels & overwrite old files"
   ]
  },
  {
   "cell_type": "code",
   "execution_count": 41,
   "metadata": {},
   "outputs": [],
   "source": [
    "paths = [ensemble_train_path, ensemble_test_path, gpt2large_train_path, gpt2large_test_path]\n",
    "\n",
    "for dataset_path in paths:\n",
    "    dataset = torch.load(dataset_path)\n",
    "    \n",
    "    dataset.y = labels2vec(dataset.y)\n",
    "    torch.save(dataset, dataset_path)\n",
    "    \n",
    "    del dataset\n",
    "    gc.collect()"
   ]
  },
  {
   "cell_type": "code",
   "execution_count": 42,
   "metadata": {},
   "outputs": [
    {
     "name": "stdout",
     "output_type": "stream",
     "text": [
      "-rw-r--r-- 1 mykyta users 5.1G Jun  5 14:41 /gpfs/space/projects/stud_nlp_share/ensemble-aligned/train/aligned_filtered.pt\n",
      "-rw-r--r-- 1 mykyta users 576M Jun  5 14:41 /gpfs/space/projects/stud_nlp_share/ensemble-aligned/test/aligned_filtered.pt\n",
      "-rw-r--r-- 1 mykyta users 6.4G Jun  5 14:42 /gpfs/space/projects/stud_nlp_share/single-gpt2-large-aligned/train/aligned_filtered.pt\n",
      "-rw-r--r-- 1 mykyta users 718M Jun  5 14:42 /gpfs/space/projects/stud_nlp_share/single-gpt2-large-aligned/test/aligned_filtered.pt\n"
     ]
    }
   ],
   "source": [
    "!ls -lah $ensemble_train_path\n",
    "!ls -lah $ensemble_test_path\n",
    "!ls -lah $gpt2large_train_path\n",
    "!ls -lah $gpt2large_test_path"
   ]
  },
  {
   "cell_type": "code",
   "execution_count": 46,
   "metadata": {},
   "outputs": [
    {
     "name": "stdout",
     "output_type": "stream",
     "text": [
      "a (133032, 538)\n",
      "b (133032, 538)\n"
     ]
    }
   ],
   "source": [
    "a = torch.load(ensemble_test_path)\n",
    "b = torch.load(gpt2large_test_path)\n",
    "\n",
    "print('a', a.y.shape)\n",
    "print('b', b.y.shape)"
   ]
  },
  {
   "cell_type": "code",
   "execution_count": 51,
   "metadata": {},
   "outputs": [
    {
     "data": {
      "text/plain": [
       "True"
      ]
     },
     "execution_count": 51,
     "metadata": {},
     "output_type": "execute_result"
    }
   ],
   "source": [
    "(a.y == b.y).all()"
   ]
  }
 ],
 "metadata": {
  "kernelspec": {
   "display_name": "Python 3.8.8 64-bit ('nlp': conda)",
   "language": "python",
   "name": "python388jvsc74a57bd01f7b57a03f6fb926d7dc58ec141f8429babd71d24ca1d28c9ad679f85112bac1"
  },
  "language_info": {
   "codemirror_mode": {
    "name": "ipython",
    "version": 3
   },
   "file_extension": ".py",
   "mimetype": "text/x-python",
   "name": "python",
   "nbconvert_exporter": "python",
   "pygments_lexer": "ipython3",
   "version": "3.8.8"
  }
 },
 "nbformat": 4,
 "nbformat_minor": 4
}
