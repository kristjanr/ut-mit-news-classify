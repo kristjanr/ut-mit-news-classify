{
 "cells": [
  {
   "cell_type": "code",
   "execution_count": 1,
   "metadata": {},
   "outputs": [],
   "source": [
    "import os\n",
    "import sys\n",
    "import getpass\n",
    "module_path = f\"/gpfs/space/home/{getpass.getuser()}/ut-mit-news-classify/NYT/\"\n",
    "if module_path not in sys.path:\n",
    "    sys.path.append(module_path)\n",
    "\n",
    "import pickle\n",
    "from sklearn.model_selection import train_test_split\n",
    "from sklearn.preprocessing import MultiLabelBinarizer\n",
    "from sklearn.feature_extraction.text import TfidfVectorizer\n",
    "import sklearn.metrics as metrics\n",
    "from sklearn.multioutput import ClassifierChain\n",
    "from sklearn.dummy import DummyClassifier\n",
    "from sklearn.naive_bayes import ComplementNB\n",
    "from sklearn.linear_model import LogisticRegression\n",
    "from sklearn.metrics import accuracy_score # harsh subset accuracy"
   ]
  },
  {
   "cell_type": "code",
   "execution_count": 18,
   "metadata": {},
   "outputs": [],
   "source": [
    "def stats(y_true, y_pred):\n",
    "    total = len(y_true)\n",
    "    all_labels_correct = 0\n",
    "\n",
    "    for y_v, y_p in zip(vec2labels(y_true), vec2labels(y_pred)):\n",
    "        if set(y_v) == set(y_p):\n",
    "            all_labels_correct +=1\n",
    "\n",
    "    print(\"Hamming loss %f, accuracy %f\" % (metrics.hamming_loss(y_true, y_pred), metrics.accuracy_score(y_true, y_pred)))\n",
    "    print(\"Number of correctly labeled articles out of a total of %d articles : %d\" % (total, all_labels_correct))\n",
    "    print(\"Manually calculated accuracy (for sanity check): \", all_labels_correct/total)\n",
    "    "
   ]
  },
  {
   "cell_type": "markdown",
   "metadata": {},
   "source": [
    "## Dummy baselines"
   ]
  },
  {
   "cell_type": "code",
   "execution_count": 3,
   "metadata": {},
   "outputs": [
    {
     "name": "stdout",
     "output_type": "stream",
     "text": [
      "Train data loaded.\n",
      "Test data loaded.\n",
      "Train articles after filtering: 1195938\n",
      "Test articles after filtering: 133032\n"
     ]
    }
   ],
   "source": [
    "from utils import load_nyt_data, labels2vec, vec2labels\n",
    "\n",
    "train_articles, train_labels_lists, \\\n",
    "    test_articles, test_labels_lists = load_nyt_data(min_len=500, cutoff_tags=True)"
   ]
  },
  {
   "cell_type": "markdown",
   "metadata": {},
   "source": [
    "#### Most frequent (single) label"
   ]
  },
  {
   "cell_type": "code",
   "execution_count": 34,
   "metadata": {},
   "outputs": [
    {
     "data": {
      "text/plain": [
       "DummyClassifier(constant=None, random_state=None, strategy='most_frequent')"
      ]
     },
     "execution_count": 34,
     "metadata": {},
     "output_type": "execute_result"
    }
   ],
   "source": [
    "most_common_label_classifier = DummyClassifier('most_frequent')\n",
    "most_common_label_classifier.fit(train_articles, train_labels_vecs)"
   ]
  },
  {
   "cell_type": "code",
   "execution_count": 35,
   "metadata": {},
   "outputs": [
    {
     "data": {
      "text/plain": [
       "0.0"
      ]
     },
     "execution_count": 35,
     "metadata": {},
     "output_type": "execute_result"
    }
   ],
   "source": [
    "most_common_label_classifier.score(test_articles, test_labels_vecs)"
   ]
  },
  {
   "cell_type": "markdown",
   "metadata": {},
   "source": [
    "#### Uniformly Random"
   ]
  },
  {
   "cell_type": "code",
   "execution_count": 58,
   "metadata": {},
   "outputs": [
    {
     "data": {
      "text/plain": [
       "DummyClassifier(constant=None, random_state=None, strategy='uniform')"
      ]
     },
     "execution_count": 58,
     "metadata": {},
     "output_type": "execute_result"
    }
   ],
   "source": [
    "most_common_label_classifier = DummyClassifier('uniform')\n",
    "most_common_label_classifier.fit(train_articles, train_labels_vecs)"
   ]
  },
  {
   "cell_type": "code",
   "execution_count": 96,
   "metadata": {},
   "outputs": [
    {
     "data": {
      "text/plain": [
       "0.0"
      ]
     },
     "execution_count": 96,
     "metadata": {},
     "output_type": "execute_result"
    }
   ],
   "source": [
    "most_common_label_classifier.score(test_articles, test_labels_vecs)"
   ]
  },
  {
   "cell_type": "markdown",
   "metadata": {},
   "source": [
    "#### Prior probability classifier"
   ]
  },
  {
   "cell_type": "code",
   "execution_count": 5,
   "metadata": {},
   "outputs": [
    {
     "name": "stdout",
     "output_type": "stream",
     "text": [
      "Hamming loss 0.005647, accuracy 0.000000\n",
      "Number of correctly labeled articles out of a total of 10000 articles : 0\n",
      "Manually calculated accuracy (for sanity check):  0.0\n"
     ]
    }
   ],
   "source": [
    "base_classifier = DummyClassifier(strategy='prior')\n",
    "chain = ClassifierChain(base_classifier, order='random', random_state=0)\n",
    "chain.fit(train_articles, labels2vec(train_labels_lists))\n",
    "\n",
    "y_pred = chain.predict(test_articles)\n",
    "\n",
    "stats(mlb, y_val, y_pred)\n"
   ]
  },
  {
   "cell_type": "markdown",
   "metadata": {},
   "source": [
    "#### Most frequent labelset"
   ]
  },
  {
   "cell_type": "code",
   "execution_count": 10,
   "metadata": {},
   "outputs": [
    {
     "data": {
      "text/plain": [
       "('weddings and engagements',)"
      ]
     },
     "execution_count": 10,
     "metadata": {},
     "output_type": "execute_result"
    }
   ],
   "source": [
    "# most common *labelset*, e.g. ('music', 'dance') vs ('politics', 'US government', 'elections')\n",
    "from collections import Counter\n",
    "\n",
    "label_sets = [tuple(lset) for lset in test_labels_lists]\n",
    "\n",
    "most_common_labels = Counter(label_sets).most_common(5)\n",
    "most_common_labelset = most_common_labels[0][0]\n",
    "most_common_labelset"
   ]
  },
  {
   "cell_type": "code",
   "execution_count": 19,
   "metadata": {},
   "outputs": [
    {
     "name": "stdout",
     "output_type": "stream",
     "text": [
      "Hamming loss 0.007541, accuracy 0.032812\n",
      "Number of correctly labeled articles out of a total of 133032 articles : 4365\n",
      "Manually calculated accuracy (for sanity check):  0.0328116543388057\n"
     ]
    }
   ],
   "source": [
    "test_preds = labels2vec([most_common_labelset] * len(test_labels_lists))\n",
    "\n",
    "stats(labels2vec(test_labels_lists), test_preds)"
   ]
  },
  {
   "cell_type": "markdown",
   "metadata": {},
   "source": [
    "## Learning baselines"
   ]
  },
  {
   "cell_type": "code",
   "execution_count": 4,
   "metadata": {},
   "outputs": [],
   "source": [
    "with open('../NYTcorpus_train.p', mode='rb') as f:\n",
    "    data = pickle.load(f)"
   ]
  },
  {
   "cell_type": "code",
   "execution_count": 3,
   "metadata": {},
   "outputs": [],
   "source": [
    "labels = [a[3:] for a in data]\n",
    "articles = [a[2] for a in data]\n",
    "\n",
    "n_samples = 10000\n",
    "\n",
    "x_train, x_val, y_train, y_val = train_test_split(articles, labels, train_size=n_samples, test_size=n_samples, random_state=0)\n",
    "\n",
    "tfidf_vectorizer = TfidfVectorizer(\n",
    "    max_features=40000,\n",
    "    analyzer='word', \n",
    "    stop_words='english', \n",
    "    ngram_range=(1, 1), # logit accuracy with unigrams 0.1487, unigrams + bigrams 0.1524, unigrams + bigrams + trigrams 0.1537\n",
    "    strip_accents='ascii')\n",
    "\n",
    "tfidf_vectorizer.fit(x_train)\n",
    "\n",
    "x_train = tfidf_vectorizer.transform(x_train)\n",
    "x_val = tfidf_vectorizer.transform(x_val)\n",
    "\n",
    "mlb = MultiLabelBinarizer()\n",
    "y_train = mlb.fit_transform(y_train)\n",
    "y_val = mlb.transform(y_val)\n"
   ]
  },
  {
   "cell_type": "markdown",
   "metadata": {},
   "source": [
    "#### Naive Bayes"
   ]
  },
  {
   "cell_type": "code",
   "execution_count": 6,
   "metadata": {},
   "outputs": [
    {
     "name": "stdout",
     "output_type": "stream",
     "text": [
      "Hamming loss 0.005167, accuracy 0.116000\n",
      "Number of correctly labeled articles out of a total of 10000 articles : 1160\n",
      "Manually calculated accuracy (for sanity check):  0.116\n"
     ]
    }
   ],
   "source": [
    "base_classifier = ComplementNB()\n",
    "chain = ClassifierChain(base_classifier, order='random', random_state=0)\n",
    "chain.fit(x_train, y_train)\n",
    "\n",
    "y_pred = chain.predict(x_val)\n",
    "\n",
    "stats(mlb, y_val, y_pred)\n"
   ]
  },
  {
   "cell_type": "markdown",
   "metadata": {},
   "source": [
    "#### Logistic Regression"
   ]
  },
  {
   "cell_type": "code",
   "execution_count": 7,
   "metadata": {},
   "outputs": [
    {
     "name": "stdout",
     "output_type": "stream",
     "text": [
      "Hamming loss 0.004829, accuracy 0.148700\n",
      "Number of correctly labeled articles out of a total of 10000 articles : 1487\n",
      "Manually calculated accuracy (for sanity check):  0.1487\n"
     ]
    }
   ],
   "source": [
    "base_classifier = LogisticRegression(solver='lbfgs', random_state=0)\n",
    "chain = ClassifierChain(base_classifier, order='random', random_state=0)\n",
    "chain.fit(x_train, y_train)\n",
    "\n",
    "y_pred = chain.predict(x_val)\n",
    "\n",
    "stats(mlb, y_val, y_pred)\n"
   ]
  },
  {
   "cell_type": "code",
   "execution_count": null,
   "metadata": {},
   "outputs": [],
   "source": []
  }
 ],
 "metadata": {
  "kernelspec": {
   "display_name": "Python (nlp)",
   "language": "python",
   "name": "nlp"
  },
  "language_info": {
   "codemirror_mode": {
    "name": "ipython",
    "version": 3
   },
   "file_extension": ".py",
   "mimetype": "text/x-python",
   "name": "python",
   "nbconvert_exporter": "python",
   "pygments_lexer": "ipython3",
   "version": "3.8.8"
  }
 },
 "nbformat": 4,
 "nbformat_minor": 5
}
