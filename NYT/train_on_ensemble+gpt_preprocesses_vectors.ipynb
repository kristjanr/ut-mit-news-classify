{
  "nbformat": 4,
  "nbformat_minor": 0,
  "metadata": {
    "colab": {
      "name": "train on ensemble+gpt preprocesses vectors",
      "provenance": [],
      "collapsed_sections": [],
      "toc_visible": true,
      "machine_shape": "hm"
    },
    "kernelspec": {
      "display_name": "Python 3",
      "name": "python3"
    },
    "language_info": {
      "name": "python"
    },
    "widgets": {
      "application/vnd.jupyter.widget-state+json": {
        "2888fe3a64224cc6b67fbc855f0f0e89": {
          "model_module": "@jupyter-widgets/controls",
          "model_name": "VBoxModel",
          "state": {
            "_view_name": "VBoxView",
            "_dom_classes": [],
            "_model_name": "VBoxModel",
            "_view_module": "@jupyter-widgets/controls",
            "_model_module_version": "1.5.0",
            "_view_count": null,
            "_view_module_version": "1.5.0",
            "box_style": "",
            "layout": "IPY_MODEL_40b85a686d814512958520d1a1a326c9",
            "_model_module": "@jupyter-widgets/controls",
            "children": [
              "IPY_MODEL_e2b93c9cc95d42f39ea4202162c92c70",
              "IPY_MODEL_dfda9ecb01d2454cb112a9e2659b360b"
            ]
          }
        },
        "40b85a686d814512958520d1a1a326c9": {
          "model_module": "@jupyter-widgets/base",
          "model_name": "LayoutModel",
          "state": {
            "_view_name": "LayoutView",
            "grid_template_rows": null,
            "right": null,
            "justify_content": null,
            "_view_module": "@jupyter-widgets/base",
            "overflow": null,
            "_model_module_version": "1.2.0",
            "_view_count": null,
            "flex_flow": null,
            "width": null,
            "min_width": null,
            "border": null,
            "align_items": null,
            "bottom": null,
            "_model_module": "@jupyter-widgets/base",
            "top": null,
            "grid_column": null,
            "overflow_y": null,
            "overflow_x": null,
            "grid_auto_flow": null,
            "grid_area": null,
            "grid_template_columns": null,
            "flex": null,
            "_model_name": "LayoutModel",
            "justify_items": null,
            "grid_row": null,
            "max_height": null,
            "align_content": null,
            "visibility": null,
            "align_self": null,
            "height": null,
            "min_height": null,
            "padding": null,
            "grid_auto_rows": null,
            "grid_gap": null,
            "max_width": null,
            "order": null,
            "_view_module_version": "1.2.0",
            "grid_template_areas": null,
            "object_position": null,
            "object_fit": null,
            "grid_auto_columns": null,
            "margin": null,
            "display": null,
            "left": null
          }
        },
        "e2b93c9cc95d42f39ea4202162c92c70": {
          "model_module": "@jupyter-widgets/controls",
          "model_name": "LabelModel",
          "state": {
            "_view_name": "LabelView",
            "style": "IPY_MODEL_fef96ae5bd5547aaac0044ba91969847",
            "_dom_classes": [],
            "description": "",
            "_model_name": "LabelModel",
            "placeholder": "​",
            "_view_module": "@jupyter-widgets/controls",
            "_model_module_version": "1.5.0",
            "value": " 96.72MB of 96.72MB uploaded (0.00MB deduped)\r",
            "_view_count": null,
            "_view_module_version": "1.5.0",
            "description_tooltip": null,
            "_model_module": "@jupyter-widgets/controls",
            "layout": "IPY_MODEL_bf5c16d1b9b6461b80ab9b896bc80a30"
          }
        },
        "dfda9ecb01d2454cb112a9e2659b360b": {
          "model_module": "@jupyter-widgets/controls",
          "model_name": "FloatProgressModel",
          "state": {
            "_view_name": "ProgressView",
            "style": "IPY_MODEL_75622757a53c458899c0979235ec7b1e",
            "_dom_classes": [],
            "description": "",
            "_model_name": "FloatProgressModel",
            "bar_style": "",
            "max": 1,
            "_view_module": "@jupyter-widgets/controls",
            "_model_module_version": "1.5.0",
            "value": 1,
            "_view_count": null,
            "_view_module_version": "1.5.0",
            "orientation": "horizontal",
            "min": 0,
            "description_tooltip": null,
            "_model_module": "@jupyter-widgets/controls",
            "layout": "IPY_MODEL_9f456137ce404b5790155c58c6fc864e"
          }
        },
        "fef96ae5bd5547aaac0044ba91969847": {
          "model_module": "@jupyter-widgets/controls",
          "model_name": "DescriptionStyleModel",
          "state": {
            "_view_name": "StyleView",
            "_model_name": "DescriptionStyleModel",
            "description_width": "",
            "_view_module": "@jupyter-widgets/base",
            "_model_module_version": "1.5.0",
            "_view_count": null,
            "_view_module_version": "1.2.0",
            "_model_module": "@jupyter-widgets/controls"
          }
        },
        "bf5c16d1b9b6461b80ab9b896bc80a30": {
          "model_module": "@jupyter-widgets/base",
          "model_name": "LayoutModel",
          "state": {
            "_view_name": "LayoutView",
            "grid_template_rows": null,
            "right": null,
            "justify_content": null,
            "_view_module": "@jupyter-widgets/base",
            "overflow": null,
            "_model_module_version": "1.2.0",
            "_view_count": null,
            "flex_flow": null,
            "width": null,
            "min_width": null,
            "border": null,
            "align_items": null,
            "bottom": null,
            "_model_module": "@jupyter-widgets/base",
            "top": null,
            "grid_column": null,
            "overflow_y": null,
            "overflow_x": null,
            "grid_auto_flow": null,
            "grid_area": null,
            "grid_template_columns": null,
            "flex": null,
            "_model_name": "LayoutModel",
            "justify_items": null,
            "grid_row": null,
            "max_height": null,
            "align_content": null,
            "visibility": null,
            "align_self": null,
            "height": null,
            "min_height": null,
            "padding": null,
            "grid_auto_rows": null,
            "grid_gap": null,
            "max_width": null,
            "order": null,
            "_view_module_version": "1.2.0",
            "grid_template_areas": null,
            "object_position": null,
            "object_fit": null,
            "grid_auto_columns": null,
            "margin": null,
            "display": null,
            "left": null
          }
        },
        "75622757a53c458899c0979235ec7b1e": {
          "model_module": "@jupyter-widgets/controls",
          "model_name": "ProgressStyleModel",
          "state": {
            "_view_name": "StyleView",
            "_model_name": "ProgressStyleModel",
            "description_width": "",
            "_view_module": "@jupyter-widgets/base",
            "_model_module_version": "1.5.0",
            "_view_count": null,
            "_view_module_version": "1.2.0",
            "bar_color": null,
            "_model_module": "@jupyter-widgets/controls"
          }
        },
        "9f456137ce404b5790155c58c6fc864e": {
          "model_module": "@jupyter-widgets/base",
          "model_name": "LayoutModel",
          "state": {
            "_view_name": "LayoutView",
            "grid_template_rows": null,
            "right": null,
            "justify_content": null,
            "_view_module": "@jupyter-widgets/base",
            "overflow": null,
            "_model_module_version": "1.2.0",
            "_view_count": null,
            "flex_flow": null,
            "width": null,
            "min_width": null,
            "border": null,
            "align_items": null,
            "bottom": null,
            "_model_module": "@jupyter-widgets/base",
            "top": null,
            "grid_column": null,
            "overflow_y": null,
            "overflow_x": null,
            "grid_auto_flow": null,
            "grid_area": null,
            "grid_template_columns": null,
            "flex": null,
            "_model_name": "LayoutModel",
            "justify_items": null,
            "grid_row": null,
            "max_height": null,
            "align_content": null,
            "visibility": null,
            "align_self": null,
            "height": null,
            "min_height": null,
            "padding": null,
            "grid_auto_rows": null,
            "grid_gap": null,
            "max_width": null,
            "order": null,
            "_view_module_version": "1.2.0",
            "grid_template_areas": null,
            "object_position": null,
            "object_fit": null,
            "grid_auto_columns": null,
            "margin": null,
            "display": null,
            "left": null
          }
        }
      }
    },
    "accelerator": "GPU"
  },
  "cells": [
    {
      "cell_type": "markdown",
      "metadata": {
        "id": "JWEh39ZL1p3Z"
      },
      "source": [
        "# Setup"
      ]
    },
    {
      "cell_type": "code",
      "metadata": {
        "colab": {
          "base_uri": "https://localhost:8080/"
        },
        "id": "Fgj88POfmDYv",
        "outputId": "4aaed3f1-5a00-40ce-bc4f-ae9c8d867383"
      },
      "source": [
        "from google.colab import drive\n",
        "drive.mount('/content/drive')\n",
        "%cd \"/content/drive/MyDrive/Colab Notebooks/NLP/project/\"\n"
      ],
      "execution_count": 1,
      "outputs": [
        {
          "output_type": "stream",
          "text": [
            "Drive already mounted at /content/drive; to attempt to forcibly remount, call drive.mount(\"/content/drive\", force_remount=True).\n",
            "/content/drive/MyDrive/Colab Notebooks/NLP/project\n"
          ],
          "name": "stdout"
        }
      ]
    },
    {
      "cell_type": "markdown",
      "metadata": {
        "id": "sB_ZhA2G2zbP"
      },
      "source": [
        "# Load training data"
      ]
    },
    {
      "cell_type": "code",
      "metadata": {
        "id": "beVtVqF4hte8"
      },
      "source": [
        "from torch.utils.data import IterableDataset, DataLoader\n",
        "import os\n",
        "import sys\n",
        "import torch\n",
        "from pathlib import Path\n",
        "import gc\n",
        "import numpy as np\n",
        "\n",
        "module_path = \"ut-mit-news-classify/NYT/\"\n",
        "if module_path not in sys.path:\n",
        "    sys.path.append(module_path)\n",
        "import utils\n",
        "\n",
        "\n",
        "class ConcatenatingDataset(IterableDataset):\n",
        "    def __init__(self, ensemble_dataset, gpt_dataset):\n",
        "#       assert len(ensemble_dataset) == len(gpt_dataset)\n",
        "        self.ensemble_dataset = ensemble_dataset\n",
        "        self.gpt_dataset = gpt_dataset\n",
        "\n",
        "    def __len__(self):\n",
        "        return len(self.gpt_dataset) if len(self.gpt_dataset) < len(self.ensemble_dataset) else len(self.ensemble_dataset)\n",
        "\n",
        "    def __iter__(self):       \n",
        "        for ensemble_X, gpt in zip(self.ensemble_dataset, self.gpt_dataset):\n",
        "            yield torch.cat((ensemble_X, gpt[0]), 0), gpt[1]\n",
        "\n",
        "            \n",
        "class ChunkDataset(IterableDataset):\n",
        "    def __init__(self, file_paths):\n",
        "        self.file_paths = file_paths\n",
        "        self.total_length = None\n",
        "\n",
        "    def __len__(self):\n",
        "        if self.total_length is not None:\n",
        "            return self.total_length\n",
        "        \n",
        "        self.total_length = 0\n",
        "        for fp in self.file_paths:\n",
        "            print(f'Loading for len {fp}')\n",
        "            self.total_length += len(torch.load(fp).X)\n",
        "            gc.collect()\n",
        "        return self.total_length\n",
        "\n",
        "    def __iter__(self):\n",
        "        for fp in self.file_paths:\n",
        "            print(f'Loading for iter {fp}')\n",
        "            dataset = torch.load(fp)\n",
        "            gc.collect()\n",
        "            if hasattr(dataset, 'y'):\n",
        "                for x, y in zip(dataset.X, dataset.y):\n",
        "                    yield x, y\n",
        "            else:\n",
        "                for x in dataset.X:\n",
        "                    yield x\n"
      ],
      "execution_count": 2,
      "outputs": []
    },
    {
      "cell_type": "code",
      "metadata": {
        "id": "lxaAq4SJTmmZ"
      },
      "source": [
        "gpt_vectorized_chunks_path = Path('gpt2-vectors/train')\n",
        "gpt_file_paths = os.listdir(gpt_vectorized_chunks_path)\n",
        "sorted_gpt_filenames = sorted(gpt_file_paths, key=lambda fn: int(fn.split('chunk')[1].split('of')[0]))\n",
        "sorted_gpt_filepaths = [gpt_vectorized_chunks_path / Path(p) for p in sorted_gpt_filenames]\n"
      ],
      "execution_count": 3,
      "outputs": []
    },
    {
      "cell_type": "code",
      "metadata": {
        "id": "BOKl3tDudyhU"
      },
      "source": [
        "ensemble_vectorized_chunks_path = 'vectorized-fixed/train'\n",
        "ensemble_file_paths = os.listdir(ensemble_vectorized_chunks_path)\n",
        "sorted_ensemble_filenames = sorted(ensemble_file_paths, key=lambda fn: int(fn.split('chunk')[1].split('of')[0]))\n",
        "sorted_ensemble_filepaths = [ensemble_vectorized_chunks_path / Path(p) for p in sorted_ensemble_filenames]\n"
      ],
      "execution_count": 4,
      "outputs": []
    },
    {
      "cell_type": "code",
      "metadata": {
        "id": "nf7jKT4ZeA6k",
        "colab": {
          "base_uri": "https://localhost:8080/"
        },
        "outputId": "2c02fe32-3993-4e9b-a4a3-fdc7c133be86"
      },
      "source": [
        "concat_dataset = ConcatenatingDataset(\n",
        "    ChunkDataset(sorted_ensemble_filepaths),\n",
        "    ChunkDataset(sorted_gpt_filepaths))\n",
        "\n",
        "train_X, train_y = [], []\n",
        "gc.collect()\n",
        "for x, y in concat_dataset:\n",
        "    train_X.append(x.numpy())\n",
        "    train_y.append(y.numpy())\n",
        "\n",
        "train_X = np.asarray(train_X)\n",
        "train_y = np.asarray(train_y)\n",
        "gc.collect()"
      ],
      "execution_count": 7,
      "outputs": [
        {
          "output_type": "stream",
          "text": [
            "Loading for iter vectorized-fixed/train/ensemble_vect_train_chunk1of24.pt\n",
            "Loading for iter gpt2-vectors/train/train_1195k_min500_cutoff_replace_chunk1of4.pt\n",
            "Loading for iter vectorized-fixed/train/ensemble_vect_train_chunk2of24.pt\n",
            "Loading for iter vectorized-fixed/train/ensemble_vect_train_chunk3of24.pt\n",
            "Loading for iter vectorized-fixed/train/ensemble_vect_train_chunk4of24.pt\n",
            "Loading for iter vectorized-fixed/train/ensemble_vect_train_chunk5of24.pt\n",
            "Loading for iter vectorized-fixed/train/ensemble_vect_train_chunk6of24.pt\n",
            "Loading for iter gpt2-vectors/train/train_1195k_min500_cutoff_replace_chunk2of4.pt\n",
            "Loading for iter vectorized-fixed/train/ensemble_vect_train_chunk7of24.pt\n",
            "Loading for iter vectorized-fixed/train/ensemble_vect_train_chunk8of24.pt\n",
            "Loading for iter vectorized-fixed/train/ensemble_vect_train_chunk9of24.pt\n",
            "Loading for iter vectorized-fixed/train/ensemble_vect_train_chunk10of24.pt\n",
            "Loading for iter vectorized-fixed/train/ensemble_vect_train_chunk11of24.pt\n",
            "Loading for iter vectorized-fixed/train/ensemble_vect_train_chunk12of24.pt\n",
            "Loading for iter gpt2-vectors/train/train_1195k_min500_cutoff_replace_chunk3of4.pt\n",
            "Loading for iter vectorized-fixed/train/ensemble_vect_train_chunk13of24.pt\n",
            "Loading for iter vectorized-fixed/train/ensemble_vect_train_chunk14of24.pt\n",
            "Loading for iter vectorized-fixed/train/ensemble_vect_train_chunk15of24.pt\n",
            "Loading for iter vectorized-fixed/train/ensemble_vect_train_chunk16of24.pt\n",
            "Loading for iter vectorized-fixed/train/ensemble_vect_train_chunk17of24.pt\n",
            "Loading for iter vectorized-fixed/train/ensemble_vect_train_chunk18of24.pt\n",
            "Loading for iter gpt2-vectors/train/train_1195k_min500_cutoff_replace_chunk4of4.pt\n",
            "Loading for iter vectorized-fixed/train/ensemble_vect_train_chunk19of24.pt\n",
            "Loading for iter vectorized-fixed/train/ensemble_vect_train_chunk20of24.pt\n",
            "Loading for iter vectorized-fixed/train/ensemble_vect_train_chunk21of24.pt\n",
            "Loading for iter vectorized-fixed/train/ensemble_vect_train_chunk22of24.pt\n",
            "Loading for iter vectorized-fixed/train/ensemble_vect_train_chunk23of24.pt\n",
            "Loading for iter vectorized-fixed/train/ensemble_vect_train_chunk24of24.pt\n"
          ],
          "name": "stdout"
        }
      ]
    },
    {
      "cell_type": "code",
      "metadata": {
        "colab": {
          "base_uri": "https://localhost:8080/"
        },
        "id": "O0RjHYdi_Cd-",
        "outputId": "214f3052-218e-4a4a-9d68-cf4884d3beb5"
      },
      "source": [
        "train_X.shape, train_y.shape"
      ],
      "execution_count": 10,
      "outputs": [
        {
          "output_type": "execute_result",
          "data": {
            "text/plain": [
              "((1195938, 1768), (1195938, 538))"
            ]
          },
          "metadata": {
            "tags": []
          },
          "execution_count": 10
        }
      ]
    },
    {
      "cell_type": "code",
      "metadata": {
        "colab": {
          "base_uri": "https://localhost:8080/"
        },
        "id": "jVdZPNTC-K4I",
        "outputId": "03fbde4f-1a91-423e-e3aa-498805933732"
      },
      "source": [
        "del concat_dataset\n",
        "gc.collect()"
      ],
      "execution_count": 11,
      "outputs": [
        {
          "output_type": "execute_result",
          "data": {
            "text/plain": [
              "176"
            ]
          },
          "metadata": {
            "tags": []
          },
          "execution_count": 11
        }
      ]
    },
    {
      "cell_type": "markdown",
      "metadata": {
        "id": "oReOHtUJ2LFS"
      },
      "source": [
        "# Configure and start Wandb job"
      ]
    },
    {
      "cell_type": "code",
      "metadata": {
        "id": "6IzK2sYUISVU"
      },
      "source": [
        "%%capture\n",
        "pip install --upgrade wandb"
      ],
      "execution_count": 12,
      "outputs": []
    },
    {
      "cell_type": "code",
      "metadata": {
        "colab": {
          "base_uri": "https://localhost:8080/"
        },
        "id": "pf-4hN5NFbFM",
        "outputId": "d9c79562-c0f5-4d16-a26d-0955126e88fc"
      },
      "source": [
        "!wandb login "
      ],
      "execution_count": 13,
      "outputs": [
        {
          "output_type": "stream",
          "text": [
            "\u001b[34m\u001b[1mwandb\u001b[0m: Currently logged in as: \u001b[33mkristjan\u001b[0m (use `wandb login --relogin` to force relogin)\n"
          ],
          "name": "stdout"
        }
      ]
    },
    {
      "cell_type": "code",
      "metadata": {
        "colab": {
          "base_uri": "https://localhost:8080/",
          "height": 136
        },
        "id": "LIecSECbFg3U",
        "outputId": "0b55b445-2f50-45d1-8204-0fa1d707f0ae"
      },
      "source": [
        "import wandb\n",
        "\n",
        "# Start a new run\n",
        "run = wandb.init(project='ensemble-plus-gpt2', entity='ut-mit-news-classify')\n",
        "\n",
        "#hyperparams\n",
        "epochs = 200\n",
        "patience = 50\n",
        "batch_size = 256\n",
        "learning_rate = 1e-5\n",
        "validation_split = 0.2\n",
        "\n",
        "#reduce learning rate callback params\n",
        "factor = 0.2\n",
        "reduce_lr_patience = 5\n",
        "min_lr = 0.001\n",
        "\n",
        "# Save hyperparameters\n",
        "config = wandb.config\n",
        "config.batch_size = batch_size\n",
        "config.epochs = epochs\n",
        "config.early_stopping_patience = patience\n",
        "config.learning_rate = learning_rate\n",
        "config.validation_split = validation_split\n",
        "\n",
        "config.reduce_lr = f'factor-{factor}__patience-{reduce_lr_patience}__min_lr-{min_lr}'\n"
      ],
      "execution_count": 14,
      "outputs": [
        {
          "output_type": "stream",
          "text": [
            "\u001b[34m\u001b[1mwandb\u001b[0m: Currently logged in as: \u001b[33mkristjan\u001b[0m (use `wandb login --relogin` to force relogin)\n"
          ],
          "name": "stderr"
        },
        {
          "output_type": "display_data",
          "data": {
            "text/html": [
              "\n",
              "                Tracking run with wandb version 0.10.30<br/>\n",
              "                Syncing run <strong style=\"color:#cdcd00\">cosmic-night-12</strong> to <a href=\"https://wandb.ai\" target=\"_blank\">Weights & Biases</a> <a href=\"https://docs.wandb.com/integrations/jupyter.html\" target=\"_blank\">(Documentation)</a>.<br/>\n",
              "                Project page: <a href=\"https://wandb.ai/ut-mit-news-classify/ensemble-plus-gpt2\" target=\"_blank\">https://wandb.ai/ut-mit-news-classify/ensemble-plus-gpt2</a><br/>\n",
              "                Run page: <a href=\"https://wandb.ai/ut-mit-news-classify/ensemble-plus-gpt2/runs/1m4xogql\" target=\"_blank\">https://wandb.ai/ut-mit-news-classify/ensemble-plus-gpt2/runs/1m4xogql</a><br/>\n",
              "                Run data is saved locally in <code>/content/drive/My Drive/Colab Notebooks/NLP/project/wandb/run-20210524_203753-1m4xogql</code><br/><br/>\n",
              "            "
            ],
            "text/plain": [
              "<IPython.core.display.HTML object>"
            ]
          },
          "metadata": {
            "tags": []
          }
        }
      ]
    },
    {
      "cell_type": "markdown",
      "metadata": {
        "id": "cZ8Jp3HH11Vo"
      },
      "source": [
        "# Metrics functions for training with Keras"
      ]
    },
    {
      "cell_type": "code",
      "metadata": {
        "id": "plCDxgG99TvJ"
      },
      "source": [
        "from keras import backend as K\n",
        "\n",
        "def recall(y_true, y_pred):\n",
        "    true_positives = K.sum(K.round(K.clip(y_true * y_pred, 0, 1)))\n",
        "    possible_positives = K.sum(K.round(K.clip(y_true, 0, 1)))\n",
        "    recall = true_positives / (possible_positives + K.epsilon())\n",
        "    return recall\n",
        "\n",
        "def precision(y_true, y_pred):\n",
        "    true_positives = K.sum(K.round(K.clip(y_true * y_pred, 0, 1)))\n",
        "    predicted_positives = K.sum(K.round(K.clip(y_pred, 0, 1)))\n",
        "    precision = true_positives / (predicted_positives + K.epsilon())\n",
        "    return precision\n",
        "\n",
        "def f1(y_true, y_pred):\n",
        "    p = precision(y_true, y_pred)\n",
        "    r = recall(y_true, y_pred)\n",
        "    return 2*((p*r)/(p+r+K.epsilon()))\n"
      ],
      "execution_count": 15,
      "outputs": []
    },
    {
      "cell_type": "markdown",
      "metadata": {
        "id": "yUt--FSj2A94"
      },
      "source": [
        "# Create and Compile Model"
      ]
    },
    {
      "cell_type": "code",
      "metadata": {
        "colab": {
          "base_uri": "https://localhost:8080/"
        },
        "id": "POZNPfIO8gVS",
        "outputId": "66ce2091-9ff7-4c81-ec9a-4ec073d7f086"
      },
      "source": [
        "import keras\n",
        "from keras import layers\n",
        "\n",
        "model = keras.Sequential()\n",
        "model.add(layers.Dense(1400, activation=\"relu\", input_shape=(1768,)))\n",
        "model.add(layers.Dense(900, activation=\"relu\", input_shape=(1768,)))\n",
        "model.add(layers.Dense(538, activation=\"sigmoid\", input_shape=(1768,)))\n",
        "\n",
        "model.summary()"
      ],
      "execution_count": 16,
      "outputs": [
        {
          "output_type": "stream",
          "text": [
            "Model: \"sequential\"\n",
            "_________________________________________________________________\n",
            "Layer (type)                 Output Shape              Param #   \n",
            "=================================================================\n",
            "dense (Dense)                (None, 1400)              2476600   \n",
            "_________________________________________________________________\n",
            "dense_1 (Dense)              (None, 900)               1260900   \n",
            "_________________________________________________________________\n",
            "dense_2 (Dense)              (None, 538)               484738    \n",
            "=================================================================\n",
            "Total params: 4,222,238\n",
            "Trainable params: 4,222,238\n",
            "Non-trainable params: 0\n",
            "_________________________________________________________________\n"
          ],
          "name": "stdout"
        }
      ]
    },
    {
      "cell_type": "code",
      "metadata": {
        "id": "MjMcel-Mw-x4"
      },
      "source": [
        "best_val_loss_model_filename = 'ensemble-gpt-vectors-with-filtered-and-cut-off-ends-298984-articles.h5'\n"
      ],
      "execution_count": 17,
      "outputs": []
    },
    {
      "cell_type": "code",
      "metadata": {
        "id": "O5FRM9hpW4JZ"
      },
      "source": [
        "from wandb.keras import WandbCallback\n",
        "from keras.callbacks import EarlyStopping, ModelCheckpoint, ReduceLROnPlateau\n",
        "\n",
        "\n",
        "mc = ModelCheckpoint(best_val_loss_model_filename, monitor='val_loss', mode='min')\n",
        "es = EarlyStopping(monitor='val_loss', mode='min', verbose=1, patience=patience)\n",
        "reduce_lr = ReduceLROnPlateau(monitor='val_loss', factor=factor, patience=reduce_lr_patience, min_lr=min_lr)\n",
        "callbacks = [mc, es, reduce_lr, WandbCallback()]\n",
        "\n",
        "opt = keras.optimizers.Adam(learning_rate=learning_rate)\n",
        "\n",
        "model.compile(loss='binary_crossentropy', optimizer=opt, metrics=['accuracy', recall, precision, f1])\n"
      ],
      "execution_count": 18,
      "outputs": []
    },
    {
      "cell_type": "markdown",
      "metadata": {
        "id": "ZpDTuczX254e"
      },
      "source": [
        "# Train!"
      ]
    },
    {
      "cell_type": "code",
      "metadata": {
        "colab": {
          "base_uri": "https://localhost:8080/"
        },
        "id": "eBfBEZcv_TnW",
        "outputId": "8a251ee5-9172-470a-88d2-a9afc5718a8c"
      },
      "source": [
        "\n",
        "model.fit(train_X, train_y, epochs=epochs, callbacks=callbacks, validation_split=validation_split)\n"
      ],
      "execution_count": 19,
      "outputs": [
        {
          "output_type": "stream",
          "text": [
            "Epoch 1/200\n",
            "    1/29899 [..............................] - ETA: 17:11:00 - loss: 1.7046 - accuracy: 0.0000e+00 - recall: 0.4483 - precision: 0.0046 - f1: 0.0090WARNING:tensorflow:Callback method `on_train_batch_end` is slow compared to the batch time (batch time: 0.0026s vs `on_train_batch_end` time: 0.0047s). Check your callbacks.\n",
            "29899/29899 [==============================] - 95s 3ms/step - loss: 0.0391 - accuracy: 0.3969 - recall: 0.2378 - precision: 0.7704 - f1: 0.3300 - val_loss: 0.0112 - val_accuracy: 0.5375 - val_recall: 0.5100 - val_precision: 0.8353 - val_f1: 0.6311\n",
            "Epoch 2/200\n",
            "29899/29899 [==============================] - 92s 3ms/step - loss: 0.0108 - accuracy: 0.5279 - recall: 0.5300 - precision: 0.8310 - f1: 0.6448 - val_loss: 0.0101 - val_accuracy: 0.5286 - val_recall: 0.5748 - val_precision: 0.8223 - val_f1: 0.6746\n",
            "Epoch 3/200\n",
            "29899/29899 [==============================] - 92s 3ms/step - loss: 0.0099 - accuracy: 0.5297 - recall: 0.5778 - precision: 0.8274 - f1: 0.6784 - val_loss: 0.0097 - val_accuracy: 0.5485 - val_recall: 0.6011 - val_precision: 0.8164 - val_f1: 0.6905\n",
            "Epoch 4/200\n",
            "29899/29899 [==============================] - 91s 3ms/step - loss: 0.0095 - accuracy: 0.5273 - recall: 0.5979 - precision: 0.8263 - f1: 0.6918 - val_loss: 0.0095 - val_accuracy: 0.5238 - val_recall: 0.6085 - val_precision: 0.8153 - val_f1: 0.6950\n",
            "Epoch 5/200\n",
            "29899/29899 [==============================] - 91s 3ms/step - loss: 0.0093 - accuracy: 0.5228 - recall: 0.6099 - precision: 0.8265 - f1: 0.6999 - val_loss: 0.0093 - val_accuracy: 0.5252 - val_recall: 0.6180 - val_precision: 0.8164 - val_f1: 0.7016\n",
            "Epoch 6/200\n",
            "29899/29899 [==============================] - 90s 3ms/step - loss: 0.0091 - accuracy: 0.5227 - recall: 0.6171 - precision: 0.8267 - f1: 0.7048 - val_loss: 0.0092 - val_accuracy: 0.5042 - val_recall: 0.6079 - val_precision: 0.8283 - val_f1: 0.6994\n",
            "Epoch 7/200\n",
            "29899/29899 [==============================] - 90s 3ms/step - loss: 0.0090 - accuracy: 0.5189 - recall: 0.6216 - precision: 0.8267 - f1: 0.7078 - val_loss: 0.0092 - val_accuracy: 0.5180 - val_recall: 0.6132 - val_precision: 0.8283 - val_f1: 0.7029\n",
            "Epoch 8/200\n",
            "29899/29899 [==============================] - 90s 3ms/step - loss: 0.0089 - accuracy: 0.5137 - recall: 0.6251 - precision: 0.8266 - f1: 0.7100 - val_loss: 0.0091 - val_accuracy: 0.5036 - val_recall: 0.6275 - val_precision: 0.8189 - val_f1: 0.7087\n",
            "Epoch 9/200\n",
            "29899/29899 [==============================] - 91s 3ms/step - loss: 0.0089 - accuracy: 0.5135 - recall: 0.6283 - precision: 0.8273 - f1: 0.7123 - val_loss: 0.0091 - val_accuracy: 0.5128 - val_recall: 0.6255 - val_precision: 0.8197 - val_f1: 0.7078\n",
            "Epoch 10/200\n",
            "29899/29899 [==============================] - 90s 3ms/step - loss: 0.0088 - accuracy: 0.5132 - recall: 0.6323 - precision: 0.8286 - f1: 0.7154 - val_loss: 0.0090 - val_accuracy: 0.5062 - val_recall: 0.6282 - val_precision: 0.8188 - val_f1: 0.7092\n",
            "Epoch 11/200\n",
            "29899/29899 [==============================] - 90s 3ms/step - loss: 0.0087 - accuracy: 0.5177 - recall: 0.6347 - precision: 0.8286 - f1: 0.7170 - val_loss: 0.0090 - val_accuracy: 0.5006 - val_recall: 0.6272 - val_precision: 0.8217 - val_f1: 0.7096\n",
            "Epoch 12/200\n",
            "29899/29899 [==============================] - 91s 3ms/step - loss: 0.0087 - accuracy: 0.5155 - recall: 0.6363 - precision: 0.8289 - f1: 0.7181 - val_loss: 0.0090 - val_accuracy: 0.5226 - val_recall: 0.6428 - val_precision: 0.8103 - val_f1: 0.7152\n",
            "Epoch 13/200\n",
            "29899/29899 [==============================] - 91s 3ms/step - loss: 0.0086 - accuracy: 0.5213 - recall: 0.6383 - precision: 0.8294 - f1: 0.7196 - val_loss: 0.0089 - val_accuracy: 0.5308 - val_recall: 0.6298 - val_precision: 0.8223 - val_f1: 0.7115\n",
            "Epoch 14/200\n",
            "29899/29899 [==============================] - 90s 3ms/step - loss: 0.0086 - accuracy: 0.5223 - recall: 0.6405 - precision: 0.8298 - f1: 0.7212 - val_loss: 0.0089 - val_accuracy: 0.5216 - val_recall: 0.6244 - val_precision: 0.8277 - val_f1: 0.7100\n",
            "Epoch 15/200\n",
            "29899/29899 [==============================] - 90s 3ms/step - loss: 0.0085 - accuracy: 0.5238 - recall: 0.6415 - precision: 0.8304 - f1: 0.7220 - val_loss: 0.0089 - val_accuracy: 0.5211 - val_recall: 0.6185 - val_precision: 0.8330 - val_f1: 0.7081\n",
            "Epoch 16/200\n",
            "29899/29899 [==============================] - 90s 3ms/step - loss: 0.0085 - accuracy: 0.5247 - recall: 0.6430 - precision: 0.8311 - f1: 0.7232 - val_loss: 0.0089 - val_accuracy: 0.5199 - val_recall: 0.6268 - val_precision: 0.8272 - val_f1: 0.7114\n",
            "Epoch 17/200\n",
            "29899/29899 [==============================] - 90s 3ms/step - loss: 0.0085 - accuracy: 0.5230 - recall: 0.6448 - precision: 0.8316 - f1: 0.7246 - val_loss: 0.0089 - val_accuracy: 0.5149 - val_recall: 0.6224 - val_precision: 0.8297 - val_f1: 0.7095\n",
            "Epoch 18/200\n",
            "29899/29899 [==============================] - 92s 3ms/step - loss: 0.0084 - accuracy: 0.5253 - recall: 0.6459 - precision: 0.8319 - f1: 0.7254 - val_loss: 0.0089 - val_accuracy: 0.5275 - val_recall: 0.6226 - val_precision: 0.8313 - val_f1: 0.7102\n",
            "Epoch 19/200\n",
            "29899/29899 [==============================] - 91s 3ms/step - loss: 0.0084 - accuracy: 0.5263 - recall: 0.6479 - precision: 0.8329 - f1: 0.7271 - val_loss: 0.0089 - val_accuracy: 0.5202 - val_recall: 0.6395 - val_precision: 0.8178 - val_f1: 0.7160\n",
            "Epoch 20/200\n",
            "29899/29899 [==============================] - 90s 3ms/step - loss: 0.0084 - accuracy: 0.5255 - recall: 0.6486 - precision: 0.8331 - f1: 0.7276 - val_loss: 0.0089 - val_accuracy: 0.5230 - val_recall: 0.6417 - val_precision: 0.8156 - val_f1: 0.7166\n",
            "Epoch 21/200\n",
            "29899/29899 [==============================] - 90s 3ms/step - loss: 0.0083 - accuracy: 0.5254 - recall: 0.6499 - precision: 0.8334 - f1: 0.7285 - val_loss: 0.0089 - val_accuracy: 0.5237 - val_recall: 0.6299 - val_precision: 0.8263 - val_f1: 0.7131\n",
            "Epoch 22/200\n",
            "29899/29899 [==============================] - 91s 3ms/step - loss: 0.0083 - accuracy: 0.5253 - recall: 0.6508 - precision: 0.8341 - f1: 0.7294 - val_loss: 0.0089 - val_accuracy: 0.5150 - val_recall: 0.6342 - val_precision: 0.8223 - val_f1: 0.7143\n",
            "Epoch 23/200\n",
            "29899/29899 [==============================] - 91s 3ms/step - loss: 0.0082 - accuracy: 0.5264 - recall: 0.6532 - precision: 0.8347 - f1: 0.7311 - val_loss: 0.0088 - val_accuracy: 0.5113 - val_recall: 0.6295 - val_precision: 0.8273 - val_f1: 0.7132\n",
            "Epoch 24/200\n",
            "29899/29899 [==============================] - 91s 3ms/step - loss: 0.0082 - accuracy: 0.5270 - recall: 0.6544 - precision: 0.8356 - f1: 0.7322 - val_loss: 0.0089 - val_accuracy: 0.5268 - val_recall: 0.6287 - val_precision: 0.8275 - val_f1: 0.7128\n",
            "Epoch 25/200\n",
            "29899/29899 [==============================] - 91s 3ms/step - loss: 0.0082 - accuracy: 0.5269 - recall: 0.6551 - precision: 0.8363 - f1: 0.7329 - val_loss: 0.0089 - val_accuracy: 0.5217 - val_recall: 0.6323 - val_precision: 0.8224 - val_f1: 0.7132\n",
            "Epoch 26/200\n",
            "29899/29899 [==============================] - 92s 3ms/step - loss: 0.0082 - accuracy: 0.5256 - recall: 0.6557 - precision: 0.8364 - f1: 0.7334 - val_loss: 0.0089 - val_accuracy: 0.5294 - val_recall: 0.6498 - val_precision: 0.8092 - val_f1: 0.7191\n",
            "Epoch 27/200\n",
            "29899/29899 [==============================] - 91s 3ms/step - loss: 0.0081 - accuracy: 0.5271 - recall: 0.6572 - precision: 0.8366 - f1: 0.7344 - val_loss: 0.0088 - val_accuracy: 0.5227 - val_recall: 0.6455 - val_precision: 0.8137 - val_f1: 0.7182\n",
            "Epoch 28/200\n",
            "29899/29899 [==============================] - 90s 3ms/step - loss: 0.0081 - accuracy: 0.5270 - recall: 0.6590 - precision: 0.8373 - f1: 0.7358 - val_loss: 0.0088 - val_accuracy: 0.5231 - val_recall: 0.6434 - val_precision: 0.8154 - val_f1: 0.7176\n",
            "Epoch 29/200\n",
            "29899/29899 [==============================] - 90s 3ms/step - loss: 0.0081 - accuracy: 0.5264 - recall: 0.6592 - precision: 0.8376 - f1: 0.7360 - val_loss: 0.0088 - val_accuracy: 0.5196 - val_recall: 0.6507 - val_precision: 0.8099 - val_f1: 0.7199\n",
            "Epoch 30/200\n",
            "29899/29899 [==============================] - 90s 3ms/step - loss: 0.0081 - accuracy: 0.5274 - recall: 0.6603 - precision: 0.8382 - f1: 0.7370 - val_loss: 0.0088 - val_accuracy: 0.5218 - val_recall: 0.6375 - val_precision: 0.8218 - val_f1: 0.7163\n",
            "Epoch 31/200\n",
            "29899/29899 [==============================] - 90s 3ms/step - loss: 0.0080 - accuracy: 0.5264 - recall: 0.6616 - precision: 0.8390 - f1: 0.7381 - val_loss: 0.0088 - val_accuracy: 0.5161 - val_recall: 0.6404 - val_precision: 0.8183 - val_f1: 0.7167\n",
            "Epoch 32/200\n",
            "29899/29899 [==============================] - 90s 3ms/step - loss: 0.0080 - accuracy: 0.5272 - recall: 0.6631 - precision: 0.8396 - f1: 0.7393 - val_loss: 0.0088 - val_accuracy: 0.5219 - val_recall: 0.6525 - val_precision: 0.8068 - val_f1: 0.7198\n",
            "Epoch 33/200\n",
            "29899/29899 [==============================] - 90s 3ms/step - loss: 0.0080 - accuracy: 0.5257 - recall: 0.6642 - precision: 0.8404 - f1: 0.7403 - val_loss: 0.0088 - val_accuracy: 0.5223 - val_recall: 0.6402 - val_precision: 0.8198 - val_f1: 0.7172\n",
            "Epoch 34/200\n",
            "29899/29899 [==============================] - 90s 3ms/step - loss: 0.0079 - accuracy: 0.5281 - recall: 0.6659 - precision: 0.8411 - f1: 0.7416 - val_loss: 0.0088 - val_accuracy: 0.5242 - val_recall: 0.6433 - val_precision: 0.8151 - val_f1: 0.7173\n",
            "Epoch 35/200\n",
            "29899/29899 [==============================] - 89s 3ms/step - loss: 0.0079 - accuracy: 0.5263 - recall: 0.6669 - precision: 0.8422 - f1: 0.7426 - val_loss: 0.0088 - val_accuracy: 0.5198 - val_recall: 0.6536 - val_precision: 0.8076 - val_f1: 0.7208\n",
            "Epoch 36/200\n",
            "29899/29899 [==============================] - 90s 3ms/step - loss: 0.0079 - accuracy: 0.5270 - recall: 0.6668 - precision: 0.8417 - f1: 0.7425 - val_loss: 0.0088 - val_accuracy: 0.5207 - val_recall: 0.6477 - val_precision: 0.8116 - val_f1: 0.7187\n",
            "Epoch 37/200\n",
            "29899/29899 [==============================] - 89s 3ms/step - loss: 0.0078 - accuracy: 0.5273 - recall: 0.6684 - precision: 0.8426 - f1: 0.7438 - val_loss: 0.0088 - val_accuracy: 0.5145 - val_recall: 0.6466 - val_precision: 0.8129 - val_f1: 0.7186\n",
            "Epoch 38/200\n",
            "29899/29899 [==============================] - 89s 3ms/step - loss: 0.0078 - accuracy: 0.5280 - recall: 0.6696 - precision: 0.8430 - f1: 0.7447 - val_loss: 0.0088 - val_accuracy: 0.5290 - val_recall: 0.6407 - val_precision: 0.8178 - val_f1: 0.7168\n",
            "Epoch 39/200\n",
            "29899/29899 [==============================] - 90s 3ms/step - loss: 0.0078 - accuracy: 0.5294 - recall: 0.6705 - precision: 0.8437 - f1: 0.7456 - val_loss: 0.0088 - val_accuracy: 0.5171 - val_recall: 0.6447 - val_precision: 0.8164 - val_f1: 0.7188\n",
            "Epoch 40/200\n",
            "29899/29899 [==============================] - 89s 3ms/step - loss: 0.0077 - accuracy: 0.5291 - recall: 0.6717 - precision: 0.8442 - f1: 0.7466 - val_loss: 0.0088 - val_accuracy: 0.5248 - val_recall: 0.6448 - val_precision: 0.8135 - val_f1: 0.7177\n",
            "Epoch 41/200\n",
            "29899/29899 [==============================] - 89s 3ms/step - loss: 0.0077 - accuracy: 0.5299 - recall: 0.6729 - precision: 0.8450 - f1: 0.7476 - val_loss: 0.0088 - val_accuracy: 0.5215 - val_recall: 0.6375 - val_precision: 0.8223 - val_f1: 0.7165\n",
            "Epoch 42/200\n",
            "29899/29899 [==============================] - 90s 3ms/step - loss: 0.0077 - accuracy: 0.5277 - recall: 0.6745 - precision: 0.8456 - f1: 0.7488 - val_loss: 0.0088 - val_accuracy: 0.5173 - val_recall: 0.6450 - val_precision: 0.8157 - val_f1: 0.7187\n",
            "Epoch 43/200\n",
            "29899/29899 [==============================] - 90s 3ms/step - loss: 0.0077 - accuracy: 0.5274 - recall: 0.6752 - precision: 0.8461 - f1: 0.7494 - val_loss: 0.0088 - val_accuracy: 0.5222 - val_recall: 0.6475 - val_precision: 0.8123 - val_f1: 0.7189\n",
            "Epoch 44/200\n",
            "29899/29899 [==============================] - 89s 3ms/step - loss: 0.0076 - accuracy: 0.5289 - recall: 0.6765 - precision: 0.8469 - f1: 0.7506 - val_loss: 0.0089 - val_accuracy: 0.5140 - val_recall: 0.6427 - val_precision: 0.8160 - val_f1: 0.7173\n",
            "Epoch 45/200\n",
            "29899/29899 [==============================] - 89s 3ms/step - loss: 0.0076 - accuracy: 0.5289 - recall: 0.6773 - precision: 0.8472 - f1: 0.7512 - val_loss: 0.0089 - val_accuracy: 0.5194 - val_recall: 0.6559 - val_precision: 0.8052 - val_f1: 0.7212\n",
            "Epoch 46/200\n",
            "29899/29899 [==============================] - 90s 3ms/step - loss: 0.0076 - accuracy: 0.5296 - recall: 0.6787 - precision: 0.8480 - f1: 0.7524 - val_loss: 0.0089 - val_accuracy: 0.5257 - val_recall: 0.6412 - val_precision: 0.8172 - val_f1: 0.7168\n",
            "Epoch 47/200\n",
            "29899/29899 [==============================] - 89s 3ms/step - loss: 0.0076 - accuracy: 0.5297 - recall: 0.6802 - precision: 0.8485 - f1: 0.7535 - val_loss: 0.0089 - val_accuracy: 0.5156 - val_recall: 0.6508 - val_precision: 0.8092 - val_f1: 0.7198\n",
            "Epoch 48/200\n",
            "29899/29899 [==============================] - 89s 3ms/step - loss: 0.0075 - accuracy: 0.5289 - recall: 0.6801 - precision: 0.8484 - f1: 0.7535 - val_loss: 0.0089 - val_accuracy: 0.5278 - val_recall: 0.6608 - val_precision: 0.7973 - val_f1: 0.7210\n",
            "Epoch 49/200\n",
            "29899/29899 [==============================] - 89s 3ms/step - loss: 0.0075 - accuracy: 0.5293 - recall: 0.6819 - precision: 0.8497 - f1: 0.7551 - val_loss: 0.0089 - val_accuracy: 0.5234 - val_recall: 0.6399 - val_precision: 0.8190 - val_f1: 0.7167\n",
            "Epoch 50/200\n",
            "29899/29899 [==============================] - 90s 3ms/step - loss: 0.0075 - accuracy: 0.5277 - recall: 0.6828 - precision: 0.8500 - f1: 0.7557 - val_loss: 0.0089 - val_accuracy: 0.5198 - val_recall: 0.6327 - val_precision: 0.8239 - val_f1: 0.7140\n",
            "Epoch 51/200\n",
            "29899/29899 [==============================] - 89s 3ms/step - loss: 0.0074 - accuracy: 0.5290 - recall: 0.6840 - precision: 0.8507 - f1: 0.7568 - val_loss: 0.0089 - val_accuracy: 0.5173 - val_recall: 0.6417 - val_precision: 0.8170 - val_f1: 0.7172\n",
            "Epoch 52/200\n",
            "29899/29899 [==============================] - 90s 3ms/step - loss: 0.0074 - accuracy: 0.5279 - recall: 0.6850 - precision: 0.8513 - f1: 0.7577 - val_loss: 0.0089 - val_accuracy: 0.5117 - val_recall: 0.6321 - val_precision: 0.8239 - val_f1: 0.7136\n",
            "Epoch 53/200\n",
            "29899/29899 [==============================] - 90s 3ms/step - loss: 0.0074 - accuracy: 0.5285 - recall: 0.6862 - precision: 0.8520 - f1: 0.7586 - val_loss: 0.0089 - val_accuracy: 0.5177 - val_recall: 0.6457 - val_precision: 0.8115 - val_f1: 0.7174\n",
            "Epoch 54/200\n",
            "29899/29899 [==============================] - 89s 3ms/step - loss: 0.0074 - accuracy: 0.5281 - recall: 0.6871 - precision: 0.8522 - f1: 0.7593 - val_loss: 0.0089 - val_accuracy: 0.5226 - val_recall: 0.6493 - val_precision: 0.8086 - val_f1: 0.7186\n",
            "Epoch 55/200\n",
            "29899/29899 [==============================] - 89s 3ms/step - loss: 0.0073 - accuracy: 0.5299 - recall: 0.6888 - precision: 0.8528 - f1: 0.7605 - val_loss: 0.0090 - val_accuracy: 0.5247 - val_recall: 0.6571 - val_precision: 0.8007 - val_f1: 0.7201\n",
            "Epoch 56/200\n",
            "29899/29899 [==============================] - 90s 3ms/step - loss: 0.0073 - accuracy: 0.5294 - recall: 0.6900 - precision: 0.8536 - f1: 0.7617 - val_loss: 0.0089 - val_accuracy: 0.5165 - val_recall: 0.6466 - val_precision: 0.8095 - val_f1: 0.7172\n",
            "Epoch 57/200\n",
            "29899/29899 [==============================] - 90s 3ms/step - loss: 0.0073 - accuracy: 0.5295 - recall: 0.6907 - precision: 0.8541 - f1: 0.7623 - val_loss: 0.0089 - val_accuracy: 0.5156 - val_recall: 0.6546 - val_precision: 0.8025 - val_f1: 0.7194\n",
            "Epoch 58/200\n",
            "29899/29899 [==============================] - 89s 3ms/step - loss: 0.0072 - accuracy: 0.5290 - recall: 0.6927 - precision: 0.8549 - f1: 0.7638 - val_loss: 0.0090 - val_accuracy: 0.5179 - val_recall: 0.6503 - val_precision: 0.8064 - val_f1: 0.7183\n",
            "Epoch 59/200\n",
            "29899/29899 [==============================] - 90s 3ms/step - loss: 0.0072 - accuracy: 0.5303 - recall: 0.6933 - precision: 0.8554 - f1: 0.7644 - val_loss: 0.0090 - val_accuracy: 0.5125 - val_recall: 0.6495 - val_precision: 0.8062 - val_f1: 0.7177\n",
            "Epoch 60/200\n",
            "29899/29899 [==============================] - 90s 3ms/step - loss: 0.0072 - accuracy: 0.5291 - recall: 0.6940 - precision: 0.8557 - f1: 0.7650 - val_loss: 0.0090 - val_accuracy: 0.5170 - val_recall: 0.6541 - val_precision: 0.8022 - val_f1: 0.7189\n",
            "Epoch 61/200\n",
            "29899/29899 [==============================] - 89s 3ms/step - loss: 0.0072 - accuracy: 0.5297 - recall: 0.6952 - precision: 0.8565 - f1: 0.7660 - val_loss: 0.0090 - val_accuracy: 0.5139 - val_recall: 0.6566 - val_precision: 0.8004 - val_f1: 0.7197\n",
            "Epoch 62/200\n",
            "29899/29899 [==============================] - 90s 3ms/step - loss: 0.0072 - accuracy: 0.5286 - recall: 0.6963 - precision: 0.8571 - f1: 0.7669 - val_loss: 0.0090 - val_accuracy: 0.5134 - val_recall: 0.6490 - val_precision: 0.8055 - val_f1: 0.7171\n",
            "Epoch 63/200\n",
            "29899/29899 [==============================] - 90s 3ms/step - loss: 0.0071 - accuracy: 0.5293 - recall: 0.6973 - precision: 0.8576 - f1: 0.7678 - val_loss: 0.0091 - val_accuracy: 0.5222 - val_recall: 0.6593 - val_precision: 0.7949 - val_f1: 0.7191\n",
            "Epoch 64/200\n",
            "29899/29899 [==============================] - 90s 3ms/step - loss: 0.0071 - accuracy: 0.5311 - recall: 0.6985 - precision: 0.8583 - f1: 0.7688 - val_loss: 0.0090 - val_accuracy: 0.5139 - val_recall: 0.6428 - val_precision: 0.8109 - val_f1: 0.7154\n",
            "Epoch 65/200\n",
            "29899/29899 [==============================] - 90s 3ms/step - loss: 0.0071 - accuracy: 0.5305 - recall: 0.6999 - precision: 0.8592 - f1: 0.7699 - val_loss: 0.0091 - val_accuracy: 0.5187 - val_recall: 0.6562 - val_precision: 0.7963 - val_f1: 0.7178\n",
            "Epoch 66/200\n",
            "29899/29899 [==============================] - 90s 3ms/step - loss: 0.0070 - accuracy: 0.5298 - recall: 0.7006 - precision: 0.8595 - f1: 0.7706 - val_loss: 0.0091 - val_accuracy: 0.5182 - val_recall: 0.6645 - val_precision: 0.7902 - val_f1: 0.7203\n",
            "Epoch 67/200\n",
            "29899/29899 [==============================] - 91s 3ms/step - loss: 0.0070 - accuracy: 0.5320 - recall: 0.7022 - precision: 0.8596 - f1: 0.7715 - val_loss: 0.0091 - val_accuracy: 0.5184 - val_recall: 0.6536 - val_precision: 0.8007 - val_f1: 0.7180\n",
            "Epoch 68/200\n",
            "29899/29899 [==============================] - 90s 3ms/step - loss: 0.0070 - accuracy: 0.5316 - recall: 0.7027 - precision: 0.8607 - f1: 0.7723 - val_loss: 0.0091 - val_accuracy: 0.5149 - val_recall: 0.6503 - val_precision: 0.8031 - val_f1: 0.7169\n",
            "Epoch 69/200\n",
            "29899/29899 [==============================] - 91s 3ms/step - loss: 0.0070 - accuracy: 0.5320 - recall: 0.7041 - precision: 0.8612 - f1: 0.7734 - val_loss: 0.0092 - val_accuracy: 0.5149 - val_recall: 0.6349 - val_precision: 0.8139 - val_f1: 0.7116\n",
            "Epoch 70/200\n",
            "29899/29899 [==============================] - 91s 3ms/step - loss: 0.0069 - accuracy: 0.5316 - recall: 0.7049 - precision: 0.8616 - f1: 0.7741 - val_loss: 0.0091 - val_accuracy: 0.5187 - val_recall: 0.6515 - val_precision: 0.8014 - val_f1: 0.7170\n",
            "Epoch 71/200\n",
            "29899/29899 [==============================] - 90s 3ms/step - loss: 0.0069 - accuracy: 0.5320 - recall: 0.7060 - precision: 0.8621 - f1: 0.7750 - val_loss: 0.0091 - val_accuracy: 0.5184 - val_recall: 0.6520 - val_precision: 0.8001 - val_f1: 0.7168\n",
            "Epoch 72/200\n",
            "29899/29899 [==============================] - 90s 3ms/step - loss: 0.0069 - accuracy: 0.5323 - recall: 0.7075 - precision: 0.8626 - f1: 0.7760 - val_loss: 0.0092 - val_accuracy: 0.5274 - val_recall: 0.6579 - val_precision: 0.7934 - val_f1: 0.7176\n",
            "Epoch 73/200\n",
            "29899/29899 [==============================] - 90s 3ms/step - loss: 0.0069 - accuracy: 0.5315 - recall: 0.7080 - precision: 0.8628 - f1: 0.7764 - val_loss: 0.0092 - val_accuracy: 0.5182 - val_recall: 0.6475 - val_precision: 0.8047 - val_f1: 0.7158\n",
            "Epoch 74/200\n",
            "29899/29899 [==============================] - 90s 3ms/step - loss: 0.0068 - accuracy: 0.5323 - recall: 0.7091 - precision: 0.8634 - f1: 0.7773 - val_loss: 0.0092 - val_accuracy: 0.5189 - val_recall: 0.6525 - val_precision: 0.7990 - val_f1: 0.7167\n",
            "Epoch 75/200\n",
            "29899/29899 [==============================] - 89s 3ms/step - loss: 0.0068 - accuracy: 0.5332 - recall: 0.7104 - precision: 0.8642 - f1: 0.7784 - val_loss: 0.0092 - val_accuracy: 0.5194 - val_recall: 0.6463 - val_precision: 0.8045 - val_f1: 0.7151\n",
            "Epoch 76/200\n",
            "29899/29899 [==============================] - 88s 3ms/step - loss: 0.0068 - accuracy: 0.5336 - recall: 0.7118 - precision: 0.8649 - f1: 0.7796 - val_loss: 0.0092 - val_accuracy: 0.5123 - val_recall: 0.6505 - val_precision: 0.7987 - val_f1: 0.7153\n",
            "Epoch 77/200\n",
            "29899/29899 [==============================] - 89s 3ms/step - loss: 0.0067 - accuracy: 0.5319 - recall: 0.7126 - precision: 0.8653 - f1: 0.7803 - val_loss: 0.0092 - val_accuracy: 0.5135 - val_recall: 0.6406 - val_precision: 0.8082 - val_f1: 0.7130\n",
            "Epoch 78/200\n",
            "29899/29899 [==============================] - 90s 3ms/step - loss: 0.0067 - accuracy: 0.5330 - recall: 0.7136 - precision: 0.8660 - f1: 0.7811 - val_loss: 0.0093 - val_accuracy: 0.5132 - val_recall: 0.6422 - val_precision: 0.8063 - val_f1: 0.7132\n",
            "Epoch 79/200\n",
            "29899/29899 [==============================] - 90s 3ms/step - loss: 0.0067 - accuracy: 0.5336 - recall: 0.7150 - precision: 0.8667 - f1: 0.7823 - val_loss: 0.0093 - val_accuracy: 0.5223 - val_recall: 0.6588 - val_precision: 0.7883 - val_f1: 0.7160\n",
            "Epoch 80/200\n",
            "29899/29899 [==============================] - 90s 3ms/step - loss: 0.0067 - accuracy: 0.5340 - recall: 0.7161 - precision: 0.8668 - f1: 0.7830 - val_loss: 0.0093 - val_accuracy: 0.5164 - val_recall: 0.6458 - val_precision: 0.8020 - val_f1: 0.7138\n",
            "Epoch 00080: early stopping\n"
          ],
          "name": "stdout"
        },
        {
          "output_type": "execute_result",
          "data": {
            "text/plain": [
              "<tensorflow.python.keras.callbacks.History at 0x7f298f0e2cd0>"
            ]
          },
          "metadata": {
            "tags": []
          },
          "execution_count": 19
        }
      ]
    },
    {
      "cell_type": "code",
      "metadata": {
        "colab": {
          "base_uri": "https://localhost:8080/"
        },
        "id": "gy-SMi-VnZWn",
        "outputId": "3b7e600c-8919-4ec5-864f-ced4df1fc656"
      },
      "source": [
        "config.train_set_shape = str(train_X.shape)\n",
        "\n",
        "del train_X\n",
        "del train_y\n",
        "gc.collect()"
      ],
      "execution_count": 20,
      "outputs": [
        {
          "output_type": "execute_result",
          "data": {
            "text/plain": [
              "2133"
            ]
          },
          "metadata": {
            "tags": []
          },
          "execution_count": 20
        }
      ]
    },
    {
      "cell_type": "markdown",
      "metadata": {
        "id": "lOdOr9Y36j8Z"
      },
      "source": [
        "# Save model to Wandb"
      ]
    },
    {
      "cell_type": "code",
      "metadata": {
        "id": "VbGcydaR-3tH",
        "colab": {
          "base_uri": "https://localhost:8080/"
        },
        "outputId": "3bc251a6-c6da-4ab8-b47b-6737834d1adb"
      },
      "source": [
        "artifact = wandb.Artifact('ensemble-plus-gpt2-bigger-layers-full-train-filtered-and-cut-off-ends', type='keras-model')\n",
        "artifact.add_file(best_val_loss_model_filename)\n",
        "run.log_artifact(artifact)"
      ],
      "execution_count": 21,
      "outputs": [
        {
          "output_type": "execute_result",
          "data": {
            "text/plain": [
              "<wandb.sdk.wandb_artifacts.Artifact at 0x7f298e68acd0>"
            ]
          },
          "metadata": {
            "tags": []
          },
          "execution_count": 21
        }
      ]
    },
    {
      "cell_type": "markdown",
      "metadata": {
        "id": "bMenWG9W6qVA"
      },
      "source": [
        "# Load model and test on test set"
      ]
    },
    {
      "cell_type": "code",
      "metadata": {
        "id": "8i8ILR02H6Pi"
      },
      "source": [
        "\n",
        "model = keras.models.load_model(best_val_loss_model_filename, custom_objects={\"f1\": f1, \"recall\": recall, \"precision\": precision})\n",
        "model.save('ensemble-gpt-vectors-with-filtered-and-cut-off-ends-all-train-articles.h5')"
      ],
      "execution_count": 22,
      "outputs": []
    },
    {
      "cell_type": "code",
      "metadata": {
        "colab": {
          "base_uri": "https://localhost:8080/"
        },
        "id": "YXDBPAfwK6oL",
        "outputId": "c8ebea8a-ac8d-4a89-d3a2-e51b0f3bb985"
      },
      "source": [
        "gpt_vectorized_chunks_path = Path('gpt2-vectors/test')\n",
        "gpt_file_paths = os.listdir(gpt_vectorized_chunks_path)\n",
        "sorted_gpt_filenames = sorted(gpt_file_paths, key=lambda fn: int(fn.split('chunk')[1].split('of')[0]))\n",
        "sorted_gpt_filepaths = [gpt_vectorized_chunks_path / Path(p) for p in sorted_gpt_filenames]\n",
        "\n",
        "ensemble_vectorized_chunks_path = 'vectorized-fixed/test'\n",
        "ensemble_file_paths = os.listdir(ensemble_vectorized_chunks_path)\n",
        "sorted_ensemble_filenames = sorted(ensemble_file_paths, key=lambda fn: int(fn.split('chunk')[1].split('of')[0]))\n",
        "sorted_ensemble_filepaths = [ensemble_vectorized_chunks_path / Path(p) for p in sorted_ensemble_filenames]\n",
        "\n",
        "concat_dataset = ConcatenatingDataset(\n",
        "    ChunkDataset(sorted_ensemble_filepaths),\n",
        "    ChunkDataset(sorted_gpt_filepaths))\n",
        "\n",
        "test_X, test_y = [], []\n",
        "gc.collect()\n",
        "for x, y in concat_dataset:\n",
        "    test_X.append(x.numpy())\n",
        "    test_y.append(y.numpy())\n",
        "\n",
        "test_X = np.asarray(test_X)\n",
        "test_y = np.asarray(test_y)\n",
        "gc.collect()"
      ],
      "execution_count": 24,
      "outputs": [
        {
          "output_type": "stream",
          "text": [
            "Loading for iter vectorized-fixed/test/ensemble_vect_test_chunk1of3.pt\n",
            "Loading for iter gpt2-vectors/test/test_1195k_min500_cutoff_replace_chunk1of4.pt\n",
            "Loading for iter gpt2-vectors/test/test_1195k_min500_cutoff_replace_chunk2of4.pt\n",
            "Loading for iter vectorized-fixed/test/ensemble_vect_test_chunk2of3.pt\n",
            "Loading for iter gpt2-vectors/test/test_1195k_min500_cutoff_replace_chunk3of4.pt\n",
            "Loading for iter gpt2-vectors/test/test_1195k_min500_cutoff_replace_chunk4of4.pt\n",
            "Loading for iter vectorized-fixed/test/ensemble_vect_test_chunk3of3.pt\n"
          ],
          "name": "stdout"
        },
        {
          "output_type": "execute_result",
          "data": {
            "text/plain": [
              "0"
            ]
          },
          "metadata": {
            "tags": []
          },
          "execution_count": 24
        }
      ]
    },
    {
      "cell_type": "code",
      "metadata": {
        "id": "Y4S2TqtV-njA"
      },
      "source": [
        "config.test_set_shape = str(test_X.shape)\n"
      ],
      "execution_count": 25,
      "outputs": []
    },
    {
      "cell_type": "code",
      "metadata": {
        "id": "dSfr0gjuUFgt",
        "colab": {
          "base_uri": "https://localhost:8080/"
        },
        "outputId": "fa2ef055-e8cb-4f56-947b-85c3b405d70a"
      },
      "source": [
        "%%time\n",
        "test_preds = model.predict(test_X)"
      ],
      "execution_count": 26,
      "outputs": [
        {
          "output_type": "stream",
          "text": [
            "CPU times: user 4.42 s, sys: 972 ms, total: 5.39 s\n",
            "Wall time: 3.17 s\n"
          ],
          "name": "stdout"
        }
      ]
    },
    {
      "cell_type": "code",
      "metadata": {
        "id": "cEW8VsMvubLc"
      },
      "source": [
        "import torch\n",
        "\n",
        "from sklearn.metrics import accuracy_score\n",
        "from sklearn.metrics import precision_score\n",
        "from sklearn.metrics import recall_score\n",
        "from sklearn.metrics import f1_score\n",
        "\n",
        "def multi_label_accuracy(correct_labels, predicted_labels, average):\n",
        "    predicted_labels = torch.round(torch.tensor(predicted_labels)).numpy()\n",
        "    accuracy = accuracy_score(correct_labels, predicted_labels)\n",
        "    precision = precision_score(correct_labels, predicted_labels, average=average, zero_division=0)\n",
        "    recall = recall_score(correct_labels, predicted_labels, average=average, zero_division=0)\n",
        "    f_1_score = f1_score(correct_labels, predicted_labels, average=average, zero_division=0)\n",
        "    \n",
        "    return accuracy, precision, recall, f_1_score\n"
      ],
      "execution_count": 27,
      "outputs": []
    },
    {
      "cell_type": "code",
      "metadata": {
        "id": "sQNLDf5cAud3",
        "colab": {
          "base_uri": "https://localhost:8080/"
        },
        "outputId": "3aa360b2-cf35-4afc-c762-137fcefc92f3"
      },
      "source": [
        "for average in ['weighted', 'micro', 'macro', 'samples']:\n",
        "    accuracy, precision, recall, f_score = multi_label_accuracy(test_y, test_preds, average)\n",
        "    print(average + ' ' + str(round(f_score,3)))\n",
        "    metrics = { \n",
        "            \"test_precision\"+'_'+ average: precision, \n",
        "            \"test_f1\"+'_'+ average: f_score, \n",
        "            \"test_recall\"+'_'+ average: recall,\n",
        "            }\n",
        "    wandb.log(metrics)\n",
        "    \n",
        "wandb.log({ \n",
        "        \"test_accuracy\": accuracy,\n",
        "        })"
      ],
      "execution_count": 28,
      "outputs": [
        {
          "output_type": "stream",
          "text": [
            "weighted 0.666\n",
            "micro 0.679\n",
            "macro 0.569\n",
            "samples 0.697\n"
          ],
          "name": "stdout"
        }
      ]
    },
    {
      "cell_type": "code",
      "metadata": {
        "id": "28ZIvUxtaRSP",
        "colab": {
          "base_uri": "https://localhost:8080/",
          "height": 1000,
          "referenced_widgets": [
            "2888fe3a64224cc6b67fbc855f0f0e89",
            "40b85a686d814512958520d1a1a326c9",
            "e2b93c9cc95d42f39ea4202162c92c70",
            "dfda9ecb01d2454cb112a9e2659b360b",
            "fef96ae5bd5547aaac0044ba91969847",
            "bf5c16d1b9b6461b80ab9b896bc80a30",
            "75622757a53c458899c0979235ec7b1e",
            "9f456137ce404b5790155c58c6fc864e"
          ]
        },
        "outputId": "50ff6ee2-8b3c-4e97-f567-854131a7a2f2"
      },
      "source": [
        "run.finish()\n",
        "len(test_X)"
      ],
      "execution_count": 29,
      "outputs": [
        {
          "output_type": "display_data",
          "data": {
            "text/html": [
              "<br/>Waiting for W&B process to finish, PID 1013<br/>Program ended successfully."
            ],
            "text/plain": [
              "<IPython.core.display.HTML object>"
            ]
          },
          "metadata": {
            "tags": []
          }
        },
        {
          "output_type": "display_data",
          "data": {
            "application/vnd.jupyter.widget-view+json": {
              "model_id": "2888fe3a64224cc6b67fbc855f0f0e89",
              "version_minor": 0,
              "version_major": 2
            },
            "text/plain": [
              "VBox(children=(Label(value=' 96.71MB of 96.71MB uploaded (0.00MB deduped)\\r'), FloatProgress(value=1.0, max=1.…"
            ]
          },
          "metadata": {
            "tags": []
          }
        },
        {
          "output_type": "display_data",
          "data": {
            "text/html": [
              "Find user logs for this run at: <code>/content/drive/My Drive/Colab Notebooks/NLP/project/wandb/run-20210524_203753-1m4xogql/logs/debug.log</code>"
            ],
            "text/plain": [
              "<IPython.core.display.HTML object>"
            ]
          },
          "metadata": {
            "tags": []
          }
        },
        {
          "output_type": "display_data",
          "data": {
            "text/html": [
              "Find internal logs for this run at: <code>/content/drive/My Drive/Colab Notebooks/NLP/project/wandb/run-20210524_203753-1m4xogql/logs/debug-internal.log</code>"
            ],
            "text/plain": [
              "<IPython.core.display.HTML object>"
            ]
          },
          "metadata": {
            "tags": []
          }
        },
        {
          "output_type": "display_data",
          "data": {
            "text/html": [
              "<h3>Run summary:</h3><br/><style>\n",
              "    table.wandb td:nth-child(1) { padding: 0 10px; text-align: right }\n",
              "    </style><table class=\"wandb\">\n",
              "<tr><td>epoch</td><td>79</td></tr><tr><td>loss</td><td>0.00669</td></tr><tr><td>accuracy</td><td>0.5332</td></tr><tr><td>recall</td><td>0.71521</td></tr><tr><td>precision</td><td>0.866</td></tr><tr><td>f1</td><td>0.7821</td></tr><tr><td>val_loss</td><td>0.0093</td></tr><tr><td>val_accuracy</td><td>0.5164</td></tr><tr><td>val_recall</td><td>0.64582</td></tr><tr><td>val_precision</td><td>0.80199</td></tr><tr><td>val_f1</td><td>0.71376</td></tr><tr><td>lr</td><td>1e-05</td></tr><tr><td>_runtime</td><td>9022</td></tr><tr><td>_timestamp</td><td>1621897696</td></tr><tr><td>_step</td><td>84</td></tr><tr><td>best_val_loss</td><td>0.0088</td></tr><tr><td>best_epoch</td><td>29</td></tr><tr><td>test_precision_weighted</td><td>0.75314</td></tr><tr><td>test_f1_weighted</td><td>0.66606</td></tr><tr><td>test_recall_weighted</td><td>0.60781</td></tr><tr><td>test_precision_micro</td><td>0.76926</td></tr><tr><td>test_f1_micro</td><td>0.67907</td></tr><tr><td>test_recall_micro</td><td>0.60781</td></tr><tr><td>test_precision_macro</td><td>0.68726</td></tr><tr><td>test_f1_macro</td><td>0.5685</td></tr><tr><td>test_recall_macro</td><td>0.49836</td></tr><tr><td>test_precision_samples</td><td>0.78361</td></tr><tr><td>test_f1_samples</td><td>0.69667</td></tr><tr><td>test_recall_samples</td><td>0.6911</td></tr><tr><td>test_accuracy</td><td>0.34604</td></tr></table>"
            ],
            "text/plain": [
              "<IPython.core.display.HTML object>"
            ]
          },
          "metadata": {
            "tags": []
          }
        },
        {
          "output_type": "display_data",
          "data": {
            "text/html": [
              "<h3>Run history:</h3><br/><style>\n",
              "    table.wandb td:nth-child(1) { padding: 0 10px; text-align: right }\n",
              "    </style><table class=\"wandb\">\n",
              "<tr><td>epoch</td><td>▁▁▁▂▂▂▂▂▂▃▃▃▃▃▃▄▄▄▄▄▅▅▅▅▅▅▆▆▆▆▆▆▇▇▇▇▇███</td></tr><tr><td>loss</td><td>█▃▃▂▂▂▂▂▂▂▂▂▂▂▂▂▂▂▂▂▂▂▂▂▁▁▁▁▁▁▁▁▁▁▁▁▁▁▁▁</td></tr><tr><td>accuracy</td><td>▁▇▆▅▅▆▆▆▇▇▇▇▇▇▇▇▇▇▇▇▇▇▇▇▇▇▇▇▇█▇█████████</td></tr><tr><td>recall</td><td>▁▅▆▆▆▆▆▇▇▇▇▇▇▇▇▇▇▇▇▇▇▇▇▇▇▇▇▇▇███████████</td></tr><tr><td>precision</td><td>▁▁▁▁▁▁▂▂▂▂▂▂▃▃▃▃▃▄▄▄▄▄▅▅▅▅▅▆▆▆▆▆▇▇▇▇▇███</td></tr><tr><td>f1</td><td>▁▆▆▆▆▆▇▇▇▇▇▇▇▇▇▇▇▇▇▇▇▇▇▇▇▇▇▇████████████</td></tr><tr><td>val_loss</td><td>█▃▂▂▂▂▁▁▁▁▁▁▁▁▁▁▁▁▁▁▁▁▁▁▁▁▁▁▁▁▂▂▂▂▂▂▂▂▂▂</td></tr><tr><td>val_accuracy</td><td>▆█▅▄▃▁▅▄▃▄▄▃▄▄▄▃▄▄▃▃▄▄▄▃▄▃▄▅▃▃▃▄▄▄▃▄▄▄▃▃</td></tr><tr><td>val_recall</td><td>▁▅▆▆▆▆▇▆▆▇▇▇▇▇█▇▇█▇▇▇▇██▇▇▇███████▇█▇▇▇▇</td></tr><tr><td>val_precision</td><td>█▅▅▇▅▆▆█▇▅▆▇▆▄▄▅▅▃▄▅▆▄▃▃▅▅▄▂▂▃▂▁▁▂▄▂▃▃▃▂</td></tr><tr><td>val_f1</td><td>▁▆▆▇▇▇▇▇▇█▇▇▇█████████████████████▇███▇▇</td></tr><tr><td>lr</td><td>▁▁▁▁▁▁▁▁▁▁▁▁▁▁▁▁▁▁▁▁▁▁▁▁▁▁▁▁▁▁▁▁▁▁▁▁▁▁▁▁</td></tr><tr><td>_runtime</td><td>▁▁▁▁▂▂▂▂▂▂▃▃▃▃▃▃▃▄▄▄▄▄▄▅▅▅▅▅▅▅▆▆▆▆▆▆▇▇██</td></tr><tr><td>_timestamp</td><td>▁▁▁▁▂▂▂▂▂▂▃▃▃▃▃▃▃▄▄▄▄▄▄▅▅▅▅▅▅▅▆▆▆▆▆▆▇▇██</td></tr><tr><td>_step</td><td>▁▁▁▁▂▂▂▂▂▃▃▃▃▃▃▄▄▄▄▄▅▅▅▅▅▅▆▆▆▆▆▇▇▇▇▇▇███</td></tr><tr><td>test_precision_weighted</td><td>▁</td></tr><tr><td>test_f1_weighted</td><td>▁</td></tr><tr><td>test_recall_weighted</td><td>▁</td></tr><tr><td>test_precision_micro</td><td>▁</td></tr><tr><td>test_f1_micro</td><td>▁</td></tr><tr><td>test_recall_micro</td><td>▁</td></tr><tr><td>test_precision_macro</td><td>▁</td></tr><tr><td>test_f1_macro</td><td>▁</td></tr><tr><td>test_recall_macro</td><td>▁</td></tr><tr><td>test_precision_samples</td><td>▁</td></tr><tr><td>test_f1_samples</td><td>▁</td></tr><tr><td>test_recall_samples</td><td>▁</td></tr><tr><td>test_accuracy</td><td>▁</td></tr></table><br/>"
            ],
            "text/plain": [
              "<IPython.core.display.HTML object>"
            ]
          },
          "metadata": {
            "tags": []
          }
        },
        {
          "output_type": "display_data",
          "data": {
            "text/html": [
              "Synced 5 W&B file(s), 1 media file(s), 1 artifact file(s) and 1 other file(s)"
            ],
            "text/plain": [
              "<IPython.core.display.HTML object>"
            ]
          },
          "metadata": {
            "tags": []
          }
        },
        {
          "output_type": "display_data",
          "data": {
            "text/html": [
              "\n",
              "                    <br/>Synced <strong style=\"color:#cdcd00\">cosmic-night-12</strong>: <a href=\"https://wandb.ai/ut-mit-news-classify/ensemble-plus-gpt2/runs/1m4xogql\" target=\"_blank\">https://wandb.ai/ut-mit-news-classify/ensemble-plus-gpt2/runs/1m4xogql</a><br/>\n",
              "                "
            ],
            "text/plain": [
              "<IPython.core.display.HTML object>"
            ]
          },
          "metadata": {
            "tags": []
          }
        }
      ]
    },
    {
      "cell_type": "code",
      "metadata": {
        "colab": {
          "base_uri": "https://localhost:8080/"
        },
        "id": "Dv8Va6EkoahM",
        "outputId": "df0a5b51-b895-4f35-e0fa-2c0da54a836b"
      },
      "source": [
        "del test_y\n",
        "del test_X\n",
        "gc.collect()"
      ],
      "execution_count": 30,
      "outputs": [
        {
          "output_type": "execute_result",
          "data": {
            "text/plain": [
              "222"
            ]
          },
          "metadata": {
            "tags": []
          },
          "execution_count": 30
        }
      ]
    },
    {
      "cell_type": "code",
      "metadata": {
        "id": "UtYU1CW3zQUE"
      },
      "source": [
        ""
      ],
      "execution_count": null,
      "outputs": []
    }
  ]
}