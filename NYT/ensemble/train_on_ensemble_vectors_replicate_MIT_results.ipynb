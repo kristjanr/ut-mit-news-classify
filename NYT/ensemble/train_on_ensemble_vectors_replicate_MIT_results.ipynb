{
  "nbformat": 4,
  "nbformat_minor": 0,
  "metadata": {
    "colab": {
      "name": "train on ensemble vectors - replicate MIT results",
      "provenance": [],
      "collapsed_sections": [],
      "machine_shape": "hm"
    },
    "kernelspec": {
      "display_name": "Python 3",
      "name": "python3"
    },
    "language_info": {
      "name": "python"
    },
    "accelerator": "GPU",
    "widgets": {
      "application/vnd.jupyter.widget-state+json": {
        "138234eb61e94a9f9c9ca1e4b3c155f7": {
          "model_module": "@jupyter-widgets/controls",
          "model_name": "HBoxModel",
          "state": {
            "_view_name": "HBoxView",
            "_dom_classes": [],
            "_model_name": "HBoxModel",
            "_view_module": "@jupyter-widgets/controls",
            "_model_module_version": "1.5.0",
            "_view_count": null,
            "_view_module_version": "1.5.0",
            "box_style": "",
            "layout": "IPY_MODEL_28f951b771224dab9889f14c0d5ff62a",
            "_model_module": "@jupyter-widgets/controls",
            "children": [
              "IPY_MODEL_30a05d0fd84d44658519c9738bc7f973",
              "IPY_MODEL_926f33f1485d44fcb942b38db538fe2c"
            ]
          }
        },
        "28f951b771224dab9889f14c0d5ff62a": {
          "model_module": "@jupyter-widgets/base",
          "model_name": "LayoutModel",
          "state": {
            "_view_name": "LayoutView",
            "grid_template_rows": null,
            "right": null,
            "justify_content": null,
            "_view_module": "@jupyter-widgets/base",
            "overflow": null,
            "_model_module_version": "1.2.0",
            "_view_count": null,
            "flex_flow": null,
            "width": null,
            "min_width": null,
            "border": null,
            "align_items": null,
            "bottom": null,
            "_model_module": "@jupyter-widgets/base",
            "top": null,
            "grid_column": null,
            "overflow_y": null,
            "overflow_x": null,
            "grid_auto_flow": null,
            "grid_area": null,
            "grid_template_columns": null,
            "flex": null,
            "_model_name": "LayoutModel",
            "justify_items": null,
            "grid_row": null,
            "max_height": null,
            "align_content": null,
            "visibility": null,
            "align_self": null,
            "height": null,
            "min_height": null,
            "padding": null,
            "grid_auto_rows": null,
            "grid_gap": null,
            "max_width": null,
            "order": null,
            "_view_module_version": "1.2.0",
            "grid_template_areas": null,
            "object_position": null,
            "object_fit": null,
            "grid_auto_columns": null,
            "margin": null,
            "display": null,
            "left": null
          }
        },
        "30a05d0fd84d44658519c9738bc7f973": {
          "model_module": "@jupyter-widgets/controls",
          "model_name": "FloatProgressModel",
          "state": {
            "_view_name": "ProgressView",
            "style": "IPY_MODEL_8fbf228b83704fe3865c8dc0165a9af2",
            "_dom_classes": [],
            "description": "100%",
            "_model_name": "FloatProgressModel",
            "bar_style": "success",
            "max": 25,
            "_view_module": "@jupyter-widgets/controls",
            "_model_module_version": "1.5.0",
            "value": 25,
            "_view_count": null,
            "_view_module_version": "1.5.0",
            "orientation": "horizontal",
            "min": 0,
            "description_tooltip": null,
            "_model_module": "@jupyter-widgets/controls",
            "layout": "IPY_MODEL_f3d6768c36304d3d88e54d0c19a35beb"
          }
        },
        "926f33f1485d44fcb942b38db538fe2c": {
          "model_module": "@jupyter-widgets/controls",
          "model_name": "HTMLModel",
          "state": {
            "_view_name": "HTMLView",
            "style": "IPY_MODEL_2dc69b93ee274803801ec552c1056329",
            "_dom_classes": [],
            "description": "",
            "_model_name": "HTMLModel",
            "placeholder": "​",
            "_view_module": "@jupyter-widgets/controls",
            "_model_module_version": "1.5.0",
            "value": " 25/25 [02:58&lt;00:00,  7.16s/it]",
            "_view_count": null,
            "_view_module_version": "1.5.0",
            "description_tooltip": null,
            "_model_module": "@jupyter-widgets/controls",
            "layout": "IPY_MODEL_a8fbb9a2f3c946b2a439fbf71f068188"
          }
        },
        "8fbf228b83704fe3865c8dc0165a9af2": {
          "model_module": "@jupyter-widgets/controls",
          "model_name": "ProgressStyleModel",
          "state": {
            "_view_name": "StyleView",
            "_model_name": "ProgressStyleModel",
            "description_width": "initial",
            "_view_module": "@jupyter-widgets/base",
            "_model_module_version": "1.5.0",
            "_view_count": null,
            "_view_module_version": "1.2.0",
            "bar_color": null,
            "_model_module": "@jupyter-widgets/controls"
          }
        },
        "f3d6768c36304d3d88e54d0c19a35beb": {
          "model_module": "@jupyter-widgets/base",
          "model_name": "LayoutModel",
          "state": {
            "_view_name": "LayoutView",
            "grid_template_rows": null,
            "right": null,
            "justify_content": null,
            "_view_module": "@jupyter-widgets/base",
            "overflow": null,
            "_model_module_version": "1.2.0",
            "_view_count": null,
            "flex_flow": null,
            "width": null,
            "min_width": null,
            "border": null,
            "align_items": null,
            "bottom": null,
            "_model_module": "@jupyter-widgets/base",
            "top": null,
            "grid_column": null,
            "overflow_y": null,
            "overflow_x": null,
            "grid_auto_flow": null,
            "grid_area": null,
            "grid_template_columns": null,
            "flex": null,
            "_model_name": "LayoutModel",
            "justify_items": null,
            "grid_row": null,
            "max_height": null,
            "align_content": null,
            "visibility": null,
            "align_self": null,
            "height": null,
            "min_height": null,
            "padding": null,
            "grid_auto_rows": null,
            "grid_gap": null,
            "max_width": null,
            "order": null,
            "_view_module_version": "1.2.0",
            "grid_template_areas": null,
            "object_position": null,
            "object_fit": null,
            "grid_auto_columns": null,
            "margin": null,
            "display": null,
            "left": null
          }
        },
        "2dc69b93ee274803801ec552c1056329": {
          "model_module": "@jupyter-widgets/controls",
          "model_name": "DescriptionStyleModel",
          "state": {
            "_view_name": "StyleView",
            "_model_name": "DescriptionStyleModel",
            "description_width": "",
            "_view_module": "@jupyter-widgets/base",
            "_model_module_version": "1.5.0",
            "_view_count": null,
            "_view_module_version": "1.2.0",
            "_model_module": "@jupyter-widgets/controls"
          }
        },
        "a8fbb9a2f3c946b2a439fbf71f068188": {
          "model_module": "@jupyter-widgets/base",
          "model_name": "LayoutModel",
          "state": {
            "_view_name": "LayoutView",
            "grid_template_rows": null,
            "right": null,
            "justify_content": null,
            "_view_module": "@jupyter-widgets/base",
            "overflow": null,
            "_model_module_version": "1.2.0",
            "_view_count": null,
            "flex_flow": null,
            "width": null,
            "min_width": null,
            "border": null,
            "align_items": null,
            "bottom": null,
            "_model_module": "@jupyter-widgets/base",
            "top": null,
            "grid_column": null,
            "overflow_y": null,
            "overflow_x": null,
            "grid_auto_flow": null,
            "grid_area": null,
            "grid_template_columns": null,
            "flex": null,
            "_model_name": "LayoutModel",
            "justify_items": null,
            "grid_row": null,
            "max_height": null,
            "align_content": null,
            "visibility": null,
            "align_self": null,
            "height": null,
            "min_height": null,
            "padding": null,
            "grid_auto_rows": null,
            "grid_gap": null,
            "max_width": null,
            "order": null,
            "_view_module_version": "1.2.0",
            "grid_template_areas": null,
            "object_position": null,
            "object_fit": null,
            "grid_auto_columns": null,
            "margin": null,
            "display": null,
            "left": null
          }
        },
        "975a2583757142ee8208baadda3e2015": {
          "model_module": "@jupyter-widgets/controls",
          "model_name": "VBoxModel",
          "state": {
            "_view_name": "VBoxView",
            "_dom_classes": [],
            "_model_name": "VBoxModel",
            "_view_module": "@jupyter-widgets/controls",
            "_model_module_version": "1.5.0",
            "_view_count": null,
            "_view_module_version": "1.5.0",
            "box_style": "",
            "layout": "IPY_MODEL_3ee1cdecfdbf4ba6bff88cbd3fddbdb5",
            "_model_module": "@jupyter-widgets/controls",
            "children": [
              "IPY_MODEL_d961c8235373419f9f708f1dd3ca29a3",
              "IPY_MODEL_b8404fd83a2748fe8afcf6a945cfb125"
            ]
          }
        },
        "3ee1cdecfdbf4ba6bff88cbd3fddbdb5": {
          "model_module": "@jupyter-widgets/base",
          "model_name": "LayoutModel",
          "state": {
            "_view_name": "LayoutView",
            "grid_template_rows": null,
            "right": null,
            "justify_content": null,
            "_view_module": "@jupyter-widgets/base",
            "overflow": null,
            "_model_module_version": "1.2.0",
            "_view_count": null,
            "flex_flow": null,
            "width": null,
            "min_width": null,
            "border": null,
            "align_items": null,
            "bottom": null,
            "_model_module": "@jupyter-widgets/base",
            "top": null,
            "grid_column": null,
            "overflow_y": null,
            "overflow_x": null,
            "grid_auto_flow": null,
            "grid_area": null,
            "grid_template_columns": null,
            "flex": null,
            "_model_name": "LayoutModel",
            "justify_items": null,
            "grid_row": null,
            "max_height": null,
            "align_content": null,
            "visibility": null,
            "align_self": null,
            "height": null,
            "min_height": null,
            "padding": null,
            "grid_auto_rows": null,
            "grid_gap": null,
            "max_width": null,
            "order": null,
            "_view_module_version": "1.2.0",
            "grid_template_areas": null,
            "object_position": null,
            "object_fit": null,
            "grid_auto_columns": null,
            "margin": null,
            "display": null,
            "left": null
          }
        },
        "d961c8235373419f9f708f1dd3ca29a3": {
          "model_module": "@jupyter-widgets/controls",
          "model_name": "LabelModel",
          "state": {
            "_view_name": "LabelView",
            "style": "IPY_MODEL_d927d92a53f240fa97e656ca0ca17182",
            "_dom_classes": [],
            "description": "",
            "_model_name": "LabelModel",
            "placeholder": "​",
            "_view_module": "@jupyter-widgets/controls",
            "_model_module_version": "1.5.0",
            "value": " 36.81MB of 36.81MB uploaded (0.00MB deduped)\r",
            "_view_count": null,
            "_view_module_version": "1.5.0",
            "description_tooltip": null,
            "_model_module": "@jupyter-widgets/controls",
            "layout": "IPY_MODEL_c0bfdca188204d169cd5191713a38c4b"
          }
        },
        "b8404fd83a2748fe8afcf6a945cfb125": {
          "model_module": "@jupyter-widgets/controls",
          "model_name": "FloatProgressModel",
          "state": {
            "_view_name": "ProgressView",
            "style": "IPY_MODEL_1ba33f929fc342b18220067d179882b8",
            "_dom_classes": [],
            "description": "",
            "_model_name": "FloatProgressModel",
            "bar_style": "",
            "max": 1,
            "_view_module": "@jupyter-widgets/controls",
            "_model_module_version": "1.5.0",
            "value": 1,
            "_view_count": null,
            "_view_module_version": "1.5.0",
            "orientation": "horizontal",
            "min": 0,
            "description_tooltip": null,
            "_model_module": "@jupyter-widgets/controls",
            "layout": "IPY_MODEL_1b6cd7149e0144c08dc77e317774bf7c"
          }
        },
        "d927d92a53f240fa97e656ca0ca17182": {
          "model_module": "@jupyter-widgets/controls",
          "model_name": "DescriptionStyleModel",
          "state": {
            "_view_name": "StyleView",
            "_model_name": "DescriptionStyleModel",
            "description_width": "",
            "_view_module": "@jupyter-widgets/base",
            "_model_module_version": "1.5.0",
            "_view_count": null,
            "_view_module_version": "1.2.0",
            "_model_module": "@jupyter-widgets/controls"
          }
        },
        "c0bfdca188204d169cd5191713a38c4b": {
          "model_module": "@jupyter-widgets/base",
          "model_name": "LayoutModel",
          "state": {
            "_view_name": "LayoutView",
            "grid_template_rows": null,
            "right": null,
            "justify_content": null,
            "_view_module": "@jupyter-widgets/base",
            "overflow": null,
            "_model_module_version": "1.2.0",
            "_view_count": null,
            "flex_flow": null,
            "width": null,
            "min_width": null,
            "border": null,
            "align_items": null,
            "bottom": null,
            "_model_module": "@jupyter-widgets/base",
            "top": null,
            "grid_column": null,
            "overflow_y": null,
            "overflow_x": null,
            "grid_auto_flow": null,
            "grid_area": null,
            "grid_template_columns": null,
            "flex": null,
            "_model_name": "LayoutModel",
            "justify_items": null,
            "grid_row": null,
            "max_height": null,
            "align_content": null,
            "visibility": null,
            "align_self": null,
            "height": null,
            "min_height": null,
            "padding": null,
            "grid_auto_rows": null,
            "grid_gap": null,
            "max_width": null,
            "order": null,
            "_view_module_version": "1.2.0",
            "grid_template_areas": null,
            "object_position": null,
            "object_fit": null,
            "grid_auto_columns": null,
            "margin": null,
            "display": null,
            "left": null
          }
        },
        "1ba33f929fc342b18220067d179882b8": {
          "model_module": "@jupyter-widgets/controls",
          "model_name": "ProgressStyleModel",
          "state": {
            "_view_name": "StyleView",
            "_model_name": "ProgressStyleModel",
            "description_width": "",
            "_view_module": "@jupyter-widgets/base",
            "_model_module_version": "1.5.0",
            "_view_count": null,
            "_view_module_version": "1.2.0",
            "bar_color": null,
            "_model_module": "@jupyter-widgets/controls"
          }
        },
        "1b6cd7149e0144c08dc77e317774bf7c": {
          "model_module": "@jupyter-widgets/base",
          "model_name": "LayoutModel",
          "state": {
            "_view_name": "LayoutView",
            "grid_template_rows": null,
            "right": null,
            "justify_content": null,
            "_view_module": "@jupyter-widgets/base",
            "overflow": null,
            "_model_module_version": "1.2.0",
            "_view_count": null,
            "flex_flow": null,
            "width": null,
            "min_width": null,
            "border": null,
            "align_items": null,
            "bottom": null,
            "_model_module": "@jupyter-widgets/base",
            "top": null,
            "grid_column": null,
            "overflow_y": null,
            "overflow_x": null,
            "grid_auto_flow": null,
            "grid_area": null,
            "grid_template_columns": null,
            "flex": null,
            "_model_name": "LayoutModel",
            "justify_items": null,
            "grid_row": null,
            "max_height": null,
            "align_content": null,
            "visibility": null,
            "align_self": null,
            "height": null,
            "min_height": null,
            "padding": null,
            "grid_auto_rows": null,
            "grid_gap": null,
            "max_width": null,
            "order": null,
            "_view_module_version": "1.2.0",
            "grid_template_areas": null,
            "object_position": null,
            "object_fit": null,
            "grid_auto_columns": null,
            "margin": null,
            "display": null,
            "left": null
          }
        },
        "a9fae89530c149cc9c0a66696129227e": {
          "model_module": "@jupyter-widgets/controls",
          "model_name": "HBoxModel",
          "state": {
            "_view_name": "HBoxView",
            "_dom_classes": [],
            "_model_name": "HBoxModel",
            "_view_module": "@jupyter-widgets/controls",
            "_model_module_version": "1.5.0",
            "_view_count": null,
            "_view_module_version": "1.5.0",
            "box_style": "",
            "layout": "IPY_MODEL_691ddb4ddb8946bb9de22ccc8a8371ab",
            "_model_module": "@jupyter-widgets/controls",
            "children": [
              "IPY_MODEL_0ea4a8cb3b82419eb749e98555f9b459",
              "IPY_MODEL_4d8255f1dda6461cbf4243e86205fa8c"
            ]
          }
        },
        "691ddb4ddb8946bb9de22ccc8a8371ab": {
          "model_module": "@jupyter-widgets/base",
          "model_name": "LayoutModel",
          "state": {
            "_view_name": "LayoutView",
            "grid_template_rows": null,
            "right": null,
            "justify_content": null,
            "_view_module": "@jupyter-widgets/base",
            "overflow": null,
            "_model_module_version": "1.2.0",
            "_view_count": null,
            "flex_flow": null,
            "width": null,
            "min_width": null,
            "border": null,
            "align_items": null,
            "bottom": null,
            "_model_module": "@jupyter-widgets/base",
            "top": null,
            "grid_column": null,
            "overflow_y": null,
            "overflow_x": null,
            "grid_auto_flow": null,
            "grid_area": null,
            "grid_template_columns": null,
            "flex": null,
            "_model_name": "LayoutModel",
            "justify_items": null,
            "grid_row": null,
            "max_height": null,
            "align_content": null,
            "visibility": null,
            "align_self": null,
            "height": null,
            "min_height": null,
            "padding": null,
            "grid_auto_rows": null,
            "grid_gap": null,
            "max_width": null,
            "order": null,
            "_view_module_version": "1.2.0",
            "grid_template_areas": null,
            "object_position": null,
            "object_fit": null,
            "grid_auto_columns": null,
            "margin": null,
            "display": null,
            "left": null
          }
        },
        "0ea4a8cb3b82419eb749e98555f9b459": {
          "model_module": "@jupyter-widgets/controls",
          "model_name": "FloatProgressModel",
          "state": {
            "_view_name": "ProgressView",
            "style": "IPY_MODEL_ca11082d8c9a4ee5a7e138671cdd1073",
            "_dom_classes": [],
            "description": "100%",
            "_model_name": "FloatProgressModel",
            "bar_style": "success",
            "max": 25,
            "_view_module": "@jupyter-widgets/controls",
            "_model_module_version": "1.5.0",
            "value": 25,
            "_view_count": null,
            "_view_module_version": "1.5.0",
            "orientation": "horizontal",
            "min": 0,
            "description_tooltip": null,
            "_model_module": "@jupyter-widgets/controls",
            "layout": "IPY_MODEL_00bfe9b14b1e4d0c9bf2559e8080d068"
          }
        },
        "4d8255f1dda6461cbf4243e86205fa8c": {
          "model_module": "@jupyter-widgets/controls",
          "model_name": "HTMLModel",
          "state": {
            "_view_name": "HTMLView",
            "style": "IPY_MODEL_d595f15a598b4affb8a0bb234b91dab1",
            "_dom_classes": [],
            "description": "",
            "_model_name": "HTMLModel",
            "placeholder": "​",
            "_view_module": "@jupyter-widgets/controls",
            "_model_module_version": "1.5.0",
            "value": " 25/25 [00:18&lt;00:00,  1.32it/s]",
            "_view_count": null,
            "_view_module_version": "1.5.0",
            "description_tooltip": null,
            "_model_module": "@jupyter-widgets/controls",
            "layout": "IPY_MODEL_5b3580ab079a425ebad76f37c80d28eb"
          }
        },
        "ca11082d8c9a4ee5a7e138671cdd1073": {
          "model_module": "@jupyter-widgets/controls",
          "model_name": "ProgressStyleModel",
          "state": {
            "_view_name": "StyleView",
            "_model_name": "ProgressStyleModel",
            "description_width": "initial",
            "_view_module": "@jupyter-widgets/base",
            "_model_module_version": "1.5.0",
            "_view_count": null,
            "_view_module_version": "1.2.0",
            "bar_color": null,
            "_model_module": "@jupyter-widgets/controls"
          }
        },
        "00bfe9b14b1e4d0c9bf2559e8080d068": {
          "model_module": "@jupyter-widgets/base",
          "model_name": "LayoutModel",
          "state": {
            "_view_name": "LayoutView",
            "grid_template_rows": null,
            "right": null,
            "justify_content": null,
            "_view_module": "@jupyter-widgets/base",
            "overflow": null,
            "_model_module_version": "1.2.0",
            "_view_count": null,
            "flex_flow": null,
            "width": null,
            "min_width": null,
            "border": null,
            "align_items": null,
            "bottom": null,
            "_model_module": "@jupyter-widgets/base",
            "top": null,
            "grid_column": null,
            "overflow_y": null,
            "overflow_x": null,
            "grid_auto_flow": null,
            "grid_area": null,
            "grid_template_columns": null,
            "flex": null,
            "_model_name": "LayoutModel",
            "justify_items": null,
            "grid_row": null,
            "max_height": null,
            "align_content": null,
            "visibility": null,
            "align_self": null,
            "height": null,
            "min_height": null,
            "padding": null,
            "grid_auto_rows": null,
            "grid_gap": null,
            "max_width": null,
            "order": null,
            "_view_module_version": "1.2.0",
            "grid_template_areas": null,
            "object_position": null,
            "object_fit": null,
            "grid_auto_columns": null,
            "margin": null,
            "display": null,
            "left": null
          }
        },
        "d595f15a598b4affb8a0bb234b91dab1": {
          "model_module": "@jupyter-widgets/controls",
          "model_name": "DescriptionStyleModel",
          "state": {
            "_view_name": "StyleView",
            "_model_name": "DescriptionStyleModel",
            "description_width": "",
            "_view_module": "@jupyter-widgets/base",
            "_model_module_version": "1.5.0",
            "_view_count": null,
            "_view_module_version": "1.2.0",
            "_model_module": "@jupyter-widgets/controls"
          }
        },
        "5b3580ab079a425ebad76f37c80d28eb": {
          "model_module": "@jupyter-widgets/base",
          "model_name": "LayoutModel",
          "state": {
            "_view_name": "LayoutView",
            "grid_template_rows": null,
            "right": null,
            "justify_content": null,
            "_view_module": "@jupyter-widgets/base",
            "overflow": null,
            "_model_module_version": "1.2.0",
            "_view_count": null,
            "flex_flow": null,
            "width": null,
            "min_width": null,
            "border": null,
            "align_items": null,
            "bottom": null,
            "_model_module": "@jupyter-widgets/base",
            "top": null,
            "grid_column": null,
            "overflow_y": null,
            "overflow_x": null,
            "grid_auto_flow": null,
            "grid_area": null,
            "grid_template_columns": null,
            "flex": null,
            "_model_name": "LayoutModel",
            "justify_items": null,
            "grid_row": null,
            "max_height": null,
            "align_content": null,
            "visibility": null,
            "align_self": null,
            "height": null,
            "min_height": null,
            "padding": null,
            "grid_auto_rows": null,
            "grid_gap": null,
            "max_width": null,
            "order": null,
            "_view_module_version": "1.2.0",
            "grid_template_areas": null,
            "object_position": null,
            "object_fit": null,
            "grid_auto_columns": null,
            "margin": null,
            "display": null,
            "left": null
          }
        }
      }
    }
  },
  "cells": [
    {
      "cell_type": "markdown",
      "metadata": {
        "id": "JWEh39ZL1p3Z"
      },
      "source": [
        "# Setup"
      ]
    },
    {
      "cell_type": "code",
      "metadata": {
        "colab": {
          "base_uri": "https://localhost:8080/"
        },
        "id": "Fgj88POfmDYv",
        "outputId": "2f5d57eb-3ff4-41a6-b797-477ac60ffb63"
      },
      "source": [
        "from google.colab import drive\n",
        "drive.mount('/content/drive')\n",
        "%cd \"/content/drive/MyDrive/Colab Notebooks/NLP/project/\"\n"
      ],
      "execution_count": 1,
      "outputs": [
        {
          "output_type": "stream",
          "text": [
            "Drive already mounted at /content/drive; to attempt to forcibly remount, call drive.mount(\"/content/drive\", force_remount=True).\n",
            "/content/drive/MyDrive/Colab Notebooks/NLP/project\n"
          ],
          "name": "stdout"
        }
      ]
    },
    {
      "cell_type": "code",
      "metadata": {
        "id": "6IzK2sYUISVU"
      },
      "source": [
        "%%capture\n",
        "pip install --upgrade wandb"
      ],
      "execution_count": 2,
      "outputs": []
    },
    {
      "cell_type": "code",
      "metadata": {
        "colab": {
          "base_uri": "https://localhost:8080/"
        },
        "id": "pf-4hN5NFbFM",
        "outputId": "2e101981-9514-4994-c07a-010798050f8e"
      },
      "source": [
        "!wandb login "
      ],
      "execution_count": 3,
      "outputs": [
        {
          "output_type": "stream",
          "text": [
            "\u001b[34m\u001b[1mwandb\u001b[0m: Currently logged in as: \u001b[33mkristjan\u001b[0m (use `wandb login --relogin` to force relogin)\n"
          ],
          "name": "stdout"
        }
      ]
    },
    {
      "cell_type": "markdown",
      "metadata": {
        "id": "sB_ZhA2G2zbP"
      },
      "source": [
        "# Load training data"
      ]
    },
    {
      "cell_type": "code",
      "metadata": {
        "id": "sjEqKAFpaFiM",
        "colab": {
          "base_uri": "https://localhost:8080/",
          "height": 100,
          "referenced_widgets": [
            "138234eb61e94a9f9c9ca1e4b3c155f7",
            "28f951b771224dab9889f14c0d5ff62a",
            "30a05d0fd84d44658519c9738bc7f973",
            "926f33f1485d44fcb942b38db538fe2c",
            "8fbf228b83704fe3865c8dc0165a9af2",
            "f3d6768c36304d3d88e54d0c19a35beb",
            "2dc69b93ee274803801ec552c1056329",
            "a8fbb9a2f3c946b2a439fbf71f068188"
          ]
        },
        "outputId": "0b55799d-3c15-449e-9298-bb2d66ef007a"
      },
      "source": [
        "%%time\n",
        "import os\n",
        "from tqdm.notebook import tqdm\n",
        "import torch\n",
        "from torch.utils.data import Dataset\n",
        "\n",
        "\n",
        "class GPTEmbeddedDataset(Dataset):\n",
        "    def __init__(self, X, y):\n",
        "        self.X = X\n",
        "        self.y = y\n",
        "\n",
        "    def __len__(self):\n",
        "        return len(self.X)\n",
        "\n",
        "    def __getitem__(self, idx):\n",
        "        return self.X[idx], self.y[idx], idx\n",
        "\n",
        "\n",
        "def load_all(directory):\n",
        "    sorted_filenames = sorted(os.listdir(directory), key=lambda fn: int(fn.split('of')[0].split('chunk')[1]))\n",
        "    all_X = None\n",
        "    all_y = None\n",
        "    for filename in tqdm(sorted_filenames):\n",
        "        saved_dataset = torch.load(directory + filename)\n",
        "\n",
        "        if all_X is not None:\n",
        "            all_X = torch.cat([all_X, saved_dataset.X])\n",
        "            all_y = torch.cat([all_y, saved_dataset.y])\n",
        "        else:\n",
        "            all_X = saved_dataset.X\n",
        "            all_y = saved_dataset.y\n",
        "    all_X = all_X.numpy()\n",
        "    all_y = all_y.numpy()\n",
        "    \n",
        "    return all_X, all_y\n",
        "\n",
        "\n",
        "drive_dir = 'nikita-vectors/tfidf/train/'\n",
        "X, y = load_all(drive_dir)\n"
      ],
      "execution_count": 4,
      "outputs": [
        {
          "output_type": "display_data",
          "data": {
            "application/vnd.jupyter.widget-view+json": {
              "model_id": "138234eb61e94a9f9c9ca1e4b3c155f7",
              "version_minor": 0,
              "version_major": 2
            },
            "text/plain": [
              "HBox(children=(FloatProgress(value=0.0, max=25.0), HTML(value='')))"
            ]
          },
          "metadata": {
            "tags": []
          }
        },
        {
          "output_type": "stream",
          "text": [
            "\n",
            "CPU times: user 33 s, sys: 30.2 s, total: 1min 3s\n",
            "Wall time: 2min 59s\n"
          ],
          "name": "stdout"
        }
      ]
    },
    {
      "cell_type": "code",
      "metadata": {
        "colab": {
          "base_uri": "https://localhost:8080/"
        },
        "id": "pslgsYpS-Py0",
        "outputId": "f9942dec-fa69-4c19-8434-cfcc2a5e66b4"
      },
      "source": [
        "X.shape"
      ],
      "execution_count": 5,
      "outputs": [
        {
          "output_type": "execute_result",
          "data": {
            "text/plain": [
              "(1298479, 1000)"
            ]
          },
          "metadata": {
            "tags": []
          },
          "execution_count": 5
        }
      ]
    },
    {
      "cell_type": "markdown",
      "metadata": {
        "id": "oReOHtUJ2LFS"
      },
      "source": [
        "# Configure and start Wandb job"
      ]
    },
    {
      "cell_type": "code",
      "metadata": {
        "colab": {
          "base_uri": "https://localhost:8080/",
          "height": 1000,
          "referenced_widgets": [
            "975a2583757142ee8208baadda3e2015",
            "3ee1cdecfdbf4ba6bff88cbd3fddbdb5",
            "d961c8235373419f9f708f1dd3ca29a3",
            "b8404fd83a2748fe8afcf6a945cfb125",
            "d927d92a53f240fa97e656ca0ca17182",
            "c0bfdca188204d169cd5191713a38c4b",
            "1ba33f929fc342b18220067d179882b8",
            "1b6cd7149e0144c08dc77e317774bf7c"
          ]
        },
        "id": "LIecSECbFg3U",
        "outputId": "2d1d81b4-11cc-4e92-fdf6-fd1d0ff9dd35"
      },
      "source": [
        "import wandb\n",
        "\n",
        "# Start a new run\n",
        "run = wandb.init(project='mit-ensemble', entity='ut-mit-news-classify')\n",
        "\n",
        "#hyperparams\n",
        "epochs = 200\n",
        "patience = 10\n",
        "batch_size = 512\n",
        "learning_rate = 1e-5\n",
        "validation_split = 0.2\n",
        "\n",
        "#reduce learning rate callback params\n",
        "factor = 0.2\n",
        "reduce_lr_patience = 5\n",
        "min_lr = 0.001\n",
        "\n",
        "# Save hyperparameters\n",
        "config = wandb.config\n",
        "config.batch_size = batch_size\n",
        "config.epochs = epochs\n",
        "config.early_stopping_patience = patience\n",
        "config.learning_rate = learning_rate\n",
        "config.validation_split = validation_split\n",
        "config.train_set_shape = str(X.shape)\n",
        "\n",
        "config.reduce_lr = f'factor-{factor}__patience-{reduce_lr_patience}__min_lr-{min_lr}'\n"
      ],
      "execution_count": 19,
      "outputs": [
        {
          "output_type": "display_data",
          "data": {
            "text/html": [
              "Finishing last run (ID:2p7r7m1k) before initializing another..."
            ],
            "text/plain": [
              "<IPython.core.display.HTML object>"
            ]
          },
          "metadata": {
            "tags": []
          }
        },
        {
          "output_type": "display_data",
          "data": {
            "text/html": [
              "<br/>Waiting for W&B process to finish, PID 2485<br/>Program ended successfully."
            ],
            "text/plain": [
              "<IPython.core.display.HTML object>"
            ]
          },
          "metadata": {
            "tags": []
          }
        },
        {
          "output_type": "display_data",
          "data": {
            "application/vnd.jupyter.widget-view+json": {
              "model_id": "975a2583757142ee8208baadda3e2015",
              "version_minor": 0,
              "version_major": 2
            },
            "text/plain": [
              "VBox(children=(Label(value=' 36.80MB of 36.80MB uploaded (0.00MB deduped)\\r'), FloatProgress(value=1.0, max=1.…"
            ]
          },
          "metadata": {
            "tags": []
          }
        },
        {
          "output_type": "display_data",
          "data": {
            "text/html": [
              "Find user logs for this run at: <code>/content/drive/My Drive/Colab Notebooks/NLP/project/wandb/run-20210520_144541-2p7r7m1k/logs/debug.log</code>"
            ],
            "text/plain": [
              "<IPython.core.display.HTML object>"
            ]
          },
          "metadata": {
            "tags": []
          }
        },
        {
          "output_type": "display_data",
          "data": {
            "text/html": [
              "Find internal logs for this run at: <code>/content/drive/My Drive/Colab Notebooks/NLP/project/wandb/run-20210520_144541-2p7r7m1k/logs/debug-internal.log</code>"
            ],
            "text/plain": [
              "<IPython.core.display.HTML object>"
            ]
          },
          "metadata": {
            "tags": []
          }
        },
        {
          "output_type": "display_data",
          "data": {
            "text/html": [
              "<h3>Run summary:</h3><br/><style>\n",
              "    table.wandb td:nth-child(1) { padding: 0 10px; text-align: right }\n",
              "    </style><table class=\"wandb\">\n",
              "<tr><td>epoch</td><td>199</td></tr><tr><td>loss</td><td>0.00827</td></tr><tr><td>accuracy</td><td>0.53287</td></tr><tr><td>recall</td><td>0.64623</td></tr><tr><td>precision</td><td>0.83318</td></tr><tr><td>f1</td><td>0.72782</td></tr><tr><td>val_loss</td><td>0.0085</td></tr><tr><td>val_accuracy</td><td>0.52873</td></tr><tr><td>val_recall</td><td>0.64024</td></tr><tr><td>val_precision</td><td>0.82834</td></tr><tr><td>val_f1</td><td>0.72219</td></tr><tr><td>lr</td><td>1e-05</td></tr><tr><td>_runtime</td><td>2423</td></tr><tr><td>_timestamp</td><td>1621524365</td></tr><tr><td>_step</td><td>204</td></tr><tr><td>best_val_loss</td><td>0.0085</td></tr><tr><td>best_epoch</td><td>199</td></tr><tr><td>test_precision_weighted</td><td>0.77352</td></tr><tr><td>test_f1_weighted</td><td>0.66907</td></tr><tr><td>test_recall_weighted</td><td>0.60324</td></tr><tr><td>test_precision_micro</td><td>0.7929</td></tr><tr><td>test_f1_micro</td><td>0.68519</td></tr><tr><td>test_recall_micro</td><td>0.60324</td></tr><tr><td>test_precision_macro</td><td>0.71504</td></tr><tr><td>test_f1_macro</td><td>0.56155</td></tr><tr><td>test_recall_macro</td><td>0.48007</td></tr><tr><td>test_precision_samples</td><td>0.78807</td></tr><tr><td>test_f1_samples</td><td>0.69532</td></tr><tr><td>test_recall_samples</td><td>0.68287</td></tr><tr><td>test_accuracy</td><td>0.36097</td></tr></table>"
            ],
            "text/plain": [
              "<IPython.core.display.HTML object>"
            ]
          },
          "metadata": {
            "tags": []
          }
        },
        {
          "output_type": "display_data",
          "data": {
            "text/html": [
              "<h3>Run history:</h3><br/><style>\n",
              "    table.wandb td:nth-child(1) { padding: 0 10px; text-align: right }\n",
              "    </style><table class=\"wandb\">\n",
              "<tr><td>epoch</td><td>▁▁▁▁▂▂▂▂▂▃▃▃▃▃▃▄▄▄▄▄▅▅▅▅▅▅▆▆▆▆▆▇▇▇▇▇▇███</td></tr><tr><td>loss</td><td>█▃▂▂▁▁▁▁▁▁▁▁▁▁▁▁▁▁▁▁▁▁▁▁▁▁▁▁▁▁▁▁▁▁▁▁▁▁▁▁</td></tr><tr><td>accuracy</td><td>▁█████████▇▇▇▇▇▇▇▇▇▇▇▇▇▇▇▇▇▇▇▇▇▇▇▇▇▇▇▇▇▇</td></tr><tr><td>recall</td><td>▁▅▇▇▇▇██████████████████████████████████</td></tr><tr><td>precision</td><td>█▃▂▁▁▁▁▁▁▁▁▁▁▁▁▁▁▁▁▁▁▁▁▁▁▁▁▁▁▁▁▁▁▁▁▁▁▁▁▁</td></tr><tr><td>f1</td><td>▁▆▇▇████████████████████████████████████</td></tr><tr><td>val_loss</td><td>█▃▂▂▁▁▁▁▁▁▁▁▁▁▁▁▁▁▁▁▁▁▁▁▁▁▁▁▁▁▁▁▁▁▁▁▁▁▁▁</td></tr><tr><td>val_accuracy</td><td>▁████████▇▇▇▇▇▇▇▇▇▇▇▇▇▇▇▇▇▇▇▇▇▇▇▇▇▇▇▇▇▇▇</td></tr><tr><td>val_recall</td><td>▁▅▇▇▇▇██████████████████████████████████</td></tr><tr><td>val_precision</td><td>█▅▂▃▂▂▂▁▁▂▂▂▂▂▁▂▂▂▂▁▂▁▁▂▂▂▂▂▂▁▂▂▂▂▂▂▁▁▁▂</td></tr><tr><td>val_f1</td><td>▁▆▇▇████████████████████████████████████</td></tr><tr><td>lr</td><td>▁▁▁▁▁▁▁▁▁▁▁▁▁▁▁▁▁▁▁▁▁▁▁▁▁▁▁▁▁▁▁▁▁▁▁▁▁▁▁▁</td></tr><tr><td>_runtime</td><td>▁▁▁▁▂▂▂▂▂▃▃▃▃▃▃▄▄▄▄▄▄▅▅▅▅▅▅▆▆▆▆▆▆▇▇▇▇▇▇█</td></tr><tr><td>_timestamp</td><td>▁▁▁▁▂▂▂▂▂▃▃▃▃▃▃▄▄▄▄▄▄▅▅▅▅▅▅▆▆▆▆▆▆▇▇▇▇▇▇█</td></tr><tr><td>_step</td><td>▁▁▁▁▂▂▂▂▂▃▃▃▃▃▃▄▄▄▄▄▅▅▅▅▅▅▆▆▆▆▆▇▇▇▇▇▇███</td></tr><tr><td>test_precision_weighted</td><td>▁</td></tr><tr><td>test_f1_weighted</td><td>▁</td></tr><tr><td>test_recall_weighted</td><td>▁</td></tr><tr><td>test_precision_micro</td><td>▁</td></tr><tr><td>test_f1_micro</td><td>▁</td></tr><tr><td>test_recall_micro</td><td>▁</td></tr><tr><td>test_precision_macro</td><td>▁</td></tr><tr><td>test_f1_macro</td><td>▁</td></tr><tr><td>test_recall_macro</td><td>▁</td></tr><tr><td>test_precision_samples</td><td>▁</td></tr><tr><td>test_f1_samples</td><td>▁</td></tr><tr><td>test_recall_samples</td><td>▁</td></tr><tr><td>test_accuracy</td><td>▁</td></tr></table><br/>"
            ],
            "text/plain": [
              "<IPython.core.display.HTML object>"
            ]
          },
          "metadata": {
            "tags": []
          }
        },
        {
          "output_type": "display_data",
          "data": {
            "text/html": [
              "Synced 5 W&B file(s), 1 media file(s), 1 artifact file(s) and 1 other file(s)"
            ],
            "text/plain": [
              "<IPython.core.display.HTML object>"
            ]
          },
          "metadata": {
            "tags": []
          }
        },
        {
          "output_type": "display_data",
          "data": {
            "text/html": [
              "\n",
              "                    <br/>Synced <strong style=\"color:#cdcd00\">bright-snowball-17</strong>: <a href=\"https://wandb.ai/ut-mit-news-classify/mit-ensemble/runs/2p7r7m1k\" target=\"_blank\">https://wandb.ai/ut-mit-news-classify/mit-ensemble/runs/2p7r7m1k</a><br/>\n",
              "                "
            ],
            "text/plain": [
              "<IPython.core.display.HTML object>"
            ]
          },
          "metadata": {
            "tags": []
          }
        },
        {
          "output_type": "display_data",
          "data": {
            "text/html": [
              "...Successfully finished last run (ID:2p7r7m1k). Initializing new run:<br/><br/>"
            ],
            "text/plain": [
              "<IPython.core.display.HTML object>"
            ]
          },
          "metadata": {
            "tags": []
          }
        },
        {
          "output_type": "display_data",
          "data": {
            "text/html": [
              "\n",
              "                Tracking run with wandb version 0.10.30<br/>\n",
              "                Syncing run <strong style=\"color:#cdcd00\">graceful-dawn-19</strong> to <a href=\"https://wandb.ai\" target=\"_blank\">Weights & Biases</a> <a href=\"https://docs.wandb.com/integrations/jupyter.html\" target=\"_blank\">(Documentation)</a>.<br/>\n",
              "                Project page: <a href=\"https://wandb.ai/ut-mit-news-classify/mit-ensemble\" target=\"_blank\">https://wandb.ai/ut-mit-news-classify/mit-ensemble</a><br/>\n",
              "                Run page: <a href=\"https://wandb.ai/ut-mit-news-classify/mit-ensemble/runs/3macz9c3\" target=\"_blank\">https://wandb.ai/ut-mit-news-classify/mit-ensemble/runs/3macz9c3</a><br/>\n",
              "                Run data is saved locally in <code>/content/drive/My Drive/Colab Notebooks/NLP/project/wandb/run-20210520_161348-3macz9c3</code><br/><br/>\n",
              "            "
            ],
            "text/plain": [
              "<IPython.core.display.HTML object>"
            ]
          },
          "metadata": {
            "tags": []
          }
        }
      ]
    },
    {
      "cell_type": "markdown",
      "metadata": {
        "id": "cZ8Jp3HH11Vo"
      },
      "source": [
        "# Metrics functions for training with Keras"
      ]
    },
    {
      "cell_type": "code",
      "metadata": {
        "id": "plCDxgG99TvJ"
      },
      "source": [
        "from keras import backend as K\n",
        "\n",
        "def recall(y_true, y_pred):\n",
        "    true_positives = K.sum(K.round(K.clip(y_true * y_pred, 0, 1)))\n",
        "    possible_positives = K.sum(K.round(K.clip(y_true, 0, 1)))\n",
        "    recall = true_positives / (possible_positives + K.epsilon())\n",
        "    return recall\n",
        "\n",
        "def precision(y_true, y_pred):\n",
        "    true_positives = K.sum(K.round(K.clip(y_true * y_pred, 0, 1)))\n",
        "    predicted_positives = K.sum(K.round(K.clip(y_pred, 0, 1)))\n",
        "    precision = true_positives / (predicted_positives + K.epsilon())\n",
        "    return precision\n",
        "\n",
        "def f1(y_true, y_pred):\n",
        "    p = precision(y_true, y_pred)\n",
        "    r = recall(y_true, y_pred)\n",
        "    return 2*((p*r)/(p+r+K.epsilon()))\n"
      ],
      "execution_count": 20,
      "outputs": []
    },
    {
      "cell_type": "markdown",
      "metadata": {
        "id": "yUt--FSj2A94"
      },
      "source": [
        "# Create and Compile Model"
      ]
    },
    {
      "cell_type": "code",
      "metadata": {
        "colab": {
          "base_uri": "https://localhost:8080/"
        },
        "id": "POZNPfIO8gVS",
        "outputId": "a1c5e73e-9bd7-44e1-c3be-36f5b238dbbe"
      },
      "source": [
        "import keras\n",
        "from keras import layers\n",
        "\n",
        "model = keras.Sequential()\n",
        "model.add(layers.Dense(800, activation=\"relu\", input_shape=(1000,)))\n",
        "model.add(layers.Dense(600, activation=\"relu\", input_shape=(1000,)))\n",
        "model.add(layers.Dense(538, activation=\"sigmoid\", input_shape=(1000,)))\n",
        "\n",
        "model.summary()"
      ],
      "execution_count": 21,
      "outputs": [
        {
          "output_type": "stream",
          "text": [
            "Model: \"sequential_1\"\n",
            "_________________________________________________________________\n",
            "Layer (type)                 Output Shape              Param #   \n",
            "=================================================================\n",
            "dense_3 (Dense)              (None, 800)               800800    \n",
            "_________________________________________________________________\n",
            "dense_4 (Dense)              (None, 600)               480600    \n",
            "_________________________________________________________________\n",
            "dense_5 (Dense)              (None, 538)               323338    \n",
            "=================================================================\n",
            "Total params: 1,604,738\n",
            "Trainable params: 1,604,738\n",
            "Non-trainable params: 0\n",
            "_________________________________________________________________\n"
          ],
          "name": "stdout"
        }
      ]
    },
    {
      "cell_type": "code",
      "metadata": {
        "id": "O5FRM9hpW4JZ"
      },
      "source": [
        "from wandb.keras import WandbCallback\n",
        "from keras.callbacks import EarlyStopping, ModelCheckpoint, ReduceLROnPlateau\n",
        "\n",
        "\n",
        "best_val_loss_model_filename = 'best_val_loss_model_with_reduce_lr.h5'\n",
        "mc = ModelCheckpoint(best_val_loss_model_filename, monitor='val_loss', mode='min')\n",
        "es = EarlyStopping(monitor='val_loss', mode='min', verbose=1, patience=patience)\n",
        "reduce_lr = ReduceLROnPlateau(monitor='val_loss', factor=factor, patience=reduce_lr_patience, min_lr=min_lr)\n",
        "callbacks = [mc, es, reduce_lr, WandbCallback()]\n",
        "\n",
        "opt = keras.optimizers.Adam(learning_rate=learning_rate)\n",
        "\n",
        "model.compile(loss='binary_crossentropy', optimizer=opt, metrics=['accuracy', recall, precision, f1])\n"
      ],
      "execution_count": 22,
      "outputs": []
    },
    {
      "cell_type": "markdown",
      "metadata": {
        "id": "ZpDTuczX254e"
      },
      "source": [
        "# Train!"
      ]
    },
    {
      "cell_type": "code",
      "metadata": {
        "colab": {
          "base_uri": "https://localhost:8080/"
        },
        "id": "eBfBEZcv_TnW",
        "outputId": "c33e033c-0ab4-4af1-f3ab-e8e75a745997"
      },
      "source": [
        "\n",
        "model.fit(X, y, epochs=epochs, validation_split=validation_split, callbacks=callbacks, batch_size=batch_size)\n"
      ],
      "execution_count": 23,
      "outputs": [
        {
          "output_type": "stream",
          "text": [
            "Epoch 1/200\n",
            "2029/2029 [==============================] - 13s 6ms/step - loss: 0.1744 - accuracy: 0.1008 - recall: 0.0816 - precision: 0.4606 - f1: 0.0399 - val_loss: 0.0223 - val_accuracy: 0.3941 - val_recall: 0.1617 - val_precision: 0.8890 - val_f1: 0.2734\n",
            "Epoch 2/200\n",
            "2029/2029 [==============================] - 11s 5ms/step - loss: 0.0205 - accuracy: 0.4412 - recall: 0.2065 - precision: 0.8830 - f1: 0.3327 - val_loss: 0.0165 - val_accuracy: 0.5065 - val_recall: 0.3178 - val_precision: 0.8694 - val_f1: 0.4653\n",
            "Epoch 3/200\n",
            "2029/2029 [==============================] - 11s 5ms/step - loss: 0.0156 - accuracy: 0.5206 - recall: 0.3457 - precision: 0.8637 - f1: 0.4931 - val_loss: 0.0135 - val_accuracy: 0.5506 - val_recall: 0.4088 - val_precision: 0.8599 - val_f1: 0.5540\n",
            "Epoch 4/200\n",
            "2029/2029 [==============================] - 11s 5ms/step - loss: 0.0130 - accuracy: 0.5559 - recall: 0.4274 - precision: 0.8543 - f1: 0.5694 - val_loss: 0.0119 - val_accuracy: 0.5560 - val_recall: 0.4716 - val_precision: 0.8473 - val_f1: 0.6057\n",
            "Epoch 5/200\n",
            "2029/2029 [==============================] - 11s 5ms/step - loss: 0.0116 - accuracy: 0.5587 - recall: 0.4790 - precision: 0.8481 - f1: 0.6120 - val_loss: 0.0110 - val_accuracy: 0.5560 - val_recall: 0.5016 - val_precision: 0.8501 - val_f1: 0.6307\n",
            "Epoch 6/200\n",
            "2029/2029 [==============================] - 11s 5ms/step - loss: 0.0109 - accuracy: 0.5583 - recall: 0.5125 - precision: 0.8446 - f1: 0.6377 - val_loss: 0.0105 - val_accuracy: 0.5575 - val_recall: 0.5341 - val_precision: 0.8380 - val_f1: 0.6522\n",
            "Epoch 7/200\n",
            "2029/2029 [==============================] - 11s 5ms/step - loss: 0.0104 - accuracy: 0.5546 - recall: 0.5349 - precision: 0.8416 - f1: 0.6539 - val_loss: 0.0102 - val_accuracy: 0.5507 - val_recall: 0.5468 - val_precision: 0.8400 - val_f1: 0.6622\n",
            "Epoch 8/200\n",
            "2029/2029 [==============================] - 11s 5ms/step - loss: 0.0101 - accuracy: 0.5546 - recall: 0.5512 - precision: 0.8389 - f1: 0.6651 - val_loss: 0.0100 - val_accuracy: 0.5537 - val_recall: 0.5593 - val_precision: 0.8379 - val_f1: 0.6706\n",
            "Epoch 9/200\n",
            "2029/2029 [==============================] - 11s 5ms/step - loss: 0.0099 - accuracy: 0.5530 - recall: 0.5619 - precision: 0.8376 - f1: 0.6724 - val_loss: 0.0098 - val_accuracy: 0.5499 - val_recall: 0.5662 - val_precision: 0.8384 - val_f1: 0.6758\n",
            "Epoch 10/200\n",
            "2029/2029 [==============================] - 11s 5ms/step - loss: 0.0097 - accuracy: 0.5509 - recall: 0.5712 - precision: 0.8360 - f1: 0.6786 - val_loss: 0.0097 - val_accuracy: 0.5529 - val_recall: 0.5781 - val_precision: 0.8336 - val_f1: 0.6826\n",
            "Epoch 11/200\n",
            "2029/2029 [==============================] - 11s 5ms/step - loss: 0.0096 - accuracy: 0.5501 - recall: 0.5797 - precision: 0.8353 - f1: 0.6843 - val_loss: 0.0095 - val_accuracy: 0.5501 - val_recall: 0.5835 - val_precision: 0.8337 - val_f1: 0.6864\n",
            "Epoch 12/200\n",
            "2029/2029 [==============================] - 11s 5ms/step - loss: 0.0095 - accuracy: 0.5489 - recall: 0.5849 - precision: 0.8341 - f1: 0.6875 - val_loss: 0.0095 - val_accuracy: 0.5488 - val_recall: 0.5881 - val_precision: 0.8327 - val_f1: 0.6892\n",
            "Epoch 13/200\n",
            "2029/2029 [==============================] - 11s 5ms/step - loss: 0.0094 - accuracy: 0.5483 - recall: 0.5906 - precision: 0.8342 - f1: 0.6914 - val_loss: 0.0094 - val_accuracy: 0.5466 - val_recall: 0.5851 - val_precision: 0.8390 - val_f1: 0.6893\n",
            "Epoch 14/200\n",
            "2029/2029 [==============================] - 11s 5ms/step - loss: 0.0093 - accuracy: 0.5475 - recall: 0.5943 - precision: 0.8338 - f1: 0.6938 - val_loss: 0.0093 - val_accuracy: 0.5469 - val_recall: 0.5946 - val_precision: 0.8331 - val_f1: 0.6938\n",
            "Epoch 15/200\n",
            "2029/2029 [==============================] - 11s 5ms/step - loss: 0.0092 - accuracy: 0.5474 - recall: 0.5978 - precision: 0.8332 - f1: 0.6960 - val_loss: 0.0093 - val_accuracy: 0.5429 - val_recall: 0.5956 - val_precision: 0.8350 - val_f1: 0.6952\n",
            "Epoch 16/200\n",
            "2029/2029 [==============================] - 11s 5ms/step - loss: 0.0092 - accuracy: 0.5461 - recall: 0.6009 - precision: 0.8324 - f1: 0.6978 - val_loss: 0.0092 - val_accuracy: 0.5456 - val_recall: 0.5956 - val_precision: 0.8366 - val_f1: 0.6957\n",
            "Epoch 17/200\n",
            "2029/2029 [==============================] - 11s 5ms/step - loss: 0.0091 - accuracy: 0.5458 - recall: 0.6039 - precision: 0.8329 - f1: 0.7000 - val_loss: 0.0092 - val_accuracy: 0.5426 - val_recall: 0.5971 - val_precision: 0.8375 - val_f1: 0.6970\n",
            "Epoch 18/200\n",
            "2029/2029 [==============================] - 11s 5ms/step - loss: 0.0091 - accuracy: 0.5450 - recall: 0.6058 - precision: 0.8320 - f1: 0.7010 - val_loss: 0.0091 - val_accuracy: 0.5434 - val_recall: 0.6040 - val_precision: 0.8329 - val_f1: 0.7001\n",
            "Epoch 19/200\n",
            "2029/2029 [==============================] - 11s 5ms/step - loss: 0.0090 - accuracy: 0.5444 - recall: 0.6085 - precision: 0.8323 - f1: 0.7029 - val_loss: 0.0091 - val_accuracy: 0.5445 - val_recall: 0.6028 - val_precision: 0.8352 - val_f1: 0.7001\n",
            "Epoch 20/200\n",
            "2029/2029 [==============================] - 11s 6ms/step - loss: 0.0090 - accuracy: 0.5437 - recall: 0.6101 - precision: 0.8317 - f1: 0.7038 - val_loss: 0.0091 - val_accuracy: 0.5401 - val_recall: 0.6122 - val_precision: 0.8282 - val_f1: 0.7039\n",
            "Epoch 21/200\n",
            "2029/2029 [==============================] - 11s 5ms/step - loss: 0.0090 - accuracy: 0.5429 - recall: 0.6120 - precision: 0.8320 - f1: 0.7051 - val_loss: 0.0090 - val_accuracy: 0.5397 - val_recall: 0.6138 - val_precision: 0.8282 - val_f1: 0.7049\n",
            "Epoch 22/200\n",
            "2029/2029 [==============================] - 11s 5ms/step - loss: 0.0089 - accuracy: 0.5434 - recall: 0.6144 - precision: 0.8318 - f1: 0.7066 - val_loss: 0.0090 - val_accuracy: 0.5445 - val_recall: 0.6140 - val_precision: 0.8291 - val_f1: 0.7054\n",
            "Epoch 23/200\n",
            "2029/2029 [==============================] - 11s 5ms/step - loss: 0.0089 - accuracy: 0.5422 - recall: 0.6150 - precision: 0.8313 - f1: 0.7068 - val_loss: 0.0090 - val_accuracy: 0.5418 - val_recall: 0.6155 - val_precision: 0.8285 - val_f1: 0.7062\n",
            "Epoch 24/200\n",
            "2029/2029 [==============================] - 11s 5ms/step - loss: 0.0089 - accuracy: 0.5418 - recall: 0.6159 - precision: 0.8312 - f1: 0.7074 - val_loss: 0.0090 - val_accuracy: 0.5372 - val_recall: 0.6123 - val_precision: 0.8321 - val_f1: 0.7053\n",
            "Epoch 25/200\n",
            "2029/2029 [==============================] - 11s 5ms/step - loss: 0.0089 - accuracy: 0.5414 - recall: 0.6178 - precision: 0.8312 - f1: 0.7086 - val_loss: 0.0090 - val_accuracy: 0.5505 - val_recall: 0.6170 - val_precision: 0.8287 - val_f1: 0.7072\n",
            "Epoch 26/200\n",
            "2029/2029 [==============================] - 11s 5ms/step - loss: 0.0089 - accuracy: 0.5417 - recall: 0.6184 - precision: 0.8308 - f1: 0.7089 - val_loss: 0.0089 - val_accuracy: 0.5436 - val_recall: 0.6203 - val_precision: 0.8266 - val_f1: 0.7086\n",
            "Epoch 27/200\n",
            "2029/2029 [==============================] - 11s 5ms/step - loss: 0.0088 - accuracy: 0.5418 - recall: 0.6198 - precision: 0.8311 - f1: 0.7099 - val_loss: 0.0089 - val_accuracy: 0.5362 - val_recall: 0.6167 - val_precision: 0.8302 - val_f1: 0.7075\n",
            "Epoch 28/200\n",
            "2029/2029 [==============================] - 11s 5ms/step - loss: 0.0088 - accuracy: 0.5408 - recall: 0.6208 - precision: 0.8309 - f1: 0.7105 - val_loss: 0.0089 - val_accuracy: 0.5386 - val_recall: 0.6151 - val_precision: 0.8327 - val_f1: 0.7074\n",
            "Epoch 29/200\n",
            "2029/2029 [==============================] - 11s 5ms/step - loss: 0.0088 - accuracy: 0.5408 - recall: 0.6215 - precision: 0.8308 - f1: 0.7110 - val_loss: 0.0089 - val_accuracy: 0.5378 - val_recall: 0.6173 - val_precision: 0.8314 - val_f1: 0.7084\n",
            "Epoch 30/200\n",
            "2029/2029 [==============================] - 11s 6ms/step - loss: 0.0088 - accuracy: 0.5402 - recall: 0.6228 - precision: 0.8308 - f1: 0.7117 - val_loss: 0.0089 - val_accuracy: 0.5413 - val_recall: 0.6248 - val_precision: 0.8255 - val_f1: 0.7111\n",
            "Epoch 31/200\n",
            "2029/2029 [==============================] - 11s 6ms/step - loss: 0.0088 - accuracy: 0.5393 - recall: 0.6232 - precision: 0.8307 - f1: 0.7120 - val_loss: 0.0089 - val_accuracy: 0.5370 - val_recall: 0.6189 - val_precision: 0.8312 - val_f1: 0.7094\n",
            "Epoch 32/200\n",
            "2029/2029 [==============================] - 11s 6ms/step - loss: 0.0088 - accuracy: 0.5396 - recall: 0.6237 - precision: 0.8303 - f1: 0.7122 - val_loss: 0.0089 - val_accuracy: 0.5386 - val_recall: 0.6238 - val_precision: 0.8275 - val_f1: 0.7112\n",
            "Epoch 33/200\n",
            "2029/2029 [==============================] - 12s 6ms/step - loss: 0.0087 - accuracy: 0.5398 - recall: 0.6250 - precision: 0.8309 - f1: 0.7133 - val_loss: 0.0088 - val_accuracy: 0.5410 - val_recall: 0.6249 - val_precision: 0.8271 - val_f1: 0.7118\n",
            "Epoch 34/200\n",
            "2029/2029 [==============================] - 11s 6ms/step - loss: 0.0087 - accuracy: 0.5402 - recall: 0.6254 - precision: 0.8306 - f1: 0.7134 - val_loss: 0.0088 - val_accuracy: 0.5390 - val_recall: 0.6235 - val_precision: 0.8291 - val_f1: 0.7116\n",
            "Epoch 35/200\n",
            "2029/2029 [==============================] - 11s 6ms/step - loss: 0.0087 - accuracy: 0.5381 - recall: 0.6259 - precision: 0.8307 - f1: 0.7138 - val_loss: 0.0088 - val_accuracy: 0.5405 - val_recall: 0.6210 - val_precision: 0.8311 - val_f1: 0.7107\n",
            "Epoch 36/200\n",
            "2029/2029 [==============================] - 11s 5ms/step - loss: 0.0087 - accuracy: 0.5388 - recall: 0.6264 - precision: 0.8308 - f1: 0.7141 - val_loss: 0.0088 - val_accuracy: 0.5378 - val_recall: 0.6277 - val_precision: 0.8257 - val_f1: 0.7131\n",
            "Epoch 37/200\n",
            "2029/2029 [==============================] - 12s 6ms/step - loss: 0.0087 - accuracy: 0.5391 - recall: 0.6271 - precision: 0.8301 - f1: 0.7143 - val_loss: 0.0088 - val_accuracy: 0.5392 - val_recall: 0.6243 - val_precision: 0.8293 - val_f1: 0.7123\n",
            "Epoch 38/200\n",
            "2029/2029 [==============================] - 12s 6ms/step - loss: 0.0087 - accuracy: 0.5388 - recall: 0.6279 - precision: 0.8308 - f1: 0.7151 - val_loss: 0.0088 - val_accuracy: 0.5339 - val_recall: 0.6316 - val_precision: 0.8236 - val_f1: 0.7148\n",
            "Epoch 39/200\n",
            "2029/2029 [==============================] - 11s 5ms/step - loss: 0.0087 - accuracy: 0.5379 - recall: 0.6283 - precision: 0.8306 - f1: 0.7153 - val_loss: 0.0088 - val_accuracy: 0.5371 - val_recall: 0.6251 - val_precision: 0.8294 - val_f1: 0.7128\n",
            "Epoch 40/200\n",
            "2029/2029 [==============================] - 11s 6ms/step - loss: 0.0087 - accuracy: 0.5384 - recall: 0.6287 - precision: 0.8307 - f1: 0.7156 - val_loss: 0.0088 - val_accuracy: 0.5359 - val_recall: 0.6221 - val_precision: 0.8323 - val_f1: 0.7118\n",
            "Epoch 41/200\n",
            "2029/2029 [==============================] - 11s 5ms/step - loss: 0.0087 - accuracy: 0.5382 - recall: 0.6291 - precision: 0.8308 - f1: 0.7159 - val_loss: 0.0088 - val_accuracy: 0.5403 - val_recall: 0.6266 - val_precision: 0.8291 - val_f1: 0.7136\n",
            "Epoch 42/200\n",
            "2029/2029 [==============================] - 11s 5ms/step - loss: 0.0086 - accuracy: 0.5376 - recall: 0.6301 - precision: 0.8308 - f1: 0.7165 - val_loss: 0.0088 - val_accuracy: 0.5363 - val_recall: 0.6312 - val_precision: 0.8254 - val_f1: 0.7152\n",
            "Epoch 43/200\n",
            "2029/2029 [==============================] - 11s 5ms/step - loss: 0.0086 - accuracy: 0.5372 - recall: 0.6302 - precision: 0.8305 - f1: 0.7165 - val_loss: 0.0088 - val_accuracy: 0.5414 - val_recall: 0.6315 - val_precision: 0.8255 - val_f1: 0.7155\n",
            "Epoch 44/200\n",
            "2029/2029 [==============================] - 11s 6ms/step - loss: 0.0086 - accuracy: 0.5375 - recall: 0.6300 - precision: 0.8307 - f1: 0.7164 - val_loss: 0.0088 - val_accuracy: 0.5333 - val_recall: 0.6266 - val_precision: 0.8295 - val_f1: 0.7138\n",
            "Epoch 45/200\n",
            "2029/2029 [==============================] - 11s 6ms/step - loss: 0.0086 - accuracy: 0.5383 - recall: 0.6311 - precision: 0.8308 - f1: 0.7172 - val_loss: 0.0087 - val_accuracy: 0.5410 - val_recall: 0.6354 - val_precision: 0.8221 - val_f1: 0.7167\n",
            "Epoch 46/200\n",
            "2029/2029 [==============================] - 11s 6ms/step - loss: 0.0086 - accuracy: 0.5379 - recall: 0.6317 - precision: 0.8310 - f1: 0.7176 - val_loss: 0.0087 - val_accuracy: 0.5375 - val_recall: 0.6257 - val_precision: 0.8308 - val_f1: 0.7137\n",
            "Epoch 47/200\n",
            "2029/2029 [==============================] - 11s 6ms/step - loss: 0.0086 - accuracy: 0.5373 - recall: 0.6319 - precision: 0.8308 - f1: 0.7177 - val_loss: 0.0087 - val_accuracy: 0.5394 - val_recall: 0.6298 - val_precision: 0.8279 - val_f1: 0.7152\n",
            "Epoch 48/200\n",
            "2029/2029 [==============================] - 11s 6ms/step - loss: 0.0086 - accuracy: 0.5371 - recall: 0.6320 - precision: 0.8306 - f1: 0.7177 - val_loss: 0.0087 - val_accuracy: 0.5368 - val_recall: 0.6287 - val_precision: 0.8292 - val_f1: 0.7150\n",
            "Epoch 49/200\n",
            "2029/2029 [==============================] - 11s 6ms/step - loss: 0.0086 - accuracy: 0.5365 - recall: 0.6319 - precision: 0.8309 - f1: 0.7177 - val_loss: 0.0087 - val_accuracy: 0.5335 - val_recall: 0.6279 - val_precision: 0.8300 - val_f1: 0.7148\n",
            "Epoch 50/200\n",
            "2029/2029 [==============================] - 11s 6ms/step - loss: 0.0086 - accuracy: 0.5366 - recall: 0.6327 - precision: 0.8312 - f1: 0.7184 - val_loss: 0.0087 - val_accuracy: 0.5380 - val_recall: 0.6280 - val_precision: 0.8296 - val_f1: 0.7147\n",
            "Epoch 51/200\n",
            "2029/2029 [==============================] - 11s 6ms/step - loss: 0.0086 - accuracy: 0.5375 - recall: 0.6332 - precision: 0.8305 - f1: 0.7184 - val_loss: 0.0087 - val_accuracy: 0.5330 - val_recall: 0.6278 - val_precision: 0.8304 - val_f1: 0.7149\n",
            "Epoch 52/200\n",
            "2029/2029 [==============================] - 11s 6ms/step - loss: 0.0086 - accuracy: 0.5367 - recall: 0.6336 - precision: 0.8306 - f1: 0.7187 - val_loss: 0.0087 - val_accuracy: 0.5361 - val_recall: 0.6288 - val_precision: 0.8300 - val_f1: 0.7154\n",
            "Epoch 53/200\n",
            "2029/2029 [==============================] - 11s 6ms/step - loss: 0.0086 - accuracy: 0.5363 - recall: 0.6335 - precision: 0.8309 - f1: 0.7188 - val_loss: 0.0087 - val_accuracy: 0.5337 - val_recall: 0.6288 - val_precision: 0.8301 - val_f1: 0.7154\n",
            "Epoch 54/200\n",
            "2029/2029 [==============================] - 11s 6ms/step - loss: 0.0086 - accuracy: 0.5372 - recall: 0.6341 - precision: 0.8312 - f1: 0.7193 - val_loss: 0.0087 - val_accuracy: 0.5319 - val_recall: 0.6308 - val_precision: 0.8284 - val_f1: 0.7161\n",
            "Epoch 55/200\n",
            "2029/2029 [==============================] - 11s 6ms/step - loss: 0.0086 - accuracy: 0.5364 - recall: 0.6344 - precision: 0.8307 - f1: 0.7193 - val_loss: 0.0087 - val_accuracy: 0.5346 - val_recall: 0.6376 - val_precision: 0.8229 - val_f1: 0.7183\n",
            "Epoch 56/200\n",
            "2029/2029 [==============================] - 11s 6ms/step - loss: 0.0086 - accuracy: 0.5360 - recall: 0.6345 - precision: 0.8308 - f1: 0.7194 - val_loss: 0.0087 - val_accuracy: 0.5342 - val_recall: 0.6355 - val_precision: 0.8244 - val_f1: 0.7176\n",
            "Epoch 57/200\n",
            "2029/2029 [==============================] - 11s 6ms/step - loss: 0.0085 - accuracy: 0.5364 - recall: 0.6351 - precision: 0.8311 - f1: 0.7199 - val_loss: 0.0087 - val_accuracy: 0.5366 - val_recall: 0.6297 - val_precision: 0.8295 - val_f1: 0.7158\n",
            "Epoch 58/200\n",
            "2029/2029 [==============================] - 11s 6ms/step - loss: 0.0085 - accuracy: 0.5369 - recall: 0.6352 - precision: 0.8311 - f1: 0.7200 - val_loss: 0.0087 - val_accuracy: 0.5339 - val_recall: 0.6322 - val_precision: 0.8280 - val_f1: 0.7168\n",
            "Epoch 59/200\n",
            "2029/2029 [==============================] - 11s 5ms/step - loss: 0.0085 - accuracy: 0.5350 - recall: 0.6351 - precision: 0.8309 - f1: 0.7198 - val_loss: 0.0087 - val_accuracy: 0.5329 - val_recall: 0.6304 - val_precision: 0.8295 - val_f1: 0.7163\n",
            "Epoch 60/200\n",
            "2029/2029 [==============================] - 11s 6ms/step - loss: 0.0085 - accuracy: 0.5364 - recall: 0.6354 - precision: 0.8309 - f1: 0.7200 - val_loss: 0.0087 - val_accuracy: 0.5344 - val_recall: 0.6318 - val_precision: 0.8285 - val_f1: 0.7167\n",
            "Epoch 61/200\n",
            "2029/2029 [==============================] - 11s 6ms/step - loss: 0.0085 - accuracy: 0.5363 - recall: 0.6354 - precision: 0.8305 - f1: 0.7199 - val_loss: 0.0087 - val_accuracy: 0.5358 - val_recall: 0.6313 - val_precision: 0.8289 - val_f1: 0.7166\n",
            "Epoch 62/200\n",
            "2029/2029 [==============================] - 11s 5ms/step - loss: 0.0085 - accuracy: 0.5353 - recall: 0.6361 - precision: 0.8313 - f1: 0.7206 - val_loss: 0.0087 - val_accuracy: 0.5410 - val_recall: 0.6351 - val_precision: 0.8259 - val_f1: 0.7179\n",
            "Epoch 63/200\n",
            "2029/2029 [==============================] - 11s 6ms/step - loss: 0.0085 - accuracy: 0.5361 - recall: 0.6359 - precision: 0.8306 - f1: 0.7202 - val_loss: 0.0087 - val_accuracy: 0.5372 - val_recall: 0.6361 - val_precision: 0.8260 - val_f1: 0.7186\n",
            "Epoch 64/200\n",
            "2029/2029 [==============================] - 11s 6ms/step - loss: 0.0085 - accuracy: 0.5361 - recall: 0.6362 - precision: 0.8307 - f1: 0.7204 - val_loss: 0.0087 - val_accuracy: 0.5345 - val_recall: 0.6325 - val_precision: 0.8285 - val_f1: 0.7172\n",
            "Epoch 65/200\n",
            "2029/2029 [==============================] - 11s 6ms/step - loss: 0.0085 - accuracy: 0.5353 - recall: 0.6367 - precision: 0.8310 - f1: 0.7209 - val_loss: 0.0087 - val_accuracy: 0.5354 - val_recall: 0.6331 - val_precision: 0.8284 - val_f1: 0.7175\n",
            "Epoch 66/200\n",
            "2029/2029 [==============================] - 11s 6ms/step - loss: 0.0085 - accuracy: 0.5353 - recall: 0.6370 - precision: 0.8312 - f1: 0.7212 - val_loss: 0.0086 - val_accuracy: 0.5304 - val_recall: 0.6364 - val_precision: 0.8255 - val_f1: 0.7186\n",
            "Epoch 67/200\n",
            "2029/2029 [==============================] - 11s 6ms/step - loss: 0.0085 - accuracy: 0.5356 - recall: 0.6376 - precision: 0.8313 - f1: 0.7216 - val_loss: 0.0086 - val_accuracy: 0.5327 - val_recall: 0.6385 - val_precision: 0.8239 - val_f1: 0.7194\n",
            "Epoch 68/200\n",
            "2029/2029 [==============================] - 11s 6ms/step - loss: 0.0085 - accuracy: 0.5343 - recall: 0.6379 - precision: 0.8315 - f1: 0.7218 - val_loss: 0.0086 - val_accuracy: 0.5361 - val_recall: 0.6354 - val_precision: 0.8267 - val_f1: 0.7184\n",
            "Epoch 69/200\n",
            "2029/2029 [==============================] - 11s 6ms/step - loss: 0.0085 - accuracy: 0.5352 - recall: 0.6376 - precision: 0.8315 - f1: 0.7216 - val_loss: 0.0086 - val_accuracy: 0.5348 - val_recall: 0.6354 - val_precision: 0.8269 - val_f1: 0.7185\n",
            "Epoch 70/200\n",
            "2029/2029 [==============================] - 11s 6ms/step - loss: 0.0085 - accuracy: 0.5358 - recall: 0.6375 - precision: 0.8310 - f1: 0.7214 - val_loss: 0.0086 - val_accuracy: 0.5345 - val_recall: 0.6328 - val_precision: 0.8298 - val_f1: 0.7179\n",
            "Epoch 71/200\n",
            "2029/2029 [==============================] - 11s 6ms/step - loss: 0.0085 - accuracy: 0.5347 - recall: 0.6379 - precision: 0.8310 - f1: 0.7216 - val_loss: 0.0086 - val_accuracy: 0.5347 - val_recall: 0.6387 - val_precision: 0.8240 - val_f1: 0.7195\n",
            "Epoch 72/200\n",
            "2029/2029 [==============================] - 11s 6ms/step - loss: 0.0085 - accuracy: 0.5349 - recall: 0.6382 - precision: 0.8313 - f1: 0.7220 - val_loss: 0.0086 - val_accuracy: 0.5348 - val_recall: 0.6399 - val_precision: 0.8235 - val_f1: 0.7201\n",
            "Epoch 73/200\n",
            "2029/2029 [==============================] - 11s 6ms/step - loss: 0.0085 - accuracy: 0.5339 - recall: 0.6387 - precision: 0.8310 - f1: 0.7222 - val_loss: 0.0086 - val_accuracy: 0.5299 - val_recall: 0.6336 - val_precision: 0.8288 - val_f1: 0.7180\n",
            "Epoch 74/200\n",
            "2029/2029 [==============================] - 11s 6ms/step - loss: 0.0085 - accuracy: 0.5354 - recall: 0.6385 - precision: 0.8316 - f1: 0.7222 - val_loss: 0.0086 - val_accuracy: 0.5308 - val_recall: 0.6390 - val_precision: 0.8247 - val_f1: 0.7199\n",
            "Epoch 75/200\n",
            "2029/2029 [==============================] - 11s 5ms/step - loss: 0.0084 - accuracy: 0.5346 - recall: 0.6392 - precision: 0.8315 - f1: 0.7227 - val_loss: 0.0086 - val_accuracy: 0.5291 - val_recall: 0.6337 - val_precision: 0.8290 - val_f1: 0.7182\n",
            "Epoch 76/200\n",
            "2029/2029 [==============================] - 11s 5ms/step - loss: 0.0085 - accuracy: 0.5347 - recall: 0.6387 - precision: 0.8316 - f1: 0.7224 - val_loss: 0.0086 - val_accuracy: 0.5313 - val_recall: 0.6282 - val_precision: 0.8338 - val_f1: 0.7164\n",
            "Epoch 77/200\n",
            "2029/2029 [==============================] - 11s 5ms/step - loss: 0.0084 - accuracy: 0.5350 - recall: 0.6392 - precision: 0.8316 - f1: 0.7227 - val_loss: 0.0086 - val_accuracy: 0.5360 - val_recall: 0.6347 - val_precision: 0.8288 - val_f1: 0.7187\n",
            "Epoch 78/200\n",
            "2029/2029 [==============================] - 11s 6ms/step - loss: 0.0084 - accuracy: 0.5352 - recall: 0.6392 - precision: 0.8315 - f1: 0.7226 - val_loss: 0.0086 - val_accuracy: 0.5308 - val_recall: 0.6404 - val_precision: 0.8238 - val_f1: 0.7205\n",
            "Epoch 79/200\n",
            "2029/2029 [==============================] - 11s 5ms/step - loss: 0.0084 - accuracy: 0.5353 - recall: 0.6391 - precision: 0.8312 - f1: 0.7225 - val_loss: 0.0086 - val_accuracy: 0.5312 - val_recall: 0.6390 - val_precision: 0.8251 - val_f1: 0.7201\n",
            "Epoch 80/200\n",
            "2029/2029 [==============================] - 11s 5ms/step - loss: 0.0084 - accuracy: 0.5351 - recall: 0.6396 - precision: 0.8315 - f1: 0.7230 - val_loss: 0.0086 - val_accuracy: 0.5272 - val_recall: 0.6315 - val_precision: 0.8311 - val_f1: 0.7175\n",
            "Epoch 81/200\n",
            "2029/2029 [==============================] - 11s 5ms/step - loss: 0.0084 - accuracy: 0.5334 - recall: 0.6395 - precision: 0.8313 - f1: 0.7228 - val_loss: 0.0086 - val_accuracy: 0.5346 - val_recall: 0.6360 - val_precision: 0.8281 - val_f1: 0.7193\n",
            "Epoch 82/200\n",
            "2029/2029 [==============================] - 11s 6ms/step - loss: 0.0084 - accuracy: 0.5338 - recall: 0.6397 - precision: 0.8310 - f1: 0.7228 - val_loss: 0.0086 - val_accuracy: 0.5327 - val_recall: 0.6357 - val_precision: 0.8283 - val_f1: 0.7192\n",
            "Epoch 83/200\n",
            "2029/2029 [==============================] - 12s 6ms/step - loss: 0.0084 - accuracy: 0.5352 - recall: 0.6404 - precision: 0.8321 - f1: 0.7237 - val_loss: 0.0086 - val_accuracy: 0.5362 - val_recall: 0.6390 - val_precision: 0.8256 - val_f1: 0.7203\n",
            "Epoch 84/200\n",
            "2029/2029 [==============================] - 12s 6ms/step - loss: 0.0084 - accuracy: 0.5341 - recall: 0.6403 - precision: 0.8316 - f1: 0.7234 - val_loss: 0.0086 - val_accuracy: 0.5303 - val_recall: 0.6376 - val_precision: 0.8273 - val_f1: 0.7200\n",
            "Epoch 85/200\n",
            "2029/2029 [==============================] - 12s 6ms/step - loss: 0.0084 - accuracy: 0.5357 - recall: 0.6409 - precision: 0.8318 - f1: 0.7238 - val_loss: 0.0086 - val_accuracy: 0.5332 - val_recall: 0.6303 - val_precision: 0.8330 - val_f1: 0.7175\n",
            "Epoch 86/200\n",
            "2029/2029 [==============================] - 12s 6ms/step - loss: 0.0084 - accuracy: 0.5339 - recall: 0.6402 - precision: 0.8317 - f1: 0.7234 - val_loss: 0.0086 - val_accuracy: 0.5297 - val_recall: 0.6327 - val_precision: 0.8312 - val_f1: 0.7184\n",
            "Epoch 87/200\n",
            "2029/2029 [==============================] - 12s 6ms/step - loss: 0.0084 - accuracy: 0.5333 - recall: 0.6408 - precision: 0.8318 - f1: 0.7238 - val_loss: 0.0086 - val_accuracy: 0.5298 - val_recall: 0.6362 - val_precision: 0.8283 - val_f1: 0.7195\n",
            "Epoch 88/200\n",
            "2029/2029 [==============================] - 12s 6ms/step - loss: 0.0084 - accuracy: 0.5340 - recall: 0.6405 - precision: 0.8315 - f1: 0.7235 - val_loss: 0.0086 - val_accuracy: 0.5345 - val_recall: 0.6423 - val_precision: 0.8225 - val_f1: 0.7212\n",
            "Epoch 89/200\n",
            "2029/2029 [==============================] - 12s 6ms/step - loss: 0.0084 - accuracy: 0.5341 - recall: 0.6412 - precision: 0.8321 - f1: 0.7242 - val_loss: 0.0086 - val_accuracy: 0.5347 - val_recall: 0.6378 - val_precision: 0.8274 - val_f1: 0.7202\n",
            "Epoch 90/200\n",
            "2029/2029 [==============================] - 12s 6ms/step - loss: 0.0084 - accuracy: 0.5336 - recall: 0.6412 - precision: 0.8319 - f1: 0.7241 - val_loss: 0.0086 - val_accuracy: 0.5355 - val_recall: 0.6405 - val_precision: 0.8246 - val_f1: 0.7209\n",
            "Epoch 91/200\n",
            "2029/2029 [==============================] - 11s 6ms/step - loss: 0.0084 - accuracy: 0.5351 - recall: 0.6415 - precision: 0.8321 - f1: 0.7243 - val_loss: 0.0086 - val_accuracy: 0.5316 - val_recall: 0.6363 - val_precision: 0.8285 - val_f1: 0.7197\n",
            "Epoch 92/200\n",
            "2029/2029 [==============================] - 12s 6ms/step - loss: 0.0084 - accuracy: 0.5332 - recall: 0.6414 - precision: 0.8323 - f1: 0.7243 - val_loss: 0.0086 - val_accuracy: 0.5326 - val_recall: 0.6326 - val_precision: 0.8317 - val_f1: 0.7185\n",
            "Epoch 93/200\n",
            "2029/2029 [==============================] - 12s 6ms/step - loss: 0.0084 - accuracy: 0.5341 - recall: 0.6411 - precision: 0.8317 - f1: 0.7240 - val_loss: 0.0086 - val_accuracy: 0.5263 - val_recall: 0.6374 - val_precision: 0.8275 - val_f1: 0.7200\n",
            "Epoch 94/200\n",
            "2029/2029 [==============================] - 12s 6ms/step - loss: 0.0084 - accuracy: 0.5336 - recall: 0.6412 - precision: 0.8314 - f1: 0.7239 - val_loss: 0.0086 - val_accuracy: 0.5361 - val_recall: 0.6405 - val_precision: 0.8255 - val_f1: 0.7212\n",
            "Epoch 95/200\n",
            "2029/2029 [==============================] - 11s 6ms/step - loss: 0.0084 - accuracy: 0.5334 - recall: 0.6417 - precision: 0.8317 - f1: 0.7243 - val_loss: 0.0086 - val_accuracy: 0.5349 - val_recall: 0.6330 - val_precision: 0.8319 - val_f1: 0.7188\n",
            "Epoch 96/200\n",
            "2029/2029 [==============================] - 11s 6ms/step - loss: 0.0084 - accuracy: 0.5337 - recall: 0.6419 - precision: 0.8322 - f1: 0.7246 - val_loss: 0.0086 - val_accuracy: 0.5286 - val_recall: 0.6374 - val_precision: 0.8281 - val_f1: 0.7202\n",
            "Epoch 97/200\n",
            "2029/2029 [==============================] - 12s 6ms/step - loss: 0.0084 - accuracy: 0.5340 - recall: 0.6414 - precision: 0.8316 - f1: 0.7241 - val_loss: 0.0086 - val_accuracy: 0.5351 - val_recall: 0.6378 - val_precision: 0.8274 - val_f1: 0.7202\n",
            "Epoch 98/200\n",
            "2029/2029 [==============================] - 11s 6ms/step - loss: 0.0084 - accuracy: 0.5324 - recall: 0.6419 - precision: 0.8320 - f1: 0.7246 - val_loss: 0.0086 - val_accuracy: 0.5289 - val_recall: 0.6376 - val_precision: 0.8283 - val_f1: 0.7204\n",
            "Epoch 99/200\n",
            "2029/2029 [==============================] - 11s 6ms/step - loss: 0.0084 - accuracy: 0.5327 - recall: 0.6422 - precision: 0.8322 - f1: 0.7248 - val_loss: 0.0086 - val_accuracy: 0.5343 - val_recall: 0.6311 - val_precision: 0.8335 - val_f1: 0.7182\n",
            "Epoch 100/200\n",
            "2029/2029 [==============================] - 12s 6ms/step - loss: 0.0084 - accuracy: 0.5334 - recall: 0.6424 - precision: 0.8324 - f1: 0.7250 - val_loss: 0.0086 - val_accuracy: 0.5299 - val_recall: 0.6440 - val_precision: 0.8230 - val_f1: 0.7224\n",
            "Epoch 101/200\n",
            "2029/2029 [==============================] - 11s 6ms/step - loss: 0.0084 - accuracy: 0.5322 - recall: 0.6422 - precision: 0.8321 - f1: 0.7248 - val_loss: 0.0086 - val_accuracy: 0.5331 - val_recall: 0.6330 - val_precision: 0.8319 - val_f1: 0.7188\n",
            "Epoch 102/200\n",
            "2029/2029 [==============================] - 12s 6ms/step - loss: 0.0084 - accuracy: 0.5329 - recall: 0.6426 - precision: 0.8320 - f1: 0.7250 - val_loss: 0.0086 - val_accuracy: 0.5279 - val_recall: 0.6377 - val_precision: 0.8280 - val_f1: 0.7204\n",
            "Epoch 103/200\n",
            "2029/2029 [==============================] - 12s 6ms/step - loss: 0.0084 - accuracy: 0.5333 - recall: 0.6429 - precision: 0.8319 - f1: 0.7252 - val_loss: 0.0086 - val_accuracy: 0.5342 - val_recall: 0.6381 - val_precision: 0.8279 - val_f1: 0.7206\n",
            "Epoch 104/200\n",
            "2029/2029 [==============================] - 12s 6ms/step - loss: 0.0084 - accuracy: 0.5335 - recall: 0.6427 - precision: 0.8323 - f1: 0.7252 - val_loss: 0.0086 - val_accuracy: 0.5324 - val_recall: 0.6412 - val_precision: 0.8256 - val_f1: 0.7217\n",
            "Epoch 105/200\n",
            "2029/2029 [==============================] - 11s 6ms/step - loss: 0.0084 - accuracy: 0.5329 - recall: 0.6431 - precision: 0.8322 - f1: 0.7254 - val_loss: 0.0086 - val_accuracy: 0.5253 - val_recall: 0.6376 - val_precision: 0.8284 - val_f1: 0.7205\n",
            "Epoch 106/200\n",
            "2029/2029 [==============================] - 12s 6ms/step - loss: 0.0083 - accuracy: 0.5323 - recall: 0.6431 - precision: 0.8319 - f1: 0.7253 - val_loss: 0.0086 - val_accuracy: 0.5329 - val_recall: 0.6427 - val_precision: 0.8243 - val_f1: 0.7221\n",
            "Epoch 107/200\n",
            "2029/2029 [==============================] - 12s 6ms/step - loss: 0.0083 - accuracy: 0.5318 - recall: 0.6432 - precision: 0.8325 - f1: 0.7256 - val_loss: 0.0086 - val_accuracy: 0.5298 - val_recall: 0.6322 - val_precision: 0.8332 - val_f1: 0.7188\n",
            "Epoch 108/200\n",
            "2029/2029 [==============================] - 12s 6ms/step - loss: 0.0083 - accuracy: 0.5329 - recall: 0.6432 - precision: 0.8326 - f1: 0.7256 - val_loss: 0.0085 - val_accuracy: 0.5304 - val_recall: 0.6382 - val_precision: 0.8283 - val_f1: 0.7208\n",
            "Epoch 109/200\n",
            "2029/2029 [==============================] - 11s 6ms/step - loss: 0.0083 - accuracy: 0.5323 - recall: 0.6433 - precision: 0.8327 - f1: 0.7258 - val_loss: 0.0085 - val_accuracy: 0.5305 - val_recall: 0.6370 - val_precision: 0.8296 - val_f1: 0.7205\n",
            "Epoch 110/200\n",
            "2029/2029 [==============================] - 12s 6ms/step - loss: 0.0083 - accuracy: 0.5329 - recall: 0.6434 - precision: 0.8324 - f1: 0.7257 - val_loss: 0.0085 - val_accuracy: 0.5217 - val_recall: 0.6362 - val_precision: 0.8297 - val_f1: 0.7201\n",
            "Epoch 111/200\n",
            "2029/2029 [==============================] - 12s 6ms/step - loss: 0.0083 - accuracy: 0.5322 - recall: 0.6434 - precision: 0.8319 - f1: 0.7255 - val_loss: 0.0085 - val_accuracy: 0.5307 - val_recall: 0.6371 - val_precision: 0.8295 - val_f1: 0.7206\n",
            "Epoch 112/200\n",
            "2029/2029 [==============================] - 12s 6ms/step - loss: 0.0083 - accuracy: 0.5326 - recall: 0.6441 - precision: 0.8324 - f1: 0.7261 - val_loss: 0.0085 - val_accuracy: 0.5326 - val_recall: 0.6378 - val_precision: 0.8292 - val_f1: 0.7209\n",
            "Epoch 113/200\n",
            "2029/2029 [==============================] - 12s 6ms/step - loss: 0.0083 - accuracy: 0.5325 - recall: 0.6445 - precision: 0.8331 - f1: 0.7267 - val_loss: 0.0085 - val_accuracy: 0.5369 - val_recall: 0.6463 - val_precision: 0.8216 - val_f1: 0.7234\n",
            "Epoch 114/200\n",
            "2029/2029 [==============================] - 12s 6ms/step - loss: 0.0083 - accuracy: 0.5318 - recall: 0.6444 - precision: 0.8325 - f1: 0.7264 - val_loss: 0.0085 - val_accuracy: 0.5347 - val_recall: 0.6480 - val_precision: 0.8198 - val_f1: 0.7237\n",
            "Epoch 115/200\n",
            "2029/2029 [==============================] - 12s 6ms/step - loss: 0.0083 - accuracy: 0.5327 - recall: 0.6440 - precision: 0.8328 - f1: 0.7262 - val_loss: 0.0085 - val_accuracy: 0.5294 - val_recall: 0.6393 - val_precision: 0.8283 - val_f1: 0.7215\n",
            "Epoch 116/200\n",
            "2029/2029 [==============================] - 12s 6ms/step - loss: 0.0083 - accuracy: 0.5324 - recall: 0.6436 - precision: 0.8325 - f1: 0.7259 - val_loss: 0.0085 - val_accuracy: 0.5297 - val_recall: 0.6394 - val_precision: 0.8280 - val_f1: 0.7215\n",
            "Epoch 117/200\n",
            "2029/2029 [==============================] - 12s 6ms/step - loss: 0.0083 - accuracy: 0.5323 - recall: 0.6437 - precision: 0.8323 - f1: 0.7258 - val_loss: 0.0085 - val_accuracy: 0.5276 - val_recall: 0.6431 - val_precision: 0.8248 - val_f1: 0.7225\n",
            "Epoch 118/200\n",
            "2029/2029 [==============================] - 12s 6ms/step - loss: 0.0083 - accuracy: 0.5326 - recall: 0.6447 - precision: 0.8326 - f1: 0.7266 - val_loss: 0.0085 - val_accuracy: 0.5328 - val_recall: 0.6393 - val_precision: 0.8281 - val_f1: 0.7214\n",
            "Epoch 119/200\n",
            "2029/2029 [==============================] - 12s 6ms/step - loss: 0.0083 - accuracy: 0.5329 - recall: 0.6446 - precision: 0.8323 - f1: 0.7264 - val_loss: 0.0085 - val_accuracy: 0.5297 - val_recall: 0.6376 - val_precision: 0.8297 - val_f1: 0.7210\n",
            "Epoch 120/200\n",
            "2029/2029 [==============================] - 12s 6ms/step - loss: 0.0083 - accuracy: 0.5317 - recall: 0.6440 - precision: 0.8326 - f1: 0.7262 - val_loss: 0.0085 - val_accuracy: 0.5329 - val_recall: 0.6439 - val_precision: 0.8242 - val_f1: 0.7229\n",
            "Epoch 121/200\n",
            "2029/2029 [==============================] - 12s 6ms/step - loss: 0.0083 - accuracy: 0.5317 - recall: 0.6449 - precision: 0.8327 - f1: 0.7267 - val_loss: 0.0085 - val_accuracy: 0.5286 - val_recall: 0.6425 - val_precision: 0.8258 - val_f1: 0.7226\n",
            "Epoch 122/200\n",
            "2029/2029 [==============================] - 12s 6ms/step - loss: 0.0083 - accuracy: 0.5312 - recall: 0.6447 - precision: 0.8328 - f1: 0.7267 - val_loss: 0.0085 - val_accuracy: 0.5286 - val_recall: 0.6383 - val_precision: 0.8290 - val_f1: 0.7212\n",
            "Epoch 123/200\n",
            "2029/2029 [==============================] - 12s 6ms/step - loss: 0.0083 - accuracy: 0.5322 - recall: 0.6453 - precision: 0.8328 - f1: 0.7270 - val_loss: 0.0085 - val_accuracy: 0.5279 - val_recall: 0.6452 - val_precision: 0.8236 - val_f1: 0.7234\n",
            "Epoch 124/200\n",
            "2029/2029 [==============================] - 11s 6ms/step - loss: 0.0083 - accuracy: 0.5326 - recall: 0.6452 - precision: 0.8328 - f1: 0.7270 - val_loss: 0.0085 - val_accuracy: 0.5287 - val_recall: 0.6394 - val_precision: 0.8288 - val_f1: 0.7218\n",
            "Epoch 125/200\n",
            "2029/2029 [==============================] - 12s 6ms/step - loss: 0.0083 - accuracy: 0.5327 - recall: 0.6450 - precision: 0.8327 - f1: 0.7268 - val_loss: 0.0085 - val_accuracy: 0.5299 - val_recall: 0.6424 - val_precision: 0.8261 - val_f1: 0.7227\n",
            "Epoch 126/200\n",
            "2029/2029 [==============================] - 11s 6ms/step - loss: 0.0083 - accuracy: 0.5317 - recall: 0.6453 - precision: 0.8328 - f1: 0.7271 - val_loss: 0.0085 - val_accuracy: 0.5320 - val_recall: 0.6398 - val_precision: 0.8281 - val_f1: 0.7218\n",
            "Epoch 127/200\n",
            "2029/2029 [==============================] - 12s 6ms/step - loss: 0.0083 - accuracy: 0.5322 - recall: 0.6457 - precision: 0.8329 - f1: 0.7273 - val_loss: 0.0085 - val_accuracy: 0.5286 - val_recall: 0.6352 - val_precision: 0.8319 - val_f1: 0.7202\n",
            "Epoch 128/200\n",
            "2029/2029 [==============================] - 12s 6ms/step - loss: 0.0083 - accuracy: 0.5325 - recall: 0.6451 - precision: 0.8330 - f1: 0.7270 - val_loss: 0.0085 - val_accuracy: 0.5265 - val_recall: 0.6432 - val_precision: 0.8252 - val_f1: 0.7228\n",
            "Epoch 129/200\n",
            "2029/2029 [==============================] - 12s 6ms/step - loss: 0.0083 - accuracy: 0.5317 - recall: 0.6451 - precision: 0.8324 - f1: 0.7267 - val_loss: 0.0085 - val_accuracy: 0.5322 - val_recall: 0.6436 - val_precision: 0.8251 - val_f1: 0.7230\n",
            "Epoch 130/200\n",
            "2029/2029 [==============================] - 12s 6ms/step - loss: 0.0083 - accuracy: 0.5313 - recall: 0.6454 - precision: 0.8324 - f1: 0.7269 - val_loss: 0.0085 - val_accuracy: 0.5288 - val_recall: 0.6390 - val_precision: 0.8292 - val_f1: 0.7216\n",
            "Epoch 131/200\n",
            "2029/2029 [==============================] - 12s 6ms/step - loss: 0.0083 - accuracy: 0.5318 - recall: 0.6451 - precision: 0.8326 - f1: 0.7268 - val_loss: 0.0085 - val_accuracy: 0.5311 - val_recall: 0.6362 - val_precision: 0.8315 - val_f1: 0.7207\n",
            "Epoch 132/200\n",
            "2029/2029 [==============================] - 12s 6ms/step - loss: 0.0083 - accuracy: 0.5316 - recall: 0.6456 - precision: 0.8331 - f1: 0.7274 - val_loss: 0.0085 - val_accuracy: 0.5311 - val_recall: 0.6354 - val_precision: 0.8323 - val_f1: 0.7205\n",
            "Epoch 133/200\n",
            "2029/2029 [==============================] - 12s 6ms/step - loss: 0.0083 - accuracy: 0.5313 - recall: 0.6462 - precision: 0.8333 - f1: 0.7278 - val_loss: 0.0085 - val_accuracy: 0.5331 - val_recall: 0.6390 - val_precision: 0.8293 - val_f1: 0.7217\n",
            "Epoch 134/200\n",
            "2029/2029 [==============================] - 12s 6ms/step - loss: 0.0083 - accuracy: 0.5318 - recall: 0.6460 - precision: 0.8333 - f1: 0.7277 - val_loss: 0.0085 - val_accuracy: 0.5319 - val_recall: 0.6450 - val_precision: 0.8236 - val_f1: 0.7233\n",
            "Epoch 135/200\n",
            "2029/2029 [==============================] - 12s 6ms/step - loss: 0.0083 - accuracy: 0.5322 - recall: 0.6458 - precision: 0.8328 - f1: 0.7273 - val_loss: 0.0085 - val_accuracy: 0.5322 - val_recall: 0.6454 - val_precision: 0.8233 - val_f1: 0.7234\n",
            "Epoch 136/200\n",
            "2029/2029 [==============================] - 12s 6ms/step - loss: 0.0083 - accuracy: 0.5312 - recall: 0.6460 - precision: 0.8326 - f1: 0.7274 - val_loss: 0.0085 - val_accuracy: 0.5327 - val_recall: 0.6437 - val_precision: 0.8254 - val_f1: 0.7232\n",
            "Epoch 137/200\n",
            "2029/2029 [==============================] - 12s 6ms/step - loss: 0.0083 - accuracy: 0.5314 - recall: 0.6459 - precision: 0.8329 - f1: 0.7275 - val_loss: 0.0085 - val_accuracy: 0.5341 - val_recall: 0.6425 - val_precision: 0.8259 - val_f1: 0.7226\n",
            "Epoch 138/200\n",
            "2029/2029 [==============================] - 12s 6ms/step - loss: 0.0083 - accuracy: 0.5329 - recall: 0.6466 - precision: 0.8329 - f1: 0.7279 - val_loss: 0.0085 - val_accuracy: 0.5307 - val_recall: 0.6460 - val_precision: 0.8232 - val_f1: 0.7238\n",
            "Epoch 139/200\n",
            "2029/2029 [==============================] - 12s 6ms/step - loss: 0.0082 - accuracy: 0.5319 - recall: 0.6466 - precision: 0.8334 - f1: 0.7281 - val_loss: 0.0085 - val_accuracy: 0.5335 - val_recall: 0.6470 - val_precision: 0.8227 - val_f1: 0.7242\n",
            "Epoch 140/200\n",
            "2029/2029 [==============================] - 12s 6ms/step - loss: 0.0083 - accuracy: 0.5332 - recall: 0.6470 - precision: 0.8331 - f1: 0.7282 - val_loss: 0.0085 - val_accuracy: 0.5316 - val_recall: 0.6419 - val_precision: 0.8273 - val_f1: 0.7228\n",
            "Epoch 141/200\n",
            "2029/2029 [==============================] - 12s 6ms/step - loss: 0.0083 - accuracy: 0.5306 - recall: 0.6465 - precision: 0.8329 - f1: 0.7279 - val_loss: 0.0085 - val_accuracy: 0.5312 - val_recall: 0.6417 - val_precision: 0.8275 - val_f1: 0.7227\n",
            "Epoch 142/200\n",
            "2029/2029 [==============================] - 12s 6ms/step - loss: 0.0083 - accuracy: 0.5315 - recall: 0.6471 - precision: 0.8335 - f1: 0.7284 - val_loss: 0.0085 - val_accuracy: 0.5312 - val_recall: 0.6382 - val_precision: 0.8302 - val_f1: 0.7215\n",
            "Epoch 143/200\n",
            "2029/2029 [==============================] - 12s 6ms/step - loss: 0.0083 - accuracy: 0.5309 - recall: 0.6467 - precision: 0.8329 - f1: 0.7280 - val_loss: 0.0085 - val_accuracy: 0.5309 - val_recall: 0.6361 - val_precision: 0.8318 - val_f1: 0.7207\n",
            "Epoch 144/200\n",
            "2029/2029 [==============================] - 12s 6ms/step - loss: 0.0082 - accuracy: 0.5321 - recall: 0.6473 - precision: 0.8336 - f1: 0.7286 - val_loss: 0.0085 - val_accuracy: 0.5308 - val_recall: 0.6427 - val_precision: 0.8264 - val_f1: 0.7229\n",
            "Epoch 145/200\n",
            "2029/2029 [==============================] - 12s 6ms/step - loss: 0.0082 - accuracy: 0.5303 - recall: 0.6474 - precision: 0.8337 - f1: 0.7287 - val_loss: 0.0085 - val_accuracy: 0.5315 - val_recall: 0.6402 - val_precision: 0.8286 - val_f1: 0.7222\n",
            "Epoch 146/200\n",
            "2029/2029 [==============================] - 12s 6ms/step - loss: 0.0082 - accuracy: 0.5319 - recall: 0.6471 - precision: 0.8337 - f1: 0.7285 - val_loss: 0.0085 - val_accuracy: 0.5271 - val_recall: 0.6362 - val_precision: 0.8321 - val_f1: 0.7210\n",
            "Epoch 147/200\n",
            "2029/2029 [==============================] - 11s 6ms/step - loss: 0.0083 - accuracy: 0.5315 - recall: 0.6471 - precision: 0.8333 - f1: 0.7284 - val_loss: 0.0085 - val_accuracy: 0.5312 - val_recall: 0.6399 - val_precision: 0.8287 - val_f1: 0.7220\n",
            "Epoch 148/200\n",
            "2029/2029 [==============================] - 12s 6ms/step - loss: 0.0083 - accuracy: 0.5320 - recall: 0.6469 - precision: 0.8332 - f1: 0.7282 - val_loss: 0.0085 - val_accuracy: 0.5283 - val_recall: 0.6447 - val_precision: 0.8249 - val_f1: 0.7236\n",
            "Epoch 149/200\n",
            "2029/2029 [==============================] - 12s 6ms/step - loss: 0.0082 - accuracy: 0.5301 - recall: 0.6478 - precision: 0.8339 - f1: 0.7290 - val_loss: 0.0085 - val_accuracy: 0.5316 - val_recall: 0.6438 - val_precision: 0.8262 - val_f1: 0.7235\n",
            "Epoch 150/200\n",
            "2029/2029 [==============================] - 12s 6ms/step - loss: 0.0082 - accuracy: 0.5318 - recall: 0.6472 - precision: 0.8335 - f1: 0.7285 - val_loss: 0.0085 - val_accuracy: 0.5319 - val_recall: 0.6433 - val_precision: 0.8267 - val_f1: 0.7234\n",
            "Epoch 151/200\n",
            "2029/2029 [==============================] - 12s 6ms/step - loss: 0.0082 - accuracy: 0.5307 - recall: 0.6483 - precision: 0.8339 - f1: 0.7293 - val_loss: 0.0085 - val_accuracy: 0.5289 - val_recall: 0.6410 - val_precision: 0.8284 - val_f1: 0.7226\n",
            "Epoch 152/200\n",
            "2029/2029 [==============================] - 12s 6ms/step - loss: 0.0082 - accuracy: 0.5304 - recall: 0.6478 - precision: 0.8337 - f1: 0.7290 - val_loss: 0.0085 - val_accuracy: 0.5301 - val_recall: 0.6441 - val_precision: 0.8257 - val_f1: 0.7236\n",
            "Epoch 153/200\n",
            "2029/2029 [==============================] - 12s 6ms/step - loss: 0.0082 - accuracy: 0.5312 - recall: 0.6476 - precision: 0.8339 - f1: 0.7289 - val_loss: 0.0085 - val_accuracy: 0.5252 - val_recall: 0.6423 - val_precision: 0.8271 - val_f1: 0.7229\n",
            "Epoch 154/200\n",
            "2029/2029 [==============================] - 12s 6ms/step - loss: 0.0082 - accuracy: 0.5309 - recall: 0.6478 - precision: 0.8334 - f1: 0.7289 - val_loss: 0.0085 - val_accuracy: 0.5263 - val_recall: 0.6415 - val_precision: 0.8280 - val_f1: 0.7228\n",
            "Epoch 155/200\n",
            "2029/2029 [==============================] - 12s 6ms/step - loss: 0.0083 - accuracy: 0.5308 - recall: 0.6473 - precision: 0.8331 - f1: 0.7284 - val_loss: 0.0085 - val_accuracy: 0.5330 - val_recall: 0.6429 - val_precision: 0.8268 - val_f1: 0.7232\n",
            "Epoch 156/200\n",
            "2029/2029 [==============================] - 12s 6ms/step - loss: 0.0082 - accuracy: 0.5316 - recall: 0.6474 - precision: 0.8335 - f1: 0.7286 - val_loss: 0.0085 - val_accuracy: 0.5330 - val_recall: 0.6455 - val_precision: 0.8245 - val_f1: 0.7240\n",
            "Epoch 157/200\n",
            "2029/2029 [==============================] - 12s 6ms/step - loss: 0.0082 - accuracy: 0.5311 - recall: 0.6478 - precision: 0.8333 - f1: 0.7288 - val_loss: 0.0085 - val_accuracy: 0.5314 - val_recall: 0.6417 - val_precision: 0.8276 - val_f1: 0.7227\n",
            "Epoch 158/200\n",
            "2029/2029 [==============================] - 12s 6ms/step - loss: 0.0082 - accuracy: 0.5318 - recall: 0.6477 - precision: 0.8332 - f1: 0.7287 - val_loss: 0.0085 - val_accuracy: 0.5332 - val_recall: 0.6359 - val_precision: 0.8335 - val_f1: 0.7212\n",
            "Epoch 159/200\n",
            "2029/2029 [==============================] - 12s 6ms/step - loss: 0.0082 - accuracy: 0.5326 - recall: 0.6478 - precision: 0.8339 - f1: 0.7291 - val_loss: 0.0085 - val_accuracy: 0.5335 - val_recall: 0.6396 - val_precision: 0.8299 - val_f1: 0.7223\n",
            "Epoch 160/200\n",
            "2029/2029 [==============================] - 12s 6ms/step - loss: 0.0082 - accuracy: 0.5308 - recall: 0.6474 - precision: 0.8336 - f1: 0.7287 - val_loss: 0.0085 - val_accuracy: 0.5204 - val_recall: 0.6428 - val_precision: 0.8268 - val_f1: 0.7231\n",
            "Epoch 161/200\n",
            "2029/2029 [==============================] - 12s 6ms/step - loss: 0.0082 - accuracy: 0.5305 - recall: 0.6489 - precision: 0.8339 - f1: 0.7297 - val_loss: 0.0085 - val_accuracy: 0.5292 - val_recall: 0.6430 - val_precision: 0.8272 - val_f1: 0.7234\n",
            "Epoch 162/200\n",
            "2029/2029 [==============================] - 12s 6ms/step - loss: 0.0082 - accuracy: 0.5305 - recall: 0.6487 - precision: 0.8338 - f1: 0.7296 - val_loss: 0.0085 - val_accuracy: 0.5299 - val_recall: 0.6406 - val_precision: 0.8287 - val_f1: 0.7225\n",
            "Epoch 163/200\n",
            "2029/2029 [==============================] - 12s 6ms/step - loss: 0.0082 - accuracy: 0.5309 - recall: 0.6485 - precision: 0.8337 - f1: 0.7294 - val_loss: 0.0085 - val_accuracy: 0.5266 - val_recall: 0.6450 - val_precision: 0.8243 - val_f1: 0.7236\n",
            "Epoch 164/200\n",
            "2029/2029 [==============================] - 12s 6ms/step - loss: 0.0082 - accuracy: 0.5310 - recall: 0.6487 - precision: 0.8339 - f1: 0.7296 - val_loss: 0.0085 - val_accuracy: 0.5294 - val_recall: 0.6467 - val_precision: 0.8239 - val_f1: 0.7245\n",
            "Epoch 165/200\n",
            "2029/2029 [==============================] - 12s 6ms/step - loss: 0.0082 - accuracy: 0.5319 - recall: 0.6486 - precision: 0.8338 - f1: 0.7295 - val_loss: 0.0085 - val_accuracy: 0.5277 - val_recall: 0.6415 - val_precision: 0.8286 - val_f1: 0.7230\n",
            "Epoch 166/200\n",
            "2029/2029 [==============================] - 12s 6ms/step - loss: 0.0082 - accuracy: 0.5303 - recall: 0.6483 - precision: 0.8334 - f1: 0.7291 - val_loss: 0.0085 - val_accuracy: 0.5304 - val_recall: 0.6419 - val_precision: 0.8280 - val_f1: 0.7231\n",
            "Epoch 167/200\n",
            "2029/2029 [==============================] - 12s 6ms/step - loss: 0.0082 - accuracy: 0.5310 - recall: 0.6480 - precision: 0.8337 - f1: 0.7291 - val_loss: 0.0085 - val_accuracy: 0.5302 - val_recall: 0.6407 - val_precision: 0.8292 - val_f1: 0.7228\n",
            "Epoch 168/200\n",
            "2029/2029 [==============================] - 12s 6ms/step - loss: 0.0082 - accuracy: 0.5311 - recall: 0.6490 - precision: 0.8337 - f1: 0.7297 - val_loss: 0.0085 - val_accuracy: 0.5300 - val_recall: 0.6466 - val_precision: 0.8242 - val_f1: 0.7246\n",
            "Epoch 169/200\n",
            "2029/2029 [==============================] - 12s 6ms/step - loss: 0.0082 - accuracy: 0.5318 - recall: 0.6488 - precision: 0.8334 - f1: 0.7295 - val_loss: 0.0085 - val_accuracy: 0.5293 - val_recall: 0.6414 - val_precision: 0.8287 - val_f1: 0.7230\n",
            "Epoch 170/200\n",
            "2029/2029 [==============================] - 12s 6ms/step - loss: 0.0082 - accuracy: 0.5309 - recall: 0.6483 - precision: 0.8335 - f1: 0.7292 - val_loss: 0.0085 - val_accuracy: 0.5333 - val_recall: 0.6458 - val_precision: 0.8251 - val_f1: 0.7244\n",
            "Epoch 171/200\n",
            "2029/2029 [==============================] - 12s 6ms/step - loss: 0.0082 - accuracy: 0.5304 - recall: 0.6491 - precision: 0.8335 - f1: 0.7297 - val_loss: 0.0085 - val_accuracy: 0.5244 - val_recall: 0.6422 - val_precision: 0.8276 - val_f1: 0.7231\n",
            "Epoch 172/200\n",
            "2029/2029 [==============================] - 12s 6ms/step - loss: 0.0082 - accuracy: 0.5300 - recall: 0.6492 - precision: 0.8341 - f1: 0.7300 - val_loss: 0.0085 - val_accuracy: 0.5276 - val_recall: 0.6440 - val_precision: 0.8262 - val_f1: 0.7237\n",
            "Epoch 173/200\n",
            "2029/2029 [==============================] - 12s 6ms/step - loss: 0.0082 - accuracy: 0.5309 - recall: 0.6489 - precision: 0.8336 - f1: 0.7296 - val_loss: 0.0085 - val_accuracy: 0.5265 - val_recall: 0.6405 - val_precision: 0.8295 - val_f1: 0.7228\n",
            "Epoch 174/200\n",
            "2029/2029 [==============================] - 12s 6ms/step - loss: 0.0082 - accuracy: 0.5306 - recall: 0.6495 - precision: 0.8342 - f1: 0.7302 - val_loss: 0.0085 - val_accuracy: 0.5294 - val_recall: 0.6456 - val_precision: 0.8250 - val_f1: 0.7243\n",
            "Epoch 175/200\n",
            "2029/2029 [==============================] - 12s 6ms/step - loss: 0.0082 - accuracy: 0.5294 - recall: 0.6489 - precision: 0.8340 - f1: 0.7298 - val_loss: 0.0085 - val_accuracy: 0.5319 - val_recall: 0.6468 - val_precision: 0.8240 - val_f1: 0.7246\n",
            "Epoch 176/200\n",
            "2029/2029 [==============================] - 12s 6ms/step - loss: 0.0082 - accuracy: 0.5302 - recall: 0.6495 - precision: 0.8342 - f1: 0.7302 - val_loss: 0.0085 - val_accuracy: 0.5299 - val_recall: 0.6521 - val_precision: 0.8194 - val_f1: 0.7261\n",
            "Epoch 177/200\n",
            "2029/2029 [==============================] - 12s 6ms/step - loss: 0.0082 - accuracy: 0.5319 - recall: 0.6494 - precision: 0.8339 - f1: 0.7301 - val_loss: 0.0085 - val_accuracy: 0.5286 - val_recall: 0.6410 - val_precision: 0.8292 - val_f1: 0.7229\n",
            "Epoch 178/200\n",
            "2029/2029 [==============================] - 12s 6ms/step - loss: 0.0082 - accuracy: 0.5301 - recall: 0.6496 - precision: 0.8344 - f1: 0.7304 - val_loss: 0.0085 - val_accuracy: 0.5295 - val_recall: 0.6406 - val_precision: 0.8294 - val_f1: 0.7228\n",
            "Epoch 179/200\n",
            "2029/2029 [==============================] - 12s 6ms/step - loss: 0.0082 - accuracy: 0.5302 - recall: 0.6496 - precision: 0.8340 - f1: 0.7302 - val_loss: 0.0085 - val_accuracy: 0.5258 - val_recall: 0.6391 - val_precision: 0.8309 - val_f1: 0.7224\n",
            "Epoch 180/200\n",
            "2029/2029 [==============================] - 12s 6ms/step - loss: 0.0082 - accuracy: 0.5306 - recall: 0.6495 - precision: 0.8339 - f1: 0.7301 - val_loss: 0.0085 - val_accuracy: 0.5290 - val_recall: 0.6466 - val_precision: 0.8249 - val_f1: 0.7248\n",
            "Epoch 181/200\n",
            "2029/2029 [==============================] - 12s 6ms/step - loss: 0.0082 - accuracy: 0.5321 - recall: 0.6504 - precision: 0.8345 - f1: 0.7309 - val_loss: 0.0085 - val_accuracy: 0.5265 - val_recall: 0.6412 - val_precision: 0.8293 - val_f1: 0.7231\n",
            "Epoch 182/200\n",
            "2029/2029 [==============================] - 12s 6ms/step - loss: 0.0082 - accuracy: 0.5315 - recall: 0.6502 - precision: 0.8344 - f1: 0.7308 - val_loss: 0.0085 - val_accuracy: 0.5363 - val_recall: 0.6472 - val_precision: 0.8232 - val_f1: 0.7245\n",
            "Epoch 183/200\n",
            "2029/2029 [==============================] - 12s 6ms/step - loss: 0.0082 - accuracy: 0.5308 - recall: 0.6494 - precision: 0.8339 - f1: 0.7301 - val_loss: 0.0085 - val_accuracy: 0.5286 - val_recall: 0.6447 - val_precision: 0.8264 - val_f1: 0.7242\n",
            "Epoch 184/200\n",
            "2029/2029 [==============================] - 12s 6ms/step - loss: 0.0082 - accuracy: 0.5297 - recall: 0.6501 - precision: 0.8347 - f1: 0.7308 - val_loss: 0.0085 - val_accuracy: 0.5258 - val_recall: 0.6422 - val_precision: 0.8284 - val_f1: 0.7234\n",
            "Epoch 185/200\n",
            "2029/2029 [==============================] - 12s 6ms/step - loss: 0.0082 - accuracy: 0.5313 - recall: 0.6501 - precision: 0.8346 - f1: 0.7307 - val_loss: 0.0085 - val_accuracy: 0.5300 - val_recall: 0.6424 - val_precision: 0.8284 - val_f1: 0.7235\n",
            "Epoch 186/200\n",
            "2029/2029 [==============================] - 12s 6ms/step - loss: 0.0082 - accuracy: 0.5316 - recall: 0.6498 - precision: 0.8342 - f1: 0.7304 - val_loss: 0.0085 - val_accuracy: 0.5324 - val_recall: 0.6495 - val_precision: 0.8222 - val_f1: 0.7256\n",
            "Epoch 187/200\n",
            "2029/2029 [==============================] - 12s 6ms/step - loss: 0.0082 - accuracy: 0.5319 - recall: 0.6504 - precision: 0.8343 - f1: 0.7308 - val_loss: 0.0085 - val_accuracy: 0.5332 - val_recall: 0.6448 - val_precision: 0.8264 - val_f1: 0.7243\n",
            "Epoch 188/200\n",
            "2029/2029 [==============================] - 12s 6ms/step - loss: 0.0082 - accuracy: 0.5316 - recall: 0.6506 - precision: 0.8347 - f1: 0.7311 - val_loss: 0.0085 - val_accuracy: 0.5239 - val_recall: 0.6471 - val_precision: 0.8239 - val_f1: 0.7248\n",
            "Epoch 189/200\n",
            "2029/2029 [==============================] - 12s 6ms/step - loss: 0.0082 - accuracy: 0.5303 - recall: 0.6500 - precision: 0.8342 - f1: 0.7305 - val_loss: 0.0085 - val_accuracy: 0.5286 - val_recall: 0.6402 - val_precision: 0.8299 - val_f1: 0.7227\n",
            "Epoch 190/200\n",
            "2029/2029 [==============================] - 12s 6ms/step - loss: 0.0082 - accuracy: 0.5307 - recall: 0.6503 - precision: 0.8341 - f1: 0.7307 - val_loss: 0.0085 - val_accuracy: 0.5312 - val_recall: 0.6399 - val_precision: 0.8309 - val_f1: 0.7229\n",
            "Epoch 191/200\n",
            "2029/2029 [==============================] - 12s 6ms/step - loss: 0.0082 - accuracy: 0.5314 - recall: 0.6510 - precision: 0.8348 - f1: 0.7314 - val_loss: 0.0085 - val_accuracy: 0.5253 - val_recall: 0.6496 - val_precision: 0.8220 - val_f1: 0.7256\n",
            "Epoch 192/200\n",
            "2029/2029 [==============================] - 12s 6ms/step - loss: 0.0082 - accuracy: 0.5305 - recall: 0.6510 - precision: 0.8347 - f1: 0.7314 - val_loss: 0.0085 - val_accuracy: 0.5315 - val_recall: 0.6433 - val_precision: 0.8275 - val_f1: 0.7238\n",
            "Epoch 193/200\n",
            "2029/2029 [==============================] - 12s 6ms/step - loss: 0.0082 - accuracy: 0.5311 - recall: 0.6506 - precision: 0.8343 - f1: 0.7309 - val_loss: 0.0085 - val_accuracy: 0.5250 - val_recall: 0.6392 - val_precision: 0.8309 - val_f1: 0.7225\n",
            "Epoch 194/200\n",
            "2029/2029 [==============================] - 12s 6ms/step - loss: 0.0082 - accuracy: 0.5311 - recall: 0.6503 - precision: 0.8343 - f1: 0.7308 - val_loss: 0.0085 - val_accuracy: 0.5301 - val_recall: 0.6402 - val_precision: 0.8301 - val_f1: 0.7228\n",
            "Epoch 195/200\n",
            "2029/2029 [==============================] - 12s 6ms/step - loss: 0.0082 - accuracy: 0.5315 - recall: 0.6505 - precision: 0.8344 - f1: 0.7309 - val_loss: 0.0085 - val_accuracy: 0.5297 - val_recall: 0.6473 - val_precision: 0.8246 - val_f1: 0.7252\n",
            "Epoch 196/200\n",
            "2029/2029 [==============================] - 12s 6ms/step - loss: 0.0082 - accuracy: 0.5313 - recall: 0.6500 - precision: 0.8342 - f1: 0.7305 - val_loss: 0.0085 - val_accuracy: 0.5347 - val_recall: 0.6429 - val_precision: 0.8281 - val_f1: 0.7237\n",
            "Epoch 197/200\n",
            "2029/2029 [==============================] - 12s 6ms/step - loss: 0.0082 - accuracy: 0.5312 - recall: 0.6515 - precision: 0.8344 - f1: 0.7316 - val_loss: 0.0085 - val_accuracy: 0.5312 - val_recall: 0.6399 - val_precision: 0.8306 - val_f1: 0.7227\n",
            "Epoch 198/200\n",
            "2029/2029 [==============================] - 12s 6ms/step - loss: 0.0082 - accuracy: 0.5311 - recall: 0.6505 - precision: 0.8345 - f1: 0.7310 - val_loss: 0.0085 - val_accuracy: 0.5309 - val_recall: 0.6494 - val_precision: 0.8229 - val_f1: 0.7258\n",
            "Epoch 199/200\n",
            "2029/2029 [==============================] - 12s 6ms/step - loss: 0.0081 - accuracy: 0.5305 - recall: 0.6511 - precision: 0.8345 - f1: 0.7314 - val_loss: 0.0085 - val_accuracy: 0.5290 - val_recall: 0.6445 - val_precision: 0.8271 - val_f1: 0.7244\n",
            "Epoch 200/200\n",
            "2029/2029 [==============================] - 11s 6ms/step - loss: 0.0082 - accuracy: 0.5305 - recall: 0.6512 - precision: 0.8345 - f1: 0.7314 - val_loss: 0.0085 - val_accuracy: 0.5276 - val_recall: 0.6487 - val_precision: 0.8229 - val_f1: 0.7254\n"
          ],
          "name": "stdout"
        },
        {
          "output_type": "execute_result",
          "data": {
            "text/plain": [
              "<tensorflow.python.keras.callbacks.History at 0x7f78cd6658d0>"
            ]
          },
          "metadata": {
            "tags": []
          },
          "execution_count": 23
        }
      ]
    },
    {
      "cell_type": "markdown",
      "metadata": {
        "id": "lOdOr9Y36j8Z"
      },
      "source": [
        "# Save model to Wandb"
      ]
    },
    {
      "cell_type": "code",
      "metadata": {
        "id": "VbGcydaR-3tH",
        "colab": {
          "base_uri": "https://localhost:8080/"
        },
        "outputId": "a8e36926-c256-468e-9993-91ce7ef74dfb"
      },
      "source": [
        "artifact = wandb.Artifact('simple-mit-ensemble', type='keras-model')\n",
        "artifact.add_file(best_val_loss_model_filename)\n",
        "run.log_artifact(artifact)"
      ],
      "execution_count": 24,
      "outputs": [
        {
          "output_type": "execute_result",
          "data": {
            "text/plain": [
              "<wandb.sdk.wandb_artifacts.Artifact at 0x7f7785712510>"
            ]
          },
          "metadata": {
            "tags": []
          },
          "execution_count": 24
        }
      ]
    },
    {
      "cell_type": "markdown",
      "metadata": {
        "id": "bMenWG9W6qVA"
      },
      "source": [
        "# Load model and test on test set"
      ]
    },
    {
      "cell_type": "code",
      "metadata": {
        "id": "8i8ILR02H6Pi"
      },
      "source": [
        "\n",
        "model = keras.models.load_model(best_val_loss_model_filename, custom_objects={\"f1\": f1, \"recall\": recall, \"precision\": precision})\n"
      ],
      "execution_count": 25,
      "outputs": []
    },
    {
      "cell_type": "code",
      "metadata": {
        "id": "X7-WaIr3xWNe",
        "colab": {
          "base_uri": "https://localhost:8080/",
          "height": 100,
          "referenced_widgets": [
            "a9fae89530c149cc9c0a66696129227e",
            "691ddb4ddb8946bb9de22ccc8a8371ab",
            "0ea4a8cb3b82419eb749e98555f9b459",
            "4d8255f1dda6461cbf4243e86205fa8c",
            "ca11082d8c9a4ee5a7e138671cdd1073",
            "00bfe9b14b1e4d0c9bf2559e8080d068",
            "d595f15a598b4affb8a0bb234b91dab1",
            "5b3580ab079a425ebad76f37c80d28eb"
          ]
        },
        "outputId": "34de00e7-27fe-4db1-c865-0d9d0b8d88e3"
      },
      "source": [
        "%%time\n",
        "drive_dir = 'nikita-vectors/tfidf/test/'\n",
        "test_X, test_y = load_all(drive_dir)\n"
      ],
      "execution_count": 26,
      "outputs": [
        {
          "output_type": "display_data",
          "data": {
            "application/vnd.jupyter.widget-view+json": {
              "model_id": "a9fae89530c149cc9c0a66696129227e",
              "version_minor": 0,
              "version_major": 2
            },
            "text/plain": [
              "HBox(children=(FloatProgress(value=0.0, max=25.0), HTML(value='')))"
            ]
          },
          "metadata": {
            "tags": []
          }
        },
        {
          "output_type": "stream",
          "text": [
            "\n",
            "CPU times: user 4.62 s, sys: 2.1 s, total: 6.72 s\n",
            "Wall time: 17.9 s\n"
          ],
          "name": "stdout"
        }
      ]
    },
    {
      "cell_type": "code",
      "metadata": {
        "id": "Y4S2TqtV-njA"
      },
      "source": [
        "config.test_set_shape = str(test_X.shape)\n"
      ],
      "execution_count": 27,
      "outputs": []
    },
    {
      "cell_type": "code",
      "metadata": {
        "id": "dSfr0gjuUFgt",
        "colab": {
          "base_uri": "https://localhost:8080/"
        },
        "outputId": "9d07d0e8-d9d3-4f3b-a8b1-7b4d860883ee"
      },
      "source": [
        "%%time\n",
        "test_preds = model.predict(test_X)"
      ],
      "execution_count": 28,
      "outputs": [
        {
          "output_type": "stream",
          "text": [
            "CPU times: user 4.57 s, sys: 833 ms, total: 5.4 s\n",
            "Wall time: 3.1 s\n"
          ],
          "name": "stdout"
        }
      ]
    },
    {
      "cell_type": "code",
      "metadata": {
        "id": "cEW8VsMvubLc"
      },
      "source": [
        "import torch\n",
        "\n",
        "from sklearn.metrics import accuracy_score\n",
        "from sklearn.metrics import precision_score\n",
        "from sklearn.metrics import recall_score\n",
        "from sklearn.metrics import f1_score\n",
        "\n",
        "def multi_label_accuracy(correct_labels, predicted_labels, average):\n",
        "    predicted_labels = torch.round(torch.tensor(predicted_labels)).numpy()\n",
        "    accuracy = accuracy_score(correct_labels, predicted_labels)\n",
        "    precision = precision_score(correct_labels, predicted_labels, average=average, zero_division=0)\n",
        "    recall = recall_score(correct_labels, predicted_labels, average=average, zero_division=0)\n",
        "    f_1_score = f1_score(correct_labels, predicted_labels, average=average, zero_division=0)\n",
        "    \n",
        "    return accuracy, precision, recall, f_1_score\n"
      ],
      "execution_count": 29,
      "outputs": []
    },
    {
      "cell_type": "code",
      "metadata": {
        "id": "sQNLDf5cAud3",
        "colab": {
          "base_uri": "https://localhost:8080/"
        },
        "outputId": "9605b828-d78c-4839-a667-caabd4b533f3"
      },
      "source": [
        "for average in ['weighted', 'micro', 'macro', 'samples']:\n",
        "    accuracy, precision, recall, f_score = multi_label_accuracy(test_y, test_preds, average)\n",
        "    print(average + ' ' + str(round(f_score,3)))\n",
        "    metrics = { \n",
        "            \"test_precision\"+'_'+ average: precision, \n",
        "            \"test_f1\"+'_'+ average: f_score, \n",
        "            \"test_recall\"+'_'+ average: recall,\n",
        "            }\n",
        "    wandb.log(metrics)\n",
        "    \n",
        "wandb.log({ \n",
        "        \"test_accuracy\": accuracy,\n",
        "        })"
      ],
      "execution_count": 30,
      "outputs": [
        {
          "output_type": "stream",
          "text": [
            "weighted 0.673\n",
            "micro 0.688\n",
            "macro 0.567\n",
            "samples 0.698\n"
          ],
          "name": "stdout"
        }
      ]
    },
    {
      "cell_type": "code",
      "metadata": {
        "id": "28ZIvUxtaRSP",
        "colab": {
          "base_uri": "https://localhost:8080/"
        },
        "outputId": "e0ead24e-75af-46f9-ecb1-7e88111d1143"
      },
      "source": [
        "metrics"
      ],
      "execution_count": 31,
      "outputs": [
        {
          "output_type": "execute_result",
          "data": {
            "text/plain": [
              "{'test_f1_samples': 0.6984067592643254,\n",
              " 'test_precision_samples': 0.7870070214478407,\n",
              " 'test_recall_samples': 0.6890209643692411}"
            ]
          },
          "metadata": {
            "tags": []
          },
          "execution_count": 31
        }
      ]
    },
    {
      "cell_type": "code",
      "metadata": {
        "id": "-htNC7ide10R"
      },
      "source": [
        ""
      ],
      "execution_count": null,
      "outputs": []
    }
  ]
}