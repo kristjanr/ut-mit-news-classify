{
 "metadata": {
  "language_info": {
   "codemirror_mode": {
    "name": "ipython",
    "version": 3
   },
   "file_extension": ".py",
   "mimetype": "text/x-python",
   "name": "python",
   "nbconvert_exporter": "python",
   "pygments_lexer": "ipython3",
   "version": "3.8.0"
  },
  "orig_nbformat": 2,
  "kernelspec": {
   "name": "python380jvsc74a57bd01d47407f50cb4f57b03fc08e1f31d8212463fce5635b845e385eb7c9dcc614a7",
   "display_name": "Python 3.8.0 64-bit ('nlp': conda)"
  }
 },
 "nbformat": 4,
 "nbformat_minor": 2,
 "cells": [
  {
   "source": [
    "# Definitions (run first!)"
   ],
   "cell_type": "markdown",
   "metadata": {}
  },
  {
   "cell_type": "code",
   "execution_count": 1,
   "metadata": {},
   "outputs": [],
   "source": [
    "import gzip\n",
    "import pickle\n",
    "import random\n",
    "import requests\n",
    "import csv\n",
    "from torch.utils.data import Dataset, DataLoader\n",
    "import torch\n",
    "from sklearn.preprocessing import MultiLabelBinarizer\n",
    "import numpy as np"
   ]
  },
  {
   "cell_type": "code",
   "execution_count": 2,
   "metadata": {},
   "outputs": [],
   "source": [
    "seed = 42"
   ]
  },
  {
   "cell_type": "code",
   "execution_count": 3,
   "metadata": {},
   "outputs": [],
   "source": [
    "class EmbeddedDataset(Dataset):\n",
    "    def __init__(self, X, y):\n",
    "        self.X = X\n",
    "        self.y = y\n",
    "\n",
    "    def __len__(self):\n",
    "        return len(self.X)\n",
    "\n",
    "    def __getitem__(self, idx):\n",
    "        return self.X[idx], self.y[idx], idx"
   ]
  },
  {
   "cell_type": "code",
   "execution_count": 4,
   "metadata": {},
   "outputs": [
    {
     "output_type": "execute_result",
     "data": {
      "text/plain": [
       "MultiLabelBinarizer(classes=['suspensions, dismissals and resignations',\n",
       "                             'education and schools',\n",
       "                             'colleges and universities', 'blacks',\n",
       "                             'population', 'economic conditions and trends',\n",
       "                             'labor',\n",
       "                             'office buildings and commercial properties',\n",
       "                             'architecture', 'medicine and health',\n",
       "                             'awards, decorations and honors',\n",
       "                             'diseases and conditions', 'research', 'cancer',\n",
       "                             'basketball', 'design', 'interior design',\n",
       "                             'real estate', 'trades (sports)',\n",
       "                             'demonstrations and riots', 'dancing',\n",
       "                             'hockey, ice', 'games', 'playoff games',\n",
       "                             'baseball', 'travel and vacations', 'finances',\n",
       "                             'books and literature',\n",
       "                             'united states politics and government',\n",
       "                             'politics and government', ...])"
      ]
     },
     "metadata": {},
     "execution_count": 4
    }
   ],
   "source": [
    "import csv\n",
    "\n",
    "def loadcsv(filename):\n",
    "    with open(filename, newline='', encoding='utf-8') as f:\n",
    "        return list(csv.reader(f))\n",
    "\n",
    "\n",
    "def load_label_map(out2id_path, id2label_path):\n",
    "    \n",
    "    out2id = loadcsv(out2id_path)\n",
    "    out2id = {int(row[0]): row[1] for row in out2id}\n",
    "\n",
    "    id2label_raw = loadcsv(id2label_path)\n",
    "    id2label = {}\n",
    "\n",
    "    for row in id2label_raw:\n",
    "        if row == []:\n",
    "            continue\n",
    "        id2label[row[1]] = row[2]\n",
    "\n",
    "    out2label = [id2label[out2id[out]] for out in sorted(out2id.keys())]\n",
    "    \n",
    "    return out2label\n",
    "\n",
    "out2label = load_label_map('../labels_dict_gpt.csv', '../nyt-theme-tags.csv')\n",
    "mlb = MultiLabelBinarizer(classes=out2label)\n",
    "mlb.fit(out2label)"
   ]
  },
  {
   "cell_type": "code",
   "execution_count": 5,
   "metadata": {},
   "outputs": [],
   "source": [
    "# # temporary dataset for storing tokenized articles & transformed labels\n",
    "# class Dataset(Dataset):\n",
    "#     def __init__(self, articles, labels):\n",
    "\n",
    "#         self.tokenizer = GPT2Tokenizer.from_pretrained(\"gpt2\")\n",
    "#         self.tokenizer.pad_token = self.tokenizer.eos_token\n",
    "\n",
    "#         print('Tokenizing...')\n",
    "#         self.articles = self.tokenizer(articles, add_special_tokens=True, padding=\"max_length\", truncation=True,\n",
    "#                                        max_length=1024, return_tensors=\"pt\", return_attention_mask=True)\n",
    "\n",
    "#         self.input_ids = self.articles['input_ids']\n",
    "#         self.attention_mask = self.articles['attention_mask']\n",
    "\n",
    "#         print('Preprocessing labels...')\n",
    "#         self.labels = mlb.transform(labels)\n",
    "#         print('Done')\n",
    "\n",
    "#     def __len__(self):\n",
    "#         return len(self.input_ids)\n",
    "\n",
    "#     def __getitem__(self, idx):\n",
    "#         # return self.articles[idx], self.labels[idx]\n",
    "#         return self.input_ids[idx], self.attention_mask[idx], self.labels[idx]"
   ]
  },
  {
   "source": [
    "# Load, Pre-process & Embed data with Ensemble & Save to disk"
   ],
   "cell_type": "markdown",
   "metadata": {}
  },
  {
   "cell_type": "code",
   "execution_count": 5,
   "metadata": {},
   "outputs": [],
   "source": [
    "# open the train data given to us by Max\n",
    "with gzip.open('../../../NYTcorpus_train.p.gz', mode='r') as f:\n",
    "    train_data = pickle.load(f)\n",
    "\n",
    "# open the test data given to us by Max\n",
    "with gzip.open('../../../NYTcorpus_test.p.gz', mode='r') as f:\n",
    "    test_data = pickle.load(f)\n",
    "\n",
    "# shuffle just in case the test and train data were not shuffled before - \n",
    "# we will only measure model's accuracy on a few thousand samples\n",
    "random.Random(seed).shuffle(train_data)\n",
    "random.Random(seed).shuffle(test_data)\n",
    "\n",
    "# train and test data labels are coded in numbers,\n",
    "# but the models predict human-readable labels,\n",
    "# so we need to re-map these. \n",
    "# Let's use one of the files downloaded by the mitnewsclassify package\n",
    "with open('../nyt-theme-tags.csv', newline='') as csvfile:\n",
    "    reader = csv.DictReader(csvfile)\n",
    "    tags_dict = {row['tags_id']: row['tag'] for row in reader}\n",
    "\n",
    "# extract actual article texts from data samples\n",
    "train_articles = [d[2] for d in train_data] \n",
    "test_articles = [d[2] for d in test_data]\n",
    "\n",
    "# map the number-coded labels to human-readable labels\n",
    "train_labels_lists = [list(map(tags_dict.get, d[3:])) for d in train_data]\n",
    "test_labels_lists = [list(map(tags_dict.get, d[3:])) for d in test_data]"
   ]
  },
  {
   "cell_type": "code",
   "execution_count": 6,
   "metadata": {},
   "outputs": [],
   "source": [
    "# takes 2-3 minutes\n",
    "\n",
    "train_size = None  # 100_000\n",
    "test_size = None  # 10_000\n",
    "\n",
    "# train_dataset = NYTDataset(train_articles[:train_size], train_labels_lists[:train_size])\n",
    "# test_dataset = NYTDataset(test_articles[:test_size], test_labels_lists[:test_size])\n",
    "X_train, y_train = train_articles[:train_size], train_labels_lists[:train_size]\n",
    "X_test, y_test = test_articles[:test_size], test_labels_lists[:test_size]"
   ]
  },
  {
   "cell_type": "code",
   "execution_count": 7,
   "metadata": {},
   "outputs": [
    {
     "output_type": "stream",
     "name": "stdout",
     "text": [
      "X_train 1298504\ny_train 1298504\nX_test 144279\ny_test 144279\n"
     ]
    }
   ],
   "source": [
    "print('X_train', len(X_train))\n",
    "print('y_train', len(y_train))\n",
    "print('X_test', len(X_test))\n",
    "print('y_test', len(y_test))"
   ]
  },
  {
   "cell_type": "code",
   "execution_count": 8,
   "metadata": {},
   "outputs": [
    {
     "output_type": "stream",
     "name": "stdout",
     "text": [
      "Preprocessing dataset for  embedded_train_full\n",
      "Initializing...\n",
      "Model...\n",
      "Count Vectorizer...\n",
      "TF-IDF Transformer...\n",
      "Miscellaneous...\n",
      "/home/mbaliesnyi/anaconda3/envs/nlp/lib/python3.8/site-packages/sklearn/base.py:310: UserWarning: Trying to unpickle estimator TfidfTransformer from version 0.23.1 when using version 0.24.1. This might lead to breaking code or invalid results. Use at your own risk.\n",
      "  warnings.warn(\n"
     ]
    }
   ],
   "source": [
    "%%time\n",
    "\n",
    "from tqdm.notebook import tqdm\n",
    "from mitnewsclassify2 import tfidf, tfidf_bi\n",
    "import gc\n",
    "\n",
    "runs = [(X_train, y_train, 'embedded_train_full'), (X_test, y_test, 'embedded_test_full')]\n",
    "# runs = [(X_test, y_test, 'embedded_test_100k')]\n",
    "\n",
    "\n",
    "# parts = 20\n",
    "\n",
    "for X, y, output_path in runs:\n",
    "\n",
    "    # X_split = np.array_split()\n",
    "\n",
    "    # for i, _ in enumerate(np.array_split(X))\n",
    "\n",
    "    print(f'Preprocessing dataset for ', output_path)\n",
    "\n",
    "    tfidf_vec = tfidf.getfeatures(X)\n",
    "    tfidf_bi_vec = tfidf_bi.getfeatures(X)\n",
    "    X_embedded = np.concatenate((tfidf_vec, tfidf_bi_vec), axis=1)\n",
    "\n",
    "    print('Encoding labels...')\n",
    "    y_embedded = mlb.transform(y)\n",
    "\n",
    "    print('Saving to disk...')\n",
    "    np.save(f'{output_path}_X', X_embedded)\n",
    "    np.save(f'{output_path}_y', y_embedded)\n",
    "\n",
    "print('Done!')"
   ]
  },
  {
   "cell_type": "code",
   "execution_count": null,
   "metadata": {},
   "outputs": [],
   "source": [
    "1+1"
   ]
  },
  {
   "cell_type": "code",
   "execution_count": 40,
   "metadata": {},
   "outputs": [],
   "source": [
    "X_test = np.load('embedded_test_100k_X.npy')\n",
    "y_test = np.load('embedded_test_100k_y.npy')"
   ]
  },
  {
   "cell_type": "code",
   "execution_count": 41,
   "metadata": {},
   "outputs": [
    {
     "output_type": "stream",
     "name": "stdout",
     "text": [
      "X_test.shape (10000, 1000)\ny_test.shape (10000, 538)\n"
     ]
    }
   ],
   "source": [
    "print('X_test.shape', X_test.shape)\n",
    "print('y_test.shape', y_test.shape)"
   ]
  },
  {
   "cell_type": "code",
   "execution_count": null,
   "metadata": {},
   "outputs": [],
   "source": []
  }
 ]
}