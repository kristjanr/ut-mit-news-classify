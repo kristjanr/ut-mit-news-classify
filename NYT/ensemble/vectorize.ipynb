{
 "cells": [
  {
   "cell_type": "code",
   "execution_count": 24,
   "metadata": {},
   "outputs": [
    {
     "name": "stdout",
     "output_type": "stream",
     "text": [
      "All imports seem good!\n"
     ]
    }
   ],
   "source": [
    "import gzip\n",
    "import pickle\n",
    "import csv\n",
    "from torch.utils.data import Dataset, DataLoader\n",
    "from sklearn.preprocessing import MultiLabelBinarizer\n",
    "import numpy as np\n",
    "from tqdm.notebook import tqdm\n",
    "from mitnewsclassify2 import tfidf, tfidf_bi, download\n",
    "import gc\n",
    "import torch\n",
    "import sys\n",
    "import time\n",
    "import os\n",
    "from tqdm.autonotebook import tqdm\n",
    "\n",
    "def print_f(*args):\n",
    "    print(*args, flush=True)\n",
    "\n",
    "print_f('All imports seem good!')"
   ]
  },
  {
   "cell_type": "code",
   "execution_count": 25,
   "metadata": {},
   "outputs": [],
   "source": [
    "chunk_size = 50_000\n",
    "train_size = None\n",
    "test_size = None\n",
    "output_dir = 'vectorized-fixed'\n",
    "\n",
    "os.makedirs(output_dir, exist_ok=True)"
   ]
  },
  {
   "cell_type": "code",
   "execution_count": null,
   "metadata": {},
   "outputs": [],
   "source": [
    "# print_f('Downloading mitwnewsclassify stuff...')\n",
    "# download.download('tfidf')\n",
    "# download.download('tfidf_bi')\n",
    "\n",
    "# print_f('Flushing the buffer to let logs from package appear...')\n",
    "# sys.stdout.flush()"
   ]
  },
  {
   "cell_type": "code",
   "execution_count": 3,
   "metadata": {},
   "outputs": [],
   "source": [
    "class EmbeddedDataset(Dataset):\n",
    "    def __init__(self, X, y):\n",
    "        self.X = X\n",
    "        self.y = y\n",
    "\n",
    "    def __len__(self):\n",
    "        return len(self.X)\n",
    "\n",
    "    def __getitem__(self, idx):\n",
    "        return self.X[idx], self.y[idx], idx\n",
    "\n",
    "\n",
    "def loadcsv(filename):\n",
    "    with open(filename, newline='', encoding='utf-8') as f:\n",
    "        return list(csv.reader(f))\n",
    "\n",
    "\n",
    "def load_label_map(out2id_path, id2label_path):\n",
    "    \n",
    "    out2id = loadcsv(out2id_path)\n",
    "    out2id = {int(row[0]): row[1] for row in out2id}\n",
    "\n",
    "    id2label_raw = loadcsv(id2label_path)\n",
    "    id2label = {}\n",
    "\n",
    "    for row in id2label_raw:\n",
    "        if row == []:\n",
    "            continue\n",
    "        id2label[row[1]] = row[2]\n",
    "\n",
    "    out2label = [id2label[out2id[out]] for out in sorted(out2id.keys())]\n",
    "    \n",
    "    return out2label"
   ]
  },
  {
   "cell_type": "code",
   "execution_count": 4,
   "metadata": {},
   "outputs": [
    {
     "data": {
      "text/plain": [
       "MultiLabelBinarizer(classes=['suspensions, dismissals and resignations',\n",
       "                             'education and schools',\n",
       "                             'colleges and universities', 'blacks',\n",
       "                             'population', 'economic conditions and trends',\n",
       "                             'labor',\n",
       "                             'office buildings and commercial properties',\n",
       "                             'architecture', 'medicine and health',\n",
       "                             'awards, decorations and honors',\n",
       "                             'diseases and conditions', 'research', 'cancer',\n",
       "                             'basketball', 'design', 'interior design',\n",
       "                             'real estate', 'trades (sports)',\n",
       "                             'demonstrations and riots', 'dancing',\n",
       "                             'hockey, ice', 'games', 'playoff games',\n",
       "                             'baseball', 'travel and vacations', 'finances',\n",
       "                             'books and literature',\n",
       "                             'united states politics and government',\n",
       "                             'politics and government', ...])"
      ]
     },
     "execution_count": 4,
     "metadata": {},
     "output_type": "execute_result"
    }
   ],
   "source": [
    "out2label = load_label_map('../data/labels_dict_gpt.csv', '../data/nyt-theme-tags.csv')\n",
    "mlb = MultiLabelBinarizer(classes=out2label)\n",
    "mlb.fit(out2label)"
   ]
  },
  {
   "cell_type": "code",
   "execution_count": 5,
   "metadata": {},
   "outputs": [
    {
     "name": "stdout",
     "output_type": "stream",
     "text": [
      "Loading data...\n",
      "Data loaded.\n",
      "X_train 1298504\n",
      "y_train 1298504\n",
      "X_test 144279\n",
      "y_test 144279\n"
     ]
    }
   ],
   "source": [
    "print_f('Loading data...')\n",
    "\n",
    "# open the train data given to us by Max\n",
    "with gzip.open('../data/NYTcorpus_train.p.gz', mode='r') as f:\n",
    "    train_data = pickle.load(f)\n",
    "\n",
    "# open the test data given to us by Max\n",
    "with gzip.open('../data/NYTcorpus_test.p.gz', mode='r') as f:\n",
    "    test_data = pickle.load(f)\n",
    "\n",
    "print_f('Data loaded.')\n",
    "\n",
    "# train and test data labels are coded in numbers,\n",
    "# but the models predict human-readable labels,\n",
    "# so we need to re-map these. \n",
    "# Let's use one of the files downloaded by the mitnewsclassify package\n",
    "with open('../data/nyt-theme-tags.csv', newline='') as csvfile:\n",
    "    reader = csv.DictReader(csvfile)\n",
    "    tags_dict = {row['tags_id']: row['tag'] for row in reader}\n",
    "\n",
    "# extract actual article texts from data samples\n",
    "train_articles = [d[2] for d in train_data] \n",
    "test_articles = [d[2] for d in test_data]\n",
    "\n",
    "# map the number-coded labels to human-readable labels\n",
    "train_labels_lists = [list(map(tags_dict.get, d[3:])) for d in train_data]\n",
    "test_labels_lists = [list(map(tags_dict.get, d[3:])) for d in test_data]\n",
    "\n",
    "X_train, y_train = train_articles[:train_size], train_labels_lists[:train_size]\n",
    "X_test, y_test = test_articles[:test_size], test_labels_lists[:test_size]\n",
    "\n",
    "print_f('X_train', len(X_train))\n",
    "print_f('y_train', len(y_train))\n",
    "print_f('X_test', len(X_test))\n",
    "print_f('y_test', len(y_test))"
   ]
  },
  {
   "cell_type": "code",
   "execution_count": 33,
   "metadata": {},
   "outputs": [
    {
     "name": "stdout",
     "output_type": "stream",
     "text": [
      "Total chunks: 26\n",
      "Transforming labels...\n",
      "Done!\n"
     ]
    },
    {
     "data": {
      "application/vnd.jupyter.widget-view+json": {
       "model_id": "31b06c78e3844c2990413352015308b3",
       "version_major": 2,
       "version_minor": 0
      },
      "text/plain": [
       "  0%|          | 0/26 [00:00<?, ?it/s]"
      ]
     },
     "metadata": {},
     "output_type": "display_data"
    },
    {
     "name": "stdout",
     "output_type": "stream",
     "text": [
      "Vectorizing chunk:  vectorized-fixed/embedded_train_FULL_ensemble_chunk1of26.pt\n",
      "Chunk size: 50000\n"
     ]
    },
    {
     "name": "stderr",
     "output_type": "stream",
     "text": [
      "<ipython-input-33-8aeb4acb52a6>:26: UserWarning: To copy construct from a tensor, it is recommended to use sourceTensor.clone().detach() or sourceTensor.clone().detach().requires_grad_(True), rather than torch.tensor(sourceTensor).\n",
      "  saved_dataset = EmbeddedDataset(torch.tensor(X_embedded), torch.tensor(y_chunk))\n"
     ]
    },
    {
     "name": "stdout",
     "output_type": "stream",
     "text": [
      "Time taken: 1.9min\n",
      "\n",
      "Vectorizing chunk:  vectorized-fixed/embedded_train_FULL_ensemble_chunk2of26.pt\n",
      "Chunk size: 50000\n",
      "Time taken: 1.8min\n",
      "\n",
      "Vectorizing chunk:  vectorized-fixed/embedded_train_FULL_ensemble_chunk3of26.pt\n",
      "Chunk size: 50000\n",
      "Time taken: 1.8min\n",
      "\n",
      "Vectorizing chunk:  vectorized-fixed/embedded_train_FULL_ensemble_chunk4of26.pt\n",
      "Chunk size: 50000\n",
      "Time taken: 1.7min\n",
      "\n",
      "Vectorizing chunk:  vectorized-fixed/embedded_train_FULL_ensemble_chunk5of26.pt\n",
      "Chunk size: 50000\n",
      "Time taken: 1.7min\n",
      "\n",
      "Vectorizing chunk:  vectorized-fixed/embedded_train_FULL_ensemble_chunk6of26.pt\n",
      "Chunk size: 50000\n",
      "Time taken: 1.8min\n",
      "\n",
      "Vectorizing chunk:  vectorized-fixed/embedded_train_FULL_ensemble_chunk7of26.pt\n",
      "Chunk size: 50000\n",
      "Time taken: 1.8min\n",
      "\n",
      "Vectorizing chunk:  vectorized-fixed/embedded_train_FULL_ensemble_chunk8of26.pt\n",
      "Chunk size: 50000\n",
      "Time taken: 1.7min\n",
      "\n",
      "Vectorizing chunk:  vectorized-fixed/embedded_train_FULL_ensemble_chunk9of26.pt\n",
      "Chunk size: 50000\n",
      "Time taken: 1.7min\n",
      "\n",
      "Vectorizing chunk:  vectorized-fixed/embedded_train_FULL_ensemble_chunk10of26.pt\n",
      "Chunk size: 50000\n",
      "Time taken: 1.7min\n",
      "\n",
      "Vectorizing chunk:  vectorized-fixed/embedded_train_FULL_ensemble_chunk11of26.pt\n",
      "Chunk size: 50000\n",
      "Time taken: 1.8min\n",
      "\n",
      "Vectorizing chunk:  vectorized-fixed/embedded_train_FULL_ensemble_chunk12of26.pt\n",
      "Chunk size: 50000\n",
      "Time taken: 1.7min\n",
      "\n",
      "Vectorizing chunk:  vectorized-fixed/embedded_train_FULL_ensemble_chunk13of26.pt\n",
      "Chunk size: 50000\n",
      "Time taken: 1.8min\n",
      "\n",
      "Vectorizing chunk:  vectorized-fixed/embedded_train_FULL_ensemble_chunk14of26.pt\n",
      "Chunk size: 50000\n",
      "Time taken: 1.8min\n",
      "\n",
      "Vectorizing chunk:  vectorized-fixed/embedded_train_FULL_ensemble_chunk15of26.pt\n",
      "Chunk size: 50000\n",
      "Time taken: 1.7min\n",
      "\n",
      "Vectorizing chunk:  vectorized-fixed/embedded_train_FULL_ensemble_chunk16of26.pt\n",
      "Chunk size: 50000\n",
      "Time taken: 1.8min\n",
      "\n",
      "Vectorizing chunk:  vectorized-fixed/embedded_train_FULL_ensemble_chunk17of26.pt\n",
      "Chunk size: 50000\n",
      "Time taken: 1.7min\n",
      "\n",
      "Vectorizing chunk:  vectorized-fixed/embedded_train_FULL_ensemble_chunk18of26.pt\n",
      "Chunk size: 50000\n",
      "Time taken: 1.7min\n",
      "\n",
      "Vectorizing chunk:  vectorized-fixed/embedded_train_FULL_ensemble_chunk19of26.pt\n",
      "Chunk size: 50000\n",
      "Time taken: 1.7min\n",
      "\n",
      "Vectorizing chunk:  vectorized-fixed/embedded_train_FULL_ensemble_chunk20of26.pt\n",
      "Chunk size: 50000\n",
      "Time taken: 1.7min\n",
      "\n",
      "Vectorizing chunk:  vectorized-fixed/embedded_train_FULL_ensemble_chunk21of26.pt\n",
      "Chunk size: 50000\n",
      "Time taken: 1.7min\n",
      "\n",
      "Vectorizing chunk:  vectorized-fixed/embedded_train_FULL_ensemble_chunk22of26.pt\n",
      "Chunk size: 50000\n",
      "Time taken: 1.7min\n",
      "\n",
      "Vectorizing chunk:  vectorized-fixed/embedded_train_FULL_ensemble_chunk23of26.pt\n",
      "Chunk size: 50000\n",
      "Time taken: 1.8min\n",
      "\n",
      "Vectorizing chunk:  vectorized-fixed/embedded_train_FULL_ensemble_chunk24of26.pt\n",
      "Chunk size: 50000\n",
      "Time taken: 2.6min\n",
      "\n",
      "Vectorizing chunk:  vectorized-fixed/embedded_train_FULL_ensemble_chunk25of26.pt\n",
      "Chunk size: 50000\n",
      "Time taken: 1.7min\n",
      "\n",
      "Vectorizing chunk:  vectorized-fixed/embedded_train_FULL_ensemble_chunk26of26.pt\n",
      "Chunk size: 48504\n",
      "Time taken: 1.7min\n",
      "\n",
      "Total chunks: 3\n",
      "Transforming labels...\n",
      "Done!\n"
     ]
    },
    {
     "data": {
      "application/vnd.jupyter.widget-view+json": {
       "model_id": "cddbcb75444d403faf7cef520c239330",
       "version_major": 2,
       "version_minor": 0
      },
      "text/plain": [
       "  0%|          | 0/3 [00:00<?, ?it/s]"
      ]
     },
     "metadata": {},
     "output_type": "display_data"
    },
    {
     "name": "stdout",
     "output_type": "stream",
     "text": [
      "Vectorizing chunk:  vectorized-fixed/embedded_test_FULL_ensemble_chunk1of3.pt\n",
      "Chunk size: 50000\n",
      "Time taken: 1.7min\n",
      "\n",
      "Vectorizing chunk:  vectorized-fixed/embedded_test_FULL_ensemble_chunk2of3.pt\n",
      "Chunk size: 50000\n",
      "Time taken: 1.7min\n",
      "\n",
      "Vectorizing chunk:  vectorized-fixed/embedded_test_FULL_ensemble_chunk3of3.pt\n",
      "Chunk size: 44279\n",
      "Time taken: 1.5min\n",
      "\n",
      "Done!\n"
     ]
    }
   ],
   "source": [
    "runs = [(X_train, y_train, f'{output_dir}/embedded_train_FULL_ensemble'), (X_test, y_test, f'{output_dir}/embedded_test_FULL_ensemble')]\n",
    "\n",
    "for X, y, output_path in runs:\n",
    "    total_chunks = len(X) // chunk_size + 1\n",
    "    print_f('Total chunks:', total_chunks)\n",
    "    \n",
    "    print_f('Transforming labels...')\n",
    "    y_embedded = mlb.transform(y)\n",
    "    print_f('Done!')\n",
    "\n",
    "    dataset = EmbeddedDataset(X, y_embedded)\n",
    "    iterator = DataLoader(dataset, batch_size=chunk_size)\n",
    "\n",
    "    for chunk_id, chunk in enumerate(tqdm(iterator)):\n",
    "        X_chunk, y_chunk, idx_chunk = chunk\n",
    "\n",
    "        chunk_path = f'{output_path}_chunk{chunk_id+1}of{total_chunks}.pt'\n",
    "        print_f(f'Vectorizing chunk: ', chunk_path)\n",
    "        print_f('Chunk size:', len(X_chunk))\n",
    "\n",
    "        start = time.time()\n",
    "        tfidf_vec = tfidf.getfeatures(X_chunk)\n",
    "        tfidf_bi_vec = tfidf_bi.getfeatures(X_chunk)\n",
    "        X_embedded = np.concatenate((tfidf_vec, tfidf_bi_vec), axis=1)\n",
    "\n",
    "        saved_dataset = EmbeddedDataset(torch.tensor(X_embedded), torch.tensor(y_chunk))\n",
    "        torch.save(saved_dataset, chunk_path, pickle_protocol=4)\n",
    "\n",
    "        print_f(f'Time taken: {int(time.time() - start)/60:.1f}min')\n",
    "\n",
    "        print_f()\n",
    "\n",
    "        del tfidf_vec\n",
    "        del tfidf_bi_vec\n",
    "        del X_embedded\n",
    "        del saved_dataset\n",
    "        gc.collect()\n",
    "\n",
    "    del y_embedded\n",
    "    del dataset\n",
    "    del iterator\n",
    "    gc.collect()\n",
    "\n",
    "print_f('Done!')"
   ]
  },
  {
   "cell_type": "code",
   "execution_count": 34,
   "metadata": {},
   "outputs": [],
   "source": [
    "!mv vectorized-fixed/* /gpfs/space/projects/stud_nlp_share/ensemble/"
   ]
  },
  {
   "cell_type": "code",
   "execution_count": 39,
   "metadata": {},
   "outputs": [
    {
     "name": "stdout",
     "output_type": "stream",
     "text": [
      "total 11G\n",
      "d--------- 2 mykyta users 4.0K May 21 17:07 .\n",
      "d--------- 4 mykyta users 4.0K May 21 17:07 ..\n",
      "-rw-r--r-- 1 mykyta users 396M May 21 15:54 embedded_train_FULL_ensemble_chunk10of26.pt\n",
      "-rw-r--r-- 1 mykyta users 396M May 21 15:56 embedded_train_FULL_ensemble_chunk11of26.pt\n",
      "-rw-r--r-- 1 mykyta users 396M May 21 15:58 embedded_train_FULL_ensemble_chunk12of26.pt\n",
      "-rw-r--r-- 1 mykyta users 396M May 21 16:00 embedded_train_FULL_ensemble_chunk13of26.pt\n",
      "-rw-r--r-- 1 mykyta users 396M May 21 16:02 embedded_train_FULL_ensemble_chunk14of26.pt\n",
      "-rw-r--r-- 1 mykyta users 396M May 21 16:04 embedded_train_FULL_ensemble_chunk15of26.pt\n",
      "-rw-r--r-- 1 mykyta users 396M May 21 16:06 embedded_train_FULL_ensemble_chunk16of26.pt\n",
      "-rw-r--r-- 1 mykyta users 396M May 21 16:08 embedded_train_FULL_ensemble_chunk17of26.pt\n",
      "-rw-r--r-- 1 mykyta users 396M May 21 16:10 embedded_train_FULL_ensemble_chunk18of26.pt\n",
      "-rw-r--r-- 1 mykyta users 396M May 21 16:11 embedded_train_FULL_ensemble_chunk19of26.pt\n",
      "-rw-r--r-- 1 mykyta users 396M May 21 15:36 embedded_train_FULL_ensemble_chunk1of26.pt\n",
      "-rw-r--r-- 1 mykyta users 396M May 21 16:13 embedded_train_FULL_ensemble_chunk20of26.pt\n",
      "-rw-r--r-- 1 mykyta users 396M May 21 16:15 embedded_train_FULL_ensemble_chunk21of26.pt\n",
      "-rw-r--r-- 1 mykyta users 396M May 21 16:17 embedded_train_FULL_ensemble_chunk22of26.pt\n",
      "-rw-r--r-- 1 mykyta users 396M May 21 16:19 embedded_train_FULL_ensemble_chunk23of26.pt\n",
      "-rw-r--r-- 1 mykyta users 396M May 21 16:22 embedded_train_FULL_ensemble_chunk24of26.pt\n",
      "-rw-r--r-- 1 mykyta users 396M May 21 16:24 embedded_train_FULL_ensemble_chunk25of26.pt\n",
      "-rw-r--r-- 1 mykyta users 385M May 21 16:26 embedded_train_FULL_ensemble_chunk26of26.pt\n",
      "-rw-r--r-- 1 mykyta users 396M May 21 15:39 embedded_train_FULL_ensemble_chunk2of26.pt\n",
      "-rw-r--r-- 1 mykyta users 396M May 21 15:40 embedded_train_FULL_ensemble_chunk3of26.pt\n",
      "-rw-r--r-- 1 mykyta users 396M May 21 15:42 embedded_train_FULL_ensemble_chunk4of26.pt\n",
      "-rw-r--r-- 1 mykyta users 396M May 21 15:44 embedded_train_FULL_ensemble_chunk5of26.pt\n",
      "-rw-r--r-- 1 mykyta users 396M May 21 15:46 embedded_train_FULL_ensemble_chunk6of26.pt\n",
      "-rw-r--r-- 1 mykyta users 396M May 21 15:48 embedded_train_FULL_ensemble_chunk7of26.pt\n",
      "-rw-r--r-- 1 mykyta users 396M May 21 15:50 embedded_train_FULL_ensemble_chunk8of26.pt\n",
      "-rw-r--r-- 1 mykyta users 396M May 21 15:52 embedded_train_FULL_ensemble_chunk9of26.pt\n"
     ]
    }
   ],
   "source": [
    "!ls -lah /gpfs/space/projects/stud_nlp_share/ensemble/train"
   ]
  },
  {
   "cell_type": "code",
   "execution_count": 37,
   "metadata": {},
   "outputs": [],
   "source": [
    "!mkdir /gpfs/space/projects/stud_nlp_share/ensemble/train\n",
    "!mkdir /gpfs/space/projects/stud_nlp_share/ensemble/test\n",
    "!mv /gpfs/space/projects/stud_nlp_share/ensemble/*train*.pt /gpfs/space/projects/stud_nlp_share/ensemble/train/\n",
    "!mv /gpfs/space/projects/stud_nlp_share/ensemble/*test*.pt /gpfs/space/projects/stud_nlp_share/ensemble/test/"
   ]
  },
  {
   "cell_type": "code",
   "execution_count": null,
   "metadata": {},
   "outputs": [],
   "source": []
  }
 ],
 "metadata": {
  "kernelspec": {
   "display_name": "Python (nlp)",
   "language": "python",
   "name": "nlp"
  },
  "language_info": {
   "codemirror_mode": {
    "name": "ipython",
    "version": 3
   },
   "file_extension": ".py",
   "mimetype": "text/x-python",
   "name": "python",
   "nbconvert_exporter": "python",
   "pygments_lexer": "ipython3",
   "version": "3.8.8"
  }
 },
 "nbformat": 4,
 "nbformat_minor": 4
}
