{
  "nbformat": 4,
  "nbformat_minor": 0,
  "metadata": {
    "accelerator": "GPU",
    "colab": {
      "name": "train on ensemble+gpt preprocesses vectors",
      "provenance": [],
      "collapsed_sections": [],
      "machine_shape": "hm"
    },
    "kernelspec": {
      "display_name": "Python 3",
      "name": "python3"
    },
    "language_info": {
      "name": "python"
    }
  },
  "cells": [
    {
      "cell_type": "markdown",
      "metadata": {
        "id": "JWEh39ZL1p3Z"
      },
      "source": [
        "# Setup"
      ]
    },
    {
      "cell_type": "code",
      "metadata": {
        "id": "6IzK2sYUISVU"
      },
      "source": [
        "%%capture\n",
        "pip install --upgrade wandb"
      ],
      "execution_count": null,
      "outputs": []
    },
    {
      "cell_type": "code",
      "metadata": {
        "colab": {
          "base_uri": "https://localhost:8080/"
        },
        "id": "pf-4hN5NFbFM",
        "outputId": "52c45cd8-7c66-4cd8-cad3-e477fa5db8c8"
      },
      "source": [
        "!wandb login "
      ],
      "execution_count": null,
      "outputs": [
        {
          "output_type": "stream",
          "text": [
            "\u001b[34m\u001b[1mwandb\u001b[0m: You can find your API key in your browser here: https://wandb.ai/authorize\n",
            "\u001b[34m\u001b[1mwandb\u001b[0m: Paste an API key from your profile and hit enter: \n",
            "\u001b[34m\u001b[1mwandb\u001b[0m: Appending key for api.wandb.ai to your netrc file: /root/.netrc\n"
          ],
          "name": "stdout"
        }
      ]
    },
    {
      "cell_type": "code",
      "metadata": {
        "id": "GioCoO6LIlML"
      },
      "source": [
        "!mkdir vectorized-fixed\n",
        "!mkdir vectorized-fixed/train\n",
        "!mkdir gpt2-vectors\n",
        "!mkdir gpt2-vectors/train"
      ],
      "execution_count": null,
      "outputs": []
    },
    {
      "cell_type": "code",
      "metadata": {
        "colab": {
          "base_uri": "https://localhost:8080/"
        },
        "id": "jmGxRWFGIaNX",
        "outputId": "7cc17214-bcec-4283-e51f-0b11fc64bed8"
      },
      "source": [
        "from google.colab import drive\n",
        "drive.mount('/content/drive')\n"
      ],
      "execution_count": null,
      "outputs": [
        {
          "output_type": "stream",
          "text": [
            "Drive already mounted at /content/drive; to attempt to forcibly remount, call drive.mount(\"/content/drive\", force_remount=True).\n"
          ],
          "name": "stdout"
        }
      ]
    },
    {
      "cell_type": "code",
      "metadata": {
        "id": "DAuhZdtQJJIn"
      },
      "source": [
        "!cp -r \"/content/drive/MyDrive/Colab Notebooks/NLP/project/vectorized-fixed/train/\" \"vectorized-fixed/\""
      ],
      "execution_count": null,
      "outputs": []
    },
    {
      "cell_type": "code",
      "metadata": {
        "id": "gD6P0OUMI2vl"
      },
      "source": [
        "!cp -r \"/content/drive/MyDrive/Colab Notebooks/NLP/project/gpt2-vectors/train/\" \"gpt2-vectors/\""
      ],
      "execution_count": null,
      "outputs": []
    },
    {
      "cell_type": "code",
      "metadata": {
        "colab": {
          "base_uri": "https://localhost:8080/"
        },
        "id": "Fgj88POfmDYv",
        "outputId": "f5f8910b-a6cb-4765-a4dc-f79f97efee8a"
      },
      "source": [
        "\n",
        "%cd \"/content/drive/MyDrive/Colab Notebooks/NLP/project/\"\n"
      ],
      "execution_count": null,
      "outputs": [
        {
          "output_type": "stream",
          "text": [
            "/content/drive/MyDrive/Colab Notebooks/NLP/project\n"
          ],
          "name": "stdout"
        }
      ]
    },
    {
      "cell_type": "markdown",
      "metadata": {
        "id": "sB_ZhA2G2zbP"
      },
      "source": [
        "# Load training data"
      ]
    },
    {
      "cell_type": "code",
      "metadata": {
        "id": "beVtVqF4hte8"
      },
      "source": [
        "from torch.utils.data import IterableDataset, DataLoader\n",
        "import os\n",
        "import sys\n",
        "import torch\n",
        "from pathlib import Path\n",
        "import gc\n",
        "import numpy as np\n",
        "\n",
        "module_path = \"ut-mit-news-classify/NYT/\"\n",
        "if module_path not in sys.path:\n",
        "    sys.path.append(module_path)\n",
        "import utils\n",
        "\n",
        "\n",
        "class ConcatenatingDataset(IterableDataset):\n",
        "    def __init__(self, ensemble_dataset, gpt_dataset):\n",
        "#       assert len(ensemble_dataset) == len(gpt_dataset)\n",
        "        self.ensemble_dataset = ensemble_dataset\n",
        "        self.gpt_dataset = gpt_dataset\n",
        "\n",
        "    def __len__(self):\n",
        "        return len(self.gpt_dataset) if len(self.gpt_dataset) < len(self.ensemble_dataset) else len(self.ensemble_dataset)\n",
        "\n",
        "    def __iter__(self):       \n",
        "        for ensemble_X, gpt in zip(self.ensemble_dataset, self.gpt_dataset):\n",
        "            yield torch.cat((ensemble_X, gpt[0]), 0), gpt[1]\n",
        "\n",
        "            \n",
        "class ChunkDataset(IterableDataset):\n",
        "    def __init__(self, file_paths):\n",
        "        self.file_paths = file_paths\n",
        "        self.total_length = None\n",
        "\n",
        "    def __len__(self):\n",
        "        if self.total_length is not None:\n",
        "            return self.total_length\n",
        "        \n",
        "        self.total_length = 0\n",
        "        for fp in self.file_paths:\n",
        "            print(f'Loading for len {fp}')\n",
        "            self.total_length += len(torch.load(fp).X)\n",
        "            gc.collect()\n",
        "        return self.total_length\n",
        "\n",
        "    def __iter__(self):\n",
        "        for fp in self.file_paths:\n",
        "            print(f'Loading for iter {fp}')\n",
        "            dataset = torch.load(fp)\n",
        "            gc.collect()\n",
        "            if hasattr(dataset, 'y'):\n",
        "                for x, y in zip(dataset.X, dataset.y):\n",
        "                    yield x, y\n",
        "            else:\n",
        "                for x in dataset.X:\n",
        "                    yield x\n"
      ],
      "execution_count": null,
      "outputs": []
    },
    {
      "cell_type": "code",
      "metadata": {
        "id": "lxaAq4SJTmmZ"
      },
      "source": [
        "gpt_vectorized_chunks_path = Path('/content/gpt2-vectors/train')\n",
        "gpt_file_paths = os.listdir(gpt_vectorized_chunks_path)\n",
        "sorted_gpt_filenames = sorted(gpt_file_paths, key=lambda fn: int(fn.split('chunk')[1].split('of')[0]))\n",
        "sorted_gpt_filepaths = [gpt_vectorized_chunks_path / Path(p) for p in sorted_gpt_filenames]\n"
      ],
      "execution_count": null,
      "outputs": []
    },
    {
      "cell_type": "code",
      "metadata": {
        "id": "BOKl3tDudyhU"
      },
      "source": [
        "ensemble_vectorized_chunks_path = '/content/vectorized-fixed/train'\n",
        "ensemble_file_paths = os.listdir(ensemble_vectorized_chunks_path)\n",
        "sorted_ensemble_filenames = sorted(ensemble_file_paths, key=lambda fn: int(fn.split('chunk')[1].split('of')[0]))\n",
        "sorted_ensemble_filepaths = [ensemble_vectorized_chunks_path / Path(p) for p in sorted_ensemble_filenames]\n"
      ],
      "execution_count": null,
      "outputs": []
    },
    {
      "cell_type": "code",
      "metadata": {
        "colab": {
          "base_uri": "https://localhost:8080/"
        },
        "id": "nf7jKT4ZeA6k",
        "outputId": "d5ee7569-dd8e-4fb4-b0fe-f6831b7cd51d"
      },
      "source": [
        "concat_dataset = ConcatenatingDataset(\n",
        "    ChunkDataset(sorted_ensemble_filepaths),\n",
        "    ChunkDataset(sorted_gpt_filepaths))\n",
        "\n",
        "train_X, train_y = [], []\n",
        "gc.collect()\n",
        "for x, y in concat_dataset:\n",
        "    train_X.append(x.numpy())\n",
        "    train_y.append(y.numpy())\n",
        "\n",
        "train_X = np.asarray(train_X)\n",
        "train_y = np.asarray(train_y)\n",
        "gc.collect()"
      ],
      "execution_count": null,
      "outputs": [
        {
          "output_type": "stream",
          "text": [
            "Loading for iter /content/vectorized-fixed/train/ensemble_vect_train_chunk1of24.pt\n",
            "Loading for iter /content/gpt2-vectors/train/train_1195k_min500_cutoff_replace_chunk1of4.pt\n",
            "Loading for iter /content/vectorized-fixed/train/ensemble_vect_train_chunk2of24.pt\n",
            "Loading for iter /content/vectorized-fixed/train/ensemble_vect_train_chunk3of24.pt\n",
            "Loading for iter /content/vectorized-fixed/train/ensemble_vect_train_chunk4of24.pt\n",
            "Loading for iter /content/vectorized-fixed/train/ensemble_vect_train_chunk5of24.pt\n",
            "Loading for iter /content/vectorized-fixed/train/ensemble_vect_train_chunk6of24.pt\n",
            "Loading for iter /content/gpt2-vectors/train/train_1195k_min500_cutoff_replace_chunk2of4.pt\n",
            "Loading for iter /content/vectorized-fixed/train/ensemble_vect_train_chunk7of24.pt\n",
            "Loading for iter /content/vectorized-fixed/train/ensemble_vect_train_chunk8of24.pt\n",
            "Loading for iter /content/vectorized-fixed/train/ensemble_vect_train_chunk9of24.pt\n",
            "Loading for iter /content/vectorized-fixed/train/ensemble_vect_train_chunk10of24.pt\n",
            "Loading for iter /content/vectorized-fixed/train/ensemble_vect_train_chunk11of24.pt\n",
            "Loading for iter /content/vectorized-fixed/train/ensemble_vect_train_chunk12of24.pt\n",
            "Loading for iter /content/gpt2-vectors/train/train_1195k_min500_cutoff_replace_chunk3of4.pt\n",
            "Loading for iter /content/vectorized-fixed/train/ensemble_vect_train_chunk13of24.pt\n",
            "Loading for iter /content/vectorized-fixed/train/ensemble_vect_train_chunk14of24.pt\n",
            "Loading for iter /content/vectorized-fixed/train/ensemble_vect_train_chunk15of24.pt\n",
            "Loading for iter /content/vectorized-fixed/train/ensemble_vect_train_chunk16of24.pt\n",
            "Loading for iter /content/vectorized-fixed/train/ensemble_vect_train_chunk17of24.pt\n",
            "Loading for iter /content/vectorized-fixed/train/ensemble_vect_train_chunk18of24.pt\n",
            "Loading for iter /content/gpt2-vectors/train/train_1195k_min500_cutoff_replace_chunk4of4.pt\n",
            "Loading for iter /content/vectorized-fixed/train/ensemble_vect_train_chunk19of24.pt\n",
            "Loading for iter /content/vectorized-fixed/train/ensemble_vect_train_chunk20of24.pt\n",
            "Loading for iter /content/vectorized-fixed/train/ensemble_vect_train_chunk21of24.pt\n",
            "Loading for iter /content/vectorized-fixed/train/ensemble_vect_train_chunk22of24.pt\n",
            "Loading for iter /content/vectorized-fixed/train/ensemble_vect_train_chunk23of24.pt\n",
            "Loading for iter /content/vectorized-fixed/train/ensemble_vect_train_chunk24of24.pt\n"
          ],
          "name": "stdout"
        },
        {
          "output_type": "execute_result",
          "data": {
            "text/plain": [
              "0"
            ]
          },
          "metadata": {
            "tags": []
          },
          "execution_count": 11
        }
      ]
    },
    {
      "cell_type": "code",
      "metadata": {
        "colab": {
          "base_uri": "https://localhost:8080/"
        },
        "id": "O0RjHYdi_Cd-",
        "outputId": "a901ea58-231b-4906-d27b-67b1486c2f2f"
      },
      "source": [
        "train_X.shape, train_y.shape"
      ],
      "execution_count": null,
      "outputs": [
        {
          "output_type": "execute_result",
          "data": {
            "text/plain": [
              "((1195938, 1768), (1195938, 538))"
            ]
          },
          "metadata": {
            "tags": []
          },
          "execution_count": 12
        }
      ]
    },
    {
      "cell_type": "code",
      "metadata": {
        "colab": {
          "base_uri": "https://localhost:8080/"
        },
        "id": "jVdZPNTC-K4I",
        "outputId": "f1ebed2c-e92f-4d72-a927-f0c55f9a2a5a"
      },
      "source": [
        "del concat_dataset\n",
        "gc.collect()"
      ],
      "execution_count": null,
      "outputs": [
        {
          "output_type": "execute_result",
          "data": {
            "text/plain": [
              "100"
            ]
          },
          "metadata": {
            "tags": []
          },
          "execution_count": 13
        }
      ]
    },
    {
      "cell_type": "markdown",
      "metadata": {
        "id": "oReOHtUJ2LFS"
      },
      "source": [
        "# Configure and start Wandb job"
      ]
    },
    {
      "cell_type": "code",
      "metadata": {
        "colab": {
          "base_uri": "https://localhost:8080/",
          "height": 136
        },
        "id": "LIecSECbFg3U",
        "outputId": "b96b8301-d0d9-4103-c0f7-81689abd56ee"
      },
      "source": [
        "import wandb\n",
        "\n",
        "# Start a new run\n",
        "run = wandb.init(project='ensemble-plus-gpt2', entity='ut-mit-news-classify')\n",
        "\n",
        "#hyperparams\n",
        "epochs = 200\n",
        "patience = 50\n",
        "batch_size = 256\n",
        "learning_rate = 1e-5\n",
        "validation_split = 0.1\n",
        "\n",
        "#reduce learning rate callback params\n",
        "factor = 0.2\n",
        "reduce_lr_patience = 5\n",
        "min_lr = 1e-7\n",
        "\n",
        "# Save hyperparameters\n",
        "config = wandb.config\n",
        "config.batch_size = batch_size\n",
        "config.epochs = epochs\n",
        "config.early_stopping_patience = patience\n",
        "config.learning_rate = learning_rate\n",
        "config.validation_split = validation_split\n",
        "\n",
        "config.reduce_lr = f'factor-{factor}__patience-{reduce_lr_patience}__min_lr-{min_lr}'\n"
      ],
      "execution_count": null,
      "outputs": [
        {
          "output_type": "stream",
          "text": [
            "\u001b[34m\u001b[1mwandb\u001b[0m: Currently logged in as: \u001b[33mkristjan\u001b[0m (use `wandb login --relogin` to force relogin)\n"
          ],
          "name": "stderr"
        },
        {
          "output_type": "display_data",
          "data": {
            "text/html": [
              "\n",
              "                Tracking run with wandb version 0.10.30<br/>\n",
              "                Syncing run <strong style=\"color:#cdcd00\">sage-salad-14</strong> to <a href=\"https://wandb.ai\" target=\"_blank\">Weights & Biases</a> <a href=\"https://docs.wandb.com/integrations/jupyter.html\" target=\"_blank\">(Documentation)</a>.<br/>\n",
              "                Project page: <a href=\"https://wandb.ai/ut-mit-news-classify/ensemble-plus-gpt2\" target=\"_blank\">https://wandb.ai/ut-mit-news-classify/ensemble-plus-gpt2</a><br/>\n",
              "                Run page: <a href=\"https://wandb.ai/ut-mit-news-classify/ensemble-plus-gpt2/runs/3h9iffyz\" target=\"_blank\">https://wandb.ai/ut-mit-news-classify/ensemble-plus-gpt2/runs/3h9iffyz</a><br/>\n",
              "                Run data is saved locally in <code>/content/drive/My Drive/Colab Notebooks/NLP/project/wandb/run-20210525_101136-3h9iffyz</code><br/><br/>\n",
              "            "
            ],
            "text/plain": [
              "<IPython.core.display.HTML object>"
            ]
          },
          "metadata": {
            "tags": []
          }
        }
      ]
    },
    {
      "cell_type": "markdown",
      "metadata": {
        "id": "cZ8Jp3HH11Vo"
      },
      "source": [
        "# Metrics functions for training with Keras"
      ]
    },
    {
      "cell_type": "code",
      "metadata": {
        "id": "plCDxgG99TvJ"
      },
      "source": [
        "from keras import backend as K\n",
        "\n",
        "def recall(y_true, y_pred):\n",
        "    true_positives = K.sum(K.round(K.clip(y_true * y_pred, 0, 1)))\n",
        "    possible_positives = K.sum(K.round(K.clip(y_true, 0, 1)))\n",
        "    recall = true_positives / (possible_positives + K.epsilon())\n",
        "    return recall\n",
        "\n",
        "def precision(y_true, y_pred):\n",
        "    true_positives = K.sum(K.round(K.clip(y_true * y_pred, 0, 1)))\n",
        "    predicted_positives = K.sum(K.round(K.clip(y_pred, 0, 1)))\n",
        "    precision = true_positives / (predicted_positives + K.epsilon())\n",
        "    return precision\n",
        "\n",
        "def f1(y_true, y_pred):\n",
        "    p = precision(y_true, y_pred)\n",
        "    r = recall(y_true, y_pred)\n",
        "    return 2*((p*r)/(p+r+K.epsilon()))\n"
      ],
      "execution_count": null,
      "outputs": []
    },
    {
      "cell_type": "markdown",
      "metadata": {
        "id": "yUt--FSj2A94"
      },
      "source": [
        "# Create and Compile Model"
      ]
    },
    {
      "cell_type": "code",
      "metadata": {
        "colab": {
          "base_uri": "https://localhost:8080/"
        },
        "id": "POZNPfIO8gVS",
        "outputId": "13e5eec1-13f8-4472-e5c9-4908ae10eaa6"
      },
      "source": [
        "import keras\n",
        "from keras import layers\n",
        "\n",
        "model = keras.Sequential()\n",
        "model.add(layers.Dense(1400, activation=\"relu\", input_shape=(1768,)))\n",
        "model.add(layers.Dense(900, activation=\"relu\", input_shape=(1768,)))\n",
        "model.add(layers.Dense(538, activation=\"sigmoid\", input_shape=(1768,)))\n",
        "\n",
        "model.summary()"
      ],
      "execution_count": null,
      "outputs": [
        {
          "output_type": "stream",
          "text": [
            "Model: \"sequential\"\n",
            "_________________________________________________________________\n",
            "Layer (type)                 Output Shape              Param #   \n",
            "=================================================================\n",
            "dense (Dense)                (None, 1400)              2476600   \n",
            "_________________________________________________________________\n",
            "dense_1 (Dense)              (None, 900)               1260900   \n",
            "_________________________________________________________________\n",
            "dense_2 (Dense)              (None, 538)               484738    \n",
            "=================================================================\n",
            "Total params: 4,222,238\n",
            "Trainable params: 4,222,238\n",
            "Non-trainable params: 0\n",
            "_________________________________________________________________\n"
          ],
          "name": "stdout"
        }
      ]
    },
    {
      "cell_type": "code",
      "metadata": {
        "id": "MjMcel-Mw-x4"
      },
      "source": [
        "best_val_loss_model_filename = 'ensemble-gpt-vectors-with-filtered-and-cut-off-ends-all-train-articles.h5'\n"
      ],
      "execution_count": null,
      "outputs": []
    },
    {
      "cell_type": "code",
      "metadata": {
        "id": "O5FRM9hpW4JZ"
      },
      "source": [
        "from wandb.keras import WandbCallback\n",
        "from keras.callbacks import EarlyStopping, ModelCheckpoint, ReduceLROnPlateau\n",
        "\n",
        "\n",
        "mc = ModelCheckpoint(best_val_loss_model_filename, monitor='val_loss', mode='min')\n",
        "es = EarlyStopping(monitor='val_loss', mode='min', verbose=1, patience=patience)\n",
        "reduce_lr = ReduceLROnPlateau(monitor='val_loss', factor=factor, patience=reduce_lr_patience, min_lr=min_lr)\n",
        "callbacks = [mc, es, reduce_lr, WandbCallback()]\n",
        "\n",
        "opt = keras.optimizers.Adam(learning_rate=learning_rate)\n",
        "\n",
        "model.compile(loss='binary_crossentropy', optimizer=opt, metrics=['accuracy', recall, precision, f1])\n"
      ],
      "execution_count": null,
      "outputs": []
    },
    {
      "cell_type": "markdown",
      "metadata": {
        "id": "ZpDTuczX254e"
      },
      "source": [
        "# Train!"
      ]
    },
    {
      "cell_type": "code",
      "metadata": {
        "colab": {
          "base_uri": "https://localhost:8080/"
        },
        "id": "eBfBEZcv_TnW",
        "outputId": "aa0dd9c8-a466-415c-dd2e-177096b0678d"
      },
      "source": [
        "\n",
        "model.fit(train_X, train_y, epochs=epochs, callbacks=callbacks, validation_split=validation_split)\n"
      ],
      "execution_count": null,
      "outputs": [
        {
          "output_type": "stream",
          "text": [
            "Epoch 1/200\n",
            "    6/29899 [..............................] - ETA: 5:05 - loss: 1.6361 - accuracy: 0.0000e+00 - recall: 0.4827 - precision: 0.0056 - f1: 0.0110    WARNING:tensorflow:Callback method `on_train_batch_end` is slow compared to the batch time (batch time: 0.0032s vs `on_train_batch_end` time: 0.0065s). Check your callbacks.\n",
            "29899/29899 [==============================] - 126s 4ms/step - loss: 0.0414 - accuracy: 0.4032 - recall: 0.2356 - precision: 0.7698 - f1: 0.3282 - val_loss: 0.0113 - val_accuracy: 0.5486 - val_recall: 0.5204 - val_precision: 0.8225 - val_f1: 0.6352\n",
            "Epoch 2/200\n",
            "29899/29899 [==============================] - 121s 4ms/step - loss: 0.0108 - accuracy: 0.5431 - recall: 0.5311 - precision: 0.8310 - f1: 0.6457 - val_loss: 0.0101 - val_accuracy: 0.5397 - val_recall: 0.5621 - val_precision: 0.8328 - val_f1: 0.6691\n",
            "Epoch 3/200\n",
            "29899/29899 [==============================] - 121s 4ms/step - loss: 0.0099 - accuracy: 0.5401 - recall: 0.5778 - precision: 0.8275 - f1: 0.6784 - val_loss: 0.0098 - val_accuracy: 0.5223 - val_recall: 0.5689 - val_precision: 0.8390 - val_f1: 0.6760\n",
            "Epoch 4/200\n",
            "29899/29899 [==============================] - 121s 4ms/step - loss: 0.0095 - accuracy: 0.5351 - recall: 0.5977 - precision: 0.8266 - f1: 0.6918 - val_loss: 0.0095 - val_accuracy: 0.5269 - val_recall: 0.5866 - val_precision: 0.8374 - val_f1: 0.6880\n",
            "Epoch 5/200\n",
            "29899/29899 [==============================] - 121s 4ms/step - loss: 0.0093 - accuracy: 0.5328 - recall: 0.6081 - precision: 0.8259 - f1: 0.6985 - val_loss: 0.0093 - val_accuracy: 0.5345 - val_recall: 0.6233 - val_precision: 0.8106 - val_f1: 0.7029\n",
            "Epoch 6/200\n",
            "29899/29899 [==============================] - 121s 4ms/step - loss: 0.0091 - accuracy: 0.5308 - recall: 0.6160 - precision: 0.8263 - f1: 0.7039 - val_loss: 0.0093 - val_accuracy: 0.5105 - val_recall: 0.5951 - val_precision: 0.8387 - val_f1: 0.6943\n",
            "Epoch 7/200\n",
            "29899/29899 [==============================] - 129s 4ms/step - loss: 0.0090 - accuracy: 0.5285 - recall: 0.6219 - precision: 0.8270 - f1: 0.7081 - val_loss: 0.0092 - val_accuracy: 0.5163 - val_recall: 0.6050 - val_precision: 0.8322 - val_f1: 0.6989\n",
            "Epoch 8/200\n",
            "29899/29899 [==============================] - 130s 4ms/step - loss: 0.0089 - accuracy: 0.5228 - recall: 0.6259 - precision: 0.8273 - f1: 0.7108 - val_loss: 0.0091 - val_accuracy: 0.5125 - val_recall: 0.6203 - val_precision: 0.8218 - val_f1: 0.7052\n",
            "Epoch 9/200\n",
            "29899/29899 [==============================] - 121s 4ms/step - loss: 0.0088 - accuracy: 0.5248 - recall: 0.6289 - precision: 0.8275 - f1: 0.7128 - val_loss: 0.0091 - val_accuracy: 0.5281 - val_recall: 0.6183 - val_precision: 0.8279 - val_f1: 0.7061\n",
            "Epoch 10/200\n",
            "29899/29899 [==============================] - 121s 4ms/step - loss: 0.0088 - accuracy: 0.5237 - recall: 0.6325 - precision: 0.8282 - f1: 0.7154 - val_loss: 0.0090 - val_accuracy: 0.5215 - val_recall: 0.6186 - val_precision: 0.8276 - val_f1: 0.7062\n",
            "Epoch 11/200\n",
            "29899/29899 [==============================] - 121s 4ms/step - loss: 0.0087 - accuracy: 0.5210 - recall: 0.6343 - precision: 0.8287 - f1: 0.7167 - val_loss: 0.0090 - val_accuracy: 0.4986 - val_recall: 0.6366 - val_precision: 0.8129 - val_f1: 0.7123\n",
            "Epoch 12/200\n",
            "29899/29899 [==============================] - 120s 4ms/step - loss: 0.0087 - accuracy: 0.5206 - recall: 0.6364 - precision: 0.8292 - f1: 0.7183 - val_loss: 0.0090 - val_accuracy: 0.5046 - val_recall: 0.6155 - val_precision: 0.8322 - val_f1: 0.7059\n",
            "Epoch 13/200\n",
            "29899/29899 [==============================] - 120s 4ms/step - loss: 0.0086 - accuracy: 0.5214 - recall: 0.6387 - precision: 0.8296 - f1: 0.7199 - val_loss: 0.0090 - val_accuracy: 0.5073 - val_recall: 0.6457 - val_precision: 0.8086 - val_f1: 0.7163\n",
            "Epoch 14/200\n",
            "29899/29899 [==============================] - 120s 4ms/step - loss: 0.0086 - accuracy: 0.5193 - recall: 0.6405 - precision: 0.8300 - f1: 0.7212 - val_loss: 0.0089 - val_accuracy: 0.5148 - val_recall: 0.6310 - val_precision: 0.8215 - val_f1: 0.7120\n",
            "Epoch 15/200\n",
            "29899/29899 [==============================] - 120s 4ms/step - loss: 0.0085 - accuracy: 0.5216 - recall: 0.6419 - precision: 0.8306 - f1: 0.7224 - val_loss: 0.0089 - val_accuracy: 0.5235 - val_recall: 0.6375 - val_precision: 0.8170 - val_f1: 0.7144\n",
            "Epoch 16/200\n",
            "29899/29899 [==============================] - 120s 4ms/step - loss: 0.0085 - accuracy: 0.5213 - recall: 0.6437 - precision: 0.8316 - f1: 0.7239 - val_loss: 0.0089 - val_accuracy: 0.4903 - val_recall: 0.6286 - val_precision: 0.8234 - val_f1: 0.7112\n",
            "Epoch 17/200\n",
            "29899/29899 [==============================] - 119s 4ms/step - loss: 0.0085 - accuracy: 0.5221 - recall: 0.6450 - precision: 0.8321 - f1: 0.7249 - val_loss: 0.0089 - val_accuracy: 0.5237 - val_recall: 0.6441 - val_precision: 0.8122 - val_f1: 0.7167\n",
            "Epoch 18/200\n",
            "29899/29899 [==============================] - 120s 4ms/step - loss: 0.0084 - accuracy: 0.5217 - recall: 0.6467 - precision: 0.8323 - f1: 0.7261 - val_loss: 0.0089 - val_accuracy: 0.5194 - val_recall: 0.6373 - val_precision: 0.8169 - val_f1: 0.7143\n",
            "Epoch 19/200\n",
            "29899/29899 [==============================] - 119s 4ms/step - loss: 0.0083 - accuracy: 0.5249 - recall: 0.6512 - precision: 0.8358 - f1: 0.7303 - val_loss: 0.0088 - val_accuracy: 0.5156 - val_recall: 0.6395 - val_precision: 0.8220 - val_f1: 0.7176\n",
            "Epoch 20/200\n",
            "29899/29899 [==============================] - 119s 4ms/step - loss: 0.0082 - accuracy: 0.5256 - recall: 0.6526 - precision: 0.8360 - f1: 0.7313 - val_loss: 0.0088 - val_accuracy: 0.5175 - val_recall: 0.6444 - val_precision: 0.8176 - val_f1: 0.7190\n",
            "Epoch 21/200\n",
            "29899/29899 [==============================] - 119s 4ms/step - loss: 0.0082 - accuracy: 0.5211 - recall: 0.6532 - precision: 0.8362 - f1: 0.7318 - val_loss: 0.0088 - val_accuracy: 0.5197 - val_recall: 0.6363 - val_precision: 0.8242 - val_f1: 0.7165\n",
            "Epoch 22/200\n",
            "29899/29899 [==============================] - 118s 4ms/step - loss: 0.0082 - accuracy: 0.5221 - recall: 0.6525 - precision: 0.8367 - f1: 0.7315 - val_loss: 0.0088 - val_accuracy: 0.5232 - val_recall: 0.6413 - val_precision: 0.8207 - val_f1: 0.7183\n",
            "Epoch 23/200\n",
            "29899/29899 [==============================] - 119s 4ms/step - loss: 0.0082 - accuracy: 0.5244 - recall: 0.6536 - precision: 0.8369 - f1: 0.7322 - val_loss: 0.0088 - val_accuracy: 0.5190 - val_recall: 0.6464 - val_precision: 0.8158 - val_f1: 0.7196\n",
            "Epoch 24/200\n",
            "29899/29899 [==============================] - 118s 4ms/step - loss: 0.0082 - accuracy: 0.5227 - recall: 0.6536 - precision: 0.8370 - f1: 0.7323 - val_loss: 0.0088 - val_accuracy: 0.5225 - val_recall: 0.6362 - val_precision: 0.8248 - val_f1: 0.7166\n",
            "Epoch 25/200\n",
            "29899/29899 [==============================] - 118s 4ms/step - loss: 0.0082 - accuracy: 0.5223 - recall: 0.6538 - precision: 0.8379 - f1: 0.7328 - val_loss: 0.0087 - val_accuracy: 0.5192 - val_recall: 0.6405 - val_precision: 0.8224 - val_f1: 0.7185\n",
            "Epoch 26/200\n",
            "29899/29899 [==============================] - 118s 4ms/step - loss: 0.0082 - accuracy: 0.5227 - recall: 0.6548 - precision: 0.8381 - f1: 0.7335 - val_loss: 0.0087 - val_accuracy: 0.5186 - val_recall: 0.6387 - val_precision: 0.8236 - val_f1: 0.7178\n",
            "Epoch 27/200\n",
            "29899/29899 [==============================] - 119s 4ms/step - loss: 0.0082 - accuracy: 0.5240 - recall: 0.6546 - precision: 0.8381 - f1: 0.7335 - val_loss: 0.0087 - val_accuracy: 0.5195 - val_recall: 0.6380 - val_precision: 0.8243 - val_f1: 0.7175\n",
            "Epoch 28/200\n",
            "29899/29899 [==============================] - 118s 4ms/step - loss: 0.0082 - accuracy: 0.5236 - recall: 0.6547 - precision: 0.8382 - f1: 0.7335 - val_loss: 0.0087 - val_accuracy: 0.5199 - val_recall: 0.6423 - val_precision: 0.8205 - val_f1: 0.7189\n",
            "Epoch 29/200\n",
            "29899/29899 [==============================] - 119s 4ms/step - loss: 0.0082 - accuracy: 0.5245 - recall: 0.6544 - precision: 0.8380 - f1: 0.7333 - val_loss: 0.0087 - val_accuracy: 0.5205 - val_recall: 0.6371 - val_precision: 0.8250 - val_f1: 0.7173\n",
            "Epoch 30/200\n",
            "29899/29899 [==============================] - 120s 4ms/step - loss: 0.0082 - accuracy: 0.5255 - recall: 0.6542 - precision: 0.8384 - f1: 0.7333 - val_loss: 0.0087 - val_accuracy: 0.5203 - val_recall: 0.6403 - val_precision: 0.8227 - val_f1: 0.7184\n",
            "Epoch 31/200\n",
            "29899/29899 [==============================] - 119s 4ms/step - loss: 0.0082 - accuracy: 0.5254 - recall: 0.6552 - precision: 0.8384 - f1: 0.7339 - val_loss: 0.0087 - val_accuracy: 0.5191 - val_recall: 0.6409 - val_precision: 0.8222 - val_f1: 0.7186\n",
            "Epoch 32/200\n",
            "29899/29899 [==============================] - 118s 4ms/step - loss: 0.0082 - accuracy: 0.5252 - recall: 0.6550 - precision: 0.8381 - f1: 0.7336 - val_loss: 0.0087 - val_accuracy: 0.5204 - val_recall: 0.6397 - val_precision: 0.8232 - val_f1: 0.7182\n",
            "Epoch 33/200\n",
            "29899/29899 [==============================] - 118s 4ms/step - loss: 0.0082 - accuracy: 0.5252 - recall: 0.6547 - precision: 0.8381 - f1: 0.7335 - val_loss: 0.0087 - val_accuracy: 0.5198 - val_recall: 0.6393 - val_precision: 0.8234 - val_f1: 0.7181\n",
            "Epoch 34/200\n",
            "29899/29899 [==============================] - 118s 4ms/step - loss: 0.0082 - accuracy: 0.5247 - recall: 0.6548 - precision: 0.8385 - f1: 0.7337 - val_loss: 0.0087 - val_accuracy: 0.5195 - val_recall: 0.6405 - val_precision: 0.8224 - val_f1: 0.7185\n",
            "Epoch 35/200\n",
            "29899/29899 [==============================] - 118s 4ms/step - loss: 0.0082 - accuracy: 0.5248 - recall: 0.6549 - precision: 0.8382 - f1: 0.7336 - val_loss: 0.0087 - val_accuracy: 0.5205 - val_recall: 0.6407 - val_precision: 0.8223 - val_f1: 0.7186\n",
            "Epoch 36/200\n",
            "29899/29899 [==============================] - 118s 4ms/step - loss: 0.0082 - accuracy: 0.5249 - recall: 0.6544 - precision: 0.8383 - f1: 0.7334 - val_loss: 0.0087 - val_accuracy: 0.5189 - val_recall: 0.6404 - val_precision: 0.8226 - val_f1: 0.7185\n",
            "Epoch 37/200\n",
            "29899/29899 [==============================] - 118s 4ms/step - loss: 0.0082 - accuracy: 0.5249 - recall: 0.6550 - precision: 0.8385 - f1: 0.7338 - val_loss: 0.0087 - val_accuracy: 0.5208 - val_recall: 0.6406 - val_precision: 0.8225 - val_f1: 0.7185\n",
            "Epoch 38/200\n",
            "29899/29899 [==============================] - 117s 4ms/step - loss: 0.0082 - accuracy: 0.5249 - recall: 0.6552 - precision: 0.8386 - f1: 0.7340 - val_loss: 0.0087 - val_accuracy: 0.5199 - val_recall: 0.6404 - val_precision: 0.8225 - val_f1: 0.7184\n",
            "Epoch 39/200\n",
            "29899/29899 [==============================] - 118s 4ms/step - loss: 0.0082 - accuracy: 0.5257 - recall: 0.6549 - precision: 0.8383 - f1: 0.7337 - val_loss: 0.0087 - val_accuracy: 0.5204 - val_recall: 0.6392 - val_precision: 0.8236 - val_f1: 0.7181\n",
            "Epoch 40/200\n",
            "29899/29899 [==============================] - 117s 4ms/step - loss: 0.0082 - accuracy: 0.5251 - recall: 0.6547 - precision: 0.8388 - f1: 0.7337 - val_loss: 0.0087 - val_accuracy: 0.5203 - val_recall: 0.6390 - val_precision: 0.8236 - val_f1: 0.7180\n",
            "Epoch 41/200\n",
            "29899/29899 [==============================] - 119s 4ms/step - loss: 0.0082 - accuracy: 0.5253 - recall: 0.6549 - precision: 0.8382 - f1: 0.7336 - val_loss: 0.0087 - val_accuracy: 0.5213 - val_recall: 0.6398 - val_precision: 0.8231 - val_f1: 0.7183\n",
            "Epoch 42/200\n",
            "29899/29899 [==============================] - 122s 4ms/step - loss: 0.0082 - accuracy: 0.5253 - recall: 0.6550 - precision: 0.8384 - f1: 0.7338 - val_loss: 0.0087 - val_accuracy: 0.5208 - val_recall: 0.6387 - val_precision: 0.8241 - val_f1: 0.7180\n",
            "Epoch 43/200\n",
            "29899/29899 [==============================] - 120s 4ms/step - loss: 0.0082 - accuracy: 0.5248 - recall: 0.6541 - precision: 0.8383 - f1: 0.7332 - val_loss: 0.0087 - val_accuracy: 0.5202 - val_recall: 0.6414 - val_precision: 0.8216 - val_f1: 0.7187\n",
            "Epoch 44/200\n",
            "29899/29899 [==============================] - 121s 4ms/step - loss: 0.0082 - accuracy: 0.5243 - recall: 0.6550 - precision: 0.8385 - f1: 0.7338 - val_loss: 0.0087 - val_accuracy: 0.5208 - val_recall: 0.6390 - val_precision: 0.8239 - val_f1: 0.7180\n",
            "Epoch 45/200\n",
            "29899/29899 [==============================] - 120s 4ms/step - loss: 0.0082 - accuracy: 0.5250 - recall: 0.6546 - precision: 0.8384 - f1: 0.7335 - val_loss: 0.0087 - val_accuracy: 0.5205 - val_recall: 0.6403 - val_precision: 0.8226 - val_f1: 0.7184\n",
            "Epoch 46/200\n",
            "29899/29899 [==============================] - 121s 4ms/step - loss: 0.0082 - accuracy: 0.5251 - recall: 0.6548 - precision: 0.8383 - f1: 0.7336 - val_loss: 0.0087 - val_accuracy: 0.5198 - val_recall: 0.6405 - val_precision: 0.8225 - val_f1: 0.7185\n",
            "Epoch 47/200\n",
            "29899/29899 [==============================] - 121s 4ms/step - loss: 0.0082 - accuracy: 0.5240 - recall: 0.6547 - precision: 0.8381 - f1: 0.7334 - val_loss: 0.0087 - val_accuracy: 0.5206 - val_recall: 0.6413 - val_precision: 0.8219 - val_f1: 0.7187\n",
            "Epoch 48/200\n",
            "29899/29899 [==============================] - 120s 4ms/step - loss: 0.0082 - accuracy: 0.5255 - recall: 0.6550 - precision: 0.8384 - f1: 0.7337 - val_loss: 0.0087 - val_accuracy: 0.5203 - val_recall: 0.6390 - val_precision: 0.8238 - val_f1: 0.7181\n",
            "Epoch 49/200\n",
            "29899/29899 [==============================] - 120s 4ms/step - loss: 0.0082 - accuracy: 0.5248 - recall: 0.6547 - precision: 0.8384 - f1: 0.7336 - val_loss: 0.0087 - val_accuracy: 0.5197 - val_recall: 0.6384 - val_precision: 0.8241 - val_f1: 0.7178\n",
            "Epoch 50/200\n",
            "29899/29899 [==============================] - 121s 4ms/step - loss: 0.0081 - accuracy: 0.5251 - recall: 0.6549 - precision: 0.8388 - f1: 0.7339 - val_loss: 0.0087 - val_accuracy: 0.5211 - val_recall: 0.6414 - val_precision: 0.8219 - val_f1: 0.7188\n",
            "Epoch 51/200\n",
            "29899/29899 [==============================] - 123s 4ms/step - loss: 0.0082 - accuracy: 0.5258 - recall: 0.6548 - precision: 0.8384 - f1: 0.7337 - val_loss: 0.0087 - val_accuracy: 0.5202 - val_recall: 0.6397 - val_precision: 0.8233 - val_f1: 0.7183\n",
            "Epoch 52/200\n",
            "29899/29899 [==============================] - 124s 4ms/step - loss: 0.0082 - accuracy: 0.5244 - recall: 0.6545 - precision: 0.8385 - f1: 0.7335 - val_loss: 0.0087 - val_accuracy: 0.5208 - val_recall: 0.6396 - val_precision: 0.8232 - val_f1: 0.7182\n",
            "Epoch 53/200\n",
            "29899/29899 [==============================] - 122s 4ms/step - loss: 0.0081 - accuracy: 0.5251 - recall: 0.6548 - precision: 0.8384 - f1: 0.7336 - val_loss: 0.0087 - val_accuracy: 0.5192 - val_recall: 0.6390 - val_precision: 0.8238 - val_f1: 0.7180\n",
            "Epoch 54/200\n",
            "29899/29899 [==============================] - 122s 4ms/step - loss: 0.0082 - accuracy: 0.5250 - recall: 0.6546 - precision: 0.8382 - f1: 0.7335 - val_loss: 0.0087 - val_accuracy: 0.5192 - val_recall: 0.6399 - val_precision: 0.8230 - val_f1: 0.7183\n",
            "Epoch 55/200\n",
            "29899/29899 [==============================] - 122s 4ms/step - loss: 0.0082 - accuracy: 0.5238 - recall: 0.6550 - precision: 0.8385 - f1: 0.7338 - val_loss: 0.0087 - val_accuracy: 0.5201 - val_recall: 0.6401 - val_precision: 0.8231 - val_f1: 0.7184\n",
            "Epoch 56/200\n",
            "29899/29899 [==============================] - 125s 4ms/step - loss: 0.0082 - accuracy: 0.5250 - recall: 0.6549 - precision: 0.8383 - f1: 0.7337 - val_loss: 0.0087 - val_accuracy: 0.5205 - val_recall: 0.6401 - val_precision: 0.8229 - val_f1: 0.7184\n",
            "Epoch 57/200\n",
            "29899/29899 [==============================] - 124s 4ms/step - loss: 0.0082 - accuracy: 0.5246 - recall: 0.6550 - precision: 0.8386 - f1: 0.7339 - val_loss: 0.0087 - val_accuracy: 0.5211 - val_recall: 0.6396 - val_precision: 0.8233 - val_f1: 0.7182\n",
            "Epoch 58/200\n",
            "29899/29899 [==============================] - 123s 4ms/step - loss: 0.0081 - accuracy: 0.5260 - recall: 0.6549 - precision: 0.8384 - f1: 0.7338 - val_loss: 0.0087 - val_accuracy: 0.5191 - val_recall: 0.6392 - val_precision: 0.8235 - val_f1: 0.7181\n",
            "Epoch 59/200\n",
            "29899/29899 [==============================] - 123s 4ms/step - loss: 0.0082 - accuracy: 0.5244 - recall: 0.6550 - precision: 0.8384 - f1: 0.7338 - val_loss: 0.0087 - val_accuracy: 0.5199 - val_recall: 0.6389 - val_precision: 0.8240 - val_f1: 0.7180\n",
            "Epoch 60/200\n",
            "29899/29899 [==============================] - 123s 4ms/step - loss: 0.0082 - accuracy: 0.5251 - recall: 0.6548 - precision: 0.8384 - f1: 0.7336 - val_loss: 0.0087 - val_accuracy: 0.5198 - val_recall: 0.6404 - val_precision: 0.8227 - val_f1: 0.7185\n",
            "Epoch 61/200\n",
            "29899/29899 [==============================] - 122s 4ms/step - loss: 0.0081 - accuracy: 0.5245 - recall: 0.6555 - precision: 0.8390 - f1: 0.7343 - val_loss: 0.0087 - val_accuracy: 0.5204 - val_recall: 0.6395 - val_precision: 0.8234 - val_f1: 0.7182\n",
            "Epoch 62/200\n",
            "29899/29899 [==============================] - 122s 4ms/step - loss: 0.0082 - accuracy: 0.5257 - recall: 0.6546 - precision: 0.8386 - f1: 0.7336 - val_loss: 0.0087 - val_accuracy: 0.5194 - val_recall: 0.6392 - val_precision: 0.8238 - val_f1: 0.7182\n",
            "Epoch 63/200\n",
            "29899/29899 [==============================] - 121s 4ms/step - loss: 0.0081 - accuracy: 0.5249 - recall: 0.6554 - precision: 0.8391 - f1: 0.7343 - val_loss: 0.0087 - val_accuracy: 0.5202 - val_recall: 0.6414 - val_precision: 0.8218 - val_f1: 0.7188\n",
            "Epoch 64/200\n",
            "29899/29899 [==============================] - 122s 4ms/step - loss: 0.0082 - accuracy: 0.5253 - recall: 0.6550 - precision: 0.8386 - f1: 0.7338 - val_loss: 0.0087 - val_accuracy: 0.5192 - val_recall: 0.6397 - val_precision: 0.8233 - val_f1: 0.7183\n",
            "Epoch 65/200\n",
            "29899/29899 [==============================] - 122s 4ms/step - loss: 0.0082 - accuracy: 0.5240 - recall: 0.6550 - precision: 0.8386 - f1: 0.7338 - val_loss: 0.0087 - val_accuracy: 0.5216 - val_recall: 0.6390 - val_precision: 0.8237 - val_f1: 0.7180\n",
            "Epoch 66/200\n",
            "29899/29899 [==============================] - 121s 4ms/step - loss: 0.0081 - accuracy: 0.5259 - recall: 0.6555 - precision: 0.8386 - f1: 0.7342 - val_loss: 0.0087 - val_accuracy: 0.5215 - val_recall: 0.6409 - val_precision: 0.8222 - val_f1: 0.7186\n",
            "Epoch 67/200\n",
            "29899/29899 [==============================] - 122s 4ms/step - loss: 0.0082 - accuracy: 0.5257 - recall: 0.6551 - precision: 0.8385 - f1: 0.7339 - val_loss: 0.0087 - val_accuracy: 0.5202 - val_recall: 0.6394 - val_precision: 0.8237 - val_f1: 0.7182\n",
            "Epoch 68/200\n",
            "29899/29899 [==============================] - 121s 4ms/step - loss: 0.0081 - accuracy: 0.5254 - recall: 0.6553 - precision: 0.8389 - f1: 0.7342 - val_loss: 0.0087 - val_accuracy: 0.5192 - val_recall: 0.6393 - val_precision: 0.8236 - val_f1: 0.7182\n",
            "Epoch 69/200\n",
            "29899/29899 [==============================] - 122s 4ms/step - loss: 0.0081 - accuracy: 0.5251 - recall: 0.6556 - precision: 0.8386 - f1: 0.7342 - val_loss: 0.0087 - val_accuracy: 0.5204 - val_recall: 0.6394 - val_precision: 0.8235 - val_f1: 0.7182\n",
            "Epoch 70/200\n",
            "29899/29899 [==============================] - 121s 4ms/step - loss: 0.0082 - accuracy: 0.5254 - recall: 0.6551 - precision: 0.8389 - f1: 0.7340 - val_loss: 0.0087 - val_accuracy: 0.5198 - val_recall: 0.6388 - val_precision: 0.8240 - val_f1: 0.7180\n",
            "Epoch 71/200\n",
            "29899/29899 [==============================] - 122s 4ms/step - loss: 0.0082 - accuracy: 0.5262 - recall: 0.6551 - precision: 0.8388 - f1: 0.7340 - val_loss: 0.0087 - val_accuracy: 0.5209 - val_recall: 0.6405 - val_precision: 0.8226 - val_f1: 0.7185\n",
            "Epoch 72/200\n",
            "29899/29899 [==============================] - 121s 4ms/step - loss: 0.0081 - accuracy: 0.5262 - recall: 0.6556 - precision: 0.8386 - f1: 0.7342 - val_loss: 0.0087 - val_accuracy: 0.5197 - val_recall: 0.6407 - val_precision: 0.8225 - val_f1: 0.7186\n",
            "Epoch 73/200\n",
            "29899/29899 [==============================] - 121s 4ms/step - loss: 0.0082 - accuracy: 0.5257 - recall: 0.6551 - precision: 0.8386 - f1: 0.7339 - val_loss: 0.0087 - val_accuracy: 0.5203 - val_recall: 0.6394 - val_precision: 0.8237 - val_f1: 0.7182\n",
            "Epoch 74/200\n",
            "29899/29899 [==============================] - 122s 4ms/step - loss: 0.0081 - accuracy: 0.5245 - recall: 0.6554 - precision: 0.8390 - f1: 0.7343 - val_loss: 0.0087 - val_accuracy: 0.5203 - val_recall: 0.6400 - val_precision: 0.8230 - val_f1: 0.7184\n",
            "Epoch 75/200\n",
            "29899/29899 [==============================] - 121s 4ms/step - loss: 0.0082 - accuracy: 0.5254 - recall: 0.6542 - precision: 0.8384 - f1: 0.7333 - val_loss: 0.0087 - val_accuracy: 0.5198 - val_recall: 0.6404 - val_precision: 0.8227 - val_f1: 0.7185\n",
            "Epoch 76/200\n",
            "29899/29899 [==============================] - 121s 4ms/step - loss: 0.0082 - accuracy: 0.5263 - recall: 0.6551 - precision: 0.8383 - f1: 0.7338 - val_loss: 0.0087 - val_accuracy: 0.5201 - val_recall: 0.6399 - val_precision: 0.8232 - val_f1: 0.7184\n",
            "Epoch 77/200\n",
            "29899/29899 [==============================] - 123s 4ms/step - loss: 0.0082 - accuracy: 0.5251 - recall: 0.6548 - precision: 0.8384 - f1: 0.7337 - val_loss: 0.0087 - val_accuracy: 0.5212 - val_recall: 0.6408 - val_precision: 0.8223 - val_f1: 0.7186\n",
            "Epoch 78/200\n",
            "29899/29899 [==============================] - 121s 4ms/step - loss: 0.0081 - accuracy: 0.5257 - recall: 0.6553 - precision: 0.8388 - f1: 0.7341 - val_loss: 0.0087 - val_accuracy: 0.5214 - val_recall: 0.6407 - val_precision: 0.8223 - val_f1: 0.7185\n",
            "Epoch 79/200\n",
            "29899/29899 [==============================] - 122s 4ms/step - loss: 0.0082 - accuracy: 0.5250 - recall: 0.6551 - precision: 0.8387 - f1: 0.7339 - val_loss: 0.0087 - val_accuracy: 0.5206 - val_recall: 0.6402 - val_precision: 0.8229 - val_f1: 0.7185\n",
            "Epoch 80/200\n",
            "29899/29899 [==============================] - 121s 4ms/step - loss: 0.0081 - accuracy: 0.5263 - recall: 0.6554 - precision: 0.8387 - f1: 0.7341 - val_loss: 0.0087 - val_accuracy: 0.5196 - val_recall: 0.6396 - val_precision: 0.8234 - val_f1: 0.7183\n",
            "Epoch 81/200\n",
            "29899/29899 [==============================] - 122s 4ms/step - loss: 0.0082 - accuracy: 0.5250 - recall: 0.6553 - precision: 0.8389 - f1: 0.7342 - val_loss: 0.0087 - val_accuracy: 0.5205 - val_recall: 0.6412 - val_precision: 0.8221 - val_f1: 0.7188\n",
            "Epoch 82/200\n",
            "29899/29899 [==============================] - 123s 4ms/step - loss: 0.0081 - accuracy: 0.5262 - recall: 0.6553 - precision: 0.8386 - f1: 0.7341 - val_loss: 0.0087 - val_accuracy: 0.5196 - val_recall: 0.6406 - val_precision: 0.8227 - val_f1: 0.7186\n",
            "Epoch 83/200\n",
            "29899/29899 [==============================] - 122s 4ms/step - loss: 0.0082 - accuracy: 0.5242 - recall: 0.6554 - precision: 0.8390 - f1: 0.7342 - val_loss: 0.0087 - val_accuracy: 0.5200 - val_recall: 0.6405 - val_precision: 0.8229 - val_f1: 0.7186\n",
            "Epoch 84/200\n",
            "29899/29899 [==============================] - 123s 4ms/step - loss: 0.0082 - accuracy: 0.5250 - recall: 0.6551 - precision: 0.8389 - f1: 0.7341 - val_loss: 0.0087 - val_accuracy: 0.5203 - val_recall: 0.6399 - val_precision: 0.8231 - val_f1: 0.7184\n",
            "Epoch 85/200\n",
            "29899/29899 [==============================] - 122s 4ms/step - loss: 0.0082 - accuracy: 0.5247 - recall: 0.6555 - precision: 0.8390 - f1: 0.7343 - val_loss: 0.0087 - val_accuracy: 0.5211 - val_recall: 0.6409 - val_precision: 0.8222 - val_f1: 0.7186\n",
            "Epoch 86/200\n",
            "29899/29899 [==============================] - 122s 4ms/step - loss: 0.0081 - accuracy: 0.5253 - recall: 0.6554 - precision: 0.8385 - f1: 0.7340 - val_loss: 0.0087 - val_accuracy: 0.5208 - val_recall: 0.6412 - val_precision: 0.8222 - val_f1: 0.7188\n",
            "Epoch 87/200\n",
            "29899/29899 [==============================] - 123s 4ms/step - loss: 0.0081 - accuracy: 0.5258 - recall: 0.6554 - precision: 0.8387 - f1: 0.7341 - val_loss: 0.0087 - val_accuracy: 0.5208 - val_recall: 0.6406 - val_precision: 0.8226 - val_f1: 0.7185\n",
            "Epoch 88/200\n",
            "29899/29899 [==============================] - 124s 4ms/step - loss: 0.0081 - accuracy: 0.5251 - recall: 0.6556 - precision: 0.8388 - f1: 0.7343 - val_loss: 0.0087 - val_accuracy: 0.5196 - val_recall: 0.6410 - val_precision: 0.8222 - val_f1: 0.7187\n",
            "Epoch 89/200\n",
            "29899/29899 [==============================] - 122s 4ms/step - loss: 0.0081 - accuracy: 0.5256 - recall: 0.6553 - precision: 0.8382 - f1: 0.7339 - val_loss: 0.0087 - val_accuracy: 0.5197 - val_recall: 0.6398 - val_precision: 0.8234 - val_f1: 0.7184\n",
            "Epoch 90/200\n",
            "29899/29899 [==============================] - 126s 4ms/step - loss: 0.0081 - accuracy: 0.5248 - recall: 0.6555 - precision: 0.8388 - f1: 0.7342 - val_loss: 0.0087 - val_accuracy: 0.5205 - val_recall: 0.6400 - val_precision: 0.8232 - val_f1: 0.7184\n",
            "Epoch 91/200\n",
            "29899/29899 [==============================] - 124s 4ms/step - loss: 0.0081 - accuracy: 0.5246 - recall: 0.6558 - precision: 0.8392 - f1: 0.7346 - val_loss: 0.0087 - val_accuracy: 0.5203 - val_recall: 0.6393 - val_precision: 0.8237 - val_f1: 0.7182\n",
            "Epoch 92/200\n",
            "29899/29899 [==============================] - 124s 4ms/step - loss: 0.0081 - accuracy: 0.5262 - recall: 0.6551 - precision: 0.8390 - f1: 0.7341 - val_loss: 0.0087 - val_accuracy: 0.5192 - val_recall: 0.6408 - val_precision: 0.8226 - val_f1: 0.7187\n",
            "Epoch 93/200\n",
            "29899/29899 [==============================] - 124s 4ms/step - loss: 0.0081 - accuracy: 0.5251 - recall: 0.6555 - precision: 0.8385 - f1: 0.7341 - val_loss: 0.0087 - val_accuracy: 0.5198 - val_recall: 0.6395 - val_precision: 0.8234 - val_f1: 0.7182\n",
            "Epoch 94/200\n",
            "29899/29899 [==============================] - 124s 4ms/step - loss: 0.0081 - accuracy: 0.5252 - recall: 0.6555 - precision: 0.8390 - f1: 0.7344 - val_loss: 0.0087 - val_accuracy: 0.5204 - val_recall: 0.6405 - val_precision: 0.8227 - val_f1: 0.7186\n",
            "Epoch 95/200\n",
            "29899/29899 [==============================] - 124s 4ms/step - loss: 0.0081 - accuracy: 0.5253 - recall: 0.6557 - precision: 0.8389 - f1: 0.7343 - val_loss: 0.0087 - val_accuracy: 0.5205 - val_recall: 0.6400 - val_precision: 0.8231 - val_f1: 0.7184\n",
            "Epoch 96/200\n",
            "29899/29899 [==============================] - 123s 4ms/step - loss: 0.0081 - accuracy: 0.5258 - recall: 0.6558 - precision: 0.8391 - f1: 0.7345 - val_loss: 0.0087 - val_accuracy: 0.5197 - val_recall: 0.6404 - val_precision: 0.8225 - val_f1: 0.7185\n",
            "Epoch 97/200\n",
            "29899/29899 [==============================] - 122s 4ms/step - loss: 0.0082 - accuracy: 0.5252 - recall: 0.6552 - precision: 0.8390 - f1: 0.7341 - val_loss: 0.0087 - val_accuracy: 0.5210 - val_recall: 0.6397 - val_precision: 0.8234 - val_f1: 0.7183\n",
            "Epoch 98/200\n",
            "29899/29899 [==============================] - 123s 4ms/step - loss: 0.0081 - accuracy: 0.5261 - recall: 0.6554 - precision: 0.8389 - f1: 0.7343 - val_loss: 0.0087 - val_accuracy: 0.5205 - val_recall: 0.6423 - val_precision: 0.8211 - val_f1: 0.7191\n",
            "Epoch 99/200\n",
            "29899/29899 [==============================] - 123s 4ms/step - loss: 0.0081 - accuracy: 0.5247 - recall: 0.6558 - precision: 0.8388 - f1: 0.7345 - val_loss: 0.0087 - val_accuracy: 0.5212 - val_recall: 0.6415 - val_precision: 0.8219 - val_f1: 0.7189\n",
            "Epoch 100/200\n",
            "29899/29899 [==============================] - 124s 4ms/step - loss: 0.0081 - accuracy: 0.5254 - recall: 0.6560 - precision: 0.8392 - f1: 0.7348 - val_loss: 0.0087 - val_accuracy: 0.5211 - val_recall: 0.6406 - val_precision: 0.8227 - val_f1: 0.7186\n",
            "Epoch 101/200\n",
            "29899/29899 [==============================] - 125s 4ms/step - loss: 0.0081 - accuracy: 0.5265 - recall: 0.6554 - precision: 0.8388 - f1: 0.7342 - val_loss: 0.0087 - val_accuracy: 0.5201 - val_recall: 0.6397 - val_precision: 0.8233 - val_f1: 0.7183\n",
            "Epoch 102/200\n",
            "29899/29899 [==============================] - 124s 4ms/step - loss: 0.0081 - accuracy: 0.5254 - recall: 0.6558 - precision: 0.8388 - f1: 0.7344 - val_loss: 0.0087 - val_accuracy: 0.5203 - val_recall: 0.6392 - val_precision: 0.8237 - val_f1: 0.7181\n",
            "Epoch 103/200\n",
            "29899/29899 [==============================] - 123s 4ms/step - loss: 0.0081 - accuracy: 0.5261 - recall: 0.6558 - precision: 0.8395 - f1: 0.7346 - val_loss: 0.0087 - val_accuracy: 0.5193 - val_recall: 0.6387 - val_precision: 0.8243 - val_f1: 0.7180\n",
            "Epoch 104/200\n",
            "29899/29899 [==============================] - 124s 4ms/step - loss: 0.0081 - accuracy: 0.5257 - recall: 0.6555 - precision: 0.8387 - f1: 0.7342 - val_loss: 0.0087 - val_accuracy: 0.5192 - val_recall: 0.6404 - val_precision: 0.8227 - val_f1: 0.7185\n",
            "Epoch 105/200\n",
            "29899/29899 [==============================] - 123s 4ms/step - loss: 0.0081 - accuracy: 0.5248 - recall: 0.6559 - precision: 0.8392 - f1: 0.7346 - val_loss: 0.0087 - val_accuracy: 0.5205 - val_recall: 0.6398 - val_precision: 0.8232 - val_f1: 0.7183\n",
            "Epoch 106/200\n",
            "29899/29899 [==============================] - 124s 4ms/step - loss: 0.0081 - accuracy: 0.5257 - recall: 0.6552 - precision: 0.8389 - f1: 0.7340 - val_loss: 0.0087 - val_accuracy: 0.5186 - val_recall: 0.6410 - val_precision: 0.8222 - val_f1: 0.7187\n",
            "Epoch 107/200\n",
            "29899/29899 [==============================] - 123s 4ms/step - loss: 0.0081 - accuracy: 0.5257 - recall: 0.6558 - precision: 0.8390 - f1: 0.7345 - val_loss: 0.0087 - val_accuracy: 0.5193 - val_recall: 0.6407 - val_precision: 0.8224 - val_f1: 0.7186\n",
            "Epoch 108/200\n",
            "29899/29899 [==============================] - 124s 4ms/step - loss: 0.0081 - accuracy: 0.5256 - recall: 0.6558 - precision: 0.8390 - f1: 0.7345 - val_loss: 0.0087 - val_accuracy: 0.5203 - val_recall: 0.6411 - val_precision: 0.8222 - val_f1: 0.7188\n",
            "Epoch 109/200\n",
            "29899/29899 [==============================] - 124s 4ms/step - loss: 0.0081 - accuracy: 0.5258 - recall: 0.6566 - precision: 0.8397 - f1: 0.7352 - val_loss: 0.0087 - val_accuracy: 0.5210 - val_recall: 0.6406 - val_precision: 0.8225 - val_f1: 0.7186\n",
            "Epoch 110/200\n",
            "29899/29899 [==============================] - 122s 4ms/step - loss: 0.0081 - accuracy: 0.5249 - recall: 0.6557 - precision: 0.8389 - f1: 0.7344 - val_loss: 0.0087 - val_accuracy: 0.5198 - val_recall: 0.6395 - val_precision: 0.8236 - val_f1: 0.7183\n",
            "Epoch 111/200\n",
            "29899/29899 [==============================] - 121s 4ms/step - loss: 0.0081 - accuracy: 0.5256 - recall: 0.6554 - precision: 0.8391 - f1: 0.7343 - val_loss: 0.0087 - val_accuracy: 0.5192 - val_recall: 0.6394 - val_precision: 0.8237 - val_f1: 0.7183\n",
            "Epoch 112/200\n",
            "29899/29899 [==============================] - 121s 4ms/step - loss: 0.0081 - accuracy: 0.5253 - recall: 0.6554 - precision: 0.8391 - f1: 0.7342 - val_loss: 0.0087 - val_accuracy: 0.5216 - val_recall: 0.6407 - val_precision: 0.8225 - val_f1: 0.7186\n",
            "Epoch 113/200\n",
            "29899/29899 [==============================] - 121s 4ms/step - loss: 0.0081 - accuracy: 0.5254 - recall: 0.6560 - precision: 0.8392 - f1: 0.7347 - val_loss: 0.0087 - val_accuracy: 0.5195 - val_recall: 0.6407 - val_precision: 0.8224 - val_f1: 0.7186\n",
            "Epoch 114/200\n",
            "29899/29899 [==============================] - 121s 4ms/step - loss: 0.0081 - accuracy: 0.5261 - recall: 0.6558 - precision: 0.8387 - f1: 0.7344 - val_loss: 0.0087 - val_accuracy: 0.5188 - val_recall: 0.6409 - val_precision: 0.8225 - val_f1: 0.7187\n",
            "Epoch 115/200\n",
            "29899/29899 [==============================] - 121s 4ms/step - loss: 0.0081 - accuracy: 0.5239 - recall: 0.6559 - precision: 0.8392 - f1: 0.7346 - val_loss: 0.0087 - val_accuracy: 0.5208 - val_recall: 0.6410 - val_precision: 0.8223 - val_f1: 0.7187\n",
            "Epoch 116/200\n",
            "29899/29899 [==============================] - 121s 4ms/step - loss: 0.0081 - accuracy: 0.5270 - recall: 0.6555 - precision: 0.8390 - f1: 0.7343 - val_loss: 0.0087 - val_accuracy: 0.5193 - val_recall: 0.6387 - val_precision: 0.8241 - val_f1: 0.7180\n",
            "Epoch 117/200\n",
            "29899/29899 [==============================] - 122s 4ms/step - loss: 0.0081 - accuracy: 0.5257 - recall: 0.6558 - precision: 0.8393 - f1: 0.7346 - val_loss: 0.0087 - val_accuracy: 0.5203 - val_recall: 0.6397 - val_precision: 0.8236 - val_f1: 0.7184\n",
            "Epoch 118/200\n",
            "29899/29899 [==============================] - 123s 4ms/step - loss: 0.0081 - accuracy: 0.5254 - recall: 0.6558 - precision: 0.8393 - f1: 0.7347 - val_loss: 0.0087 - val_accuracy: 0.5205 - val_recall: 0.6394 - val_precision: 0.8238 - val_f1: 0.7183\n",
            "Epoch 119/200\n",
            "29899/29899 [==============================] - 123s 4ms/step - loss: 0.0081 - accuracy: 0.5250 - recall: 0.6558 - precision: 0.8393 - f1: 0.7347 - val_loss: 0.0087 - val_accuracy: 0.5210 - val_recall: 0.6408 - val_precision: 0.8227 - val_f1: 0.7187\n",
            "Epoch 120/200\n",
            "29899/29899 [==============================] - 122s 4ms/step - loss: 0.0082 - accuracy: 0.5252 - recall: 0.6553 - precision: 0.8389 - f1: 0.7341 - val_loss: 0.0087 - val_accuracy: 0.5206 - val_recall: 0.6393 - val_precision: 0.8238 - val_f1: 0.7182\n",
            "Epoch 121/200\n",
            "29899/29899 [==============================] - 122s 4ms/step - loss: 0.0081 - accuracy: 0.5253 - recall: 0.6563 - precision: 0.8394 - f1: 0.7350 - val_loss: 0.0087 - val_accuracy: 0.5217 - val_recall: 0.6397 - val_precision: 0.8235 - val_f1: 0.7184\n",
            "Epoch 122/200\n",
            "29899/29899 [==============================] - 124s 4ms/step - loss: 0.0081 - accuracy: 0.5267 - recall: 0.6558 - precision: 0.8394 - f1: 0.7347 - val_loss: 0.0087 - val_accuracy: 0.5205 - val_recall: 0.6405 - val_precision: 0.8226 - val_f1: 0.7185\n",
            "Epoch 123/200\n",
            "29899/29899 [==============================] - 122s 4ms/step - loss: 0.0081 - accuracy: 0.5251 - recall: 0.6559 - precision: 0.8389 - f1: 0.7345 - val_loss: 0.0087 - val_accuracy: 0.5206 - val_recall: 0.6405 - val_precision: 0.8228 - val_f1: 0.7186\n",
            "Epoch 124/200\n",
            "29899/29899 [==============================] - 125s 4ms/step - loss: 0.0081 - accuracy: 0.5246 - recall: 0.6558 - precision: 0.8395 - f1: 0.7347 - val_loss: 0.0087 - val_accuracy: 0.5209 - val_recall: 0.6397 - val_precision: 0.8232 - val_f1: 0.7182\n",
            "Epoch 125/200\n",
            "29899/29899 [==============================] - 124s 4ms/step - loss: 0.0081 - accuracy: 0.5253 - recall: 0.6556 - precision: 0.8392 - f1: 0.7345 - val_loss: 0.0087 - val_accuracy: 0.5205 - val_recall: 0.6391 - val_precision: 0.8240 - val_f1: 0.7181\n",
            "Epoch 126/200\n",
            "29899/29899 [==============================] - 125s 4ms/step - loss: 0.0081 - accuracy: 0.5270 - recall: 0.6563 - precision: 0.8394 - f1: 0.7350 - val_loss: 0.0087 - val_accuracy: 0.5207 - val_recall: 0.6394 - val_precision: 0.8239 - val_f1: 0.7183\n",
            "Epoch 127/200\n",
            "29899/29899 [==============================] - 125s 4ms/step - loss: 0.0081 - accuracy: 0.5266 - recall: 0.6557 - precision: 0.8391 - f1: 0.7345 - val_loss: 0.0087 - val_accuracy: 0.5196 - val_recall: 0.6413 - val_precision: 0.8222 - val_f1: 0.7189\n",
            "Epoch 128/200\n",
            "29899/29899 [==============================] - 127s 4ms/step - loss: 0.0081 - accuracy: 0.5250 - recall: 0.6565 - precision: 0.8394 - f1: 0.7351 - val_loss: 0.0087 - val_accuracy: 0.5207 - val_recall: 0.6410 - val_precision: 0.8223 - val_f1: 0.7187\n",
            "Epoch 129/200\n",
            "29899/29899 [==============================] - 125s 4ms/step - loss: 0.0081 - accuracy: 0.5264 - recall: 0.6561 - precision: 0.8391 - f1: 0.7347 - val_loss: 0.0087 - val_accuracy: 0.5199 - val_recall: 0.6401 - val_precision: 0.8230 - val_f1: 0.7184\n",
            "Epoch 130/200\n",
            "29899/29899 [==============================] - 126s 4ms/step - loss: 0.0081 - accuracy: 0.5253 - recall: 0.6560 - precision: 0.8389 - f1: 0.7346 - val_loss: 0.0087 - val_accuracy: 0.5199 - val_recall: 0.6387 - val_precision: 0.8243 - val_f1: 0.7180\n",
            "Epoch 131/200\n",
            "29899/29899 [==============================] - 128s 4ms/step - loss: 0.0081 - accuracy: 0.5256 - recall: 0.6559 - precision: 0.8393 - f1: 0.7347 - val_loss: 0.0087 - val_accuracy: 0.5211 - val_recall: 0.6397 - val_precision: 0.8234 - val_f1: 0.7183\n",
            "Epoch 132/200\n",
            "29899/29899 [==============================] - 125s 4ms/step - loss: 0.0081 - accuracy: 0.5254 - recall: 0.6556 - precision: 0.8387 - f1: 0.7343 - val_loss: 0.0087 - val_accuracy: 0.5212 - val_recall: 0.6405 - val_precision: 0.8229 - val_f1: 0.7186\n",
            "Epoch 133/200\n",
            "29899/29899 [==============================] - 126s 4ms/step - loss: 0.0081 - accuracy: 0.5253 - recall: 0.6558 - precision: 0.8393 - f1: 0.7347 - val_loss: 0.0087 - val_accuracy: 0.5197 - val_recall: 0.6396 - val_precision: 0.8235 - val_f1: 0.7183\n",
            "Epoch 134/200\n",
            "29899/29899 [==============================] - 125s 4ms/step - loss: 0.0081 - accuracy: 0.5244 - recall: 0.6553 - precision: 0.8388 - f1: 0.7341 - val_loss: 0.0087 - val_accuracy: 0.5206 - val_recall: 0.6397 - val_precision: 0.8234 - val_f1: 0.7183\n",
            "Epoch 135/200\n",
            "29899/29899 [==============================] - 127s 4ms/step - loss: 0.0081 - accuracy: 0.5264 - recall: 0.6560 - precision: 0.8389 - f1: 0.7346 - val_loss: 0.0087 - val_accuracy: 0.5212 - val_recall: 0.6412 - val_precision: 0.8221 - val_f1: 0.7188\n",
            "Epoch 136/200\n",
            "29899/29899 [==============================] - 126s 4ms/step - loss: 0.0081 - accuracy: 0.5268 - recall: 0.6568 - precision: 0.8396 - f1: 0.7353 - val_loss: 0.0087 - val_accuracy: 0.5210 - val_recall: 0.6403 - val_precision: 0.8228 - val_f1: 0.7185\n",
            "Epoch 137/200\n",
            "29899/29899 [==============================] - 126s 4ms/step - loss: 0.0081 - accuracy: 0.5259 - recall: 0.6561 - precision: 0.8392 - f1: 0.7348 - val_loss: 0.0087 - val_accuracy: 0.5209 - val_recall: 0.6407 - val_precision: 0.8227 - val_f1: 0.7187\n",
            "Epoch 138/200\n",
            "29899/29899 [==============================] - 124s 4ms/step - loss: 0.0081 - accuracy: 0.5262 - recall: 0.6564 - precision: 0.8396 - f1: 0.7351 - val_loss: 0.0087 - val_accuracy: 0.5206 - val_recall: 0.6397 - val_precision: 0.8235 - val_f1: 0.7184\n",
            "Epoch 139/200\n",
            "29899/29899 [==============================] - 125s 4ms/step - loss: 0.0081 - accuracy: 0.5265 - recall: 0.6565 - precision: 0.8395 - f1: 0.7351 - val_loss: 0.0087 - val_accuracy: 0.5203 - val_recall: 0.6412 - val_precision: 0.8222 - val_f1: 0.7188\n",
            "Epoch 140/200\n",
            "29899/29899 [==============================] - 125s 4ms/step - loss: 0.0081 - accuracy: 0.5258 - recall: 0.6563 - precision: 0.8393 - f1: 0.7349 - val_loss: 0.0087 - val_accuracy: 0.5220 - val_recall: 0.6417 - val_precision: 0.8218 - val_f1: 0.7190\n",
            "Epoch 141/200\n",
            "29899/29899 [==============================] - 125s 4ms/step - loss: 0.0081 - accuracy: 0.5257 - recall: 0.6562 - precision: 0.8392 - f1: 0.7348 - val_loss: 0.0087 - val_accuracy: 0.5213 - val_recall: 0.6407 - val_precision: 0.8225 - val_f1: 0.7186\n",
            "Epoch 142/200\n",
            "29899/29899 [==============================] - 124s 4ms/step - loss: 0.0081 - accuracy: 0.5255 - recall: 0.6559 - precision: 0.8392 - f1: 0.7347 - val_loss: 0.0087 - val_accuracy: 0.5194 - val_recall: 0.6409 - val_precision: 0.8224 - val_f1: 0.7187\n",
            "Epoch 143/200\n",
            "29899/29899 [==============================] - 124s 4ms/step - loss: 0.0081 - accuracy: 0.5244 - recall: 0.6555 - precision: 0.8390 - f1: 0.7343 - val_loss: 0.0087 - val_accuracy: 0.5203 - val_recall: 0.6386 - val_precision: 0.8243 - val_f1: 0.7180\n",
            "Epoch 144/200\n",
            "29899/29899 [==============================] - 123s 4ms/step - loss: 0.0081 - accuracy: 0.5251 - recall: 0.6558 - precision: 0.8394 - f1: 0.7347 - val_loss: 0.0087 - val_accuracy: 0.5205 - val_recall: 0.6411 - val_precision: 0.8223 - val_f1: 0.7188\n",
            "Epoch 145/200\n",
            "29899/29899 [==============================] - 123s 4ms/step - loss: 0.0081 - accuracy: 0.5251 - recall: 0.6561 - precision: 0.8392 - f1: 0.7348 - val_loss: 0.0087 - val_accuracy: 0.5198 - val_recall: 0.6401 - val_precision: 0.8230 - val_f1: 0.7184\n",
            "Epoch 146/200\n",
            "29899/29899 [==============================] - 123s 4ms/step - loss: 0.0081 - accuracy: 0.5263 - recall: 0.6559 - precision: 0.8389 - f1: 0.7345 - val_loss: 0.0087 - val_accuracy: 0.5213 - val_recall: 0.6406 - val_precision: 0.8227 - val_f1: 0.7186\n",
            "Epoch 147/200\n",
            "29899/29899 [==============================] - 123s 4ms/step - loss: 0.0081 - accuracy: 0.5270 - recall: 0.6561 - precision: 0.8389 - f1: 0.7347 - val_loss: 0.0087 - val_accuracy: 0.5205 - val_recall: 0.6418 - val_precision: 0.8215 - val_f1: 0.7189\n",
            "Epoch 148/200\n",
            "29899/29899 [==============================] - 125s 4ms/step - loss: 0.0081 - accuracy: 0.5256 - recall: 0.6559 - precision: 0.8388 - f1: 0.7345 - val_loss: 0.0087 - val_accuracy: 0.5213 - val_recall: 0.6398 - val_precision: 0.8234 - val_f1: 0.7184\n",
            "Epoch 149/200\n",
            "29899/29899 [==============================] - 124s 4ms/step - loss: 0.0081 - accuracy: 0.5261 - recall: 0.6563 - precision: 0.8394 - f1: 0.7350 - val_loss: 0.0087 - val_accuracy: 0.5208 - val_recall: 0.6402 - val_precision: 0.8229 - val_f1: 0.7185\n",
            "Epoch 150/200\n",
            "29899/29899 [==============================] - 124s 4ms/step - loss: 0.0081 - accuracy: 0.5269 - recall: 0.6563 - precision: 0.8392 - f1: 0.7349 - val_loss: 0.0087 - val_accuracy: 0.5200 - val_recall: 0.6395 - val_precision: 0.8236 - val_f1: 0.7183\n",
            "Epoch 151/200\n",
            "29899/29899 [==============================] - 122s 4ms/step - loss: 0.0081 - accuracy: 0.5256 - recall: 0.6562 - precision: 0.8395 - f1: 0.7349 - val_loss: 0.0087 - val_accuracy: 0.5208 - val_recall: 0.6408 - val_precision: 0.8224 - val_f1: 0.7186\n",
            "Epoch 152/200\n",
            "29899/29899 [==============================] - 122s 4ms/step - loss: 0.0081 - accuracy: 0.5256 - recall: 0.6565 - precision: 0.8396 - f1: 0.7352 - val_loss: 0.0087 - val_accuracy: 0.5198 - val_recall: 0.6402 - val_precision: 0.8231 - val_f1: 0.7185\n",
            "Epoch 153/200\n",
            "29899/29899 [==============================] - 121s 4ms/step - loss: 0.0081 - accuracy: 0.5257 - recall: 0.6559 - precision: 0.8393 - f1: 0.7347 - val_loss: 0.0087 - val_accuracy: 0.5203 - val_recall: 0.6404 - val_precision: 0.8230 - val_f1: 0.7186\n",
            "Epoch 154/200\n",
            "29899/29899 [==============================] - 121s 4ms/step - loss: 0.0081 - accuracy: 0.5265 - recall: 0.6560 - precision: 0.8393 - f1: 0.7348 - val_loss: 0.0087 - val_accuracy: 0.5200 - val_recall: 0.6407 - val_precision: 0.8226 - val_f1: 0.7186\n",
            "Epoch 155/200\n",
            "29899/29899 [==============================] - 121s 4ms/step - loss: 0.0081 - accuracy: 0.5259 - recall: 0.6560 - precision: 0.8391 - f1: 0.7347 - val_loss: 0.0087 - val_accuracy: 0.5207 - val_recall: 0.6407 - val_precision: 0.8226 - val_f1: 0.7187\n",
            "Epoch 156/200\n",
            "29899/29899 [==============================] - 121s 4ms/step - loss: 0.0081 - accuracy: 0.5258 - recall: 0.6567 - precision: 0.8394 - f1: 0.7352 - val_loss: 0.0087 - val_accuracy: 0.5209 - val_recall: 0.6408 - val_precision: 0.8225 - val_f1: 0.7187\n",
            "Epoch 157/200\n",
            "29899/29899 [==============================] - 122s 4ms/step - loss: 0.0081 - accuracy: 0.5266 - recall: 0.6567 - precision: 0.8392 - f1: 0.7351 - val_loss: 0.0087 - val_accuracy: 0.5209 - val_recall: 0.6398 - val_precision: 0.8235 - val_f1: 0.7184\n",
            "Epoch 158/200\n",
            "29899/29899 [==============================] - 122s 4ms/step - loss: 0.0081 - accuracy: 0.5254 - recall: 0.6563 - precision: 0.8393 - f1: 0.7350 - val_loss: 0.0087 - val_accuracy: 0.5200 - val_recall: 0.6394 - val_precision: 0.8237 - val_f1: 0.7183\n",
            "Epoch 159/200\n",
            "29899/29899 [==============================] - 124s 4ms/step - loss: 0.0081 - accuracy: 0.5255 - recall: 0.6563 - precision: 0.8393 - f1: 0.7349 - val_loss: 0.0087 - val_accuracy: 0.5211 - val_recall: 0.6408 - val_precision: 0.8226 - val_f1: 0.7187\n",
            "Epoch 160/200\n",
            "29899/29899 [==============================] - 120s 4ms/step - loss: 0.0081 - accuracy: 0.5255 - recall: 0.6571 - precision: 0.8398 - f1: 0.7357 - val_loss: 0.0087 - val_accuracy: 0.5215 - val_recall: 0.6409 - val_precision: 0.8225 - val_f1: 0.7187\n",
            "Epoch 161/200\n",
            "29899/29899 [==============================] - 120s 4ms/step - loss: 0.0081 - accuracy: 0.5250 - recall: 0.6563 - precision: 0.8392 - f1: 0.7349 - val_loss: 0.0087 - val_accuracy: 0.5210 - val_recall: 0.6399 - val_precision: 0.8233 - val_f1: 0.7184\n",
            "Epoch 162/200\n",
            "29899/29899 [==============================] - 120s 4ms/step - loss: 0.0081 - accuracy: 0.5268 - recall: 0.6563 - precision: 0.8395 - f1: 0.7350 - val_loss: 0.0087 - val_accuracy: 0.5212 - val_recall: 0.6415 - val_precision: 0.8219 - val_f1: 0.7189\n",
            "Epoch 163/200\n",
            "29899/29899 [==============================] - 120s 4ms/step - loss: 0.0081 - accuracy: 0.5264 - recall: 0.6560 - precision: 0.8391 - f1: 0.7347 - val_loss: 0.0087 - val_accuracy: 0.5213 - val_recall: 0.6413 - val_precision: 0.8221 - val_f1: 0.7189\n",
            "Epoch 164/200\n",
            "29899/29899 [==============================] - 121s 4ms/step - loss: 0.0081 - accuracy: 0.5262 - recall: 0.6569 - precision: 0.8393 - f1: 0.7353 - val_loss: 0.0087 - val_accuracy: 0.5208 - val_recall: 0.6413 - val_precision: 0.8221 - val_f1: 0.7188\n",
            "Epoch 165/200\n",
            "29899/29899 [==============================] - 121s 4ms/step - loss: 0.0081 - accuracy: 0.5262 - recall: 0.6562 - precision: 0.8393 - f1: 0.7349 - val_loss: 0.0087 - val_accuracy: 0.5206 - val_recall: 0.6398 - val_precision: 0.8234 - val_f1: 0.7184\n",
            "Epoch 166/200\n",
            "29899/29899 [==============================] - 120s 4ms/step - loss: 0.0081 - accuracy: 0.5252 - recall: 0.6563 - precision: 0.8391 - f1: 0.7348 - val_loss: 0.0087 - val_accuracy: 0.5218 - val_recall: 0.6416 - val_precision: 0.8217 - val_f1: 0.7189\n",
            "Epoch 167/200\n",
            "29899/29899 [==============================] - 121s 4ms/step - loss: 0.0081 - accuracy: 0.5261 - recall: 0.6565 - precision: 0.8389 - f1: 0.7350 - val_loss: 0.0087 - val_accuracy: 0.5215 - val_recall: 0.6408 - val_precision: 0.8226 - val_f1: 0.7187\n",
            "Epoch 168/200\n",
            "29899/29899 [==============================] - 122s 4ms/step - loss: 0.0081 - accuracy: 0.5263 - recall: 0.6566 - precision: 0.8393 - f1: 0.7351 - val_loss: 0.0087 - val_accuracy: 0.5200 - val_recall: 0.6409 - val_precision: 0.8226 - val_f1: 0.7187\n",
            "Epoch 169/200\n",
            "29899/29899 [==============================] - 125s 4ms/step - loss: 0.0081 - accuracy: 0.5261 - recall: 0.6562 - precision: 0.8391 - f1: 0.7348 - val_loss: 0.0087 - val_accuracy: 0.5208 - val_recall: 0.6400 - val_precision: 0.8232 - val_f1: 0.7184\n",
            "Epoch 170/200\n",
            "29899/29899 [==============================] - 124s 4ms/step - loss: 0.0081 - accuracy: 0.5249 - recall: 0.6562 - precision: 0.8395 - f1: 0.7350 - val_loss: 0.0087 - val_accuracy: 0.5206 - val_recall: 0.6401 - val_precision: 0.8232 - val_f1: 0.7185\n",
            "Epoch 171/200\n",
            "29899/29899 [==============================] - 124s 4ms/step - loss: 0.0081 - accuracy: 0.5258 - recall: 0.6564 - precision: 0.8394 - f1: 0.7351 - val_loss: 0.0087 - val_accuracy: 0.5211 - val_recall: 0.6396 - val_precision: 0.8235 - val_f1: 0.7183\n",
            "Epoch 172/200\n",
            "29899/29899 [==============================] - 124s 4ms/step - loss: 0.0081 - accuracy: 0.5271 - recall: 0.6561 - precision: 0.8393 - f1: 0.7348 - val_loss: 0.0087 - val_accuracy: 0.5202 - val_recall: 0.6411 - val_precision: 0.8223 - val_f1: 0.7188\n",
            "Epoch 173/200\n",
            "29899/29899 [==============================] - 124s 4ms/step - loss: 0.0081 - accuracy: 0.5256 - recall: 0.6560 - precision: 0.8393 - f1: 0.7348 - val_loss: 0.0087 - val_accuracy: 0.5212 - val_recall: 0.6406 - val_precision: 0.8227 - val_f1: 0.7186\n",
            "Epoch 174/200\n",
            "29899/29899 [==============================] - 124s 4ms/step - loss: 0.0081 - accuracy: 0.5258 - recall: 0.6562 - precision: 0.8391 - f1: 0.7348 - val_loss: 0.0087 - val_accuracy: 0.5214 - val_recall: 0.6408 - val_precision: 0.8224 - val_f1: 0.7187\n",
            "Epoch 175/200\n",
            "29899/29899 [==============================] - 124s 4ms/step - loss: 0.0081 - accuracy: 0.5264 - recall: 0.6567 - precision: 0.8397 - f1: 0.7354 - val_loss: 0.0087 - val_accuracy: 0.5204 - val_recall: 0.6414 - val_precision: 0.8221 - val_f1: 0.7189\n",
            "Epoch 176/200\n",
            "29899/29899 [==============================] - 124s 4ms/step - loss: 0.0081 - accuracy: 0.5258 - recall: 0.6566 - precision: 0.8397 - f1: 0.7353 - val_loss: 0.0087 - val_accuracy: 0.5215 - val_recall: 0.6412 - val_precision: 0.8222 - val_f1: 0.7188\n",
            "Epoch 177/200\n",
            "29899/29899 [==============================] - 125s 4ms/step - loss: 0.0081 - accuracy: 0.5258 - recall: 0.6564 - precision: 0.8391 - f1: 0.7349 - val_loss: 0.0087 - val_accuracy: 0.5214 - val_recall: 0.6402 - val_precision: 0.8231 - val_f1: 0.7185\n",
            "Epoch 178/200\n",
            "29899/29899 [==============================] - 124s 4ms/step - loss: 0.0081 - accuracy: 0.5257 - recall: 0.6568 - precision: 0.8398 - f1: 0.7355 - val_loss: 0.0087 - val_accuracy: 0.5215 - val_recall: 0.6414 - val_precision: 0.8220 - val_f1: 0.7189\n",
            "Epoch 179/200\n",
            "29899/29899 [==============================] - 125s 4ms/step - loss: 0.0081 - accuracy: 0.5273 - recall: 0.6567 - precision: 0.8395 - f1: 0.7352 - val_loss: 0.0087 - val_accuracy: 0.5199 - val_recall: 0.6402 - val_precision: 0.8231 - val_f1: 0.7185\n",
            "Epoch 180/200\n",
            "29899/29899 [==============================] - 124s 4ms/step - loss: 0.0081 - accuracy: 0.5267 - recall: 0.6567 - precision: 0.8394 - f1: 0.7353 - val_loss: 0.0087 - val_accuracy: 0.5211 - val_recall: 0.6408 - val_precision: 0.8226 - val_f1: 0.7187\n",
            "Epoch 181/200\n",
            "29899/29899 [==============================] - 124s 4ms/step - loss: 0.0081 - accuracy: 0.5259 - recall: 0.6566 - precision: 0.8394 - f1: 0.7352 - val_loss: 0.0087 - val_accuracy: 0.5211 - val_recall: 0.6393 - val_precision: 0.8239 - val_f1: 0.7183\n",
            "Epoch 182/200\n",
            "29899/29899 [==============================] - 124s 4ms/step - loss: 0.0081 - accuracy: 0.5270 - recall: 0.6563 - precision: 0.8395 - f1: 0.7350 - val_loss: 0.0087 - val_accuracy: 0.5207 - val_recall: 0.6405 - val_precision: 0.8228 - val_f1: 0.7186\n",
            "Epoch 183/200\n",
            "29899/29899 [==============================] - 124s 4ms/step - loss: 0.0081 - accuracy: 0.5257 - recall: 0.6565 - precision: 0.8393 - f1: 0.7351 - val_loss: 0.0087 - val_accuracy: 0.5210 - val_recall: 0.6402 - val_precision: 0.8233 - val_f1: 0.7186\n",
            "Epoch 184/200\n",
            "29899/29899 [==============================] - 125s 4ms/step - loss: 0.0081 - accuracy: 0.5262 - recall: 0.6565 - precision: 0.8396 - f1: 0.7352 - val_loss: 0.0087 - val_accuracy: 0.5214 - val_recall: 0.6398 - val_precision: 0.8235 - val_f1: 0.7184\n",
            "Epoch 185/200\n",
            "29899/29899 [==============================] - 124s 4ms/step - loss: 0.0081 - accuracy: 0.5263 - recall: 0.6563 - precision: 0.8399 - f1: 0.7352 - val_loss: 0.0087 - val_accuracy: 0.5204 - val_recall: 0.6386 - val_precision: 0.8244 - val_f1: 0.7180\n",
            "Epoch 186/200\n",
            "29899/29899 [==============================] - 125s 4ms/step - loss: 0.0081 - accuracy: 0.5261 - recall: 0.6567 - precision: 0.8398 - f1: 0.7354 - val_loss: 0.0087 - val_accuracy: 0.5208 - val_recall: 0.6412 - val_precision: 0.8223 - val_f1: 0.7188\n",
            "Epoch 187/200\n",
            "29899/29899 [==============================] - 125s 4ms/step - loss: 0.0081 - accuracy: 0.5256 - recall: 0.6571 - precision: 0.8395 - f1: 0.7356 - val_loss: 0.0087 - val_accuracy: 0.5213 - val_recall: 0.6416 - val_precision: 0.8219 - val_f1: 0.7190\n",
            "Epoch 188/200\n",
            "29899/29899 [==============================] - 124s 4ms/step - loss: 0.0081 - accuracy: 0.5261 - recall: 0.6564 - precision: 0.8394 - f1: 0.7350 - val_loss: 0.0087 - val_accuracy: 0.5206 - val_recall: 0.6389 - val_precision: 0.8243 - val_f1: 0.7181\n",
            "Epoch 189/200\n",
            "29899/29899 [==============================] - 125s 4ms/step - loss: 0.0081 - accuracy: 0.5251 - recall: 0.6563 - precision: 0.8394 - f1: 0.7350 - val_loss: 0.0087 - val_accuracy: 0.5207 - val_recall: 0.6408 - val_precision: 0.8227 - val_f1: 0.7187\n",
            "Epoch 190/200\n",
            "29899/29899 [==============================] - 125s 4ms/step - loss: 0.0081 - accuracy: 0.5268 - recall: 0.6568 - precision: 0.8396 - f1: 0.7354 - val_loss: 0.0087 - val_accuracy: 0.5208 - val_recall: 0.6417 - val_precision: 0.8219 - val_f1: 0.7190\n",
            "Epoch 191/200\n",
            "29899/29899 [==============================] - 125s 4ms/step - loss: 0.0081 - accuracy: 0.5258 - recall: 0.6561 - precision: 0.8388 - f1: 0.7346 - val_loss: 0.0087 - val_accuracy: 0.5215 - val_recall: 0.6402 - val_precision: 0.8233 - val_f1: 0.7186\n",
            "Epoch 192/200\n",
            "29899/29899 [==============================] - 125s 4ms/step - loss: 0.0081 - accuracy: 0.5254 - recall: 0.6569 - precision: 0.8397 - f1: 0.7355 - val_loss: 0.0087 - val_accuracy: 0.5210 - val_recall: 0.6404 - val_precision: 0.8231 - val_f1: 0.7186\n",
            "Epoch 193/200\n",
            "29899/29899 [==============================] - 125s 4ms/step - loss: 0.0081 - accuracy: 0.5266 - recall: 0.6571 - precision: 0.8399 - f1: 0.7357 - val_loss: 0.0087 - val_accuracy: 0.5218 - val_recall: 0.6405 - val_precision: 0.8229 - val_f1: 0.7186\n",
            "Epoch 194/200\n",
            "29899/29899 [==============================] - 125s 4ms/step - loss: 0.0081 - accuracy: 0.5263 - recall: 0.6566 - precision: 0.8400 - f1: 0.7354 - val_loss: 0.0087 - val_accuracy: 0.5210 - val_recall: 0.6404 - val_precision: 0.8230 - val_f1: 0.7186\n",
            "Epoch 195/200\n",
            "29899/29899 [==============================] - 124s 4ms/step - loss: 0.0081 - accuracy: 0.5267 - recall: 0.6567 - precision: 0.8396 - f1: 0.7353 - val_loss: 0.0087 - val_accuracy: 0.5199 - val_recall: 0.6406 - val_precision: 0.8228 - val_f1: 0.7187\n",
            "Epoch 196/200\n",
            "29899/29899 [==============================] - 124s 4ms/step - loss: 0.0081 - accuracy: 0.5266 - recall: 0.6574 - precision: 0.8398 - f1: 0.7358 - val_loss: 0.0087 - val_accuracy: 0.5211 - val_recall: 0.6413 - val_precision: 0.8223 - val_f1: 0.7189\n",
            "Epoch 197/200\n",
            "29899/29899 [==============================] - 124s 4ms/step - loss: 0.0081 - accuracy: 0.5258 - recall: 0.6570 - precision: 0.8397 - f1: 0.7356 - val_loss: 0.0087 - val_accuracy: 0.5211 - val_recall: 0.6413 - val_precision: 0.8222 - val_f1: 0.7189\n",
            "Epoch 198/200\n",
            "29899/29899 [==============================] - 124s 4ms/step - loss: 0.0081 - accuracy: 0.5252 - recall: 0.6566 - precision: 0.8394 - f1: 0.7352 - val_loss: 0.0087 - val_accuracy: 0.5208 - val_recall: 0.6410 - val_precision: 0.8225 - val_f1: 0.7188\n",
            "Epoch 199/200\n",
            "29899/29899 [==============================] - 124s 4ms/step - loss: 0.0081 - accuracy: 0.5253 - recall: 0.6564 - precision: 0.8394 - f1: 0.7350 - val_loss: 0.0087 - val_accuracy: 0.5207 - val_recall: 0.6407 - val_precision: 0.8228 - val_f1: 0.7187\n",
            "Epoch 200/200\n",
            "29899/29899 [==============================] - 124s 4ms/step - loss: 0.0081 - accuracy: 0.5255 - recall: 0.6568 - precision: 0.8396 - f1: 0.7354 - val_loss: 0.0087 - val_accuracy: 0.5216 - val_recall: 0.6408 - val_precision: 0.8228 - val_f1: 0.7188\n"
          ],
          "name": "stdout"
        },
        {
          "output_type": "execute_result",
          "data": {
            "text/plain": [
              "<tensorflow.python.keras.callbacks.History at 0x7fcf75c5c250>"
            ]
          },
          "metadata": {
            "tags": []
          },
          "execution_count": 19
        }
      ]
    },
    {
      "cell_type": "code",
      "metadata": {
        "colab": {
          "base_uri": "https://localhost:8080/"
        },
        "id": "gy-SMi-VnZWn",
        "outputId": "38f639ca-213d-4fda-9f35-95ad37f12cd4"
      },
      "source": [
        "config.train_set_shape = str(train_X.shape)\n",
        "\n",
        "del train_X\n",
        "del train_y\n",
        "gc.collect()"
      ],
      "execution_count": null,
      "outputs": [
        {
          "output_type": "execute_result",
          "data": {
            "text/plain": [
              "1581"
            ]
          },
          "metadata": {
            "tags": []
          },
          "execution_count": 20
        }
      ]
    },
    {
      "cell_type": "markdown",
      "metadata": {
        "id": "lOdOr9Y36j8Z"
      },
      "source": [
        "# Save model to Wandb"
      ]
    },
    {
      "cell_type": "code",
      "metadata": {
        "colab": {
          "base_uri": "https://localhost:8080/"
        },
        "id": "VbGcydaR-3tH",
        "outputId": "37f3201f-5810-4e68-9e58-80b0af73bfcc"
      },
      "source": [
        "artifact = wandb.Artifact('ensemble-plus-gpt2-bigger-layers-full-train-filtered-and-cut-off-ends', type='keras-model')\n",
        "artifact.add_file(best_val_loss_model_filename)\n",
        "run.log_artifact(artifact)"
      ],
      "execution_count": null,
      "outputs": [
        {
          "output_type": "execute_result",
          "data": {
            "text/plain": [
              "<wandb.sdk.wandb_artifacts.Artifact at 0x7fcf732eb410>"
            ]
          },
          "metadata": {
            "tags": []
          },
          "execution_count": 21
        }
      ]
    },
    {
      "cell_type": "markdown",
      "metadata": {
        "id": "bMenWG9W6qVA"
      },
      "source": [
        "# Load model and test on test set"
      ]
    },
    {
      "cell_type": "code",
      "metadata": {
        "id": "8i8ILR02H6Pi"
      },
      "source": [
        "\n",
        "model = keras.models.load_model(best_val_loss_model_filename, custom_objects={\"f1\": f1, \"recall\": recall, \"precision\": precision})\n"
      ],
      "execution_count": null,
      "outputs": []
    },
    {
      "cell_type": "code",
      "metadata": {
        "colab": {
          "background_save": true
        },
        "id": "YXDBPAfwK6oL"
      },
      "source": [
        "gpt_vectorized_chunks_path = Path('gpt2-vectors/test')\n",
        "gpt_file_paths = os.listdir(gpt_vectorized_chunks_path)\n",
        "sorted_gpt_filenames = sorted(gpt_file_paths, key=lambda fn: int(fn.split('chunk')[1].split('of')[0]))\n",
        "sorted_gpt_filepaths = [gpt_vectorized_chunks_path / Path(p) for p in sorted_gpt_filenames]\n",
        "\n",
        "ensemble_vectorized_chunks_path = 'vectorized-fixed/test'\n",
        "ensemble_file_paths = os.listdir(ensemble_vectorized_chunks_path)\n",
        "sorted_ensemble_filenames = sorted(ensemble_file_paths, key=lambda fn: int(fn.split('chunk')[1].split('of')[0]))\n",
        "sorted_ensemble_filepaths = [ensemble_vectorized_chunks_path / Path(p) for p in sorted_ensemble_filenames]\n",
        "\n",
        "concat_dataset = ConcatenatingDataset(\n",
        "    ChunkDataset(sorted_ensemble_filepaths),\n",
        "    ChunkDataset(sorted_gpt_filepaths))\n",
        "\n",
        "test_X, test_y = [], []\n",
        "gc.collect()\n",
        "for x, y in concat_dataset:\n",
        "    test_X.append(x.numpy())\n",
        "    test_y.append(y.numpy())\n",
        "\n",
        "test_X = np.asarray(test_X)\n",
        "test_y = np.asarray(test_y)\n",
        "gc.collect()"
      ],
      "execution_count": null,
      "outputs": []
    },
    {
      "cell_type": "code",
      "metadata": {
        "colab": {
          "background_save": true
        },
        "id": "Y4S2TqtV-njA"
      },
      "source": [
        "config.test_set_shape = str(test_X.shape)\n"
      ],
      "execution_count": null,
      "outputs": []
    },
    {
      "cell_type": "code",
      "metadata": {
        "colab": {
          "background_save": true
        },
        "id": "dSfr0gjuUFgt"
      },
      "source": [
        "%%time\n",
        "test_preds = model.predict(test_X)"
      ],
      "execution_count": null,
      "outputs": []
    },
    {
      "cell_type": "code",
      "metadata": {
        "colab": {
          "background_save": true
        },
        "id": "cEW8VsMvubLc"
      },
      "source": [
        "import torch\n",
        "\n",
        "from sklearn.metrics import accuracy_score\n",
        "from sklearn.metrics import precision_score\n",
        "from sklearn.metrics import recall_score\n",
        "from sklearn.metrics import f1_score\n",
        "\n",
        "def multi_label_accuracy(correct_labels, predicted_labels, average):\n",
        "    predicted_labels = torch.round(torch.tensor(predicted_labels)).numpy()\n",
        "    accuracy = accuracy_score(correct_labels, predicted_labels)\n",
        "    precision = precision_score(correct_labels, predicted_labels, average=average, zero_division=0)\n",
        "    recall = recall_score(correct_labels, predicted_labels, average=average, zero_division=0)\n",
        "    f_1_score = f1_score(correct_labels, predicted_labels, average=average, zero_division=0)\n",
        "    \n",
        "    return accuracy, precision, recall, f_1_score\n"
      ],
      "execution_count": null,
      "outputs": []
    },
    {
      "cell_type": "code",
      "metadata": {
        "colab": {
          "background_save": true
        },
        "id": "sQNLDf5cAud3",
        "outputId": "c575ad36-5996-44b2-dd7e-885a437afe4d"
      },
      "source": [
        "for average in ['weighted', 'micro', 'macro', 'samples']:\n",
        "    accuracy, precision, recall, f_score = multi_label_accuracy(test_y, test_preds, average)\n",
        "    print(average + ' ' + str(round(f_score,3)))\n",
        "    metrics = { \n",
        "            \"test_precision\"+'_'+ average: precision, \n",
        "            \"test_f1\"+'_'+ average: f_score, \n",
        "            \"test_recall\"+'_'+ average: recall,\n",
        "            }\n",
        "    wandb.log(metrics)\n",
        "    \n",
        "wandb.log({ \n",
        "        \"test_accuracy\": accuracy,\n",
        "        })"
      ],
      "execution_count": null,
      "outputs": [
        {
          "output_type": "stream",
          "text": [
            "weighted 0.669\n",
            "micro 0.685\n",
            "macro 0.565\n",
            "samples 0.699\n"
          ],
          "name": "stdout"
        }
      ]
    },
    {
      "cell_type": "code",
      "metadata": {
        "colab": {
          "background_save": true,
          "referenced_widgets": [
            "cfd435f75489432ea536be58144e9a34"
          ]
        },
        "id": "28ZIvUxtaRSP",
        "outputId": "729f5d75-e8a0-42ce-beca-52581bfff1c8"
      },
      "source": [
        "run.finish()\n",
        "len(test_X)"
      ],
      "execution_count": null,
      "outputs": [
        {
          "output_type": "display_data",
          "data": {
            "text/html": [
              "<br/>Waiting for W&B process to finish, PID 327<br/>Program ended successfully."
            ],
            "text/plain": [
              "<IPython.core.display.HTML object>"
            ]
          },
          "metadata": {
            "tags": []
          }
        },
        {
          "output_type": "display_data",
          "data": {
            "application/vnd.jupyter.widget-view+json": {
              "model_id": "cfd435f75489432ea536be58144e9a34",
              "version_major": 2,
              "version_minor": 0
            },
            "text/plain": [
              "VBox(children=(Label(value=' 96.71MB of 96.71MB uploaded (0.00MB deduped)\\r'), FloatProgress(value=1.0, max=1.…"
            ]
          },
          "metadata": {
            "tags": []
          }
        },
        {
          "output_type": "display_data",
          "data": {
            "text/html": [
              "Find user logs for this run at: <code>/content/drive/My Drive/Colab Notebooks/NLP/project/wandb/run-20210525_101136-3h9iffyz/logs/debug.log</code>"
            ],
            "text/plain": [
              "<IPython.core.display.HTML object>"
            ]
          },
          "metadata": {
            "tags": []
          }
        },
        {
          "output_type": "display_data",
          "data": {
            "text/html": [
              "Find internal logs for this run at: <code>/content/drive/My Drive/Colab Notebooks/NLP/project/wandb/run-20210525_101136-3h9iffyz/logs/debug-internal.log</code>"
            ],
            "text/plain": [
              "<IPython.core.display.HTML object>"
            ]
          },
          "metadata": {
            "tags": []
          }
        },
        {
          "output_type": "display_data",
          "data": {
            "text/html": [
              "<h3>Run summary:</h3><br/><style>\n",
              "    table.wandb td:nth-child(1) { padding: 0 10px; text-align: right }\n",
              "    </style><table class=\"wandb\">\n",
              "<tr><td>epoch</td><td>199</td></tr><tr><td>loss</td><td>0.00811</td></tr><tr><td>accuracy</td><td>0.52588</td></tr><tr><td>recall</td><td>0.65676</td></tr><tr><td>precision</td><td>0.8396</td></tr><tr><td>f1</td><td>0.73536</td></tr><tr><td>val_loss</td><td>0.00873</td></tr><tr><td>val_accuracy</td><td>0.52156</td></tr><tr><td>val_recall</td><td>0.6408</td></tr><tr><td>val_precision</td><td>0.82277</td></tr><tr><td>val_f1</td><td>0.71877</td></tr><tr><td>lr</td><td>0.0</td></tr><tr><td>_runtime</td><td>24901</td></tr><tr><td>_timestamp</td><td>1621962397</td></tr><tr><td>_step</td><td>204</td></tr><tr><td>best_val_loss</td><td>0.00873</td></tr><tr><td>best_epoch</td><td>199</td></tr><tr><td>test_precision_weighted</td><td>0.76995</td></tr><tr><td>test_f1_weighted</td><td>0.66938</td></tr><tr><td>test_recall_weighted</td><td>0.6048</td></tr><tr><td>test_precision_micro</td><td>0.78924</td></tr><tr><td>test_f1_micro</td><td>0.68482</td></tr><tr><td>test_recall_micro</td><td>0.6048</td></tr><tr><td>test_precision_macro</td><td>0.71371</td></tr><tr><td>test_f1_macro</td><td>0.56501</td></tr><tr><td>test_recall_macro</td><td>0.48328</td></tr><tr><td>test_precision_samples</td><td>0.79238</td></tr><tr><td>test_f1_samples</td><td>0.69857</td></tr><tr><td>test_recall_samples</td><td>0.68713</td></tr><tr><td>test_accuracy</td><td>0.34941</td></tr></table>"
            ],
            "text/plain": [
              "<IPython.core.display.HTML object>"
            ]
          },
          "metadata": {
            "tags": []
          }
        },
        {
          "output_type": "display_data",
          "data": {
            "text/html": [
              "<h3>Run history:</h3><br/><style>\n",
              "    table.wandb td:nth-child(1) { padding: 0 10px; text-align: right }\n",
              "    </style><table class=\"wandb\">\n",
              "<tr><td>epoch</td><td>▁▁▁▁▂▂▂▂▂▃▃▃▃▃▃▄▄▄▄▄▅▅▅▅▅▅▆▆▆▆▆▇▇▇▇▇▇███</td></tr><tr><td>loss</td><td>█▄▃▂▁▁▁▁▁▁▁▁▁▁▁▁▁▁▁▁▁▁▁▁▁▁▁▁▁▁▁▁▁▁▁▁▁▁▁▁</td></tr><tr><td>accuracy</td><td>█▄▁▁▂▂▂▃▃▃▃▃▃▃▃▃▃▃▃▃▃▃▃▃▃▃▃▃▃▃▃▃▃▃▃▃▃▃▃▃</td></tr><tr><td>recall</td><td>▁▆▇▇████████████████████████████████████</td></tr><tr><td>precision</td><td>▃▁▂▃▆▇▇▇▇▇▇▇▇▇▇▇████████████████████████</td></tr><tr><td>f1</td><td>▁▅▆▇████████████████████████████████████</td></tr><tr><td>val_loss</td><td>█▄▂▂▁▁▁▁▁▁▁▁▁▁▁▁▁▁▁▁▁▁▁▁▁▁▁▁▁▁▁▁▁▁▁▁▁▁▁▁</td></tr><tr><td>val_accuracy</td><td>█▄▃▁▆▅▅▅▅▅▅▅▅▅▅▅▅▅▅▅▅▅▅▅▅▅▅▅▅▅▅▅▅▅▅▅▅▅▅▅</td></tr><tr><td>val_recall</td><td>▁▄▆▇████████████████████████████████████</td></tr><tr><td>val_precision</td><td>▆█▅▂▁▂▂▂▂▂▂▂▂▂▂▂▂▂▂▁▂▂▂▂▂▂▂▂▂▂▂▂▂▂▂▁▂▂▂▂</td></tr><tr><td>val_f1</td><td>▁▅▆▇████████████████████████████████████</td></tr><tr><td>lr</td><td>████▂▁▁▁▁▁▁▁▁▁▁▁▁▁▁▁▁▁▁▁▁▁▁▁▁▁▁▁▁▁▁▁▁▁▁▁</td></tr><tr><td>_runtime</td><td>▁▁▁▁▂▂▂▂▂▃▃▃▃▃▃▄▄▄▄▄▅▅▅▅▅▅▆▆▆▆▆▇▇▇▇▇████</td></tr><tr><td>_timestamp</td><td>▁▁▁▁▂▂▂▂▂▃▃▃▃▃▃▄▄▄▄▄▅▅▅▅▅▅▆▆▆▆▆▇▇▇▇▇████</td></tr><tr><td>_step</td><td>▁▁▁▁▂▂▂▂▂▃▃▃▃▃▃▄▄▄▄▄▅▅▅▅▅▅▆▆▆▆▆▇▇▇▇▇▇███</td></tr><tr><td>test_precision_weighted</td><td>▁</td></tr><tr><td>test_f1_weighted</td><td>▁</td></tr><tr><td>test_recall_weighted</td><td>▁</td></tr><tr><td>test_precision_micro</td><td>▁</td></tr><tr><td>test_f1_micro</td><td>▁</td></tr><tr><td>test_recall_micro</td><td>▁</td></tr><tr><td>test_precision_macro</td><td>▁</td></tr><tr><td>test_f1_macro</td><td>▁</td></tr><tr><td>test_recall_macro</td><td>▁</td></tr><tr><td>test_precision_samples</td><td>▁</td></tr><tr><td>test_f1_samples</td><td>▁</td></tr><tr><td>test_recall_samples</td><td>▁</td></tr><tr><td>test_accuracy</td><td>▁</td></tr></table><br/>"
            ],
            "text/plain": [
              "<IPython.core.display.HTML object>"
            ]
          },
          "metadata": {
            "tags": []
          }
        },
        {
          "output_type": "display_data",
          "data": {
            "text/html": [
              "Synced 5 W&B file(s), 1 media file(s), 1 artifact file(s) and 1 other file(s)"
            ],
            "text/plain": [
              "<IPython.core.display.HTML object>"
            ]
          },
          "metadata": {
            "tags": []
          }
        },
        {
          "output_type": "display_data",
          "data": {
            "text/html": [
              "\n",
              "                    <br/>Synced <strong style=\"color:#cdcd00\">sage-salad-14</strong>: <a href=\"https://wandb.ai/ut-mit-news-classify/ensemble-plus-gpt2/runs/3h9iffyz\" target=\"_blank\">https://wandb.ai/ut-mit-news-classify/ensemble-plus-gpt2/runs/3h9iffyz</a><br/>\n",
              "                "
            ],
            "text/plain": [
              "<IPython.core.display.HTML object>"
            ]
          },
          "metadata": {
            "tags": []
          }
        },
        {
          "output_type": "execute_result",
          "data": {
            "text/plain": [
              "133032"
            ]
          },
          "metadata": {
            "tags": []
          },
          "execution_count": 0
        }
      ]
    },
    {
      "cell_type": "code",
      "metadata": {
        "colab": {
          "background_save": true
        },
        "id": "Dv8Va6EkoahM",
        "outputId": "180b081e-7d55-4ada-9614-5e7b78eccbe6"
      },
      "source": [
        "del test_y\n",
        "del test_X\n",
        "gc.collect()"
      ],
      "execution_count": null,
      "outputs": [
        {
          "output_type": "execute_result",
          "data": {
            "text/plain": [
              "170"
            ]
          },
          "metadata": {
            "tags": []
          },
          "execution_count": 0
        }
      ]
    },
    {
      "cell_type": "code",
      "metadata": {
        "id": "UtYU1CW3zQUE"
      },
      "source": [
        ""
      ],
      "execution_count": null,
      "outputs": []
    }
  ]
}