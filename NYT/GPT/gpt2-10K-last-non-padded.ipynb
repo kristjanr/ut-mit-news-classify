{
 "metadata": {
  "language_info": {
   "codemirror_mode": {
    "name": "ipython",
    "version": 3
   },
   "file_extension": ".py",
   "mimetype": "text/x-python",
   "name": "python",
   "nbconvert_exporter": "python",
   "pygments_lexer": "ipython3",
   "version": "3.8.0"
  },
  "orig_nbformat": 2,
  "kernelspec": {
   "name": "python380jvsc74a57bd01d47407f50cb4f57b03fc08e1f31d8212463fce5635b845e385eb7c9dcc614a7",
   "display_name": "Python 3.8.0 64-bit ('nlp': conda)"
  }
 },
 "nbformat": 4,
 "nbformat_minor": 2,
 "cells": [
  {
   "source": [
    "# Definitions (run first!)"
   ],
   "cell_type": "markdown",
   "metadata": {}
  },
  {
   "cell_type": "code",
   "execution_count": 69,
   "metadata": {},
   "outputs": [
    {
     "output_type": "stream",
     "name": "stdout",
     "text": [
      "Collecting wandb\n",
      "  Downloading wandb-0.10.30-py2.py3-none-any.whl (1.8 MB)\n",
      "\u001b[K     |████████████████████████████████| 1.8 MB 1.6 MB/s \n",
      "\u001b[?25hCollecting sentry-sdk>=0.4.0\n",
      "  Downloading sentry_sdk-1.1.0-py2.py3-none-any.whl (131 kB)\n",
      "\u001b[K     |████████████████████████████████| 131 kB 10.7 MB/s \n",
      "\u001b[?25hCollecting subprocess32>=3.5.3\n",
      "  Using cached subprocess32-3.5.4-py3-none-any.whl\n",
      "Requirement already satisfied: python-dateutil>=2.6.1 in /home/mbaliesnyi/anaconda3/envs/nlp/lib/python3.8/site-packages (from wandb) (2.8.1)\n",
      "Requirement already satisfied: requests<3,>=2.0.0 in /home/mbaliesnyi/anaconda3/envs/nlp/lib/python3.8/site-packages (from wandb) (2.25.1)\n",
      "Requirement already satisfied: protobuf>=3.12.0 in /home/mbaliesnyi/anaconda3/envs/nlp/lib/python3.8/site-packages (from wandb) (3.15.8)\n",
      "Requirement already satisfied: Click>=7.0 in /home/mbaliesnyi/anaconda3/envs/nlp/lib/python3.8/site-packages (from wandb) (7.1.2)\n",
      "Requirement already satisfied: six>=1.13.0 in /home/mbaliesnyi/anaconda3/envs/nlp/lib/python3.8/site-packages (from wandb) (1.15.0)\n",
      "Collecting PyYAML\n",
      "  Using cached PyYAML-5.4.1-cp38-cp38-manylinux1_x86_64.whl (662 kB)\n",
      "Collecting shortuuid>=0.5.0\n",
      "  Using cached shortuuid-1.0.1-py3-none-any.whl (7.5 kB)\n",
      "Collecting GitPython>=1.0.0\n",
      "  Downloading GitPython-3.1.14-py3-none-any.whl (159 kB)\n",
      "\u001b[K     |████████████████████████████████| 159 kB 10.1 MB/s \n",
      "\u001b[?25hCollecting configparser>=3.8.1\n",
      "  Downloading configparser-5.0.2-py3-none-any.whl (19 kB)\n",
      "Collecting promise<3,>=2.0\n",
      "  Using cached promise-2.3-py3-none-any.whl\n",
      "Collecting psutil>=5.0.0\n",
      "  Using cached psutil-5.8.0-cp38-cp38-manylinux2010_x86_64.whl (296 kB)\n",
      "Collecting pathtools\n",
      "  Using cached pathtools-0.1.2-py3-none-any.whl\n",
      "Collecting docker-pycreds>=0.4.0\n",
      "  Using cached docker_pycreds-0.4.0-py2.py3-none-any.whl (9.0 kB)\n",
      "Collecting gitdb<5,>=4.0.1\n",
      "  Downloading gitdb-4.0.7-py3-none-any.whl (63 kB)\n",
      "\u001b[K     |████████████████████████████████| 63 kB 4.7 MB/s \n",
      "\u001b[?25hCollecting smmap<5,>=3.0.1\n",
      "  Downloading smmap-4.0.0-py2.py3-none-any.whl (24 kB)\n",
      "Requirement already satisfied: urllib3<1.27,>=1.21.1 in /home/mbaliesnyi/anaconda3/envs/nlp/lib/python3.8/site-packages (from requests<3,>=2.0.0->wandb) (1.26.4)\n",
      "Requirement already satisfied: certifi>=2017.4.17 in /home/mbaliesnyi/anaconda3/envs/nlp/lib/python3.8/site-packages (from requests<3,>=2.0.0->wandb) (2020.12.5)\n",
      "Requirement already satisfied: idna<3,>=2.5 in /home/mbaliesnyi/anaconda3/envs/nlp/lib/python3.8/site-packages (from requests<3,>=2.0.0->wandb) (2.10)\n",
      "Requirement already satisfied: chardet<5,>=3.0.2 in /home/mbaliesnyi/anaconda3/envs/nlp/lib/python3.8/site-packages (from requests<3,>=2.0.0->wandb) (4.0.0)\n",
      "Installing collected packages: smmap, gitdb, subprocess32, shortuuid, sentry-sdk, PyYAML, psutil, promise, pathtools, GitPython, docker-pycreds, configparser, wandb\n",
      "Successfully installed GitPython-3.1.14 PyYAML-5.4.1 configparser-5.0.2 docker-pycreds-0.4.0 gitdb-4.0.7 pathtools-0.1.2 promise-2.3 psutil-5.8.0 sentry-sdk-1.1.0 shortuuid-1.0.1 smmap-4.0.0 subprocess32-3.5.4 wandb-0.10.30\n",
      "\u001b[34m\u001b[1mwandb\u001b[0m: Currently logged in as: \u001b[33mut-mit-news-classify\u001b[0m (use `wandb login --relogin` to force relogin)\n"
     ]
    }
   ],
   "source": [
    "!pip install wandb\n",
    "!wandb login"
   ]
  },
  {
   "cell_type": "code",
   "execution_count": 16,
   "metadata": {},
   "outputs": [],
   "source": [
    "import gzip\n",
    "import pickle\n",
    "import random\n",
    "import requests\n",
    "import csv\n",
    "from torch.utils.data import Dataset, DataLoader, random_split\n",
    "from mitnewsclassify.gpt_model import GPTModel as GPTHead\n",
    "from transformers import GPT2Tokenizer, GPT2Model\n",
    "import torch\n",
    "from sklearn.preprocessing import MultiLabelBinarizer\n",
    "import numpy as np\n",
    "import wandb"
   ]
  },
  {
   "cell_type": "code",
   "execution_count": 2,
   "metadata": {},
   "outputs": [],
   "source": [
    "device = torch.device(\"cuda\" if torch.cuda.is_available() else \"cpu\")\n",
    "seed = 42"
   ]
  },
  {
   "cell_type": "code",
   "execution_count": 3,
   "metadata": {},
   "outputs": [],
   "source": [
    "class GPTEmbeddedDataset(Dataset):\n",
    "    def __init__(self, X, y):\n",
    "        self.X = X\n",
    "        self.y = y\n",
    "\n",
    "    def __len__(self):\n",
    "        return len(self.X)\n",
    "\n",
    "    def __getitem__(self, idx):\n",
    "        return self.X[idx], self.y[idx], idx"
   ]
  },
  {
   "cell_type": "code",
   "execution_count": 4,
   "metadata": {},
   "outputs": [
    {
     "output_type": "execute_result",
     "data": {
      "text/plain": [
       "MultiLabelBinarizer(classes=['suspensions, dismissals and resignations',\n",
       "                             'education and schools',\n",
       "                             'colleges and universities', 'blacks',\n",
       "                             'population', 'economic conditions and trends',\n",
       "                             'labor',\n",
       "                             'office buildings and commercial properties',\n",
       "                             'architecture', 'medicine and health',\n",
       "                             'awards, decorations and honors',\n",
       "                             'diseases and conditions', 'research', 'cancer',\n",
       "                             'basketball', 'design', 'interior design',\n",
       "                             'real estate', 'trades (sports)',\n",
       "                             'demonstrations and riots', 'dancing',\n",
       "                             'hockey, ice', 'games', 'playoff games',\n",
       "                             'baseball', 'travel and vacations', 'finances',\n",
       "                             'books and literature',\n",
       "                             'united states politics and government',\n",
       "                             'politics and government', ...])"
      ]
     },
     "metadata": {},
     "execution_count": 4
    }
   ],
   "source": [
    "import csv\n",
    "\n",
    "def loadcsv(filename):\n",
    "    with open(filename, newline='', encoding='utf-8') as f:\n",
    "        return list(csv.reader(f))\n",
    "\n",
    "def load_label_map(out2id_path, id2label_path):\n",
    "    \n",
    "    out2id = loadcsv(out2id_path)\n",
    "    out2id = {int(row[0]): row[1] for row in out2id}\n",
    "\n",
    "    id2label_raw = loadcsv(id2label_path)\n",
    "    id2label = {}\n",
    "\n",
    "    for row in id2label_raw:\n",
    "        if row == []:\n",
    "            continue\n",
    "        id2label[row[1]] = row[2]\n",
    "\n",
    "    out2label = [id2label[out2id[out]] for out in sorted(out2id.keys())]\n",
    "    \n",
    "    return out2label\n",
    "\n",
    "out2label = load_label_map('labels_dict_gpt.csv', 'nyt-theme-tags.csv')\n",
    "mlb = MultiLabelBinarizer(classes=out2label)\n",
    "mlb.fit(out2label)"
   ]
  },
  {
   "cell_type": "code",
   "execution_count": 5,
   "metadata": {},
   "outputs": [],
   "source": [
    "# temporary dataset for storing tokenized articles & transformed labels\n",
    "class NYTDataset(Dataset):\n",
    "    def __init__(self, articles, labels):\n",
    "\n",
    "        self.tokenizer = GPT2Tokenizer.from_pretrained(\"gpt2\")\n",
    "        self.tokenizer.pad_token = self.tokenizer.eos_token\n",
    "\n",
    "        print('Tokenizing...')\n",
    "        self.articles = self.tokenizer(articles, add_special_tokens=True, padding=\"max_length\", truncation=True,\n",
    "                                       max_length=1024, return_tensors=\"pt\", return_attention_mask=True)\n",
    "\n",
    "        self.input_ids = self.articles['input_ids']\n",
    "        self.attention_mask = self.articles['attention_mask']\n",
    "\n",
    "        print('Preprocessing labels...')\n",
    "        self.labels = mlb.transform(labels)\n",
    "        print('Done')\n",
    "\n",
    "    def __len__(self):\n",
    "        return len(self.articles)\n",
    "\n",
    "    def __getitem__(self, idx):\n",
    "        # return self.articles[idx], self.labels[idx]\n",
    "        return self.input_ids[idx], self.attention_mask[idx], self.labels[idx]"
   ]
  },
  {
   "cell_type": "code",
   "execution_count": 19,
   "metadata": {},
   "outputs": [],
   "source": [
    "import time\n",
    "import math\n",
    "\n",
    "def epoch_time(start_time, end_time):\n",
    "    elapsed_time = end_time - start_time\n",
    "    elapsed_mins = int(elapsed_time / 60)\n",
    "    elapsed_secs = int(elapsed_time - (elapsed_mins * 60))\n",
    "    return elapsed_mins, elapsed_secs\n",
    "\n",
    "def validation_split(dataset, validation_subset, seed=42):\n",
    "\n",
    "    if validation_subset > 0:\n",
    "        n_total_samples = len(dataset)\n",
    "        n_train_samples = math.floor(n_total_samples * (1-validation_subset))\n",
    "        n_valid_samples = n_total_samples - n_train_samples\n",
    "\n",
    "        train_subset, valid_subset = random_split(\n",
    "            dataset,\n",
    "            [n_train_samples, n_valid_samples],\n",
    "            generator=torch.Generator().manual_seed(seed)\n",
    "        )  # reproducible results\n",
    "\n",
    "    else:\n",
    "        train_subset = dataset\n",
    "        valid_subset = None\n",
    "\n",
    "    return train_subset, valid_subset"
   ]
  },
  {
   "cell_type": "code",
   "execution_count": 11,
   "metadata": {},
   "outputs": [],
   "source": [
    "def train(model, iterator, optimizer, criterion):\n",
    "    \n",
    "    epoch_loss = 0\n",
    "    epoch_acc = 0\n",
    "    epoch_precision = 0\n",
    "    epoch_recall = 0\n",
    "    epoch_f_score = 0\n",
    "    \n",
    "    model.train()\n",
    "    \n",
    "\n",
    "    for i, batch in enumerate(iterator):\n",
    "\n",
    "        article_embeddings, labels, idx  = batch\n",
    "        article_embeddings = article_embeddings.to(device)\n",
    "        labels = labels.type(torch.float).to(device)\n",
    "\n",
    "        # zero the parameter gradients\n",
    "        optimizer.zero_grad()\n",
    "\n",
    "        # forward + backward + optimize\n",
    "        outputs = model(article_embeddings)\n",
    "        loss = criterion(outputs, labels)\n",
    "        loss.backward()\n",
    "        optimizer.step()\n",
    "\n",
    "        # calculate metrics\n",
    "        preds = model.act(outputs) > 0.5\n",
    "\n",
    "        acc, precision, recall, f1 = multi_label_scores(labels.detach().cpu(), preds.detach().cpu())\n",
    "        epoch_loss += loss.item()\n",
    "        epoch_acc += acc.item()\n",
    "        epoch_precision += precision.item()\n",
    "        epoch_recall += recall.item()\n",
    "        epoch_f_score += f1.item()\n",
    "        \n",
    "    return epoch_loss / len(iterator), epoch_acc / len(iterator), \\\n",
    "        epoch_precision / len(iterator), epoch_recall / len(iterator), \\\n",
    "        epoch_f_score / len(iterator)"
   ]
  },
  {
   "cell_type": "code",
   "execution_count": 13,
   "metadata": {},
   "outputs": [],
   "source": [
    "def evaluate(model, iterator, criterion):\n",
    "    \n",
    "    epoch_loss = 0\n",
    "    epoch_acc = 0\n",
    "    epoch_precision = 0\n",
    "    epoch_recall = 0\n",
    "    epoch_f_score = 0\n",
    "    \n",
    "    model.eval()\n",
    "    \n",
    "    with torch.no_grad():\n",
    "        for i, batch in enumerate(iterator):\n",
    "\n",
    "            article_embeddings, labels, idx  = batch\n",
    "            article_embeddings = article_embeddings.to(device)\n",
    "            labels = labels.type(torch.float).to(device)\n",
    "\n",
    "            outputs = model(article_embeddings)\n",
    "            loss = criterion(outputs, labels)\n",
    "\n",
    "            # calculate metrics\n",
    "            preds = model.act(outputs) > 0.5\n",
    "\n",
    "            acc, precision, recall, f1 = multi_label_scores(labels.detach().cpu(), preds.detach().cpu())\n",
    "            epoch_loss += loss.item()\n",
    "            epoch_acc += acc.item()\n",
    "            epoch_precision += precision.item()\n",
    "            epoch_recall += recall.item()\n",
    "            epoch_f_score += f1.item()\n",
    "        \n",
    "    return epoch_loss / len(iterator), epoch_acc / len(iterator), \\\n",
    "        epoch_precision / len(iterator), epoch_recall / len(iterator), \\\n",
    "        epoch_f_score / len(iterator)"
   ]
  },
  {
   "source": [
    "# Training"
   ],
   "cell_type": "markdown",
   "metadata": {}
  },
  {
   "cell_type": "code",
   "execution_count": 6,
   "metadata": {},
   "outputs": [],
   "source": [
    "import io\n",
    "import os\n",
    "import torch\n",
    "import torch.optim as optim\n",
    "import torch.nn as nn\n",
    "from torch.utils.data import Dataset, DataLoader\n",
    "from mitnewsclassify.gpt_model import GPTModel as GPTHead\n",
    "from tqdm.notebook import tqdm\n",
    "\n",
    "%load_ext autoreload\n",
    "%autoreload 2"
   ]
  },
  {
   "cell_type": "code",
   "execution_count": 7,
   "metadata": {},
   "outputs": [],
   "source": [
    "from sklearn.metrics import accuracy_score\n",
    "from sklearn.metrics import precision_score\n",
    "from sklearn.metrics import recall_score\n",
    "from sklearn.metrics import f1_score\n",
    "\n",
    "def multi_label_scores(correct_labels, predicted_labels):\n",
    "\n",
    "    accuracy = accuracy_score(correct_labels, predicted_labels)\n",
    "    precision = precision_score(correct_labels, predicted_labels, average='weighted', zero_division=0)\n",
    "    recall = recall_score(correct_labels, predicted_labels, average='weighted', zero_division=0)\n",
    "    f_1_score = f1_score(correct_labels, predicted_labels, average='weighted', zero_division=0)\n",
    "    \n",
    "    return accuracy, precision, recall, f_1_score\n",
    "\n",
    "def gettags(head_model, features, eval=False):\n",
    "    head_model.eval()\n",
    "    features = features.unsqueeze(0).to(device)\n",
    "    with torch.no_grad():\n",
    "        logits = head_model(features)\n",
    "        multi_label_sigmoids = head_model.act(logits)\n",
    "\n",
    "    preds = multi_label_sigmoids > 0.5\n",
    "    preds = preds.detach().cpu()\n",
    "\n",
    "    return mlb.inverse_transform(preds)"
   ]
  },
  {
   "cell_type": "code",
   "execution_count": 8,
   "metadata": {},
   "outputs": [
    {
     "output_type": "stream",
     "name": "stdout",
     "text": [
      "X_train torch.Size([10000, 768])\ny_train torch.Size([10000, 538])\nX_test torch.Size([1000, 768])\ny_test torch.Size([1000, 538])\n"
     ]
    }
   ],
   "source": [
    "train_dataset = torch.load('gpt_embedded_train_v1.1.pt')\n",
    "test_dataset = torch.load('gpt_embedded_test_v1.1.pt')\n",
    "\n",
    "print('X_train', train_dataset.X.shape)\n",
    "print('y_train', train_dataset.y.shape)\n",
    "\n",
    "print('X_test', test_dataset.X.shape)\n",
    "print('y_test', test_dataset.y.shape)"
   ]
  },
  {
   "cell_type": "code",
   "execution_count": 23,
   "metadata": {
    "tags": []
   },
   "outputs": [],
   "source": [
    "# splitting train/validation\n",
    "train_subset, valid_subset = validation_split(train_dataset, 0.1, seed)\n",
    "train_loader = DataLoader(train_subset, batch_size=batch_size)\n",
    "valid_loader = DataLoader(valid_subset, batch_size=batch_size)\n",
    "\n",
    "n_training_samples = train_dataset.X.shape[0]"
   ]
  },
  {
   "cell_type": "code",
   "execution_count": 36,
   "metadata": {},
   "outputs": [],
   "source": []
  },
  {
   "cell_type": "code",
   "execution_count": 74,
   "metadata": {},
   "outputs": [],
   "source": [
    "from mitnewsclassify2.gpt_model import GPTModel as GPTHead2"
   ]
  },
  {
   "cell_type": "code",
   "execution_count": 76,
   "metadata": {},
   "outputs": [
    {
     "output_type": "display_data",
     "data": {
      "text/plain": "<IPython.core.display.HTML object>",
      "text/html": "Finishing last run (ID:1jk4y2e6) before initializing another..."
     },
     "metadata": {}
    },
    {
     "output_type": "display_data",
     "data": {
      "text/plain": "<IPython.core.display.HTML object>",
      "text/html": "<br/>Waiting for W&B process to finish, PID 27117<br/>Program ended successfully."
     },
     "metadata": {}
    },
    {
     "output_type": "display_data",
     "data": {
      "text/plain": "VBox(children=(Label(value=' 0.00MB of 0.00MB uploaded (0.00MB deduped)\\r'), FloatProgress(value=1.0, max=1.0)…",
      "application/vnd.jupyter.widget-view+json": {
       "version_major": 2,
       "version_minor": 0,
       "model_id": "c98688ea76f446e3834028b1a96657d9"
      }
     },
     "metadata": {}
    },
    {
     "output_type": "display_data",
     "data": {
      "text/plain": "<IPython.core.display.HTML object>",
      "text/html": "Find user logs for this run at: <code>/home/mbaliesnyi/code/nlp-project/ut-mit-news-classify/NYT/wandb/run-20210511_170024-1jk4y2e6/logs/debug.log</code>"
     },
     "metadata": {}
    },
    {
     "output_type": "display_data",
     "data": {
      "text/plain": "<IPython.core.display.HTML object>",
      "text/html": "Find internal logs for this run at: <code>/home/mbaliesnyi/code/nlp-project/ut-mit-news-classify/NYT/wandb/run-20210511_170024-1jk4y2e6/logs/debug-internal.log</code>"
     },
     "metadata": {}
    },
    {
     "output_type": "display_data",
     "data": {
      "text/plain": "<IPython.core.display.HTML object>",
      "text/html": "Synced 6 W&B file(s), 0 media file(s), 0 artifact file(s) and 0 other file(s)"
     },
     "metadata": {}
    },
    {
     "output_type": "display_data",
     "data": {
      "text/plain": "<IPython.core.display.HTML object>",
      "text/html": "\n                    <br/>Synced <strong style=\"color:#cdcd00\">dark-sun-23</strong>: <a href=\"https://wandb.ai/ut-mit-news-classify/NYT%20Multilabeling/runs/1jk4y2e6\" target=\"_blank\">https://wandb.ai/ut-mit-news-classify/NYT%20Multilabeling/runs/1jk4y2e6</a><br/>\n                "
     },
     "metadata": {}
    },
    {
     "output_type": "display_data",
     "data": {
      "text/plain": "<IPython.core.display.HTML object>",
      "text/html": "...Successfully finished last run (ID:1jk4y2e6). Initializing new run:<br/><br/>"
     },
     "metadata": {}
    },
    {
     "output_type": "display_data",
     "data": {
      "text/plain": "<IPython.core.display.HTML object>",
      "text/html": "\n                Tracking run with wandb version 0.10.30<br/>\n                Syncing run <strong style=\"color:#cdcd00\">azure-tree-24</strong> to <a href=\"https://wandb.ai\" target=\"_blank\">Weights & Biases</a> <a href=\"https://docs.wandb.com/integrations/jupyter.html\" target=\"_blank\">(Documentation)</a>.<br/>\n                Project page: <a href=\"https://wandb.ai/ut-mit-news-classify/NYT%20Multilabeling\" target=\"_blank\">https://wandb.ai/ut-mit-news-classify/NYT%20Multilabeling</a><br/>\n                Run page: <a href=\"https://wandb.ai/ut-mit-news-classify/NYT%20Multilabeling/runs/2v66os4d\" target=\"_blank\">https://wandb.ai/ut-mit-news-classify/NYT%20Multilabeling/runs/2v66os4d</a><br/>\n                Run data is saved locally in <code>/home/mbaliesnyi/code/nlp-project/ut-mit-news-classify/NYT/wandb/run-20210511_170157-2v66os4d</code><br/><br/>\n            "
     },
     "metadata": {}
    },
    {
     "output_type": "stream",
     "name": "stdout",
     "text": [
      "New validation loss 0.03169529419392347 is better than the best validation loss inf so far.\n",
      "Epoch: 01 | Epoch Time: 0m 1s\n",
      "\tTrain Loss: 0.062 | Train Acc: 0.55% | Train Precision: 1.50% | Train Recall: 1.35% | Train F1-score: 0.82%\n",
      "\t Val. Loss: 0.032 |  Val. Acc: 0.00% | Val. Precision: 0.00% | Val. Recall: 0.00% | Val. F1-score: 0.00%\n",
      "New validation loss 0.029487391700968146 is better than the best validation loss 0.03169529419392347 so far.\n",
      "Epoch: 02 | Epoch Time: 0m 1s\n",
      "\tTrain Loss: 0.030 | Train Acc: 2.12% | Train Precision: 3.44% | Train Recall: 1.57% | Train F1-score: 2.02%\n",
      "\t Val. Loss: 0.029 |  Val. Acc: 3.49% | Val. Precision: 7.43% | Val. Recall: 3.64% | Val. F1-score: 4.66%\n",
      "New validation loss 0.029046293813735247 is better than the best validation loss 0.029487391700968146 so far.\n",
      "Epoch: 03 | Epoch Time: 0m 1s\n",
      "\tTrain Loss: 0.028 | Train Acc: 4.40% | Train Precision: 8.42% | Train Recall: 4.62% | Train F1-score: 5.52%\n",
      "\t Val. Loss: 0.029 |  Val. Acc: 5.09% | Val. Precision: 9.38% | Val. Recall: 5.50% | Val. F1-score: 6.35%\n",
      "New validation loss 0.02871123352088034 is better than the best validation loss 0.029046293813735247 so far.\n",
      "Epoch: 04 | Epoch Time: 0m 1s\n",
      "\tTrain Loss: 0.028 | Train Acc: 5.00% | Train Precision: 9.81% | Train Recall: 6.02% | Train F1-score: 6.96%\n",
      "\t Val. Loss: 0.029 |  Val. Acc: 5.29% | Val. Precision: 9.73% | Val. Recall: 6.48% | Val. F1-score: 7.42%\n",
      "New validation loss 0.028552972245961428 is better than the best validation loss 0.02871123352088034 so far.\n",
      "Epoch: 05 | Epoch Time: 0m 1s\n",
      "\tTrain Loss: 0.028 | Train Acc: 5.34% | Train Precision: 9.90% | Train Recall: 6.50% | Train F1-score: 7.34%\n",
      "\t Val. Loss: 0.029 |  Val. Acc: 5.19% | Val. Precision: 9.40% | Val. Recall: 6.95% | Val. F1-score: 7.70%\n",
      "Epoch: 06 | Epoch Time: 0m 1s\n",
      "\tTrain Loss: 0.028 | Train Acc: 5.43% | Train Precision: 10.52% | Train Recall: 6.73% | Train F1-score: 7.65%\n",
      "\t Val. Loss: 0.029 |  Val. Acc: 5.09% | Val. Precision: 9.46% | Val. Recall: 5.70% | Val. F1-score: 6.81%\n",
      "New validation loss 0.028217473067343235 is better than the best validation loss 0.028552972245961428 so far.\n",
      "Epoch: 07 | Epoch Time: 0m 1s\n",
      "\tTrain Loss: 0.028 | Train Acc: 5.33% | Train Precision: 10.26% | Train Recall: 6.55% | Train F1-score: 7.44%\n",
      "\t Val. Loss: 0.028 |  Val. Acc: 5.00% | Val. Precision: 9.33% | Val. Recall: 6.04% | Val. F1-score: 7.00%\n",
      "New validation loss 0.027390905423089862 is better than the best validation loss 0.028217473067343235 so far.\n",
      "Epoch: 08 | Epoch Time: 0m 1s\n",
      "\tTrain Loss: 0.027 | Train Acc: 6.58% | Train Precision: 12.10% | Train Recall: 7.56% | Train F1-score: 8.65%\n",
      "\t Val. Loss: 0.027 |  Val. Acc: 7.92% | Val. Precision: 11.04% | Val. Recall: 6.04% | Val. F1-score: 7.33%\n",
      "New validation loss 0.026962276780977845 is better than the best validation loss 0.027390905423089862 so far.\n",
      "Epoch: 09 | Epoch Time: 0m 1s\n",
      "\tTrain Loss: 0.026 | Train Acc: 7.72% | Train Precision: 13.15% | Train Recall: 8.59% | Train F1-score: 9.71%\n",
      "\t Val. Loss: 0.027 |  Val. Acc: 8.60% | Val. Precision: 11.70% | Val. Recall: 7.11% | Val. F1-score: 8.30%\n",
      "New validation loss 0.026498955907300115 is better than the best validation loss 0.026962276780977845 so far.\n",
      "Epoch: 10 | Epoch Time: 0m 1s\n",
      "\tTrain Loss: 0.026 | Train Acc: 8.02% | Train Precision: 14.09% | Train Recall: 9.26% | Train F1-score: 10.46%\n",
      "\t Val. Loss: 0.026 |  Val. Acc: 8.50% | Val. Precision: 12.25% | Val. Recall: 8.04% | Val. F1-score: 9.18%\n",
      "New validation loss 0.02648753020912409 is better than the best validation loss 0.026498955907300115 so far.\n",
      "Epoch: 11 | Epoch Time: 0m 1s\n",
      "\tTrain Loss: 0.025 | Train Acc: 8.12% | Train Precision: 15.10% | Train Recall: 9.90% | Train F1-score: 11.20%\n",
      "\t Val. Loss: 0.026 |  Val. Acc: 8.50% | Val. Precision: 13.34% | Val. Recall: 7.30% | Val. F1-score: 8.69%\n",
      "New validation loss 0.026225458597764373 is better than the best validation loss 0.02648753020912409 so far.\n",
      "Epoch: 12 | Epoch Time: 0m 1s\n",
      "\tTrain Loss: 0.025 | Train Acc: 8.38% | Train Precision: 15.56% | Train Recall: 10.27% | Train F1-score: 11.52%\n",
      "\t Val. Loss: 0.026 |  Val. Acc: 8.50% | Val. Precision: 12.77% | Val. Recall: 8.07% | Val. F1-score: 9.29%\n",
      "New validation loss 0.02559420675970614 is better than the best validation loss 0.026225458597764373 so far.\n",
      "Epoch: 13 | Epoch Time: 0m 1s\n",
      "\tTrain Loss: 0.025 | Train Acc: 8.60% | Train Precision: 17.12% | Train Recall: 11.31% | Train F1-score: 12.71%\n",
      "\t Val. Loss: 0.026 |  Val. Acc: 8.60% | Val. Precision: 14.64% | Val. Recall: 10.94% | Val. F1-score: 11.76%\n",
      "Epoch: 14 | Epoch Time: 0m 1s\n",
      "\tTrain Loss: 0.024 | Train Acc: 8.83% | Train Precision: 17.95% | Train Recall: 11.86% | Train F1-score: 13.36%\n",
      "\t Val. Loss: 0.026 |  Val. Acc: 8.70% | Val. Precision: 14.04% | Val. Recall: 8.67% | Val. F1-score: 10.14%\n",
      "New validation loss 0.025195800932124257 is better than the best validation loss 0.02559420675970614 so far.\n",
      "Epoch: 15 | Epoch Time: 0m 1s\n",
      "\tTrain Loss: 0.024 | Train Acc: 8.70% | Train Precision: 18.89% | Train Recall: 12.34% | Train F1-score: 13.98%\n",
      "\t Val. Loss: 0.025 |  Val. Acc: 8.50% | Val. Precision: 16.55% | Val. Recall: 11.86% | Val. F1-score: 12.94%\n",
      "Epoch: 16 | Epoch Time: 0m 1s\n",
      "\tTrain Loss: 0.024 | Train Acc: 9.04% | Train Precision: 19.60% | Train Recall: 13.06% | Train F1-score: 14.67%\n",
      "\t Val. Loss: 0.025 |  Val. Acc: 8.50% | Val. Precision: 17.28% | Val. Recall: 10.28% | Val. F1-score: 11.83%\n",
      "New validation loss 0.02505638520233333 is better than the best validation loss 0.025195800932124257 so far.\n",
      "Epoch: 17 | Epoch Time: 0m 1s\n",
      "\tTrain Loss: 0.024 | Train Acc: 9.17% | Train Precision: 20.26% | Train Recall: 13.32% | Train F1-score: 15.02%\n",
      "\t Val. Loss: 0.025 |  Val. Acc: 8.80% | Val. Precision: 17.82% | Val. Recall: 12.15% | Val. F1-score: 13.67%\n",
      "Epoch: 18 | Epoch Time: 0m 1s\n",
      "\tTrain Loss: 0.023 | Train Acc: 9.18% | Train Precision: 21.15% | Train Recall: 14.02% | Train F1-score: 15.77%\n",
      "\t Val. Loss: 0.025 |  Val. Acc: 8.89% | Val. Precision: 19.02% | Val. Recall: 10.18% | Val. F1-score: 12.22%\n",
      "Epoch: 19 | Epoch Time: 0m 1s\n",
      "\tTrain Loss: 0.023 | Train Acc: 9.50% | Train Precision: 21.77% | Train Recall: 14.41% | Train F1-score: 16.29%\n",
      "\t Val. Loss: 0.025 |  Val. Acc: 9.60% | Val. Precision: 19.29% | Val. Recall: 12.26% | Val. F1-score: 13.97%\n",
      "New validation loss 0.024783928878605366 is better than the best validation loss 0.02505638520233333 so far.\n",
      "Epoch: 20 | Epoch Time: 0m 1s\n",
      "\tTrain Loss: 0.023 | Train Acc: 9.73% | Train Precision: 22.07% | Train Recall: 14.76% | Train F1-score: 16.63%\n",
      "\t Val. Loss: 0.025 |  Val. Acc: 9.46% | Val. Precision: 20.17% | Val. Recall: 12.26% | Val. F1-score: 14.51%\n",
      "Epoch: 21 | Epoch Time: 0m 1s\n",
      "\tTrain Loss: 0.023 | Train Acc: 9.75% | Train Precision: 22.97% | Train Recall: 15.46% | Train F1-score: 17.28%\n",
      "\t Val. Loss: 0.025 |  Val. Acc: 9.19% | Val. Precision: 19.33% | Val. Recall: 9.11% | Val. F1-score: 11.34%\n",
      "New validation loss 0.024730690754950047 is better than the best validation loss 0.024783928878605366 so far.\n",
      "Epoch: 22 | Epoch Time: 0m 1s\n",
      "\tTrain Loss: 0.023 | Train Acc: 10.16% | Train Precision: 23.17% | Train Recall: 15.80% | Train F1-score: 17.65%\n",
      "\t Val. Loss: 0.025 |  Val. Acc: 9.77% | Val. Precision: 20.02% | Val. Recall: 11.20% | Val. F1-score: 13.34%\n",
      "Epoch: 23 | Epoch Time: 0m 1s\n",
      "\tTrain Loss: 0.022 | Train Acc: 10.48% | Train Precision: 24.20% | Train Recall: 16.64% | Train F1-score: 18.60%\n",
      "\t Val. Loss: 0.025 |  Val. Acc: 10.26% | Val. Precision: 20.90% | Val. Recall: 12.53% | Val. F1-score: 14.53%\n",
      "Epoch: 24 | Epoch Time: 0m 1s\n",
      "\tTrain Loss: 0.022 | Train Acc: 10.60% | Train Precision: 24.63% | Train Recall: 16.78% | Train F1-score: 18.77%\n",
      "\t Val. Loss: 0.025 |  Val. Acc: 10.87% | Val. Precision: 21.58% | Val. Recall: 15.84% | Val. F1-score: 17.02%\n",
      "Epoch: 25 | Epoch Time: 0m 1s\n",
      "\tTrain Loss: 0.022 | Train Acc: 10.94% | Train Precision: 24.64% | Train Recall: 16.77% | Train F1-score: 18.79%\n",
      "\t Val. Loss: 0.025 |  Val. Acc: 10.95% | Val. Precision: 21.72% | Val. Recall: 13.91% | Val. F1-score: 15.99%\n",
      "New validation loss 0.02440182282589376 is better than the best validation loss 0.024730690754950047 so far.\n",
      "Epoch: 26 | Epoch Time: 0m 1s\n",
      "\tTrain Loss: 0.022 | Train Acc: 11.09% | Train Precision: 25.36% | Train Recall: 17.28% | Train F1-score: 19.36%\n",
      "\t Val. Loss: 0.024 |  Val. Acc: 12.04% | Val. Precision: 22.19% | Val. Recall: 15.87% | Val. F1-score: 17.36%\n",
      "Epoch: 27 | Epoch Time: 0m 1s\n",
      "\tTrain Loss: 0.022 | Train Acc: 11.28% | Train Precision: 25.93% | Train Recall: 17.83% | Train F1-score: 19.92%\n",
      "\t Val. Loss: 0.024 |  Val. Acc: 12.33% | Val. Precision: 21.05% | Val. Recall: 18.85% | Val. F1-score: 18.66%\n",
      "New validation loss 0.024056419730186462 is better than the best validation loss 0.02440182282589376 so far.\n",
      "Epoch: 28 | Epoch Time: 0m 1s\n",
      "\tTrain Loss: 0.022 | Train Acc: 11.63% | Train Precision: 26.81% | Train Recall: 18.42% | Train F1-score: 20.52%\n",
      "\t Val. Loss: 0.024 |  Val. Acc: 11.85% | Val. Precision: 22.22% | Val. Recall: 17.79% | Val. F1-score: 18.83%\n",
      "Epoch: 29 | Epoch Time: 0m 1s\n",
      "\tTrain Loss: 0.021 | Train Acc: 11.73% | Train Precision: 27.73% | Train Recall: 18.98% | Train F1-score: 21.24%\n",
      "\t Val. Loss: 0.024 |  Val. Acc: 12.73% | Val. Precision: 22.41% | Val. Recall: 18.09% | Val. F1-score: 18.92%\n",
      "New validation loss 0.023988801054656506 is better than the best validation loss 0.024056419730186462 so far.\n",
      "Epoch: 30 | Epoch Time: 0m 1s\n",
      "\tTrain Loss: 0.021 | Train Acc: 11.87% | Train Precision: 27.91% | Train Recall: 18.96% | Train F1-score: 21.21%\n",
      "\t Val. Loss: 0.024 |  Val. Acc: 12.16% | Val. Precision: 23.71% | Val. Recall: 15.40% | Val. F1-score: 17.47%\n",
      "New validation loss 0.023920952575281262 is better than the best validation loss 0.023988801054656506 so far.\n",
      "Epoch: 31 | Epoch Time: 0m 1s\n",
      "\tTrain Loss: 0.021 | Train Acc: 12.21% | Train Precision: 28.61% | Train Recall: 19.56% | Train F1-score: 21.86%\n",
      "\t Val. Loss: 0.024 |  Val. Acc: 12.73% | Val. Precision: 22.57% | Val. Recall: 15.37% | Val. F1-score: 17.44%\n",
      "New validation loss 0.02357462770305574 is better than the best validation loss 0.023920952575281262 so far.\n",
      "Epoch: 32 | Epoch Time: 0m 1s\n",
      "\tTrain Loss: 0.021 | Train Acc: 12.73% | Train Precision: 29.62% | Train Recall: 20.40% | Train F1-score: 22.73%\n",
      "\t Val. Loss: 0.024 |  Val. Acc: 13.36% | Val. Precision: 25.66% | Val. Recall: 16.37% | Val. F1-score: 18.67%\n",
      "New validation loss 0.023335924604907632 is better than the best validation loss 0.02357462770305574 so far.\n",
      "Epoch: 33 | Epoch Time: 0m 1s\n",
      "\tTrain Loss: 0.021 | Train Acc: 12.62% | Train Precision: 30.05% | Train Recall: 20.61% | Train F1-score: 23.05%\n",
      "\t Val. Loss: 0.023 |  Val. Acc: 13.24% | Val. Precision: 24.66% | Val. Recall: 15.54% | Val. F1-score: 18.05%\n",
      "Epoch: 34 | Epoch Time: 0m 1s\n",
      "\tTrain Loss: 0.021 | Train Acc: 13.16% | Train Precision: 30.51% | Train Recall: 21.00% | Train F1-score: 23.44%\n",
      "\t Val. Loss: 0.023 |  Val. Acc: 13.43% | Val. Precision: 24.49% | Val. Recall: 18.14% | Val. F1-score: 19.63%\n",
      "New validation loss 0.023036876460537314 is better than the best validation loss 0.023335924604907632 so far.\n",
      "Epoch: 35 | Epoch Time: 0m 1s\n",
      "\tTrain Loss: 0.021 | Train Acc: 13.67% | Train Precision: 30.79% | Train Recall: 21.17% | Train F1-score: 23.53%\n",
      "\t Val. Loss: 0.023 |  Val. Acc: 12.82% | Val. Precision: 26.73% | Val. Recall: 18.73% | Val. F1-score: 20.77%\n",
      "Epoch: 36 | Epoch Time: 0m 1s\n",
      "\tTrain Loss: 0.020 | Train Acc: 14.15% | Train Precision: 32.38% | Train Recall: 22.66% | Train F1-score: 25.20%\n",
      "\t Val. Loss: 0.023 |  Val. Acc: 13.16% | Val. Precision: 25.23% | Val. Recall: 19.05% | Val. F1-score: 20.43%\n",
      "Epoch: 37 | Epoch Time: 0m 1s\n",
      "\tTrain Loss: 0.020 | Train Acc: 13.68% | Train Precision: 31.82% | Train Recall: 21.99% | Train F1-score: 24.38%\n",
      "\t Val. Loss: 0.023 |  Val. Acc: 14.14% | Val. Precision: 25.56% | Val. Recall: 18.78% | Val. F1-score: 20.28%\n",
      "Epoch: 38 | Epoch Time: 0m 1s\n",
      "\tTrain Loss: 0.020 | Train Acc: 14.37% | Train Precision: 33.00% | Train Recall: 22.73% | Train F1-score: 25.33%\n",
      "\t Val. Loss: 0.023 |  Val. Acc: 14.58% | Val. Precision: 26.29% | Val. Recall: 18.10% | Val. F1-score: 20.32%\n",
      "Epoch: 39 | Epoch Time: 0m 1s\n",
      "\tTrain Loss: 0.020 | Train Acc: 14.04% | Train Precision: 32.17% | Train Recall: 22.62% | Train F1-score: 24.86%\n",
      "\t Val. Loss: 0.024 |  Val. Acc: 13.14% | Val. Precision: 25.06% | Val. Recall: 14.97% | Val. F1-score: 17.62%\n",
      "Epoch: 40 | Epoch Time: 0m 1s\n",
      "\tTrain Loss: 0.020 | Train Acc: 14.41% | Train Precision: 33.81% | Train Recall: 23.67% | Train F1-score: 26.24%\n",
      "\t Val. Loss: 0.024 |  Val. Acc: 13.12% | Val. Precision: 26.43% | Val. Recall: 16.44% | Val. F1-score: 19.05%\n",
      "Epoch: 41 | Epoch Time: 0m 1s\n",
      "\tTrain Loss: 0.020 | Train Acc: 14.85% | Train Precision: 34.10% | Train Recall: 23.70% | Train F1-score: 26.34%\n",
      "\t Val. Loss: 0.023 |  Val. Acc: 15.02% | Val. Precision: 27.69% | Val. Recall: 19.49% | Val. F1-score: 21.40%\n",
      "Epoch: 42 | Epoch Time: 0m 1s\n",
      "\tTrain Loss: 0.020 | Train Acc: 14.41% | Train Precision: 34.02% | Train Recall: 24.03% | Train F1-score: 26.49%\n",
      "\t Val. Loss: 0.024 |  Val. Acc: 14.77% | Val. Precision: 27.56% | Val. Recall: 21.01% | Val. F1-score: 22.39%\n",
      "Epoch: 43 | Epoch Time: 0m 1s\n",
      "\tTrain Loss: 0.020 | Train Acc: 14.87% | Train Precision: 35.50% | Train Recall: 24.30% | Train F1-score: 27.18%\n",
      "\t Val. Loss: 0.024 |  Val. Acc: 16.04% | Val. Precision: 28.23% | Val. Recall: 24.33% | Val. F1-score: 24.21%\n",
      "Epoch: 44 | Epoch Time: 0m 1s\n",
      "\tTrain Loss: 0.020 | Train Acc: 14.94% | Train Precision: 35.82% | Train Recall: 25.10% | Train F1-score: 27.88%\n",
      "\t Val. Loss: 0.023 |  Val. Acc: 15.65% | Val. Precision: 27.13% | Val. Recall: 20.85% | Val. F1-score: 22.14%\n",
      "Epoch: 45 | Epoch Time: 0m 1s\n",
      "\tTrain Loss: 0.019 | Train Acc: 15.74% | Train Precision: 36.39% | Train Recall: 25.70% | Train F1-score: 28.56%\n",
      "\t Val. Loss: 0.023 |  Val. Acc: 15.53% | Val. Precision: 29.25% | Val. Recall: 19.73% | Val. F1-score: 22.36%\n",
      "Early stopping, on epoch: 45.\n",
      "CPU times: user 1min 12s, sys: 128 ms, total: 1min 12s\n",
      "Wall time: 1min 19s\n"
     ]
    }
   ],
   "source": [
    "%%time\n",
    "# hyperparams\n",
    "max_epochs = 1000\n",
    "batch_size = 128\n",
    "\n",
    "patience = 10\n",
    "\n",
    "# model\n",
    "model = GPTHead2(768, 538).to(device)\n",
    "\n",
    "criterion = nn.BCEWithLogitsLoss()\n",
    "optimizer = optim.Adam(model.parameters(),\n",
    "                    lr = 5e-1, # default is 5e-5, our notebook had 2e-5\n",
    "                  )\n",
    "\n",
    "wandb.init(\n",
    "    entity='ut-mit-news-classify',\n",
    "    project=\"NYT Multilabeling\",\n",
    ")\n",
    "# Magic\n",
    "# wandb.watch(model)\n",
    "\n",
    "\n",
    "# training\n",
    "epochs_of_no_improvement = 0\n",
    "best_valid_loss = float('inf')\n",
    "\n",
    "wandb.config.early_stopping_patience = patience\n",
    "wandb.config.training_samples=n_training_samples\n",
    "\n",
    "model_file_name = f'nyt_gtp2_prevectorized_on_{n_training_samples}_samples.pt'\n",
    "\n",
    "for epoch in range(max_epochs):\n",
    "\n",
    "    start_time = time.time()\n",
    "    \n",
    "    train_loss, train_acc, train_precision, train_recall, train_f_score \\\n",
    "        = train(model, train_loader, optimizer, criterion)\n",
    "    valid_loss, valid_acc, valid_precision, valid_recall, valid_f_score \\\n",
    "        = evaluate(model, valid_loader, criterion)\n",
    "    \n",
    "    end_time = time.time()\n",
    "\n",
    "    epoch_mins, epoch_secs = epoch_time(start_time, end_time)\n",
    "    \n",
    "    if valid_loss < best_valid_loss:\n",
    "        print(f'New validation loss {valid_loss} is better than the best validation loss {best_valid_loss} so far.')\n",
    "        best_valid_loss = valid_loss\n",
    "        torch.save(model, model_file_name)\n",
    "        epochs_of_no_improvement = 0\n",
    "    else: \n",
    "        epochs_of_no_improvement += 1\n",
    "    \n",
    "    print(f'Epoch: {epoch+1:02} | Epoch Time: {epoch_mins}m {epoch_secs}s')\n",
    "    print(f'\\tTrain Loss: {train_loss:.3f} | Train Acc: {train_acc*100:.2f}% | ' +\n",
    "          f'Train Precision: {train_precision*100:.2f}% | Train Recall: {train_recall*100:.2f}% | ' +\n",
    "          f'Train F1-score: {train_f_score*100:.2f}%')\n",
    "    print(f'\\t Val. Loss: {valid_loss:.3f} |  Val. Acc: {valid_acc*100:.2f}% | ' +\n",
    "          f'Val. Precision: {valid_precision*100:.2f}% | Val. Recall: {valid_recall*100:.2f}% | ' +\n",
    "          f'Val. F1-score: {valid_f_score*100:.2f}%')\n",
    "    \n",
    "    wandb.log({\"train_loss\": train_loss, \n",
    "                \"train_precision\": train_precision, \n",
    "                \"train_f_score\": train_f_score, \n",
    "                \"train_acc\": train_acc,\n",
    "                \"train_recall\": train_recall,\n",
    "               \"valid_loss\": valid_loss,\n",
    "               \"valid_acc\": valid_acc,\n",
    "               \"valid_precision\": valid_precision,\n",
    "               \"valid_recall\": valid_recall,\n",
    "               \"valid_f_score\": valid_f_score,\n",
    "               \"epoch\": epoch+1,\n",
    "                })\n",
    "    # check if the training should be stopped and then stop the training\n",
    "    if epochs_of_no_improvement == patience : \n",
    "        print(f'Early stopping, on epoch: {epoch+1}.')\n",
    "        break\n"
   ]
  },
  {
   "cell_type": "code",
   "execution_count": 81,
   "metadata": {},
   "outputs": [
    {
     "output_type": "stream",
     "name": "stdout",
     "text": [
      "predicted [('politics and government',)]\ngold: [('armament, defense and military forces',)]\n"
     ]
    }
   ],
   "source": [
    "idx = 15\n",
    "print('predicted', gettags(model, train_dataset.X[idx]))\n",
    "print('gold:', mlb.inverse_transform(train_dataset.y[idx].unsqueeze(0)))"
   ]
  },
  {
   "cell_type": "code",
   "execution_count": 68,
   "metadata": {},
   "outputs": [
    {
     "output_type": "stream",
     "name": "stdout",
     "text": [
      "Epoch: test | Epoch Time: 0m 0s\n\tTest Loss: 0.022 | Test Acc: 15.24% | Test Precision: 26.90% | Test Recall: 20.51% | Test F1-score: 21.36%\n"
     ]
    }
   ],
   "source": [
    "test_model = torch.load('nyt_gtp2_prevectorized_on_10000_samples.pt')\n",
    "test_loader = DataLoader(test_dataset, batch_size=batch_size)\n",
    "\n",
    "start_time = time.time()\n",
    "test_loss, test_acc, test_precision, test_recall, test_f_score \\\n",
    "    = evaluate(model, test_loader, criterion)\n",
    "end_time = time.time()\n",
    "epoch_mins, epoch_secs = epoch_time(start_time, end_time)\n",
    "\n",
    "print(f'Epoch: test | Epoch Time: {epoch_mins}m {epoch_secs}s')\n",
    "print(f'\\tTest Loss: {test_loss:.3f} | Test Acc: {test_acc*100:.2f}% | ' +\n",
    "      f'Test Precision: {test_precision*100:.2f}% | Test Recall: {test_recall*100:.2f}% | ' +\n",
    "      f'Test F1-score: {test_f_score*100:.2f}%')"
   ]
  },
  {
   "cell_type": "code",
   "execution_count": null,
   "metadata": {},
   "outputs": [],
   "source": []
  }
 ]
}