{
 "metadata": {
  "language_info": {
   "codemirror_mode": {
    "name": "ipython",
    "version": 3
   },
   "file_extension": ".py",
   "mimetype": "text/x-python",
   "name": "python",
   "nbconvert_exporter": "python",
   "pygments_lexer": "ipython3",
   "version": "3.8.0"
  },
  "orig_nbformat": 2,
  "kernelspec": {
   "name": "python380jvsc74a57bd01d47407f50cb4f57b03fc08e1f31d8212463fce5635b845e385eb7c9dcc614a7",
   "display_name": "Python 3.8.0 64-bit ('nlp': conda)"
  }
 },
 "nbformat": 4,
 "nbformat_minor": 2,
 "cells": [
  {
   "source": [
    "# Definitions (run first!)"
   ],
   "cell_type": "markdown",
   "metadata": {}
  },
  {
   "cell_type": "code",
   "execution_count": 69,
   "metadata": {},
   "outputs": [
    {
     "output_type": "stream",
     "name": "stdout",
     "text": [
      "Collecting wandb\n",
      "  Downloading wandb-0.10.30-py2.py3-none-any.whl (1.8 MB)\n",
      "\u001b[K     |████████████████████████████████| 1.8 MB 1.6 MB/s \n",
      "\u001b[?25hCollecting sentry-sdk>=0.4.0\n",
      "  Downloading sentry_sdk-1.1.0-py2.py3-none-any.whl (131 kB)\n",
      "\u001b[K     |████████████████████████████████| 131 kB 10.7 MB/s \n",
      "\u001b[?25hCollecting subprocess32>=3.5.3\n",
      "  Using cached subprocess32-3.5.4-py3-none-any.whl\n",
      "Requirement already satisfied: python-dateutil>=2.6.1 in /home/mbaliesnyi/anaconda3/envs/nlp/lib/python3.8/site-packages (from wandb) (2.8.1)\n",
      "Requirement already satisfied: requests<3,>=2.0.0 in /home/mbaliesnyi/anaconda3/envs/nlp/lib/python3.8/site-packages (from wandb) (2.25.1)\n",
      "Requirement already satisfied: protobuf>=3.12.0 in /home/mbaliesnyi/anaconda3/envs/nlp/lib/python3.8/site-packages (from wandb) (3.15.8)\n",
      "Requirement already satisfied: Click>=7.0 in /home/mbaliesnyi/anaconda3/envs/nlp/lib/python3.8/site-packages (from wandb) (7.1.2)\n",
      "Requirement already satisfied: six>=1.13.0 in /home/mbaliesnyi/anaconda3/envs/nlp/lib/python3.8/site-packages (from wandb) (1.15.0)\n",
      "Collecting PyYAML\n",
      "  Using cached PyYAML-5.4.1-cp38-cp38-manylinux1_x86_64.whl (662 kB)\n",
      "Collecting shortuuid>=0.5.0\n",
      "  Using cached shortuuid-1.0.1-py3-none-any.whl (7.5 kB)\n",
      "Collecting GitPython>=1.0.0\n",
      "  Downloading GitPython-3.1.14-py3-none-any.whl (159 kB)\n",
      "\u001b[K     |████████████████████████████████| 159 kB 10.1 MB/s \n",
      "\u001b[?25hCollecting configparser>=3.8.1\n",
      "  Downloading configparser-5.0.2-py3-none-any.whl (19 kB)\n",
      "Collecting promise<3,>=2.0\n",
      "  Using cached promise-2.3-py3-none-any.whl\n",
      "Collecting psutil>=5.0.0\n",
      "  Using cached psutil-5.8.0-cp38-cp38-manylinux2010_x86_64.whl (296 kB)\n",
      "Collecting pathtools\n",
      "  Using cached pathtools-0.1.2-py3-none-any.whl\n",
      "Collecting docker-pycreds>=0.4.0\n",
      "  Using cached docker_pycreds-0.4.0-py2.py3-none-any.whl (9.0 kB)\n",
      "Collecting gitdb<5,>=4.0.1\n",
      "  Downloading gitdb-4.0.7-py3-none-any.whl (63 kB)\n",
      "\u001b[K     |████████████████████████████████| 63 kB 4.7 MB/s \n",
      "\u001b[?25hCollecting smmap<5,>=3.0.1\n",
      "  Downloading smmap-4.0.0-py2.py3-none-any.whl (24 kB)\n",
      "Requirement already satisfied: urllib3<1.27,>=1.21.1 in /home/mbaliesnyi/anaconda3/envs/nlp/lib/python3.8/site-packages (from requests<3,>=2.0.0->wandb) (1.26.4)\n",
      "Requirement already satisfied: certifi>=2017.4.17 in /home/mbaliesnyi/anaconda3/envs/nlp/lib/python3.8/site-packages (from requests<3,>=2.0.0->wandb) (2020.12.5)\n",
      "Requirement already satisfied: idna<3,>=2.5 in /home/mbaliesnyi/anaconda3/envs/nlp/lib/python3.8/site-packages (from requests<3,>=2.0.0->wandb) (2.10)\n",
      "Requirement already satisfied: chardet<5,>=3.0.2 in /home/mbaliesnyi/anaconda3/envs/nlp/lib/python3.8/site-packages (from requests<3,>=2.0.0->wandb) (4.0.0)\n",
      "Installing collected packages: smmap, gitdb, subprocess32, shortuuid, sentry-sdk, PyYAML, psutil, promise, pathtools, GitPython, docker-pycreds, configparser, wandb\n",
      "Successfully installed GitPython-3.1.14 PyYAML-5.4.1 configparser-5.0.2 docker-pycreds-0.4.0 gitdb-4.0.7 pathtools-0.1.2 promise-2.3 psutil-5.8.0 sentry-sdk-1.1.0 shortuuid-1.0.1 smmap-4.0.0 subprocess32-3.5.4 wandb-0.10.30\n",
      "\u001b[34m\u001b[1mwandb\u001b[0m: Currently logged in as: \u001b[33mut-mit-news-classify\u001b[0m (use `wandb login --relogin` to force relogin)\n"
     ]
    }
   ],
   "source": [
    "!pip install wandb\n",
    "!wandb login"
   ]
  },
  {
   "cell_type": "code",
   "execution_count": 2,
   "metadata": {},
   "outputs": [],
   "source": [
    "import gzip\n",
    "import pickle\n",
    "import random\n",
    "import requests\n",
    "import csv\n",
    "from torch.utils.data import Dataset, DataLoader, random_split\n",
    "from mitnewsclassify.gpt_model import GPTModel as GPTHead\n",
    "from transformers import GPT2Tokenizer, GPT2Model\n",
    "import torch\n",
    "from sklearn.preprocessing import MultiLabelBinarizer\n",
    "import numpy as np\n",
    "import wandb"
   ]
  },
  {
   "cell_type": "code",
   "execution_count": 3,
   "metadata": {},
   "outputs": [],
   "source": [
    "device = torch.device(\"cuda\" if torch.cuda.is_available() else \"cpu\")\n",
    "seed = 42"
   ]
  },
  {
   "cell_type": "code",
   "execution_count": 4,
   "metadata": {},
   "outputs": [],
   "source": [
    "class GPTEmbeddedDataset(Dataset):\n",
    "    def __init__(self, X, y):\n",
    "        self.X = X\n",
    "        self.y = y\n",
    "\n",
    "    def __len__(self):\n",
    "        return len(self.X)\n",
    "\n",
    "    def __getitem__(self, idx):\n",
    "        return self.X[idx], self.y[idx], idx"
   ]
  },
  {
   "cell_type": "code",
   "execution_count": 5,
   "metadata": {},
   "outputs": [
    {
     "output_type": "execute_result",
     "data": {
      "text/plain": [
       "MultiLabelBinarizer(classes=['suspensions, dismissals and resignations',\n",
       "                             'education and schools',\n",
       "                             'colleges and universities', 'blacks',\n",
       "                             'population', 'economic conditions and trends',\n",
       "                             'labor',\n",
       "                             'office buildings and commercial properties',\n",
       "                             'architecture', 'medicine and health',\n",
       "                             'awards, decorations and honors',\n",
       "                             'diseases and conditions', 'research', 'cancer',\n",
       "                             'basketball', 'design', 'interior design',\n",
       "                             'real estate', 'trades (sports)',\n",
       "                             'demonstrations and riots', 'dancing',\n",
       "                             'hockey, ice', 'games', 'playoff games',\n",
       "                             'baseball', 'travel and vacations', 'finances',\n",
       "                             'books and literature',\n",
       "                             'united states politics and government',\n",
       "                             'politics and government', ...])"
      ]
     },
     "metadata": {},
     "execution_count": 5
    }
   ],
   "source": [
    "import csv\n",
    "\n",
    "def loadcsv(filename):\n",
    "    with open(filename, newline='', encoding='utf-8') as f:\n",
    "        return list(csv.reader(f))\n",
    "\n",
    "def load_label_map(out2id_path, id2label_path):\n",
    "    \n",
    "    out2id = loadcsv(out2id_path)\n",
    "    out2id = {int(row[0]): row[1] for row in out2id}\n",
    "\n",
    "    id2label_raw = loadcsv(id2label_path)\n",
    "    id2label = {}\n",
    "\n",
    "    for row in id2label_raw:\n",
    "        if row == []:\n",
    "            continue\n",
    "        id2label[row[1]] = row[2]\n",
    "\n",
    "    out2label = [id2label[out2id[out]] for out in sorted(out2id.keys())]\n",
    "    \n",
    "    return out2label\n",
    "\n",
    "out2label = load_label_map('labels_dict_gpt.csv', 'nyt-theme-tags.csv')\n",
    "mlb = MultiLabelBinarizer(classes=out2label)\n",
    "mlb.fit(out2label)"
   ]
  },
  {
   "cell_type": "code",
   "execution_count": 6,
   "metadata": {},
   "outputs": [],
   "source": [
    "# temporary dataset for storing tokenized articles & transformed labels\n",
    "class NYTDataset(Dataset):\n",
    "    def __init__(self, articles, labels):\n",
    "\n",
    "        self.tokenizer = GPT2Tokenizer.from_pretrained(\"gpt2\")\n",
    "        self.tokenizer.pad_token = self.tokenizer.eos_token\n",
    "\n",
    "        print('Tokenizing...')\n",
    "        self.articles = self.tokenizer(articles, add_special_tokens=True, padding=\"max_length\", truncation=True,\n",
    "                                       max_length=1024, return_tensors=\"pt\", return_attention_mask=True)\n",
    "\n",
    "        self.input_ids = self.articles['input_ids']\n",
    "        self.attention_mask = self.articles['attention_mask']\n",
    "\n",
    "        print('Preprocessing labels...')\n",
    "        self.labels = mlb.transform(labels)\n",
    "        print('Done')\n",
    "\n",
    "    def __len__(self):\n",
    "        return len(self.articles)\n",
    "\n",
    "    def __getitem__(self, idx):\n",
    "        # return self.articles[idx], self.labels[idx]\n",
    "        return self.input_ids[idx], self.attention_mask[idx], self.labels[idx]"
   ]
  },
  {
   "cell_type": "code",
   "execution_count": 7,
   "metadata": {},
   "outputs": [],
   "source": [
    "import time\n",
    "import math\n",
    "\n",
    "def epoch_time(start_time, end_time):\n",
    "    elapsed_time = end_time - start_time\n",
    "    elapsed_mins = int(elapsed_time / 60)\n",
    "    elapsed_secs = int(elapsed_time - (elapsed_mins * 60))\n",
    "    return elapsed_mins, elapsed_secs\n",
    "\n",
    "def validation_split(dataset, validation_subset, seed=42):\n",
    "\n",
    "    if validation_subset > 0:\n",
    "        n_total_samples = len(dataset)\n",
    "        n_train_samples = math.floor(n_total_samples * (1-validation_subset))\n",
    "        n_valid_samples = n_total_samples - n_train_samples\n",
    "\n",
    "        train_subset, valid_subset = random_split(\n",
    "            dataset,\n",
    "            [n_train_samples, n_valid_samples],\n",
    "            generator=torch.Generator().manual_seed(seed)\n",
    "        )  # reproducible results\n",
    "\n",
    "    else:\n",
    "        train_subset = dataset\n",
    "        valid_subset = None\n",
    "\n",
    "    return train_subset, valid_subset"
   ]
  },
  {
   "cell_type": "code",
   "execution_count": 8,
   "metadata": {},
   "outputs": [],
   "source": [
    "def train(model, iterator, optimizer, criterion):\n",
    "    \n",
    "    epoch_loss = 0\n",
    "    epoch_acc = 0\n",
    "    epoch_precision = 0\n",
    "    epoch_recall = 0\n",
    "    epoch_f_score = 0\n",
    "    \n",
    "    model.train()\n",
    "    \n",
    "\n",
    "    for i, batch in enumerate(iterator):\n",
    "\n",
    "        article_embeddings, labels, idx  = batch\n",
    "        article_embeddings = article_embeddings.to(device)\n",
    "        labels = labels.type(torch.float).to(device)\n",
    "\n",
    "        # zero the parameter gradients\n",
    "        optimizer.zero_grad()\n",
    "\n",
    "        # forward + backward + optimize\n",
    "        outputs = model(article_embeddings)\n",
    "        loss = criterion(outputs, labels)\n",
    "        loss.backward()\n",
    "        optimizer.step()\n",
    "\n",
    "        # calculate metrics\n",
    "        preds = model.act(outputs) > 0.5\n",
    "\n",
    "        acc, precision, recall, f1 = multi_label_scores(labels.detach().cpu(), preds.detach().cpu())\n",
    "        epoch_loss += loss.item()\n",
    "        epoch_acc += acc.item()\n",
    "        epoch_precision += precision.item()\n",
    "        epoch_recall += recall.item()\n",
    "        epoch_f_score += f1.item()\n",
    "        \n",
    "    return epoch_loss / len(iterator), epoch_acc / len(iterator), \\\n",
    "        epoch_precision / len(iterator), epoch_recall / len(iterator), \\\n",
    "        epoch_f_score / len(iterator)"
   ]
  },
  {
   "cell_type": "code",
   "execution_count": 9,
   "metadata": {},
   "outputs": [],
   "source": [
    "def evaluate(model, iterator, criterion):\n",
    "    \n",
    "    epoch_loss = 0\n",
    "    epoch_acc = 0\n",
    "    epoch_precision = 0\n",
    "    epoch_recall = 0\n",
    "    epoch_f_score = 0\n",
    "    \n",
    "    model.eval()\n",
    "    \n",
    "    with torch.no_grad():\n",
    "        for i, batch in enumerate(iterator):\n",
    "\n",
    "            article_embeddings, labels, idx  = batch\n",
    "            article_embeddings = article_embeddings.to(device)\n",
    "            labels = labels.type(torch.float).to(device)\n",
    "\n",
    "            outputs = model(article_embeddings)\n",
    "            loss = criterion(outputs, labels)\n",
    "\n",
    "            # calculate metrics\n",
    "            preds = model.act(outputs) > 0.5\n",
    "\n",
    "            acc, precision, recall, f1 = multi_label_scores(labels.detach().cpu(), preds.detach().cpu())\n",
    "            epoch_loss += loss.item()\n",
    "            epoch_acc += acc.item()\n",
    "            epoch_precision += precision.item()\n",
    "            epoch_recall += recall.item()\n",
    "            epoch_f_score += f1.item()\n",
    "        \n",
    "    return epoch_loss / len(iterator), epoch_acc / len(iterator), \\\n",
    "        epoch_precision / len(iterator), epoch_recall / len(iterator), \\\n",
    "        epoch_f_score / len(iterator)"
   ]
  },
  {
   "source": [
    "# Training"
   ],
   "cell_type": "markdown",
   "metadata": {}
  },
  {
   "cell_type": "code",
   "execution_count": 10,
   "metadata": {},
   "outputs": [],
   "source": [
    "import io\n",
    "import os\n",
    "import torch\n",
    "import torch.optim as optim\n",
    "import torch.nn as nn\n",
    "from torch.utils.data import Dataset, DataLoader\n",
    "from mitnewsclassify.gpt_model import GPTModel as GPTHead\n",
    "from tqdm.notebook import tqdm\n",
    "\n",
    "%load_ext autoreload\n",
    "%autoreload 2"
   ]
  },
  {
   "cell_type": "code",
   "execution_count": 11,
   "metadata": {},
   "outputs": [],
   "source": [
    "from sklearn.metrics import accuracy_score\n",
    "from sklearn.metrics import precision_score\n",
    "from sklearn.metrics import recall_score\n",
    "from sklearn.metrics import f1_score\n",
    "\n",
    "def multi_label_scores(correct_labels, predicted_labels):\n",
    "\n",
    "    accuracy = accuracy_score(correct_labels, predicted_labels)\n",
    "    precision = precision_score(correct_labels, predicted_labels, average='weighted', zero_division=0)\n",
    "    recall = recall_score(correct_labels, predicted_labels, average='weighted', zero_division=0)\n",
    "    f_1_score = f1_score(correct_labels, predicted_labels, average='weighted', zero_division=0)\n",
    "    \n",
    "    return accuracy, precision, recall, f_1_score\n",
    "\n",
    "def gettags(head_model, features, eval=False):\n",
    "    head_model.eval()\n",
    "    features = features.unsqueeze(0).to(device)\n",
    "    with torch.no_grad():\n",
    "        logits = head_model(features)\n",
    "        multi_label_sigmoids = head_model.act(logits)\n",
    "\n",
    "    preds = multi_label_sigmoids > 0.5\n",
    "    preds = preds.detach().cpu()\n",
    "\n",
    "    return mlb.inverse_transform(preds)"
   ]
  },
  {
   "cell_type": "code",
   "execution_count": 12,
   "metadata": {},
   "outputs": [
    {
     "output_type": "stream",
     "name": "stdout",
     "text": [
      "X_train torch.Size([100000, 768])\ny_train torch.Size([100000, 538])\nX_test torch.Size([10000, 768])\ny_test torch.Size([10000, 538])\n"
     ]
    }
   ],
   "source": [
    "train_dataset = torch.load('embedded_train_100k_baseline.pt')\n",
    "\n",
    "print('X_train', train_dataset.X.shape)\n",
    "print('y_train', train_dataset.y.shape)"
   ]
  },
  {
   "cell_type": "code",
   "execution_count": 14,
   "metadata": {
    "tags": []
   },
   "outputs": [],
   "source": [
    "# splitting train/validation\n",
    "batch_size = 128\n",
    "\n",
    "train_subset, valid_subset = validation_split(train_dataset, 0.1, seed)\n",
    "train_loader = DataLoader(train_subset, batch_size=batch_size)\n",
    "valid_loader = DataLoader(valid_subset, batch_size=batch_size)\n",
    "\n",
    "n_training_samples = train_dataset.X.shape[0]"
   ]
  },
  {
   "cell_type": "code",
   "execution_count": 15,
   "metadata": {},
   "outputs": [],
   "source": [
    "from mitnewsclassify.gpt_model import GPTModel as GPTHead"
   ]
  },
  {
   "cell_type": "code",
   "execution_count": 13,
   "metadata": {},
   "outputs": [
    {
     "output_type": "stream",
     "name": "stderr",
     "text": [
      "Failed to detect the name of this notebook, you can set it manually with the WANDB_NOTEBOOK_NAME environment variable to enable code saving.\n",
      "\u001b[34m\u001b[1mwandb\u001b[0m: Currently logged in as: \u001b[33mut-mit-news-classify\u001b[0m (use `wandb login --relogin` to force relogin)\n"
     ]
    },
    {
     "output_type": "display_data",
     "data": {
      "text/plain": "<IPython.core.display.HTML object>",
      "text/html": "\n                Tracking run with wandb version 0.10.30<br/>\n                Syncing run <strong style=\"color:#cdcd00\">solar-dew-27</strong> to <a href=\"https://wandb.ai\" target=\"_blank\">Weights & Biases</a> <a href=\"https://docs.wandb.com/integrations/jupyter.html\" target=\"_blank\">(Documentation)</a>.<br/>\n                Project page: <a href=\"https://wandb.ai/ut-mit-news-classify/NYT%20Multilabeling\" target=\"_blank\">https://wandb.ai/ut-mit-news-classify/NYT%20Multilabeling</a><br/>\n                Run page: <a href=\"https://wandb.ai/ut-mit-news-classify/NYT%20Multilabeling/runs/3d66i2hn\" target=\"_blank\">https://wandb.ai/ut-mit-news-classify/NYT%20Multilabeling/runs/3d66i2hn</a><br/>\n                Run data is saved locally in <code>/home/mbaliesnyi/code/nlp-project/ut-mit-news-classify/NYT/GPT/wandb/run-20210512_144051-3d66i2hn</code><br/><br/>\n            "
     },
     "metadata": {}
    },
    {
     "output_type": "execute_result",
     "data": {
      "text/html": "<h1>Run(3d66i2hn)</h1><iframe src=\"https://wandb.ai/ut-mit-news-classify/NYT%20Multilabeling/runs/3d66i2hn\" style=\"border:none;width:100%;height:400px\"></iframe>",
      "text/plain": [
       "<wandb.sdk.wandb_run.Run at 0x7eff8c0b6280>"
      ]
     },
     "metadata": {},
     "execution_count": 13
    }
   ],
   "source": [
    "wandb.init(\n",
    "    entity='ut-mit-news-classify',\n",
    "    project=\"NYT Multilabeling\"\n",
    ")"
   ]
  },
  {
   "cell_type": "code",
   "execution_count": 18,
   "metadata": {},
   "outputs": [
    {
     "output_type": "stream",
     "name": "stderr",
     "text": [
      "Failed to detect the name of this notebook, you can set it manually with the WANDB_NOTEBOOK_NAME environment variable to enable code saving.\n",
      "\u001b[34m\u001b[1mwandb\u001b[0m: Currently logged in as: \u001b[33mut-mit-news-classify\u001b[0m (use `wandb login --relogin` to force relogin)\n"
     ]
    },
    {
     "output_type": "display_data",
     "data": {
      "text/plain": "<IPython.core.display.HTML object>",
      "text/html": "\n                Tracking run with wandb version 0.10.30<br/>\n                Syncing run <strong style=\"color:#cdcd00\">helpful-violet-26</strong> to <a href=\"https://wandb.ai\" target=\"_blank\">Weights & Biases</a> <a href=\"https://docs.wandb.com/integrations/jupyter.html\" target=\"_blank\">(Documentation)</a>.<br/>\n                Project page: <a href=\"https://wandb.ai/ut-mit-news-classify/NYT%20Multilabeling\" target=\"_blank\">https://wandb.ai/ut-mit-news-classify/NYT%20Multilabeling</a><br/>\n                Run page: <a href=\"https://wandb.ai/ut-mit-news-classify/NYT%20Multilabeling/runs/1yis84xs\" target=\"_blank\">https://wandb.ai/ut-mit-news-classify/NYT%20Multilabeling/runs/1yis84xs</a><br/>\n                Run data is saved locally in <code>/home/mbaliesnyi/code/nlp-project/ut-mit-news-classify/NYT/GPT/wandb/run-20210512_142322-1yis84xs</code><br/><br/>\n            "
     },
     "metadata": {}
    },
    {
     "output_type": "stream",
     "name": "stdout",
     "text": [
      "New validation loss 0.02481998378245891 is better than the best validation loss inf so far.\n",
      "Epoch: 01 | Epoch Time: 0m 17s\n",
      "\tTrain Loss: 0.031 | Train Acc: 5.60% | Train Precision: 8.81% | Train Recall: 5.99% | Train F1-score: 6.60%\n",
      "\t Val. Loss: 0.025 |  Val. Acc: 7.95% | Val. Precision: 15.24% | Val. Recall: 9.48% | Val. F1-score: 10.95%\n",
      "Epoch: 02 | Epoch Time: 0m 16s\n",
      "\tTrain Loss: 0.024 | Train Acc: 10.59% | Train Precision: 20.36% | Train Recall: 13.24% | Train F1-score: 14.94%\n",
      "\t Val. Loss: 0.027 |  Val. Acc: 5.59% | Val. Precision: 16.39% | Val. Recall: 9.40% | Val. F1-score: 10.12%\n",
      "Epoch: 03 | Epoch Time: 0m 17s\n",
      "\tTrain Loss: 0.022 | Train Acc: 12.89% | Train Precision: 24.89% | Train Recall: 16.37% | Train F1-score: 18.49%\n",
      "\t Val. Loss: 0.035 |  Val. Acc: 6.89% | Val. Precision: 13.92% | Val. Recall: 7.28% | Val. F1-score: 6.51%\n",
      "Epoch: 04 | Epoch Time: 0m 17s\n",
      "\tTrain Loss: 0.022 | Train Acc: 14.16% | Train Precision: 28.20% | Train Recall: 18.48% | Train F1-score: 20.91%\n",
      "\t Val. Loss: 0.026 |  Val. Acc: 9.27% | Val. Precision: 14.61% | Val. Recall: 9.08% | Val. F1-score: 9.45%\n",
      "Epoch: 05 | Epoch Time: 0m 17s\n",
      "\tTrain Loss: 0.021 | Train Acc: 15.12% | Train Precision: 30.37% | Train Recall: 19.87% | Train F1-score: 22.53%\n",
      "\t Val. Loss: 0.027 |  Val. Acc: 5.67% | Val. Precision: 17.11% | Val. Recall: 6.89% | Val. F1-score: 8.36%\n",
      "New validation loss 0.02446183687241017 is better than the best validation loss 0.02481998378245891 so far.\n",
      "Epoch: 06 | Epoch Time: 0m 17s\n",
      "\tTrain Loss: 0.021 | Train Acc: 16.26% | Train Precision: 32.51% | Train Recall: 21.31% | Train F1-score: 24.18%\n",
      "\t Val. Loss: 0.024 |  Val. Acc: 8.60% | Val. Precision: 22.37% | Val. Recall: 11.28% | Val. F1-score: 13.31%\n",
      "New validation loss 0.023840657282101958 is better than the best validation loss 0.02446183687241017 so far.\n",
      "Epoch: 07 | Epoch Time: 0m 16s\n",
      "\tTrain Loss: 0.020 | Train Acc: 17.15% | Train Precision: 34.16% | Train Recall: 22.47% | Train F1-score: 25.49%\n",
      "\t Val. Loss: 0.024 |  Val. Acc: 9.35% | Val. Precision: 24.68% | Val. Recall: 15.29% | Val. F1-score: 17.14%\n",
      "Epoch: 08 | Epoch Time: 0m 17s\n",
      "\tTrain Loss: 0.020 | Train Acc: 17.68% | Train Precision: 35.21% | Train Recall: 23.24% | Train F1-score: 26.35%\n",
      "\t Val. Loss: 0.024 |  Val. Acc: 6.46% | Val. Precision: 24.04% | Val. Recall: 12.40% | Val. F1-score: 15.03%\n",
      "New validation loss 0.022603788495629648 is better than the best validation loss 0.023840657282101958 so far.\n",
      "Epoch: 09 | Epoch Time: 0m 17s\n",
      "\tTrain Loss: 0.020 | Train Acc: 17.71% | Train Precision: 35.45% | Train Recall: 23.39% | Train F1-score: 26.52%\n",
      "\t Val. Loss: 0.023 |  Val. Acc: 13.90% | Val. Precision: 27.10% | Val. Recall: 21.41% | Val. F1-score: 22.41%\n",
      "Epoch: 10 | Epoch Time: 0m 17s\n",
      "\tTrain Loss: 0.020 | Train Acc: 18.38% | Train Precision: 36.49% | Train Recall: 24.24% | Train F1-score: 27.43%\n",
      "\t Val. Loss: 0.026 |  Val. Acc: 9.35% | Val. Precision: 23.08% | Val. Recall: 14.78% | Val. F1-score: 16.30%\n",
      "Epoch: 11 | Epoch Time: 0m 17s\n",
      "\tTrain Loss: 0.019 | Train Acc: 18.89% | Train Precision: 37.41% | Train Recall: 24.91% | Train F1-score: 28.19%\n",
      "\t Val. Loss: 0.023 |  Val. Acc: 9.80% | Val. Precision: 25.59% | Val. Recall: 14.44% | Val. F1-score: 16.86%\n",
      "Epoch: 12 | Epoch Time: 0m 16s\n",
      "\tTrain Loss: 0.019 | Train Acc: 19.14% | Train Precision: 37.98% | Train Recall: 25.32% | Train F1-score: 28.65%\n",
      "\t Val. Loss: 0.027 |  Val. Acc: 8.68% | Val. Precision: 22.29% | Val. Recall: 15.36% | Val. F1-score: 16.25%\n",
      "Epoch: 13 | Epoch Time: 0m 17s\n",
      "\tTrain Loss: 0.019 | Train Acc: 19.40% | Train Precision: 38.45% | Train Recall: 25.75% | Train F1-score: 29.09%\n",
      "\t Val. Loss: 0.027 |  Val. Acc: 5.63% | Val. Precision: 22.83% | Val. Recall: 13.02% | Val. F1-score: 14.94%\n",
      "Epoch: 14 | Epoch Time: 0m 17s\n",
      "\tTrain Loss: 0.019 | Train Acc: 18.81% | Train Precision: 37.55% | Train Recall: 25.01% | Train F1-score: 28.29%\n",
      "\t Val. Loss: 0.024 |  Val. Acc: 13.41% | Val. Precision: 27.80% | Val. Recall: 18.54% | Val. F1-score: 20.40%\n",
      "Epoch: 15 | Epoch Time: 0m 16s\n",
      "\tTrain Loss: 0.019 | Train Acc: 19.37% | Train Precision: 38.67% | Train Recall: 25.87% | Train F1-score: 29.23%\n",
      "\t Val. Loss: 0.027 |  Val. Acc: 11.61% | Val. Precision: 22.92% | Val. Recall: 17.02% | Val. F1-score: 17.40%\n",
      "Epoch: 16 | Epoch Time: 0m 17s\n",
      "\tTrain Loss: 0.019 | Train Acc: 19.55% | Train Precision: 38.98% | Train Recall: 26.03% | Train F1-score: 29.42%\n",
      "\t Val. Loss: 0.027 |  Val. Acc: 11.54% | Val. Precision: 24.83% | Val. Recall: 14.14% | Val. F1-score: 14.81%\n",
      "Epoch: 17 | Epoch Time: 0m 17s\n",
      "\tTrain Loss: 0.019 | Train Acc: 20.12% | Train Precision: 39.89% | Train Recall: 26.94% | Train F1-score: 30.38%\n",
      "\t Val. Loss: 0.023 |  Val. Acc: 14.94% | Val. Precision: 30.16% | Val. Recall: 19.75% | Val. F1-score: 22.24%\n",
      "Epoch: 18 | Epoch Time: 0m 16s\n",
      "\tTrain Loss: 0.018 | Train Acc: 20.24% | Train Precision: 40.35% | Train Recall: 27.30% | Train F1-score: 30.78%\n",
      "\t Val. Loss: 0.026 |  Val. Acc: 11.60% | Val. Precision: 26.03% | Val. Recall: 13.91% | Val. F1-score: 15.94%\n",
      "Epoch: 19 | Epoch Time: 0m 17s\n",
      "\tTrain Loss: 0.018 | Train Acc: 20.46% | Train Precision: 40.72% | Train Recall: 27.62% | Train F1-score: 31.13%\n",
      "\t Val. Loss: 0.030 |  Val. Acc: 8.43% | Val. Precision: 21.63% | Val. Recall: 9.86% | Val. F1-score: 11.28%\n",
      "Early stopping, on epoch: 19.\n",
      "Epoch: test | Epoch Time: 0m 1s\n",
      "\tTest Loss: 0.030 | Test Acc: 8.37% | Test Precision: 22.51% | Test Recall: 10.23% | Test F1-score: 11.64%\n"
     ]
    },
    {
     "output_type": "display_data",
     "data": {
      "text/plain": "<IPython.core.display.HTML object>",
      "text/html": "<br/>Waiting for W&B process to finish, PID 21923<br/>Program ended successfully."
     },
     "metadata": {}
    },
    {
     "output_type": "display_data",
     "data": {
      "text/plain": "VBox(children=(Label(value=' 0.00MB of 0.00MB uploaded (0.00MB deduped)\\r'), FloatProgress(value=1.0, max=1.0)…",
      "application/vnd.jupyter.widget-view+json": {
       "version_major": 2,
       "version_minor": 0,
       "model_id": "c6299d908bdd47969cfe564de13be6a1"
      }
     },
     "metadata": {}
    },
    {
     "output_type": "display_data",
     "data": {
      "text/plain": "<IPython.core.display.HTML object>",
      "text/html": "Find user logs for this run at: <code>/home/mbaliesnyi/code/nlp-project/ut-mit-news-classify/NYT/GPT/wandb/run-20210512_142322-1yis84xs/logs/debug.log</code>"
     },
     "metadata": {}
    },
    {
     "output_type": "display_data",
     "data": {
      "text/plain": "<IPython.core.display.HTML object>",
      "text/html": "Find internal logs for this run at: <code>/home/mbaliesnyi/code/nlp-project/ut-mit-news-classify/NYT/GPT/wandb/run-20210512_142322-1yis84xs/logs/debug-internal.log</code>"
     },
     "metadata": {}
    },
    {
     "output_type": "display_data",
     "data": {
      "text/plain": "<IPython.core.display.HTML object>",
      "text/html": "<h3>Run summary:</h3><br/><style>\n    table.wandb td:nth-child(1) { padding: 0 10px; text-align: right }\n    </style><table class=\"wandb\">\n<tr><td>train_loss</td><td>0.01829</td></tr><tr><td>train_precision</td><td>0.4072</td></tr><tr><td>train_f_score</td><td>0.31126</td></tr><tr><td>train_acc</td><td>0.20457</td></tr><tr><td>train_recall</td><td>0.27621</td></tr><tr><td>valid_loss</td><td>0.03027</td></tr><tr><td>valid_acc</td><td>0.08426</td></tr><tr><td>valid_precision</td><td>0.21634</td></tr><tr><td>valid_recall</td><td>0.09864</td></tr><tr><td>valid_f_score</td><td>0.11279</td></tr><tr><td>epoch</td><td>19</td></tr><tr><td>_runtime</td><td>328</td></tr><tr><td>_timestamp</td><td>1620818930</td></tr><tr><td>_step</td><td>18</td></tr></table>"
     },
     "metadata": {}
    },
    {
     "output_type": "display_data",
     "data": {
      "text/plain": "<IPython.core.display.HTML object>",
      "text/html": "<h3>Run history:</h3><br/><style>\n    table.wandb td:nth-child(1) { padding: 0 10px; text-align: right }\n    </style><table class=\"wandb\">\n<tr><td>train_loss</td><td>█▄▃▃▃▂▂▂▂▂▂▁▁▂▁▁▁▁▁</td></tr><tr><td>train_precision</td><td>▁▄▅▅▆▆▇▇▇▇▇▇█▇█████</td></tr><tr><td>train_f_score</td><td>▁▃▄▅▆▆▆▇▇▇▇▇▇▇▇████</td></tr><tr><td>train_acc</td><td>▁▃▄▅▅▆▆▇▇▇▇▇█▇▇████</td></tr><tr><td>train_recall</td><td>▁▃▄▅▅▆▆▇▇▇▇▇▇▇▇▇███</td></tr><tr><td>valid_loss</td><td>▂▄█▃▃▂▂▂▁▃▁▃▃▂▄▃▁▃▅</td></tr><tr><td>valid_acc</td><td>▃▁▂▄▁▃▄▂▇▄▄▃▁▇▆▅█▅▃</td></tr><tr><td>valid_precision</td><td>▂▂▁▁▂▅▆▅▇▅▆▅▅▇▅▆█▆▄</td></tr><tr><td>valid_recall</td><td>▂▂▁▂▁▃▅▄█▅▅▅▄▇▆▄▇▄▂</td></tr><tr><td>valid_f_score</td><td>▃▃▁▂▂▄▆▅█▅▆▅▅▇▆▅█▅▃</td></tr><tr><td>epoch</td><td>▁▁▂▂▃▃▃▄▄▅▅▅▆▆▆▇▇██</td></tr><tr><td>_runtime</td><td>▁▁▂▂▃▃▃▄▄▅▅▅▆▆▆▇▇██</td></tr><tr><td>_timestamp</td><td>▁▁▂▂▃▃▃▄▄▅▅▅▆▆▆▇▇██</td></tr><tr><td>_step</td><td>▁▁▂▂▃▃▃▄▄▅▅▅▆▆▆▇▇██</td></tr></table><br/>"
     },
     "metadata": {}
    },
    {
     "output_type": "display_data",
     "data": {
      "text/plain": "<IPython.core.display.HTML object>",
      "text/html": "Synced 6 W&B file(s), 0 media file(s), 0 artifact file(s) and 0 other file(s)"
     },
     "metadata": {}
    },
    {
     "output_type": "display_data",
     "data": {
      "text/plain": "<IPython.core.display.HTML object>",
      "text/html": "\n                    <br/>Synced <strong style=\"color:#cdcd00\">helpful-violet-26</strong>: <a href=\"https://wandb.ai/ut-mit-news-classify/NYT%20Multilabeling/runs/1yis84xs\" target=\"_blank\">https://wandb.ai/ut-mit-news-classify/NYT%20Multilabeling/runs/1yis84xs</a><br/>\n                "
     },
     "metadata": {}
    },
    {
     "output_type": "stream",
     "name": "stdout",
     "text": [
      "CPU times: user 24min 18s, sys: 1.59 s, total: 24min 19s\nWall time: 5min 34s\n"
     ]
    }
   ],
   "source": [
    "%%time\n",
    "# hyperparams\n",
    "max_epochs = 1000\n",
    "\n",
    "patience = 10\n",
    "\n",
    "# model\n",
    "model = GPTHead(768, 538).to(device)\n",
    "optimizer = optim.Adam(model.parameters(),\n",
    "                    lr = 5e-1, # default is 5e-5, our notebook had 2e-5\n",
    "                  )\n",
    "\n",
    "# training\n",
    "epochs_of_no_improvement = 0\n",
    "best_valid_loss = float('inf')\n",
    "\n",
    "wandb.config.early_stopping_patience = patience\n",
    "wandb.config.training_samples=n_training_samples\n",
    "\n",
    "model_file_name = f'model_{n_training_samples//1000}K_samples_baseline.pt'\n",
    "\n",
    "for epoch in range(max_epochs):\n",
    "\n",
    "    start_time = time.time()\n",
    "    \n",
    "    train_loss, train_acc, train_precision, train_recall, train_f_score \\\n",
    "        = train(model, train_loader, optimizer, criterion)\n",
    "    valid_loss, valid_acc, valid_precision, valid_recall, valid_f_score \\\n",
    "        = evaluate(model, valid_loader, criterion)\n",
    "    \n",
    "    end_time = time.time()\n",
    "\n",
    "    epoch_mins, epoch_secs = epoch_time(start_time, end_time)\n",
    "    \n",
    "    if valid_loss < best_valid_loss:\n",
    "        print(f'New validation loss {valid_loss} is better than the best validation loss {best_valid_loss} so far.')\n",
    "        best_valid_loss = valid_loss\n",
    "        torch.save(model, model_file_name)\n",
    "        epochs_of_no_improvement = 0\n",
    "    else: \n",
    "        epochs_of_no_improvement += 1\n",
    "    \n",
    "    print(f'Epoch: {epoch+1:02} | Epoch Time: {epoch_mins}m {epoch_secs}s')\n",
    "    print(f'\\tTrain Loss: {train_loss:.3f} | Train Acc: {train_acc*100:.2f}% | ' +\n",
    "          f'Train Precision: {train_precision*100:.2f}% | Train Recall: {train_recall*100:.2f}% | ' +\n",
    "          f'Train F1-score: {train_f_score*100:.2f}%')\n",
    "    print(f'\\t Val. Loss: {valid_loss:.3f} |  Val. Acc: {valid_acc*100:.2f}% | ' +\n",
    "          f'Val. Precision: {valid_precision*100:.2f}% | Val. Recall: {valid_recall*100:.2f}% | ' +\n",
    "          f'Val. F1-score: {valid_f_score*100:.2f}%')\n",
    "    \n",
    "    wandb.log({\"train_loss\": train_loss, \n",
    "                \"train_precision\": train_precision, \n",
    "                \"train_f_score\": train_f_score, \n",
    "                \"train_acc\": train_acc,\n",
    "                \"train_recall\": train_recall,\n",
    "               \"valid_loss\": valid_loss,\n",
    "               \"valid_acc\": valid_acc,\n",
    "               \"valid_precision\": valid_precision,\n",
    "               \"valid_recall\": valid_recall,\n",
    "               \"valid_f_score\": valid_f_score,\n",
    "               \"epoch\": epoch+1,\n",
    "                })\n",
    "    # check if the training should be stopped and then stop the training\n",
    "    if epochs_of_no_improvement == patience : \n",
    "        print(f'Early stopping, on epoch: {epoch+1}.')\n",
    "        break\n",
    "\n",
    "torch.cuda.empty_cache()"
   ]
  },
  {
   "cell_type": "code",
   "execution_count": null,
   "metadata": {},
   "outputs": [],
   "source": [
    "test_dataset = torch.load('embedded_test_100k_baseline.pt')\n",
    "print('X_test', test_dataset.X.shape)\n",
    "print('y_test', test_dataset.y.shape)"
   ]
  },
  {
   "cell_type": "code",
   "execution_count": 18,
   "metadata": {},
   "outputs": [
    {
     "output_type": "stream",
     "name": "stdout",
     "text": [
      "Epoch: test | Epoch Time: 0m 2s\n\tTest Loss: 0.023 | Test Acc: 12.98% | Test Precision: 24.81% | Test Recall: 20.86% | Test F1-score: 21.40%\n"
     ]
    },
    {
     "output_type": "display_data",
     "data": {
      "text/plain": "<IPython.core.display.HTML object>",
      "text/html": "<br/>Waiting for W&B process to finish, PID 28872<br/>Program ended successfully."
     },
     "metadata": {}
    },
    {
     "output_type": "display_data",
     "data": {
      "text/plain": "VBox(children=(Label(value=' 0.00MB of 0.00MB uploaded (0.00MB deduped)\\r'), FloatProgress(value=1.0, max=1.0)…",
      "application/vnd.jupyter.widget-view+json": {
       "version_major": 2,
       "version_minor": 0,
       "model_id": "1357400c343345258aeed90b84e0dc78"
      }
     },
     "metadata": {}
    },
    {
     "output_type": "display_data",
     "data": {
      "text/plain": "<IPython.core.display.HTML object>",
      "text/html": "Find user logs for this run at: <code>/home/mbaliesnyi/code/nlp-project/ut-mit-news-classify/NYT/GPT/wandb/run-20210512_144051-3d66i2hn/logs/debug.log</code>"
     },
     "metadata": {}
    },
    {
     "output_type": "display_data",
     "data": {
      "text/plain": "<IPython.core.display.HTML object>",
      "text/html": "Find internal logs for this run at: <code>/home/mbaliesnyi/code/nlp-project/ut-mit-news-classify/NYT/GPT/wandb/run-20210512_144051-3d66i2hn/logs/debug-internal.log</code>"
     },
     "metadata": {}
    },
    {
     "output_type": "display_data",
     "data": {
      "text/plain": "<IPython.core.display.HTML object>",
      "text/html": "<h3>Run summary:</h3><br/><style>\n    table.wandb td:nth-child(1) { padding: 0 10px; text-align: right }\n    </style><table class=\"wandb\">\n<tr><td>test_acc</td><td>0.12978</td></tr><tr><td>test_precision</td><td>0.24813</td></tr><tr><td>test_recall</td><td>0.20862</td></tr><tr><td>test_f_score</td><td>0.21404</td></tr></table>"
     },
     "metadata": {}
    },
    {
     "output_type": "display_data",
     "data": {
      "text/plain": "<IPython.core.display.HTML object>",
      "text/html": "Synced 6 W&B file(s), 0 media file(s), 0 artifact file(s) and 0 other file(s)"
     },
     "metadata": {}
    },
    {
     "output_type": "display_data",
     "data": {
      "text/plain": "<IPython.core.display.HTML object>",
      "text/html": "\n                    <br/>Synced <strong style=\"color:#cdcd00\">solar-dew-27</strong>: <a href=\"https://wandb.ai/ut-mit-news-classify/NYT%20Multilabeling/runs/3d66i2hn\" target=\"_blank\">https://wandb.ai/ut-mit-news-classify/NYT%20Multilabeling/runs/3d66i2hn</a><br/>\n                "
     },
     "metadata": {}
    }
   ],
   "source": [
    "# evaluate the model on the test set\n",
    "\n",
    "test_model = torch.load('model_100K_samples_baseline.pt')\n",
    "test_loader = DataLoader(test_dataset, batch_size=64)\n",
    "criterion = nn.BCEWithLogitsLoss()\n",
    "\n",
    "start_time = time.time()\n",
    "test_loss, test_acc, test_precision, test_recall, test_f_score \\\n",
    "    = evaluate(test_model, test_loader, criterion)\n",
    "end_time = time.time()\n",
    "epoch_mins, epoch_secs = epoch_time(start_time, end_time)\n",
    "\n",
    "wandb.run.summary['test_acc'] = test_acc\n",
    "wandb.run.summary['test_precision'] = test_precision\n",
    "wandb.run.summary['test_recall'] = test_recall\n",
    "wandb.run.summary['test_f_score'] = test_f_score\n",
    "\n",
    "print(f'Epoch: test | Epoch Time: {epoch_mins}m {epoch_secs}s')\n",
    "print(f'\\tTest Loss: {test_loss:.3f} | Test Acc: {test_acc*100:.2f}% | ' +\n",
    "      f'Test Precision: {test_precision*100:.2f}% | Test Recall: {test_recall*100:.2f}% | ' +\n",
    "      f'Test F1-score: {test_f_score*100:.2f}%')\n",
    "\n",
    "wandb.finish()"
   ]
  },
  {
   "cell_type": "code",
   "execution_count": 81,
   "metadata": {},
   "outputs": [
    {
     "output_type": "stream",
     "name": "stdout",
     "text": [
      "predicted [('politics and government',)]\ngold: [('armament, defense and military forces',)]\n"
     ]
    }
   ],
   "source": [
    "idx = 15\n",
    "print('predicted', gettags(model, train_dataset.X[idx]))\n",
    "print('gold:', mlb.inverse_transform(train_dataset.y[idx].unsqueeze(0)))"
   ]
  },
  {
   "cell_type": "code",
   "execution_count": null,
   "metadata": {},
   "outputs": [],
   "source": []
  }
 ]
}