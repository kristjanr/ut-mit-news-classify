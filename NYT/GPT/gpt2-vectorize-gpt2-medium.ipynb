{
 "metadata": {
  "language_info": {
   "codemirror_mode": {
    "name": "ipython",
    "version": 3
   },
   "file_extension": ".py",
   "mimetype": "text/x-python",
   "name": "python",
   "nbconvert_exporter": "python",
   "pygments_lexer": "ipython3",
   "version": "3.8.0"
  },
  "orig_nbformat": 2,
  "kernelspec": {
   "name": "python380jvsc74a57bd01d47407f50cb4f57b03fc08e1f31d8212463fce5635b845e385eb7c9dcc614a7",
   "display_name": "Python 3.8.0 64-bit ('nlp': conda)"
  }
 },
 "nbformat": 4,
 "nbformat_minor": 2,
 "cells": [
  {
   "source": [
    "# Definitions (run first!)"
   ],
   "cell_type": "markdown",
   "metadata": {}
  },
  {
   "cell_type": "code",
   "execution_count": 1,
   "metadata": {},
   "outputs": [],
   "source": [
    "import gzip\n",
    "import pickle\n",
    "import random\n",
    "import requests\n",
    "import csv\n",
    "from torch.utils.data import Dataset, DataLoader\n",
    "from mitnewsclassify.gpt_model import GPTModel as GPTHead\n",
    "from transformers import GPT2Tokenizer, GPT2Model\n",
    "import torch\n",
    "from sklearn.preprocessing import MultiLabelBinarizer\n",
    "import numpy as np"
   ]
  },
  {
   "cell_type": "code",
   "execution_count": 2,
   "metadata": {},
   "outputs": [],
   "source": [
    "device = torch.device(\"cuda\" if torch.cuda.is_available() else \"cpu\")\n",
    "seed = 42"
   ]
  },
  {
   "cell_type": "code",
   "execution_count": 3,
   "metadata": {},
   "outputs": [],
   "source": [
    "class GPTEmbeddedDataset(Dataset):\n",
    "    def __init__(self, X, y):\n",
    "        self.X = X\n",
    "        self.y = y\n",
    "\n",
    "    def __len__(self):\n",
    "        return len(self.X)\n",
    "\n",
    "    def __getitem__(self, idx):\n",
    "        return self.X[idx], self.y[idx], idx"
   ]
  },
  {
   "cell_type": "code",
   "execution_count": 4,
   "metadata": {},
   "outputs": [
    {
     "output_type": "execute_result",
     "data": {
      "text/plain": [
       "MultiLabelBinarizer(classes=['suspensions, dismissals and resignations',\n",
       "                             'education and schools',\n",
       "                             'colleges and universities', 'blacks',\n",
       "                             'population', 'economic conditions and trends',\n",
       "                             'labor',\n",
       "                             'office buildings and commercial properties',\n",
       "                             'architecture', 'medicine and health',\n",
       "                             'awards, decorations and honors',\n",
       "                             'diseases and conditions', 'research', 'cancer',\n",
       "                             'basketball', 'design', 'interior design',\n",
       "                             'real estate', 'trades (sports)',\n",
       "                             'demonstrations and riots', 'dancing',\n",
       "                             'hockey, ice', 'games', 'playoff games',\n",
       "                             'baseball', 'travel and vacations', 'finances',\n",
       "                             'books and literature',\n",
       "                             'united states politics and government',\n",
       "                             'politics and government', ...])"
      ]
     },
     "metadata": {},
     "execution_count": 4
    }
   ],
   "source": [
    "import csv\n",
    "\n",
    "def loadcsv(filename):\n",
    "    with open(filename, newline='', encoding='utf-8') as f:\n",
    "        return list(csv.reader(f))\n",
    "\n",
    "def load_label_map(out2id_path, id2label_path):\n",
    "    \n",
    "    out2id = loadcsv(out2id_path)\n",
    "    out2id = {int(row[0]): row[1] for row in out2id}\n",
    "\n",
    "    id2label_raw = loadcsv(id2label_path)\n",
    "    id2label = {}\n",
    "\n",
    "    for row in id2label_raw:\n",
    "        if row == []:\n",
    "            continue\n",
    "        id2label[row[1]] = row[2]\n",
    "\n",
    "    out2label = [id2label[out2id[out]] for out in sorted(out2id.keys())]\n",
    "    \n",
    "    return out2label\n",
    "\n",
    "out2label = load_label_map('labels_dict_gpt.csv', 'nyt-theme-tags.csv')\n",
    "mlb = MultiLabelBinarizer(classes=out2label)\n",
    "mlb.fit(out2label)"
   ]
  },
  {
   "cell_type": "code",
   "execution_count": 5,
   "metadata": {},
   "outputs": [],
   "source": [
    "# temporary dataset for storing tokenized articles & transformed labels\n",
    "class NYTDataset(Dataset):\n",
    "    def __init__(self, articles, labels):\n",
    "\n",
    "        self.tokenizer = GPT2Tokenizer.from_pretrained(\"gpt2\")\n",
    "        self.tokenizer.pad_token = self.tokenizer.eos_token\n",
    "\n",
    "        print('Tokenizing...')\n",
    "        self.articles = self.tokenizer(articles, add_special_tokens=True, padding=\"max_length\", truncation=True,\n",
    "                                       max_length=1024, return_tensors=\"pt\", return_attention_mask=True)\n",
    "\n",
    "        self.input_ids = self.articles['input_ids']\n",
    "        self.attention_mask = self.articles['attention_mask']\n",
    "\n",
    "        print('Preprocessing labels...')\n",
    "        self.labels = mlb.transform(labels)\n",
    "        print('Done')\n",
    "\n",
    "    def __len__(self):\n",
    "        return len(self.input_ids)\n",
    "\n",
    "    def __getitem__(self, idx):\n",
    "        # return self.articles[idx], self.labels[idx]\n",
    "        return self.input_ids[idx], self.attention_mask[idx], self.labels[idx]"
   ]
  },
  {
   "source": [
    "# Load, Pre-process & Embed data with GPT2 & Save to disk"
   ],
   "cell_type": "markdown",
   "metadata": {}
  },
  {
   "cell_type": "code",
   "execution_count": 7,
   "metadata": {},
   "outputs": [],
   "source": [
    "# open the train data given to us by Max\n",
    "with gzip.open('../../NYTcorpus_train.p.gz', mode='r') as f:\n",
    "    train_data = pickle.load(f)\n",
    "\n",
    "# open the test data given to us by Max\n",
    "with gzip.open('../../NYTcorpus_test.p.gz', mode='r') as f:\n",
    "    test_data = pickle.load(f)\n",
    "\n",
    "# shuffle just in case the test and train data were not shuffled before - \n",
    "# we will only measure model's accuracy on a few thousand samples\n",
    "random.Random(seed).shuffle(train_data)\n",
    "random.Random(seed).shuffle(test_data)\n",
    "\n",
    "# train and test data labels are coded in numbers,\n",
    "# but the models predict human-readable labels,\n",
    "# so we need to re-map these. \n",
    "# Let's use one of the files downloaded by the mitnewsclassify package\n",
    "with open('nyt-theme-tags.csv', newline='') as csvfile:\n",
    "    reader = csv.DictReader(csvfile)\n",
    "    tags_dict = {row['tags_id']: row['tag'] for row in reader}\n",
    "\n",
    "# extract actual article texts from data samples\n",
    "train_articles = [d[2] for d in train_data] \n",
    "test_articles = [d[2] for d in test_data]\n",
    "\n",
    "# map the number-coded labels to human-readable labels\n",
    "train_labels_lists = [list(map(tags_dict.get, d[3:])) for d in train_data]\n",
    "test_labels_lists = [list(map(tags_dict.get, d[3:])) for d in test_data]"
   ]
  },
  {
   "cell_type": "code",
   "execution_count": 8,
   "metadata": {},
   "outputs": [
    {
     "output_type": "stream",
     "name": "stdout",
     "text": [
      "Tokenizing...\n",
      "Preprocessing labels...\n",
      "Done\n",
      "Tokenizing...\n",
      "Preprocessing labels...\n",
      "Done\n"
     ]
    }
   ],
   "source": [
    "# takes 2-3 minutes\n",
    "\n",
    "train_size = 100_000\n",
    "test_size = 10_000\n",
    "\n",
    "train_dataset = NYTDataset(train_articles[:train_size], train_labels_lists[:train_size])\n",
    "test_dataset = NYTDataset(test_articles[:test_size], test_labels_lists[:test_size])"
   ]
  },
  {
   "cell_type": "code",
   "execution_count": 6,
   "metadata": {},
   "outputs": [],
   "source": [
    "train_dataset = torch.load('train_dataset_tokenized_eos_pad.pt')\n",
    "test_dataset = torch.load('test_dataset_tokenized_eos_pad.pt')\n",
    "toy_dataset = torch.load('toy_dataset_tokenized_eos_pad.pt')"
   ]
  },
  {
   "cell_type": "code",
   "execution_count": 7,
   "metadata": {},
   "outputs": [
    {
     "output_type": "display_data",
     "data": {
      "text/plain": "<Figure size 432x288 with 1 Axes>",
      "image/svg+xml": "<?xml version=\"1.0\" encoding=\"utf-8\" standalone=\"no\"?>\n<!DOCTYPE svg PUBLIC \"-//W3C//DTD SVG 1.1//EN\"\n  \"http://www.w3.org/Graphics/SVG/1.1/DTD/svg11.dtd\">\n<svg height=\"277.314375pt\" version=\"1.1\" viewBox=\"0 0 404.804598 277.314375\" width=\"404.804598pt\" xmlns=\"http://www.w3.org/2000/svg\" xmlns:xlink=\"http://www.w3.org/1999/xlink\">\n <metadata>\n  <rdf:RDF xmlns:cc=\"http://creativecommons.org/ns#\" xmlns:dc=\"http://purl.org/dc/elements/1.1/\" xmlns:rdf=\"http://www.w3.org/1999/02/22-rdf-syntax-ns#\">\n   <cc:Work>\n    <dc:type rdf:resource=\"http://purl.org/dc/dcmitype/StillImage\"/>\n    <dc:date>2021-05-12T15:01:03.203477</dc:date>\n    <dc:format>image/svg+xml</dc:format>\n    <dc:creator>\n     <cc:Agent>\n      <dc:title>Matplotlib v3.4.1, https://matplotlib.org/</dc:title>\n     </cc:Agent>\n    </dc:creator>\n   </cc:Work>\n  </rdf:RDF>\n </metadata>\n <defs>\n  <style type=\"text/css\">*{stroke-linecap:butt;stroke-linejoin:round;}</style>\n </defs>\n <g id=\"figure_1\">\n  <g id=\"patch_1\">\n   <path d=\"M 0 277.314375 \nL 404.804598 277.314375 \nL 404.804598 0 \nL 0 0 \nz\n\" style=\"fill:none;\"/>\n  </g>\n  <g id=\"axes_1\">\n   <g id=\"patch_2\">\n    <path d=\"M 59.645313 239.758125 \nL 394.445312 239.758125 \nL 394.445312 22.318125 \nL 59.645313 22.318125 \nz\n\" style=\"fill:#ffffff;\"/>\n   </g>\n   <g id=\"patch_3\">\n    <path clip-path=\"url(#pb231972673)\" d=\"M 61.294574 239.758125 \nL 94.279795 239.758125 \nL 94.279795 140.376132 \nL 61.294574 140.376132 \nz\n\" style=\"fill:#1f77b4;opacity:0.5;\"/>\n   </g>\n   <g id=\"patch_4\">\n    <path clip-path=\"url(#pb231972673)\" d=\"M 94.279795 239.758125 \nL 127.265017 239.758125 \nL 127.265017 32.672411 \nL 94.279795 32.672411 \nz\n\" style=\"fill:#1f77b4;opacity:0.5;\"/>\n   </g>\n   <g id=\"patch_5\">\n    <path clip-path=\"url(#pb231972673)\" d=\"M 127.265017 239.758125 \nL 160.250239 239.758125 \nL 160.250239 102.977638 \nL 127.265017 102.977638 \nz\n\" style=\"fill:#1f77b4;opacity:0.5;\"/>\n   </g>\n   <g id=\"patch_6\">\n    <path clip-path=\"url(#pb231972673)\" d=\"M 160.250239 239.758125 \nL 193.23546 239.758125 \nL 193.23546 163.384091 \nL 160.250239 163.384091 \nz\n\" style=\"fill:#1f77b4;opacity:0.5;\"/>\n   </g>\n   <g id=\"patch_7\">\n    <path clip-path=\"url(#pb231972673)\" d=\"M 193.23546 239.758125 \nL 226.220682 239.758125 \nL 226.220682 171.424204 \nL 193.23546 171.424204 \nz\n\" style=\"fill:#1f77b4;opacity:0.5;\"/>\n   </g>\n   <g id=\"patch_8\">\n    <path clip-path=\"url(#pb231972673)\" d=\"M 226.220682 239.758125 \nL 259.205904 239.758125 \nL 259.205904 174.381164 \nL 226.220682 174.381164 \nz\n\" style=\"fill:#1f77b4;opacity:0.5;\"/>\n   </g>\n   <g id=\"patch_9\">\n    <path clip-path=\"url(#pb231972673)\" d=\"M 259.205904 239.758125 \nL 292.191125 239.758125 \nL 292.191125 172.184565 \nL 259.205904 172.184565 \nz\n\" style=\"fill:#1f77b4;opacity:0.5;\"/>\n   </g>\n   <g id=\"patch_10\">\n    <path clip-path=\"url(#pb231972673)\" d=\"M 292.191125 239.758125 \nL 325.176347 239.758125 \nL 325.176347 173.775691 \nL 292.191125 173.775691 \nz\n\" style=\"fill:#1f77b4;opacity:0.5;\"/>\n   </g>\n   <g id=\"patch_11\">\n    <path clip-path=\"url(#pb231972673)\" d=\"M 325.176347 239.758125 \nL 358.161569 239.758125 \nL 358.161569 163.299607 \nL 325.176347 163.299607 \nz\n\" style=\"fill:#1f77b4;opacity:0.5;\"/>\n   </g>\n   <g id=\"patch_12\">\n    <path clip-path=\"url(#pb231972673)\" d=\"M 358.161569 239.758125 \nL 391.14679 239.758125 \nL 391.14679 153.541641 \nL 358.161569 153.541641 \nz\n\" style=\"fill:#1f77b4;opacity:0.5;\"/>\n   </g>\n   <g id=\"matplotlib.axis_1\">\n    <g id=\"xtick_1\">\n     <g id=\"line2d_1\">\n      <defs>\n       <path d=\"M 0 0 \nL 0 3.5 \n\" id=\"m581b73eacb\" style=\"stroke:#000000;stroke-width:0.8;\"/>\n      </defs>\n      <g>\n       <use style=\"stroke:#000000;stroke-width:0.8;\" x=\"120.997825\" xlink:href=\"#m581b73eacb\" y=\"239.758125\"/>\n      </g>\n     </g>\n     <g id=\"text_1\">\n      <!-- 200 -->\n      <g transform=\"translate(111.454075 254.356562)scale(0.1 -0.1)\">\n       <defs>\n        <path d=\"M 1228 531 \nL 3431 531 \nL 3431 0 \nL 469 0 \nL 469 531 \nQ 828 903 1448 1529 \nQ 2069 2156 2228 2338 \nQ 2531 2678 2651 2914 \nQ 2772 3150 2772 3378 \nQ 2772 3750 2511 3984 \nQ 2250 4219 1831 4219 \nQ 1534 4219 1204 4116 \nQ 875 4013 500 3803 \nL 500 4441 \nQ 881 4594 1212 4672 \nQ 1544 4750 1819 4750 \nQ 2544 4750 2975 4387 \nQ 3406 4025 3406 3419 \nQ 3406 3131 3298 2873 \nQ 3191 2616 2906 2266 \nQ 2828 2175 2409 1742 \nQ 1991 1309 1228 531 \nz\n\" id=\"DejaVuSans-32\" transform=\"scale(0.015625)\"/>\n        <path d=\"M 2034 4250 \nQ 1547 4250 1301 3770 \nQ 1056 3291 1056 2328 \nQ 1056 1369 1301 889 \nQ 1547 409 2034 409 \nQ 2525 409 2770 889 \nQ 3016 1369 3016 2328 \nQ 3016 3291 2770 3770 \nQ 2525 4250 2034 4250 \nz\nM 2034 4750 \nQ 2819 4750 3233 4129 \nQ 3647 3509 3647 2328 \nQ 3647 1150 3233 529 \nQ 2819 -91 2034 -91 \nQ 1250 -91 836 529 \nQ 422 1150 422 2328 \nQ 422 3509 836 4129 \nQ 1250 4750 2034 4750 \nz\n\" id=\"DejaVuSans-30\" transform=\"scale(0.015625)\"/>\n       </defs>\n       <use xlink:href=\"#DejaVuSans-32\"/>\n       <use x=\"63.623047\" xlink:href=\"#DejaVuSans-30\"/>\n       <use x=\"127.246094\" xlink:href=\"#DejaVuSans-30\"/>\n      </g>\n     </g>\n    </g>\n    <g id=\"xtick_2\">\n     <g id=\"line2d_2\">\n      <g>\n       <use style=\"stroke:#000000;stroke-width:0.8;\" x=\"186.968268\" xlink:href=\"#m581b73eacb\" y=\"239.758125\"/>\n      </g>\n     </g>\n     <g id=\"text_2\">\n      <!-- 400 -->\n      <g transform=\"translate(177.424518 254.356562)scale(0.1 -0.1)\">\n       <defs>\n        <path d=\"M 2419 4116 \nL 825 1625 \nL 2419 1625 \nL 2419 4116 \nz\nM 2253 4666 \nL 3047 4666 \nL 3047 1625 \nL 3713 1625 \nL 3713 1100 \nL 3047 1100 \nL 3047 0 \nL 2419 0 \nL 2419 1100 \nL 313 1100 \nL 313 1709 \nL 2253 4666 \nz\n\" id=\"DejaVuSans-34\" transform=\"scale(0.015625)\"/>\n       </defs>\n       <use xlink:href=\"#DejaVuSans-34\"/>\n       <use x=\"63.623047\" xlink:href=\"#DejaVuSans-30\"/>\n       <use x=\"127.246094\" xlink:href=\"#DejaVuSans-30\"/>\n      </g>\n     </g>\n    </g>\n    <g id=\"xtick_3\">\n     <g id=\"line2d_3\">\n      <g>\n       <use style=\"stroke:#000000;stroke-width:0.8;\" x=\"252.938712\" xlink:href=\"#m581b73eacb\" y=\"239.758125\"/>\n      </g>\n     </g>\n     <g id=\"text_3\">\n      <!-- 600 -->\n      <g transform=\"translate(243.394962 254.356562)scale(0.1 -0.1)\">\n       <defs>\n        <path d=\"M 2113 2584 \nQ 1688 2584 1439 2293 \nQ 1191 2003 1191 1497 \nQ 1191 994 1439 701 \nQ 1688 409 2113 409 \nQ 2538 409 2786 701 \nQ 3034 994 3034 1497 \nQ 3034 2003 2786 2293 \nQ 2538 2584 2113 2584 \nz\nM 3366 4563 \nL 3366 3988 \nQ 3128 4100 2886 4159 \nQ 2644 4219 2406 4219 \nQ 1781 4219 1451 3797 \nQ 1122 3375 1075 2522 \nQ 1259 2794 1537 2939 \nQ 1816 3084 2150 3084 \nQ 2853 3084 3261 2657 \nQ 3669 2231 3669 1497 \nQ 3669 778 3244 343 \nQ 2819 -91 2113 -91 \nQ 1303 -91 875 529 \nQ 447 1150 447 2328 \nQ 447 3434 972 4092 \nQ 1497 4750 2381 4750 \nQ 2619 4750 2861 4703 \nQ 3103 4656 3366 4563 \nz\n\" id=\"DejaVuSans-36\" transform=\"scale(0.015625)\"/>\n       </defs>\n       <use xlink:href=\"#DejaVuSans-36\"/>\n       <use x=\"63.623047\" xlink:href=\"#DejaVuSans-30\"/>\n       <use x=\"127.246094\" xlink:href=\"#DejaVuSans-30\"/>\n      </g>\n     </g>\n    </g>\n    <g id=\"xtick_4\">\n     <g id=\"line2d_4\">\n      <g>\n       <use style=\"stroke:#000000;stroke-width:0.8;\" x=\"318.909155\" xlink:href=\"#m581b73eacb\" y=\"239.758125\"/>\n      </g>\n     </g>\n     <g id=\"text_4\">\n      <!-- 800 -->\n      <g transform=\"translate(309.365405 254.356562)scale(0.1 -0.1)\">\n       <defs>\n        <path d=\"M 2034 2216 \nQ 1584 2216 1326 1975 \nQ 1069 1734 1069 1313 \nQ 1069 891 1326 650 \nQ 1584 409 2034 409 \nQ 2484 409 2743 651 \nQ 3003 894 3003 1313 \nQ 3003 1734 2745 1975 \nQ 2488 2216 2034 2216 \nz\nM 1403 2484 \nQ 997 2584 770 2862 \nQ 544 3141 544 3541 \nQ 544 4100 942 4425 \nQ 1341 4750 2034 4750 \nQ 2731 4750 3128 4425 \nQ 3525 4100 3525 3541 \nQ 3525 3141 3298 2862 \nQ 3072 2584 2669 2484 \nQ 3125 2378 3379 2068 \nQ 3634 1759 3634 1313 \nQ 3634 634 3220 271 \nQ 2806 -91 2034 -91 \nQ 1263 -91 848 271 \nQ 434 634 434 1313 \nQ 434 1759 690 2068 \nQ 947 2378 1403 2484 \nz\nM 1172 3481 \nQ 1172 3119 1398 2916 \nQ 1625 2713 2034 2713 \nQ 2441 2713 2670 2916 \nQ 2900 3119 2900 3481 \nQ 2900 3844 2670 4047 \nQ 2441 4250 2034 4250 \nQ 1625 4250 1398 4047 \nQ 1172 3844 1172 3481 \nz\n\" id=\"DejaVuSans-38\" transform=\"scale(0.015625)\"/>\n       </defs>\n       <use xlink:href=\"#DejaVuSans-38\"/>\n       <use x=\"63.623047\" xlink:href=\"#DejaVuSans-30\"/>\n       <use x=\"127.246094\" xlink:href=\"#DejaVuSans-30\"/>\n      </g>\n     </g>\n    </g>\n    <g id=\"xtick_5\">\n     <g id=\"line2d_5\">\n      <g>\n       <use style=\"stroke:#000000;stroke-width:0.8;\" x=\"384.879598\" xlink:href=\"#m581b73eacb\" y=\"239.758125\"/>\n      </g>\n     </g>\n     <g id=\"text_5\">\n      <!-- 1000 -->\n      <g transform=\"translate(372.154598 254.356562)scale(0.1 -0.1)\">\n       <defs>\n        <path d=\"M 794 531 \nL 1825 531 \nL 1825 4091 \nL 703 3866 \nL 703 4441 \nL 1819 4666 \nL 2450 4666 \nL 2450 531 \nL 3481 531 \nL 3481 0 \nL 794 0 \nL 794 531 \nz\n\" id=\"DejaVuSans-31\" transform=\"scale(0.015625)\"/>\n       </defs>\n       <use xlink:href=\"#DejaVuSans-31\"/>\n       <use x=\"63.623047\" xlink:href=\"#DejaVuSans-30\"/>\n       <use x=\"127.246094\" xlink:href=\"#DejaVuSans-30\"/>\n       <use x=\"190.869141\" xlink:href=\"#DejaVuSans-30\"/>\n      </g>\n     </g>\n    </g>\n    <g id=\"text_6\">\n     <!-- Number of words in an article -->\n     <g transform=\"translate(152.825 268.034687)scale(0.1 -0.1)\">\n      <defs>\n       <path d=\"M 628 4666 \nL 1478 4666 \nL 3547 763 \nL 3547 4666 \nL 4159 4666 \nL 4159 0 \nL 3309 0 \nL 1241 3903 \nL 1241 0 \nL 628 0 \nL 628 4666 \nz\n\" id=\"DejaVuSans-4e\" transform=\"scale(0.015625)\"/>\n       <path d=\"M 544 1381 \nL 544 3500 \nL 1119 3500 \nL 1119 1403 \nQ 1119 906 1312 657 \nQ 1506 409 1894 409 \nQ 2359 409 2629 706 \nQ 2900 1003 2900 1516 \nL 2900 3500 \nL 3475 3500 \nL 3475 0 \nL 2900 0 \nL 2900 538 \nQ 2691 219 2414 64 \nQ 2138 -91 1772 -91 \nQ 1169 -91 856 284 \nQ 544 659 544 1381 \nz\nM 1991 3584 \nL 1991 3584 \nz\n\" id=\"DejaVuSans-75\" transform=\"scale(0.015625)\"/>\n       <path d=\"M 3328 2828 \nQ 3544 3216 3844 3400 \nQ 4144 3584 4550 3584 \nQ 5097 3584 5394 3201 \nQ 5691 2819 5691 2113 \nL 5691 0 \nL 5113 0 \nL 5113 2094 \nQ 5113 2597 4934 2840 \nQ 4756 3084 4391 3084 \nQ 3944 3084 3684 2787 \nQ 3425 2491 3425 1978 \nL 3425 0 \nL 2847 0 \nL 2847 2094 \nQ 2847 2600 2669 2842 \nQ 2491 3084 2119 3084 \nQ 1678 3084 1418 2786 \nQ 1159 2488 1159 1978 \nL 1159 0 \nL 581 0 \nL 581 3500 \nL 1159 3500 \nL 1159 2956 \nQ 1356 3278 1631 3431 \nQ 1906 3584 2284 3584 \nQ 2666 3584 2933 3390 \nQ 3200 3197 3328 2828 \nz\n\" id=\"DejaVuSans-6d\" transform=\"scale(0.015625)\"/>\n       <path d=\"M 3116 1747 \nQ 3116 2381 2855 2742 \nQ 2594 3103 2138 3103 \nQ 1681 3103 1420 2742 \nQ 1159 2381 1159 1747 \nQ 1159 1113 1420 752 \nQ 1681 391 2138 391 \nQ 2594 391 2855 752 \nQ 3116 1113 3116 1747 \nz\nM 1159 2969 \nQ 1341 3281 1617 3432 \nQ 1894 3584 2278 3584 \nQ 2916 3584 3314 3078 \nQ 3713 2572 3713 1747 \nQ 3713 922 3314 415 \nQ 2916 -91 2278 -91 \nQ 1894 -91 1617 61 \nQ 1341 213 1159 525 \nL 1159 0 \nL 581 0 \nL 581 4863 \nL 1159 4863 \nL 1159 2969 \nz\n\" id=\"DejaVuSans-62\" transform=\"scale(0.015625)\"/>\n       <path d=\"M 3597 1894 \nL 3597 1613 \nL 953 1613 \nQ 991 1019 1311 708 \nQ 1631 397 2203 397 \nQ 2534 397 2845 478 \nQ 3156 559 3463 722 \nL 3463 178 \nQ 3153 47 2828 -22 \nQ 2503 -91 2169 -91 \nQ 1331 -91 842 396 \nQ 353 884 353 1716 \nQ 353 2575 817 3079 \nQ 1281 3584 2069 3584 \nQ 2775 3584 3186 3129 \nQ 3597 2675 3597 1894 \nz\nM 3022 2063 \nQ 3016 2534 2758 2815 \nQ 2500 3097 2075 3097 \nQ 1594 3097 1305 2825 \nQ 1016 2553 972 2059 \nL 3022 2063 \nz\n\" id=\"DejaVuSans-65\" transform=\"scale(0.015625)\"/>\n       <path d=\"M 2631 2963 \nQ 2534 3019 2420 3045 \nQ 2306 3072 2169 3072 \nQ 1681 3072 1420 2755 \nQ 1159 2438 1159 1844 \nL 1159 0 \nL 581 0 \nL 581 3500 \nL 1159 3500 \nL 1159 2956 \nQ 1341 3275 1631 3429 \nQ 1922 3584 2338 3584 \nQ 2397 3584 2469 3576 \nQ 2541 3569 2628 3553 \nL 2631 2963 \nz\n\" id=\"DejaVuSans-72\" transform=\"scale(0.015625)\"/>\n       <path id=\"DejaVuSans-20\" transform=\"scale(0.015625)\"/>\n       <path d=\"M 1959 3097 \nQ 1497 3097 1228 2736 \nQ 959 2375 959 1747 \nQ 959 1119 1226 758 \nQ 1494 397 1959 397 \nQ 2419 397 2687 759 \nQ 2956 1122 2956 1747 \nQ 2956 2369 2687 2733 \nQ 2419 3097 1959 3097 \nz\nM 1959 3584 \nQ 2709 3584 3137 3096 \nQ 3566 2609 3566 1747 \nQ 3566 888 3137 398 \nQ 2709 -91 1959 -91 \nQ 1206 -91 779 398 \nQ 353 888 353 1747 \nQ 353 2609 779 3096 \nQ 1206 3584 1959 3584 \nz\n\" id=\"DejaVuSans-6f\" transform=\"scale(0.015625)\"/>\n       <path d=\"M 2375 4863 \nL 2375 4384 \nL 1825 4384 \nQ 1516 4384 1395 4259 \nQ 1275 4134 1275 3809 \nL 1275 3500 \nL 2222 3500 \nL 2222 3053 \nL 1275 3053 \nL 1275 0 \nL 697 0 \nL 697 3053 \nL 147 3053 \nL 147 3500 \nL 697 3500 \nL 697 3744 \nQ 697 4328 969 4595 \nQ 1241 4863 1831 4863 \nL 2375 4863 \nz\n\" id=\"DejaVuSans-66\" transform=\"scale(0.015625)\"/>\n       <path d=\"M 269 3500 \nL 844 3500 \nL 1563 769 \nL 2278 3500 \nL 2956 3500 \nL 3675 769 \nL 4391 3500 \nL 4966 3500 \nL 4050 0 \nL 3372 0 \nL 2619 2869 \nL 1863 0 \nL 1184 0 \nL 269 3500 \nz\n\" id=\"DejaVuSans-77\" transform=\"scale(0.015625)\"/>\n       <path d=\"M 2906 2969 \nL 2906 4863 \nL 3481 4863 \nL 3481 0 \nL 2906 0 \nL 2906 525 \nQ 2725 213 2448 61 \nQ 2172 -91 1784 -91 \nQ 1150 -91 751 415 \nQ 353 922 353 1747 \nQ 353 2572 751 3078 \nQ 1150 3584 1784 3584 \nQ 2172 3584 2448 3432 \nQ 2725 3281 2906 2969 \nz\nM 947 1747 \nQ 947 1113 1208 752 \nQ 1469 391 1925 391 \nQ 2381 391 2643 752 \nQ 2906 1113 2906 1747 \nQ 2906 2381 2643 2742 \nQ 2381 3103 1925 3103 \nQ 1469 3103 1208 2742 \nQ 947 2381 947 1747 \nz\n\" id=\"DejaVuSans-64\" transform=\"scale(0.015625)\"/>\n       <path d=\"M 2834 3397 \nL 2834 2853 \nQ 2591 2978 2328 3040 \nQ 2066 3103 1784 3103 \nQ 1356 3103 1142 2972 \nQ 928 2841 928 2578 \nQ 928 2378 1081 2264 \nQ 1234 2150 1697 2047 \nL 1894 2003 \nQ 2506 1872 2764 1633 \nQ 3022 1394 3022 966 \nQ 3022 478 2636 193 \nQ 2250 -91 1575 -91 \nQ 1294 -91 989 -36 \nQ 684 19 347 128 \nL 347 722 \nQ 666 556 975 473 \nQ 1284 391 1588 391 \nQ 1994 391 2212 530 \nQ 2431 669 2431 922 \nQ 2431 1156 2273 1281 \nQ 2116 1406 1581 1522 \nL 1381 1569 \nQ 847 1681 609 1914 \nQ 372 2147 372 2553 \nQ 372 3047 722 3315 \nQ 1072 3584 1716 3584 \nQ 2034 3584 2315 3537 \nQ 2597 3491 2834 3397 \nz\n\" id=\"DejaVuSans-73\" transform=\"scale(0.015625)\"/>\n       <path d=\"M 603 3500 \nL 1178 3500 \nL 1178 0 \nL 603 0 \nL 603 3500 \nz\nM 603 4863 \nL 1178 4863 \nL 1178 4134 \nL 603 4134 \nL 603 4863 \nz\n\" id=\"DejaVuSans-69\" transform=\"scale(0.015625)\"/>\n       <path d=\"M 3513 2113 \nL 3513 0 \nL 2938 0 \nL 2938 2094 \nQ 2938 2591 2744 2837 \nQ 2550 3084 2163 3084 \nQ 1697 3084 1428 2787 \nQ 1159 2491 1159 1978 \nL 1159 0 \nL 581 0 \nL 581 3500 \nL 1159 3500 \nL 1159 2956 \nQ 1366 3272 1645 3428 \nQ 1925 3584 2291 3584 \nQ 2894 3584 3203 3211 \nQ 3513 2838 3513 2113 \nz\n\" id=\"DejaVuSans-6e\" transform=\"scale(0.015625)\"/>\n       <path d=\"M 2194 1759 \nQ 1497 1759 1228 1600 \nQ 959 1441 959 1056 \nQ 959 750 1161 570 \nQ 1363 391 1709 391 \nQ 2188 391 2477 730 \nQ 2766 1069 2766 1631 \nL 2766 1759 \nL 2194 1759 \nz\nM 3341 1997 \nL 3341 0 \nL 2766 0 \nL 2766 531 \nQ 2569 213 2275 61 \nQ 1981 -91 1556 -91 \nQ 1019 -91 701 211 \nQ 384 513 384 1019 \nQ 384 1609 779 1909 \nQ 1175 2209 1959 2209 \nL 2766 2209 \nL 2766 2266 \nQ 2766 2663 2505 2880 \nQ 2244 3097 1772 3097 \nQ 1472 3097 1187 3025 \nQ 903 2953 641 2809 \nL 641 3341 \nQ 956 3463 1253 3523 \nQ 1550 3584 1831 3584 \nQ 2591 3584 2966 3190 \nQ 3341 2797 3341 1997 \nz\n\" id=\"DejaVuSans-61\" transform=\"scale(0.015625)\"/>\n       <path d=\"M 1172 4494 \nL 1172 3500 \nL 2356 3500 \nL 2356 3053 \nL 1172 3053 \nL 1172 1153 \nQ 1172 725 1289 603 \nQ 1406 481 1766 481 \nL 2356 481 \nL 2356 0 \nL 1766 0 \nQ 1100 0 847 248 \nQ 594 497 594 1153 \nL 594 3053 \nL 172 3053 \nL 172 3500 \nL 594 3500 \nL 594 4494 \nL 1172 4494 \nz\n\" id=\"DejaVuSans-74\" transform=\"scale(0.015625)\"/>\n       <path d=\"M 3122 3366 \nL 3122 2828 \nQ 2878 2963 2633 3030 \nQ 2388 3097 2138 3097 \nQ 1578 3097 1268 2742 \nQ 959 2388 959 1747 \nQ 959 1106 1268 751 \nQ 1578 397 2138 397 \nQ 2388 397 2633 464 \nQ 2878 531 3122 666 \nL 3122 134 \nQ 2881 22 2623 -34 \nQ 2366 -91 2075 -91 \nQ 1284 -91 818 406 \nQ 353 903 353 1747 \nQ 353 2603 823 3093 \nQ 1294 3584 2113 3584 \nQ 2378 3584 2631 3529 \nQ 2884 3475 3122 3366 \nz\n\" id=\"DejaVuSans-63\" transform=\"scale(0.015625)\"/>\n       <path d=\"M 603 4863 \nL 1178 4863 \nL 1178 0 \nL 603 0 \nL 603 4863 \nz\n\" id=\"DejaVuSans-6c\" transform=\"scale(0.015625)\"/>\n      </defs>\n      <use xlink:href=\"#DejaVuSans-4e\"/>\n      <use x=\"74.804688\" xlink:href=\"#DejaVuSans-75\"/>\n      <use x=\"138.183594\" xlink:href=\"#DejaVuSans-6d\"/>\n      <use x=\"235.595703\" xlink:href=\"#DejaVuSans-62\"/>\n      <use x=\"299.072266\" xlink:href=\"#DejaVuSans-65\"/>\n      <use x=\"360.595703\" xlink:href=\"#DejaVuSans-72\"/>\n      <use x=\"401.708984\" xlink:href=\"#DejaVuSans-20\"/>\n      <use x=\"433.496094\" xlink:href=\"#DejaVuSans-6f\"/>\n      <use x=\"494.677734\" xlink:href=\"#DejaVuSans-66\"/>\n      <use x=\"529.882812\" xlink:href=\"#DejaVuSans-20\"/>\n      <use x=\"561.669922\" xlink:href=\"#DejaVuSans-77\"/>\n      <use x=\"643.457031\" xlink:href=\"#DejaVuSans-6f\"/>\n      <use x=\"704.638672\" xlink:href=\"#DejaVuSans-72\"/>\n      <use x=\"744.001953\" xlink:href=\"#DejaVuSans-64\"/>\n      <use x=\"807.478516\" xlink:href=\"#DejaVuSans-73\"/>\n      <use x=\"859.578125\" xlink:href=\"#DejaVuSans-20\"/>\n      <use x=\"891.365234\" xlink:href=\"#DejaVuSans-69\"/>\n      <use x=\"919.148438\" xlink:href=\"#DejaVuSans-6e\"/>\n      <use x=\"982.527344\" xlink:href=\"#DejaVuSans-20\"/>\n      <use x=\"1014.314453\" xlink:href=\"#DejaVuSans-61\"/>\n      <use x=\"1075.59375\" xlink:href=\"#DejaVuSans-6e\"/>\n      <use x=\"1138.972656\" xlink:href=\"#DejaVuSans-20\"/>\n      <use x=\"1170.759766\" xlink:href=\"#DejaVuSans-61\"/>\n      <use x=\"1232.039062\" xlink:href=\"#DejaVuSans-72\"/>\n      <use x=\"1273.152344\" xlink:href=\"#DejaVuSans-74\"/>\n      <use x=\"1312.361328\" xlink:href=\"#DejaVuSans-69\"/>\n      <use x=\"1340.144531\" xlink:href=\"#DejaVuSans-63\"/>\n      <use x=\"1395.125\" xlink:href=\"#DejaVuSans-6c\"/>\n      <use x=\"1422.908203\" xlink:href=\"#DejaVuSans-65\"/>\n     </g>\n    </g>\n   </g>\n   <g id=\"matplotlib.axis_2\">\n    <g id=\"ytick_1\">\n     <g id=\"line2d_6\">\n      <defs>\n       <path d=\"M 0 0 \nL -3.5 0 \n\" id=\"me4cbb225e5\" style=\"stroke:#000000;stroke-width:0.8;\"/>\n      </defs>\n      <g>\n       <use style=\"stroke:#000000;stroke-width:0.8;\" x=\"59.645313\" xlink:href=\"#me4cbb225e5\" y=\"239.758125\"/>\n      </g>\n     </g>\n     <g id=\"text_7\">\n      <!-- 0.0% -->\n      <g transform=\"translate(27.240625 243.557344)scale(0.1 -0.1)\">\n       <defs>\n        <path d=\"M 684 794 \nL 1344 794 \nL 1344 0 \nL 684 0 \nL 684 794 \nz\n\" id=\"DejaVuSans-2e\" transform=\"scale(0.015625)\"/>\n        <path d=\"M 4653 2053 \nQ 4381 2053 4226 1822 \nQ 4072 1591 4072 1178 \nQ 4072 772 4226 539 \nQ 4381 306 4653 306 \nQ 4919 306 5073 539 \nQ 5228 772 5228 1178 \nQ 5228 1588 5073 1820 \nQ 4919 2053 4653 2053 \nz\nM 4653 2450 \nQ 5147 2450 5437 2106 \nQ 5728 1763 5728 1178 \nQ 5728 594 5436 251 \nQ 5144 -91 4653 -91 \nQ 4153 -91 3862 251 \nQ 3572 594 3572 1178 \nQ 3572 1766 3864 2108 \nQ 4156 2450 4653 2450 \nz\nM 1428 4353 \nQ 1159 4353 1004 4120 \nQ 850 3888 850 3481 \nQ 850 3069 1003 2837 \nQ 1156 2606 1428 2606 \nQ 1700 2606 1854 2837 \nQ 2009 3069 2009 3481 \nQ 2009 3884 1853 4118 \nQ 1697 4353 1428 4353 \nz\nM 4250 4750 \nL 4750 4750 \nL 1831 -91 \nL 1331 -91 \nL 4250 4750 \nz\nM 1428 4750 \nQ 1922 4750 2215 4408 \nQ 2509 4066 2509 3481 \nQ 2509 2891 2217 2550 \nQ 1925 2209 1428 2209 \nQ 931 2209 642 2551 \nQ 353 2894 353 3481 \nQ 353 4063 643 4406 \nQ 934 4750 1428 4750 \nz\n\" id=\"DejaVuSans-25\" transform=\"scale(0.015625)\"/>\n       </defs>\n       <use xlink:href=\"#DejaVuSans-30\"/>\n       <use x=\"63.623047\" xlink:href=\"#DejaVuSans-2e\"/>\n       <use x=\"95.410156\" xlink:href=\"#DejaVuSans-30\"/>\n       <use x=\"159.033203\" xlink:href=\"#DejaVuSans-25\"/>\n      </g>\n     </g>\n    </g>\n    <g id=\"ytick_2\">\n     <g id=\"line2d_7\">\n      <g>\n       <use style=\"stroke:#000000;stroke-width:0.8;\" x=\"59.645313\" xlink:href=\"#me4cbb225e5\" y=\"211.596608\"/>\n      </g>\n     </g>\n     <g id=\"text_8\">\n      <!-- 2.0% -->\n      <g transform=\"translate(27.240625 215.395827)scale(0.1 -0.1)\">\n       <use xlink:href=\"#DejaVuSans-32\"/>\n       <use x=\"63.623047\" xlink:href=\"#DejaVuSans-2e\"/>\n       <use x=\"95.410156\" xlink:href=\"#DejaVuSans-30\"/>\n       <use x=\"159.033203\" xlink:href=\"#DejaVuSans-25\"/>\n      </g>\n     </g>\n    </g>\n    <g id=\"ytick_3\">\n     <g id=\"line2d_8\">\n      <g>\n       <use style=\"stroke:#000000;stroke-width:0.8;\" x=\"59.645313\" xlink:href=\"#me4cbb225e5\" y=\"183.435091\"/>\n      </g>\n     </g>\n     <g id=\"text_9\">\n      <!-- 4.0% -->\n      <g transform=\"translate(27.240625 187.23431)scale(0.1 -0.1)\">\n       <use xlink:href=\"#DejaVuSans-34\"/>\n       <use x=\"63.623047\" xlink:href=\"#DejaVuSans-2e\"/>\n       <use x=\"95.410156\" xlink:href=\"#DejaVuSans-30\"/>\n       <use x=\"159.033203\" xlink:href=\"#DejaVuSans-25\"/>\n      </g>\n     </g>\n    </g>\n    <g id=\"ytick_4\">\n     <g id=\"line2d_9\">\n      <g>\n       <use style=\"stroke:#000000;stroke-width:0.8;\" x=\"59.645313\" xlink:href=\"#me4cbb225e5\" y=\"155.273574\"/>\n      </g>\n     </g>\n     <g id=\"text_10\">\n      <!-- 6.0% -->\n      <g transform=\"translate(27.240625 159.072793)scale(0.1 -0.1)\">\n       <use xlink:href=\"#DejaVuSans-36\"/>\n       <use x=\"63.623047\" xlink:href=\"#DejaVuSans-2e\"/>\n       <use x=\"95.410156\" xlink:href=\"#DejaVuSans-30\"/>\n       <use x=\"159.033203\" xlink:href=\"#DejaVuSans-25\"/>\n      </g>\n     </g>\n    </g>\n    <g id=\"ytick_5\">\n     <g id=\"line2d_10\">\n      <g>\n       <use style=\"stroke:#000000;stroke-width:0.8;\" x=\"59.645313\" xlink:href=\"#me4cbb225e5\" y=\"127.112058\"/>\n      </g>\n     </g>\n     <g id=\"text_11\">\n      <!-- 8.0% -->\n      <g transform=\"translate(27.240625 130.911276)scale(0.1 -0.1)\">\n       <use xlink:href=\"#DejaVuSans-38\"/>\n       <use x=\"63.623047\" xlink:href=\"#DejaVuSans-2e\"/>\n       <use x=\"95.410156\" xlink:href=\"#DejaVuSans-30\"/>\n       <use x=\"159.033203\" xlink:href=\"#DejaVuSans-25\"/>\n      </g>\n     </g>\n    </g>\n    <g id=\"ytick_6\">\n     <g id=\"line2d_11\">\n      <g>\n       <use style=\"stroke:#000000;stroke-width:0.8;\" x=\"59.645313\" xlink:href=\"#me4cbb225e5\" y=\"98.950541\"/>\n      </g>\n     </g>\n     <g id=\"text_12\">\n      <!-- 10.0% -->\n      <g transform=\"translate(20.878125 102.749759)scale(0.1 -0.1)\">\n       <use xlink:href=\"#DejaVuSans-31\"/>\n       <use x=\"63.623047\" xlink:href=\"#DejaVuSans-30\"/>\n       <use x=\"127.246094\" xlink:href=\"#DejaVuSans-2e\"/>\n       <use x=\"159.033203\" xlink:href=\"#DejaVuSans-30\"/>\n       <use x=\"222.65625\" xlink:href=\"#DejaVuSans-25\"/>\n      </g>\n     </g>\n    </g>\n    <g id=\"ytick_7\">\n     <g id=\"line2d_12\">\n      <g>\n       <use style=\"stroke:#000000;stroke-width:0.8;\" x=\"59.645313\" xlink:href=\"#me4cbb225e5\" y=\"70.789024\"/>\n      </g>\n     </g>\n     <g id=\"text_13\">\n      <!-- 12.0% -->\n      <g transform=\"translate(20.878125 74.588243)scale(0.1 -0.1)\">\n       <use xlink:href=\"#DejaVuSans-31\"/>\n       <use x=\"63.623047\" xlink:href=\"#DejaVuSans-32\"/>\n       <use x=\"127.246094\" xlink:href=\"#DejaVuSans-2e\"/>\n       <use x=\"159.033203\" xlink:href=\"#DejaVuSans-30\"/>\n       <use x=\"222.65625\" xlink:href=\"#DejaVuSans-25\"/>\n      </g>\n     </g>\n    </g>\n    <g id=\"ytick_8\">\n     <g id=\"line2d_13\">\n      <g>\n       <use style=\"stroke:#000000;stroke-width:0.8;\" x=\"59.645313\" xlink:href=\"#me4cbb225e5\" y=\"42.627507\"/>\n      </g>\n     </g>\n     <g id=\"text_14\">\n      <!-- 14.0% -->\n      <g transform=\"translate(20.878125 46.426726)scale(0.1 -0.1)\">\n       <use xlink:href=\"#DejaVuSans-31\"/>\n       <use x=\"63.623047\" xlink:href=\"#DejaVuSans-34\"/>\n       <use x=\"127.246094\" xlink:href=\"#DejaVuSans-2e\"/>\n       <use x=\"159.033203\" xlink:href=\"#DejaVuSans-30\"/>\n       <use x=\"222.65625\" xlink:href=\"#DejaVuSans-25\"/>\n      </g>\n     </g>\n    </g>\n    <g id=\"text_15\">\n     <!-- Proportion of articles -->\n     <g transform=\"translate(14.798438 183.120156)rotate(-90)scale(0.1 -0.1)\">\n      <defs>\n       <path d=\"M 1259 4147 \nL 1259 2394 \nL 2053 2394 \nQ 2494 2394 2734 2622 \nQ 2975 2850 2975 3272 \nQ 2975 3691 2734 3919 \nQ 2494 4147 2053 4147 \nL 1259 4147 \nz\nM 628 4666 \nL 2053 4666 \nQ 2838 4666 3239 4311 \nQ 3641 3956 3641 3272 \nQ 3641 2581 3239 2228 \nQ 2838 1875 2053 1875 \nL 1259 1875 \nL 1259 0 \nL 628 0 \nL 628 4666 \nz\n\" id=\"DejaVuSans-50\" transform=\"scale(0.015625)\"/>\n       <path d=\"M 1159 525 \nL 1159 -1331 \nL 581 -1331 \nL 581 3500 \nL 1159 3500 \nL 1159 2969 \nQ 1341 3281 1617 3432 \nQ 1894 3584 2278 3584 \nQ 2916 3584 3314 3078 \nQ 3713 2572 3713 1747 \nQ 3713 922 3314 415 \nQ 2916 -91 2278 -91 \nQ 1894 -91 1617 61 \nQ 1341 213 1159 525 \nz\nM 3116 1747 \nQ 3116 2381 2855 2742 \nQ 2594 3103 2138 3103 \nQ 1681 3103 1420 2742 \nQ 1159 2381 1159 1747 \nQ 1159 1113 1420 752 \nQ 1681 391 2138 391 \nQ 2594 391 2855 752 \nQ 3116 1113 3116 1747 \nz\n\" id=\"DejaVuSans-70\" transform=\"scale(0.015625)\"/>\n      </defs>\n      <use xlink:href=\"#DejaVuSans-50\"/>\n      <use x=\"58.552734\" xlink:href=\"#DejaVuSans-72\"/>\n      <use x=\"97.416016\" xlink:href=\"#DejaVuSans-6f\"/>\n      <use x=\"158.597656\" xlink:href=\"#DejaVuSans-70\"/>\n      <use x=\"222.074219\" xlink:href=\"#DejaVuSans-6f\"/>\n      <use x=\"283.255859\" xlink:href=\"#DejaVuSans-72\"/>\n      <use x=\"324.369141\" xlink:href=\"#DejaVuSans-74\"/>\n      <use x=\"363.578125\" xlink:href=\"#DejaVuSans-69\"/>\n      <use x=\"391.361328\" xlink:href=\"#DejaVuSans-6f\"/>\n      <use x=\"452.542969\" xlink:href=\"#DejaVuSans-6e\"/>\n      <use x=\"515.921875\" xlink:href=\"#DejaVuSans-20\"/>\n      <use x=\"547.708984\" xlink:href=\"#DejaVuSans-6f\"/>\n      <use x=\"608.890625\" xlink:href=\"#DejaVuSans-66\"/>\n      <use x=\"644.095703\" xlink:href=\"#DejaVuSans-20\"/>\n      <use x=\"675.882812\" xlink:href=\"#DejaVuSans-61\"/>\n      <use x=\"737.162109\" xlink:href=\"#DejaVuSans-72\"/>\n      <use x=\"778.275391\" xlink:href=\"#DejaVuSans-74\"/>\n      <use x=\"817.484375\" xlink:href=\"#DejaVuSans-69\"/>\n      <use x=\"845.267578\" xlink:href=\"#DejaVuSans-63\"/>\n      <use x=\"900.248047\" xlink:href=\"#DejaVuSans-6c\"/>\n      <use x=\"928.03125\" xlink:href=\"#DejaVuSans-65\"/>\n      <use x=\"989.554688\" xlink:href=\"#DejaVuSans-73\"/>\n     </g>\n    </g>\n   </g>\n   <g id=\"patch_13\">\n    <path d=\"M 59.645313 239.758125 \nL 59.645313 22.318125 \n\" style=\"fill:none;stroke:#000000;stroke-linecap:square;stroke-linejoin:miter;stroke-width:0.8;\"/>\n   </g>\n   <g id=\"patch_14\">\n    <path d=\"M 394.445312 239.758125 \nL 394.445312 22.318125 \n\" style=\"fill:none;stroke:#000000;stroke-linecap:square;stroke-linejoin:miter;stroke-width:0.8;\"/>\n   </g>\n   <g id=\"patch_15\">\n    <path d=\"M 59.645313 239.758125 \nL 394.445312 239.758125 \n\" style=\"fill:none;stroke:#000000;stroke-linecap:square;stroke-linejoin:miter;stroke-width:0.8;\"/>\n   </g>\n   <g id=\"patch_16\">\n    <path d=\"M 59.645313 22.318125 \nL 394.445312 22.318125 \n\" style=\"fill:none;stroke:#000000;stroke-linecap:square;stroke-linejoin:miter;stroke-width:0.8;\"/>\n   </g>\n   <g id=\"text_16\">\n    <!-- NYT article length -->\n    <g transform=\"translate(173.468125 16.318125)scale(0.12 -0.12)\">\n     <defs>\n      <path d=\"M -13 4666 \nL 666 4666 \nL 1959 2747 \nL 3244 4666 \nL 3922 4666 \nL 2272 2222 \nL 2272 0 \nL 1638 0 \nL 1638 2222 \nL -13 4666 \nz\n\" id=\"DejaVuSans-59\" transform=\"scale(0.015625)\"/>\n      <path d=\"M -19 4666 \nL 3928 4666 \nL 3928 4134 \nL 2272 4134 \nL 2272 0 \nL 1638 0 \nL 1638 4134 \nL -19 4134 \nL -19 4666 \nz\n\" id=\"DejaVuSans-54\" transform=\"scale(0.015625)\"/>\n      <path d=\"M 2906 1791 \nQ 2906 2416 2648 2759 \nQ 2391 3103 1925 3103 \nQ 1463 3103 1205 2759 \nQ 947 2416 947 1791 \nQ 947 1169 1205 825 \nQ 1463 481 1925 481 \nQ 2391 481 2648 825 \nQ 2906 1169 2906 1791 \nz\nM 3481 434 \nQ 3481 -459 3084 -895 \nQ 2688 -1331 1869 -1331 \nQ 1566 -1331 1297 -1286 \nQ 1028 -1241 775 -1147 \nL 775 -588 \nQ 1028 -725 1275 -790 \nQ 1522 -856 1778 -856 \nQ 2344 -856 2625 -561 \nQ 2906 -266 2906 331 \nL 2906 616 \nQ 2728 306 2450 153 \nQ 2172 0 1784 0 \nQ 1141 0 747 490 \nQ 353 981 353 1791 \nQ 353 2603 747 3093 \nQ 1141 3584 1784 3584 \nQ 2172 3584 2450 3431 \nQ 2728 3278 2906 2969 \nL 2906 3500 \nL 3481 3500 \nL 3481 434 \nz\n\" id=\"DejaVuSans-67\" transform=\"scale(0.015625)\"/>\n      <path d=\"M 3513 2113 \nL 3513 0 \nL 2938 0 \nL 2938 2094 \nQ 2938 2591 2744 2837 \nQ 2550 3084 2163 3084 \nQ 1697 3084 1428 2787 \nQ 1159 2491 1159 1978 \nL 1159 0 \nL 581 0 \nL 581 4863 \nL 1159 4863 \nL 1159 2956 \nQ 1366 3272 1645 3428 \nQ 1925 3584 2291 3584 \nQ 2894 3584 3203 3211 \nQ 3513 2838 3513 2113 \nz\n\" id=\"DejaVuSans-68\" transform=\"scale(0.015625)\"/>\n     </defs>\n     <use xlink:href=\"#DejaVuSans-4e\"/>\n     <use x=\"74.804688\" xlink:href=\"#DejaVuSans-59\"/>\n     <use x=\"135.888672\" xlink:href=\"#DejaVuSans-54\"/>\n     <use x=\"196.972656\" xlink:href=\"#DejaVuSans-20\"/>\n     <use x=\"228.759766\" xlink:href=\"#DejaVuSans-61\"/>\n     <use x=\"290.039062\" xlink:href=\"#DejaVuSans-72\"/>\n     <use x=\"331.152344\" xlink:href=\"#DejaVuSans-74\"/>\n     <use x=\"370.361328\" xlink:href=\"#DejaVuSans-69\"/>\n     <use x=\"398.144531\" xlink:href=\"#DejaVuSans-63\"/>\n     <use x=\"453.125\" xlink:href=\"#DejaVuSans-6c\"/>\n     <use x=\"480.908203\" xlink:href=\"#DejaVuSans-65\"/>\n     <use x=\"542.431641\" xlink:href=\"#DejaVuSans-20\"/>\n     <use x=\"574.21875\" xlink:href=\"#DejaVuSans-6c\"/>\n     <use x=\"602.001953\" xlink:href=\"#DejaVuSans-65\"/>\n     <use x=\"663.525391\" xlink:href=\"#DejaVuSans-6e\"/>\n     <use x=\"726.904297\" xlink:href=\"#DejaVuSans-67\"/>\n     <use x=\"790.380859\" xlink:href=\"#DejaVuSans-74\"/>\n     <use x=\"829.589844\" xlink:href=\"#DejaVuSans-68\"/>\n    </g>\n   </g>\n  </g>\n </g>\n <defs>\n  <clipPath id=\"pb231972673\">\n   <rect height=\"217.44\" width=\"334.8\" x=\"59.645313\" y=\"22.318125\"/>\n  </clipPath>\n </defs>\n</svg>\n",
      "image/png": "[encoded data removed]"
     },
     "metadata": {
      "needs_background": "light"
     }
    }
   ],
   "source": [
    "# plot article length histogram\n",
    "\n",
    "lens = torch.ne(train_dataset.articles['input_ids'], train_dataset.tokenizer.pad_token_id).sum(-1)\n",
    "\n",
    "import numpy as np\n",
    "import math\n",
    "from matplotlib import pyplot as plt\n",
    "from matplotlib.ticker import PercentFormatter\n",
    "\n",
    "# fixed bin size\n",
    "bins = np.arange(math.ceil(min(lens)), math.floor(max(lens)), 100) # fixed bin size\n",
    "\n",
    "plt.xlim([min(lens)-5, max(lens)+5])\n",
    "\n",
    "plt.hist(lens.numpy(), bins=bins, alpha=0.5, weights=np.ones(len(lens)) / len(lens))\n",
    "plt.title('NYT article length')\n",
    "plt.xlabel('Number of words in an article')\n",
    "plt.ylabel('Proportion of articles')\n",
    "\n",
    "plt.gca().yaxis.set_major_formatter(PercentFormatter(1))\n",
    "plt.show()"
   ]
  },
  {
   "cell_type": "code",
   "execution_count": 8,
   "metadata": {},
   "outputs": [
    {
     "output_type": "stream",
     "name": "stdout",
     "text": [
      "Articles with 500 < length < 1024 (train set): 26.75%\n"
     ]
    }
   ],
   "source": [
    "n_relevant_len = np.sum((np.array(lens) > 500) & (np.array(lens) < 1024))\n",
    "print(f'Articles with 500 < length < 1024 (train set): {n_relevant_len/len(lens) * 100:.2f}%')"
   ]
  },
  {
   "source": [
    "### Careful, cell below takes a long time!"
   ],
   "cell_type": "markdown",
   "metadata": {}
  },
  {
   "cell_type": "code",
   "execution_count": 14,
   "metadata": {},
   "outputs": [],
   "source": [
    "from torch.utils.data import Subset\n",
    "\n",
    "toy_samples = torch.arange(0,128)\n",
    "toy_dataset = Subset(train_dataset, toy_samples)"
   ]
  },
  {
   "cell_type": "code",
   "execution_count": 19,
   "metadata": {},
   "outputs": [],
   "source": [
    "torch.save(train_dataset, 'train_dataset_inter.pt')\n",
    "torch.save(test_dataset, 'test_dataset_inter.pt')\n",
    "torch.save(toy_dataset, 'toy_dataset_inter.pt')"
   ]
  },
  {
   "cell_type": "code",
   "execution_count": 9,
   "metadata": {},
   "outputs": [
    {
     "output_type": "stream",
     "name": "stdout",
     "text": [
      "Loading model...\n",
      "Some weights of GPT2Model were not initialized from the model checkpoint at gpt2-medium and are newly initialized: ['h.0.attn.masked_bias', 'h.1.attn.masked_bias', 'h.2.attn.masked_bias', 'h.3.attn.masked_bias', 'h.4.attn.masked_bias', 'h.5.attn.masked_bias', 'h.6.attn.masked_bias', 'h.7.attn.masked_bias', 'h.8.attn.masked_bias', 'h.9.attn.masked_bias', 'h.10.attn.masked_bias', 'h.11.attn.masked_bias', 'h.12.attn.masked_bias', 'h.13.attn.masked_bias', 'h.14.attn.masked_bias', 'h.15.attn.masked_bias', 'h.16.attn.masked_bias', 'h.17.attn.masked_bias', 'h.18.attn.masked_bias', 'h.19.attn.masked_bias', 'h.20.attn.masked_bias', 'h.21.attn.masked_bias', 'h.22.attn.masked_bias', 'h.23.attn.masked_bias']\n",
      "You should probably TRAIN this model on a down-stream task to be able to use it for predictions and inference.\n",
      "Preprocessing dataset for  gpt_embedded_train_100k_gpt2_medium.pt\n"
     ]
    },
    {
     "output_type": "display_data",
     "data": {
      "text/plain": "  0%|          | 0/100000 [00:00<?, ?it/s]",
      "application/vnd.jupyter.widget-view+json": {
       "version_major": 2,
       "version_minor": 0,
       "model_id": "eabc77b046f54ea79fc6a6279102c201"
      }
     },
     "metadata": {}
    },
    {
     "output_type": "stream",
     "name": "stderr",
     "text": [
      "<ipython-input-9-10cb4f784e12>:38: UserWarning: To copy construct from a tensor, it is recommended to use sourceTensor.clone().detach() or sourceTensor.clone().detach().requires_grad_(True), rather than torch.tensor(sourceTensor).\n",
      "  labels = torch.tensor(labels).to(device)\n",
      "Done!\n",
      "Preprocessing dataset for  gpt_embedded_test_100k_gpt2_medium.pt\n"
     ]
    },
    {
     "output_type": "display_data",
     "data": {
      "text/plain": "  0%|          | 0/10000 [00:00<?, ?it/s]",
      "application/vnd.jupyter.widget-view+json": {
       "version_major": 2,
       "version_minor": 0,
       "model_id": "e7149ff37295495c93406c9dd8d25e20"
      }
     },
     "metadata": {}
    },
    {
     "output_type": "stream",
     "name": "stdout",
     "text": [
      "Done!\n"
     ]
    }
   ],
   "source": [
    "from tqdm.notebook import tqdm\n",
    "\n",
    "runs = [(train_dataset, 'gpt_embedded_train_100k_gpt2_medium.pt'), (test_dataset, 'gpt_embedded_test_100k_gpt2_medium.pt')]\n",
    "# runs = [(toy_dataset, 'gpt_embedded_train_toy.pt')]\n",
    "\n",
    "print('Loading model...')\n",
    "model = GPT2Model.from_pretrained('gpt2-medium')\n",
    "\n",
    "# resize model embedding to match new tokenizer\n",
    "model.resize_token_embeddings(len(train_dataset.tokenizer))\n",
    "\n",
    "# fix model padding token id\n",
    "model.config.pad_token_id = model.config.eos_token_id\n",
    "\n",
    "# Load model to defined device.\n",
    "model.to(device)\n",
    "\n",
    "batch_size = 1\n",
    "\n",
    "for dataset, output_path in runs:\n",
    "\n",
    "    iterator = DataLoader(dataset, batch_size=batch_size)\n",
    "    print(f'Preprocessing dataset for ', output_path)\n",
    "\n",
    "    X_train = []\n",
    "    y_train = []\n",
    "\n",
    "    # for some weird reason,\n",
    "    # I couldn't make DataLoader work with NYTDataset\n",
    "    # so will just go through the dataset 1 by 1\n",
    "    for i, batch in enumerate(tqdm(iterator)):\n",
    "        inputs, attention_mask, labels = batch\n",
    "\n",
    "        real_batch_size = inputs.shape[0]\n",
    "\n",
    "        inputs = inputs.to(device)\n",
    "        attention_mask = attention_mask.to(device)\n",
    "        labels = torch.tensor(labels).to(device)\n",
    "\n",
    "        with torch.no_grad():\n",
    "            output = model(input_ids=inputs, attention_mask=attention_mask)\n",
    "\n",
    "        output = output[0]\n",
    "\n",
    "        # indices of last non-padded elements in each sequence\n",
    "        # adopted from https://github.com/huggingface/transformers/blob/master/src/transformers/models/gpt2/modeling_gpt2.py#L1290-L1302\n",
    "        last_non_padded_ids = torch.ne(inputs, test_dataset.tokenizer.pad_token_id).sum(-1) - 1\n",
    "\n",
    "        article_embeddings = output[range(real_batch_size), last_non_padded_ids, :].detach().cpu()\n",
    "\n",
    "        X_train += article_embeddings\n",
    "        y_train += labels.detach().cpu()\n",
    "\n",
    "    saved_dataset = GPTEmbeddedDataset(torch.stack(X_train), torch.stack(y_train))\n",
    "    torch.save(saved_dataset, output_path)\n",
    "    print('Done!')"
   ]
  },
  {
   "cell_type": "code",
   "execution_count": 13,
   "metadata": {},
   "outputs": [
    {
     "output_type": "execute_result",
     "data": {
      "text/plain": [
       "torch.Size([10000, 768])"
      ]
     },
     "metadata": {},
     "execution_count": 13
    }
   ],
   "source": [
    "torch.stack(X_train).shape"
   ]
  },
  {
   "cell_type": "code",
   "execution_count": 22,
   "metadata": {},
   "outputs": [
    {
     "output_type": "execute_result",
     "data": {
      "text/plain": [
       "torch.Size([128, 768])"
      ]
     },
     "metadata": {},
     "execution_count": 22
    }
   ],
   "source": [
    "torch.stack(X_train).shape"
   ]
  },
  {
   "cell_type": "code",
   "execution_count": 17,
   "metadata": {},
   "outputs": [],
   "source": [
    "torch.cuda.empty_cache()"
   ]
  }
 ]
}