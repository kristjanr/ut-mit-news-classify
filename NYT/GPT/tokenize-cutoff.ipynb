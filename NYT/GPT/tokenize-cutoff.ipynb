{
 "cells": [
  {
   "cell_type": "code",
   "execution_count": 7,
   "metadata": {},
   "outputs": [
    {
     "name": "stdout",
     "output_type": "stream",
     "text": [
      "All imports seem good!\n",
      "Using device: cuda\n",
      "The autoreload extension is already loaded. To reload it, use:\n",
      "  %reload_ext autoreload\n"
     ]
    }
   ],
   "source": [
    "import os\n",
    "import sys\n",
    "module_path = \"/gpfs/space/home/mykyta/nlp/ut-mit-news-classify/NYT/\"\n",
    "if module_path not in sys.path:\n",
    "    sys.path.append(module_path)\n",
    "from torch.utils.data import DataLoader\n",
    "import torch\n",
    "import os\n",
    "from tqdm.auto import tqdm\n",
    "from utils import print_f, load_nyt_data\n",
    "\n",
    "\n",
    "print_f('All imports seem good!')\n",
    "device = torch.device(\"cuda\" if torch.cuda.is_available() else \"cpu\")\n",
    "print_f('Using device:', device)\n",
    "\n",
    "%load_ext autoreload\n",
    "%autoreload 2"
   ]
  },
  {
   "cell_type": "code",
   "execution_count": 10,
   "metadata": {},
   "outputs": [
    {
     "name": "stdout",
     "output_type": "stream",
     "text": [
      "Will save train to: tokenized/train_150k_min500_complete.pt\n",
      "Will save test to: tokenized/test_150k_min500_complete.pt\n"
     ]
    }
   ],
   "source": [
    "cutoff_end_chars = False \n",
    "\n",
    "train_size = 150_000  # None for full dataset\n",
    "test_size = 15_000  # None for full dataset\n",
    "size_str = f'{train_size//1000}k'\n",
    "\n",
    "if cutoff_end_chars:\n",
    "    ending = 'min500_cutoff_replace'\n",
    "else:\n",
    "    ending = 'min500_complete'\n",
    "\n",
    "os.makedirs('tokenized', exist_ok=True)\n",
    "\n",
    "train_path = f'tokenized/train_{size_str}_{ending}.pt'\n",
    "test_path = f'tokenized/test_{size_str}_{ending}.pt'\n",
    "\n",
    "print('Will save train to:', train_path)\n",
    "print('Will save test to:', test_path)"
   ]
  },
  {
   "cell_type": "code",
   "execution_count": 19,
   "metadata": {},
   "outputs": [
    {
     "data": {
      "text/plain": [
       "50257"
      ]
     },
     "execution_count": 19,
     "metadata": {},
     "output_type": "execute_result"
    }
   ],
   "source": [
    "len(tokenizer)"
   ]
  },
  {
   "cell_type": "code",
   "execution_count": 15,
   "metadata": {},
   "outputs": [
    {
     "name": "stdout",
     "output_type": "stream",
     "text": [
      "Tokenizing train dataset...\n",
      "Saving tokenized dataset...\n",
      "Tokenizing train dataset...\n",
      "Saving tokenized dataset...\n"
     ]
    }
   ],
   "source": [
    "########################\n",
    "# LOAD & TOKENIZE DATA\n",
    "########################\n",
    "from utils import GPTTokenizedDataset, load_nyt_data\n",
    "from transformers import GPT2Tokenizer\n",
    "\n",
    "MODEL = 'gpt2'\n",
    "\n",
    "tokenizer = GPT2Tokenizer.from_pretrained(MODEL)\n",
    "tokenizer.pad_token = tokenizer.eos_token\n",
    "\n",
    "print_f('Loading NYT dataset...')\n",
    "\n",
    "train_articles, train_labels_lists, test_articles, test_labels_lists = load_nyt_data(min_len=500, cutoff_tags=cutoff_end_chars)\n",
    "\n",
    "if not os.path.exists(train_path):\n",
    "    print_f('Tokenizing train dataset...')\n",
    "    train_dataset = GPTTokenizedDataset(train_articles[:train_size], train_labels_lists[:train_size], tokenizer)\n",
    "    \n",
    "    print_f('Saving tokenized dataset...')\n",
    "    torch.save(train_dataset, train_path, pickle_protocol=4)\n",
    "else:\n",
    "    print_f('Found tokenized training set...')\n",
    "    train_dataset = torch.load(train_path)\n",
    "\n",
    "\n",
    "if not os.path.exists(test_path):\n",
    "    print_f('Tokenizing train dataset...')\n",
    "    test_dataset = GPTTokenizedDataset(test_articles[:test_size], test_labels_lists[:test_size], tokenizer)\n",
    "    \n",
    "    print_f('Saving tokenized dataset...')\n",
    "    torch.save(test_dataset, test_path, pickle_protocol=4)\n",
    "else:\n",
    "    print_f('Found tokenized training set...')\n",
    "    test_dataset = torch.load(test_path)"
   ]
  },
  {
   "cell_type": "code",
   "execution_count": 18,
   "metadata": {},
   "outputs": [
    {
     "data": {
      "text/plain": [
       "torch.Size([150000, 1024])"
      ]
     },
     "execution_count": 18,
     "metadata": {},
     "output_type": "execute_result"
    }
   ],
   "source": [
    "a = torch.load('tokenized/train_150k_min500_complete.pt')\n",
    "a.input_ids.shape"
   ]
  },
  {
   "cell_type": "code",
   "execution_count": 20,
   "metadata": {},
   "outputs": [],
   "source": [
    "train_dataset.tokenizer = tokenizer\n",
    "test_dataset.tokenizer = tokenizer"
   ]
  },
  {
   "cell_type": "code",
   "execution_count": 21,
   "metadata": {},
   "outputs": [],
   "source": [
    "torch.save(train_dataset, train_path, pickle_protocol=4)\n",
    "torch.save(test_dataset, test_path, pickle_protocol=4)\n"
   ]
  },
  {
   "cell_type": "code",
   "execution_count": 22,
   "metadata": {},
   "outputs": [],
   "source": [
    "class Unbuffered(object):\n",
    "    def __init__(self, stream):\n",
    "        self.stream = stream\n",
    "    def write(self, data):\n",
    "        self.stream.write(data)\n",
    "        self.stream.flush()\n",
    "    def writelines(self, datas):\n",
    "        self.stream.writelines(datas)\n",
    "        self.stream.flush()\n",
    "    def __getattr__(self, attr):\n",
    "        return getattr(self.stream, attr)\n"
   ]
  },
  {
   "cell_type": "code",
   "execution_count": null,
   "metadata": {},
   "outputs": [],
   "source": []
  }
 ],
 "metadata": {
  "kernelspec": {
   "display_name": "nlp-conda-kernel",
   "language": "python",
   "name": "nlp-conda-kernel"
  },
  "language_info": {
   "codemirror_mode": {
    "name": "ipython",
    "version": 3
   },
   "file_extension": ".py",
   "mimetype": "text/x-python",
   "name": "python",
   "nbconvert_exporter": "python",
   "pygments_lexer": "ipython3",
   "version": "3.8.10"
  }
 },
 "nbformat": 4,
 "nbformat_minor": 4
}
