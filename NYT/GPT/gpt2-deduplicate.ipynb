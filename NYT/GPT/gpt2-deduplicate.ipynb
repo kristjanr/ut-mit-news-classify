{
 "cells": [
  {
   "cell_type": "code",
   "execution_count": 79,
   "metadata": {},
   "outputs": [],
   "source": [
    "import os\n",
    "import torch\n",
    "import os\n",
    "from tqdm.notebook import tqdm\n",
    "\n",
    "from torch.utils.data import Dataset\n",
    "\n",
    "class GPTEmbeddedDataset(Dataset):\n",
    "    def __init__(self, X, y):\n",
    "        self.X = X\n",
    "        self.y = y\n",
    "\n",
    "    def __len__(self):\n",
    "        return len(self.X)\n",
    "\n",
    "    def __getitem__(self, idx):\n",
    "        return self.X[idx], self.y[idx], idx\n",
    "    \n",
    "class EmbeddedDataset(Dataset):\n",
    "    def __init__(self, X):\n",
    "        self.X = X\n",
    "\n",
    "    def __len__(self):\n",
    "        return len(self.X)\n",
    "\n",
    "    def __getitem__(self, idx):\n",
    "        return self.X[idx], idx\n",
    "\n",
    "def load_all(directory):\n",
    "    sorted_filenames = sorted(os.listdir(directory), key=lambda fn: int(fn.split('of')[0].split('chunk')[1]))\n",
    "    all_X = None\n",
    "    all_y = None\n",
    "    for filename in tqdm(sorted_filenames):\n",
    "        saved_dataset = torch.load(directory + filename)\n",
    "\n",
    "        if all_X is not None:\n",
    "            all_X = torch.cat([all_X, saved_dataset.X])\n",
    "#             all_y = torch.cat([all_y, saved_dataset.y])\n",
    "        else:\n",
    "            all_X = saved_dataset.X\n",
    "#             all_y = saved_dataset.y\n",
    "    all_X = all_X.numpy()\n",
    "#     all_y = all_y.numpy()\n",
    "    return all_X #, all_y"
   ]
  },
  {
   "cell_type": "code",
   "execution_count": 73,
   "metadata": {},
   "outputs": [
    {
     "name": "stdout",
     "output_type": "stream",
     "text": [
      "embedded_train_FULL_gpt2_chunk1of9.pt  embedded_train_FULL_gpt2_chunk6of9.pt\n",
      "embedded_train_FULL_gpt2_chunk2of9.pt  embedded_train_FULL_gpt2_chunk7of9.pt\n",
      "embedded_train_FULL_gpt2_chunk3of9.pt  embedded_train_FULL_gpt2_chunk8of9.pt\n",
      "embedded_train_FULL_gpt2_chunk4of9.pt  embedded_train_FULL_gpt2_chunk9of9.pt\n",
      "embedded_train_FULL_gpt2_chunk5of9.pt\n"
     ]
    }
   ],
   "source": [
    "!ls /gpfs/space/projects/stud_nlp_share/kristjan/gpt2-vectors/"
   ]
  },
  {
   "cell_type": "code",
   "execution_count": 81,
   "metadata": {},
   "outputs": [
    {
     "data": {
      "application/vnd.jupyter.widget-view+json": {
       "model_id": "a39d0f78854046f7a41f8bfadc96c6d3",
       "version_major": 2,
       "version_minor": 0
      },
      "text/plain": [
       "  0%|          | 0/9 [00:00<?, ?it/s]"
      ]
     },
     "metadata": {},
     "output_type": "display_data"
    }
   ],
   "source": [
    "directory = '/gpfs/space/projects/stud_nlp_share/kristjan/gpt2-vectors/'\n",
    "\n",
    "gpt2_kristjan_X = load_all(directory)"
   ]
  },
  {
   "cell_type": "code",
   "execution_count": 82,
   "metadata": {},
   "outputs": [
    {
     "data": {
      "text/plain": [
       "(1298504, 768)"
      ]
     },
     "execution_count": 82,
     "metadata": {},
     "output_type": "execute_result"
    }
   ],
   "source": [
    "gpt2_kristjan_X.shape"
   ]
  },
  {
   "cell_type": "code",
   "execution_count": 90,
   "metadata": {},
   "outputs": [],
   "source": [
    "n_chunks = 25\n",
    "\n",
    "split_indices = np.array_split(np.arange(len(gpt2_kristjan_X)), n_chunks)"
   ]
  },
  {
   "cell_type": "code",
   "execution_count": 94,
   "metadata": {},
   "outputs": [
    {
     "data": {
      "text/plain": [
       "51941"
      ]
     },
     "execution_count": 94,
     "metadata": {},
     "output_type": "execute_result"
    }
   ],
   "source": [
    "len(split_indices[0])"
   ]
  },
  {
   "cell_type": "code",
   "execution_count": 95,
   "metadata": {},
   "outputs": [
    {
     "data": {
      "text/plain": [
       "51940"
      ]
     },
     "execution_count": 95,
     "metadata": {},
     "output_type": "execute_result"
    }
   ],
   "source": [
    "split_indices[0][-1]"
   ]
  },
  {
   "cell_type": "code",
   "execution_count": 96,
   "metadata": {},
   "outputs": [
    {
     "data": {
      "text/plain": [
       "51941"
      ]
     },
     "execution_count": 96,
     "metadata": {},
     "output_type": "execute_result"
    }
   ],
   "source": [
    "split_indices[1][0]"
   ]
  },
  {
   "cell_type": "code",
   "execution_count": null,
   "metadata": {},
   "outputs": [],
   "source": []
  },
  {
   "cell_type": "code",
   "execution_count": null,
   "metadata": {},
   "outputs": [],
   "source": []
  },
  {
   "cell_type": "code",
   "execution_count": null,
   "metadata": {},
   "outputs": [],
   "source": []
  },
  {
   "cell_type": "code",
   "execution_count": null,
   "metadata": {},
   "outputs": [],
   "source": []
  },
  {
   "cell_type": "code",
   "execution_count": 4,
   "metadata": {},
   "outputs": [
    {
     "data": {
      "application/vnd.jupyter.widget-view+json": {
       "model_id": "f77085902dd04d9b8199847afd4e57ad",
       "version_major": 2,
       "version_minor": 0
      },
      "text/plain": [
       "  0%|          | 0/7 [00:00<?, ?it/s]"
      ]
     },
     "metadata": {},
     "output_type": "display_data"
    }
   ],
   "source": [
    "directory = '/gpfs/space/projects/stud_nlp_share/single-gpt2/'\n",
    "\n",
    "gpt2_X, gpt2_y = load_all(directory)"
   ]
  },
  {
   "cell_type": "code",
   "execution_count": 44,
   "metadata": {},
   "outputs": [
    {
     "name": "stdout",
     "output_type": "stream",
     "text": [
      "kristjan  NYTcorpus_test.p.gz  NYTcorpus_train.p.gz  single-gpt2  tfidf\n"
     ]
    }
   ],
   "source": [
    "!ls /gpfs/space/projects/stud_nlp_share"
   ]
  },
  {
   "cell_type": "code",
   "execution_count": 46,
   "metadata": {},
   "outputs": [
    {
     "data": {
      "application/vnd.jupyter.widget-view+json": {
       "model_id": "5c39c9c780c54a7ca562fb89066b316c",
       "version_major": 2,
       "version_minor": 0
      },
      "text/plain": [
       "  0%|          | 0/25 [00:00<?, ?it/s]"
      ]
     },
     "metadata": {},
     "output_type": "display_data"
    }
   ],
   "source": [
    "directory = '/gpfs/space/projects/stud_nlp_share/tfidf/train/'\n",
    "\n",
    "tfidf_X, tfidf_y = load_all(directory)"
   ]
  },
  {
   "cell_type": "code",
   "execution_count": null,
   "metadata": {},
   "outputs": [],
   "source": []
  },
  {
   "cell_type": "code",
   "execution_count": 47,
   "metadata": {},
   "outputs": [
    {
     "data": {
      "text/plain": [
       "((1298505, 768), (1298505, 538), (1298479, 1000), (1298479, 538))"
      ]
     },
     "execution_count": 47,
     "metadata": {},
     "output_type": "execute_result"
    }
   ],
   "source": [
    "gpt2_X.shape, gpt2_y.shape, tfidf_X.shape, tfidf_y.shape"
   ]
  },
  {
   "cell_type": "code",
   "execution_count": 22,
   "metadata": {},
   "outputs": [
    {
     "name": "stdout",
     "output_type": "stream",
     "text": [
      "duplicate! 600000\n"
     ]
    }
   ],
   "source": [
    "import numpy as np\n",
    "\n",
    "last_article = np.zeros((768,))\n",
    "\n",
    "for i, article in enumerate(gpt2_X):    \n",
    "    if np.equal(article, last_article).all():\n",
    "        print('duplicate!', i)\n",
    "    last_article = article"
   ]
  },
  {
   "cell_type": "code",
   "execution_count": 26,
   "metadata": {},
   "outputs": [
    {
     "data": {
      "text/plain": [
       "array([-0.07917378, -0.12252154,  0.21342368,  0.0502246 ,  0.08611257,\n",
       "       -0.36935362, 21.566942  ,  0.74405277,  0.9342644 , -0.6718916 ],\n",
       "      dtype=float32)"
      ]
     },
     "execution_count": 26,
     "metadata": {},
     "output_type": "execute_result"
    }
   ],
   "source": [
    "gpt2_X[600000-1][:10]"
   ]
  },
  {
   "cell_type": "code",
   "execution_count": 27,
   "metadata": {},
   "outputs": [
    {
     "data": {
      "text/plain": [
       "array([-0.07917378, -0.12252154,  0.21342368,  0.0502246 ,  0.08611257,\n",
       "       -0.36935362, 21.566942  ,  0.74405277,  0.9342644 , -0.6718916 ],\n",
       "      dtype=float32)"
      ]
     },
     "execution_count": 27,
     "metadata": {},
     "output_type": "execute_result"
    }
   ],
   "source": [
    "gpt2_X[600000][:10]"
   ]
  },
  {
   "cell_type": "code",
   "execution_count": 41,
   "metadata": {
    "scrolled": true
   },
   "outputs": [
    {
     "name": "stdout",
     "output_type": "stream",
     "text": [
      "i 0\n",
      "i 10000\n",
      "i 20000\n",
      "i 30000\n",
      "i 40000\n",
      "i 50000\n",
      "i 60000\n",
      "i 70000\n",
      "i 80000\n",
      "i 90000\n",
      "i 100000\n",
      "i 110000\n",
      "i 120000\n",
      "i 130000\n",
      "i 140000\n",
      "i 150000\n",
      "i 160000\n",
      "i 170000\n",
      "i 180000\n",
      "i 190000\n",
      "i 200000\n",
      "i 210000\n",
      "i 220000\n",
      "i 230000\n",
      "i 240000\n",
      "i 250000\n",
      "i 260000\n",
      "i 270000\n",
      "i 280000\n",
      "i 290000\n",
      "i 300000\n",
      "i 310000\n",
      "i 320000\n",
      "i 330000\n",
      "i 340000\n",
      "i 350000\n",
      "i 360000\n",
      "i 370000\n",
      "i 380000\n",
      "i 390000\n",
      "i 400000\n",
      "i 410000\n",
      "i 420000\n",
      "i 430000\n",
      "i 440000\n",
      "i 450000\n",
      "i 460000\n",
      "i 470000\n",
      "i 480000\n",
      "i 490000\n",
      "i 500000\n",
      "i 510000\n",
      "i 520000\n",
      "i 530000\n",
      "i 540000\n",
      "i 550000\n",
      "i 560000\n",
      "i 570000\n",
      "i 580000\n",
      "i 590000\n",
      "i 600000\n",
      "i 610000\n",
      "i 620000\n",
      "i 630000\n",
      "i 640000\n",
      "i 650000\n",
      "i 660000\n",
      "i 670000\n",
      "i 680000\n",
      "i 690000\n",
      "i 700000\n",
      "i 710000\n",
      "i 720000\n",
      "i 730000\n",
      "i 740000\n",
      "i 750000\n",
      "i 760000\n",
      "i 770000\n",
      "i 780000\n",
      "i 790000\n",
      "i 800000\n",
      "i 810000\n",
      "i 820000\n",
      "i 830000\n",
      "i 840000\n",
      "i 850000\n",
      "i 860000\n",
      "i 870000\n",
      "i 880000\n",
      "i 890000\n",
      "i 900000\n",
      "i 910000\n",
      "i 920000\n",
      "i 930000\n",
      "i 940000\n",
      "i 950000\n",
      "i 960000\n",
      "i 970000\n",
      "i 980000\n",
      "i 990000\n",
      "i 1000000\n",
      "i 1010000\n",
      "i 1020000\n",
      "i 1030000\n",
      "i 1040000\n",
      "i 1050000\n",
      "i 1060000\n",
      "i 1070000\n",
      "i 1080000\n",
      "i 1090000\n",
      "i 1100000\n",
      "i 1110000\n",
      "i 1120000\n",
      "i 1130000\n",
      "i 1140000\n",
      "i 1150000\n",
      "i 1160000\n",
      "i 1170000\n",
      "i 1180000\n",
      "i 1190000\n",
      "i 1200000\n",
      "i 1210000\n",
      "i 1220000\n",
      "i 1230000\n",
      "i 1240000\n",
      "i 1250000\n",
      "i 1260000\n",
      "i 1270000\n",
      "i 1280000\n",
      "i 1290000\n"
     ]
    }
   ],
   "source": [
    "import sys\n",
    "\n",
    "gpt_unique = set()\n",
    "\n",
    "for i, article in enumerate(gpt2_X):\n",
    "    gpt_unique.add(tuple(list(article)))\n",
    "    if i % 50_000 ==0:\n",
    "        print('i', i)\n",
    "    "
   ]
  },
  {
   "cell_type": "code",
   "execution_count": 49,
   "metadata": {},
   "outputs": [
    {
     "name": "stdout",
     "output_type": "stream",
     "text": [
      "unique: 1288424\n",
      "all: 1298505\n"
     ]
    }
   ],
   "source": [
    "print('unique:', len(gpt_unique))\n",
    "print('all:', len(gpt2_X))"
   ]
  },
  {
   "cell_type": "code",
   "execution_count": 50,
   "metadata": {},
   "outputs": [
    {
     "name": "stdout",
     "output_type": "stream",
     "text": [
      "i 0\n",
      "i 50000\n",
      "i 100000\n",
      "i 150000\n",
      "i 200000\n",
      "i 250000\n",
      "i 300000\n",
      "i 350000\n",
      "i 400000\n",
      "i 450000\n",
      "i 500000\n",
      "i 550000\n",
      "i 600000\n",
      "i 650000\n",
      "i 700000\n",
      "i 750000\n",
      "i 800000\n",
      "i 850000\n",
      "i 900000\n",
      "i 950000\n",
      "i 1000000\n",
      "i 1050000\n",
      "i 1100000\n",
      "i 1150000\n",
      "i 1200000\n",
      "i 1250000\n"
     ]
    }
   ],
   "source": [
    "tfidf_unique = set()\n",
    "\n",
    "for i, article in enumerate(tfidf_X):\n",
    "    tfidf_unique.add(tuple(list(article)))\n",
    "    if i % 50_000 ==0:\n",
    "        print('i', i)"
   ]
  },
  {
   "cell_type": "code",
   "execution_count": 51,
   "metadata": {},
   "outputs": [
    {
     "name": "stdout",
     "output_type": "stream",
     "text": [
      "unique: 1278567\n",
      "all: 1298479\n"
     ]
    }
   ],
   "source": [
    "print('unique:', len(tfidf_unique))\n",
    "print('all:', len(tfidf_X))"
   ]
  },
  {
   "cell_type": "code",
   "execution_count": 62,
   "metadata": {},
   "outputs": [
    {
     "name": "stdout",
     "output_type": "stream",
     "text": [
      "found not equal gpt: 51940 tfidf: 51940\n"
     ]
    },
    {
     "name": "stderr",
     "output_type": "stream",
     "text": [
      "<ipython-input-62-210b366e9af5>:9: DeprecationWarning: elementwise comparison failed; this will raise an error in the future.\n",
      "  if (tfidf_labels != gpt_labels).all():\n"
     ]
    },
    {
     "ename": "AttributeError",
     "evalue": "'bool' object has no attribute 'all'",
     "output_type": "error",
     "traceback": [
      "\u001b[0;31m---------------------------------------------------------------------------\u001b[0m",
      "\u001b[0;31mAttributeError\u001b[0m                            Traceback (most recent call last)",
      "\u001b[0;32m<ipython-input-62-210b366e9af5>\u001b[0m in \u001b[0;36m<module>\u001b[0;34m\u001b[0m\n\u001b[1;32m      7\u001b[0m     \u001b[0mgpt_labels\u001b[0m \u001b[0;34m=\u001b[0m \u001b[0mgpt2_y\u001b[0m\u001b[0;34m[\u001b[0m\u001b[0mgpt_i\u001b[0m\u001b[0;34m]\u001b[0m\u001b[0;34m.\u001b[0m\u001b[0mnonzero\u001b[0m\u001b[0;34m(\u001b[0m\u001b[0;34m)\u001b[0m\u001b[0;34m[\u001b[0m\u001b[0;36m0\u001b[0m\u001b[0;34m]\u001b[0m\u001b[0;34m\u001b[0m\u001b[0;34m\u001b[0m\u001b[0m\n\u001b[1;32m      8\u001b[0m \u001b[0;34m\u001b[0m\u001b[0m\n\u001b[0;32m----> 9\u001b[0;31m     \u001b[0;32mif\u001b[0m \u001b[0;34m(\u001b[0m\u001b[0mtfidf_labels\u001b[0m \u001b[0;34m!=\u001b[0m \u001b[0mgpt_labels\u001b[0m\u001b[0;34m)\u001b[0m\u001b[0;34m.\u001b[0m\u001b[0mall\u001b[0m\u001b[0;34m(\u001b[0m\u001b[0;34m)\u001b[0m\u001b[0;34m:\u001b[0m\u001b[0;34m\u001b[0m\u001b[0;34m\u001b[0m\u001b[0m\n\u001b[0m\u001b[1;32m     10\u001b[0m         \u001b[0mprint\u001b[0m\u001b[0;34m(\u001b[0m\u001b[0;34m'found not equal'\u001b[0m\u001b[0;34m,\u001b[0m \u001b[0;34m'gpt:'\u001b[0m\u001b[0;34m,\u001b[0m \u001b[0mgpt_i\u001b[0m\u001b[0;34m,\u001b[0m \u001b[0;34m'tfidf:'\u001b[0m\u001b[0;34m,\u001b[0m \u001b[0mtfidf_i\u001b[0m\u001b[0;34m)\u001b[0m\u001b[0;34m\u001b[0m\u001b[0;34m\u001b[0m\u001b[0m\n\u001b[1;32m     11\u001b[0m \u001b[0;34m\u001b[0m\u001b[0m\n",
      "\u001b[0;31mAttributeError\u001b[0m: 'bool' object has no attribute 'all'"
     ]
    }
   ],
   "source": [
    "gpt_i = 0\n",
    "tfidf_i = 0\n",
    "\n",
    "while gpt_i < gpt2_y.shape[0] and tfidf_i < tfidf_y.shape[0]:\n",
    "    \n",
    "    tfidf_labels = tfidf_y[tfidf_i].nonzero()[0]\n",
    "    gpt_labels = gpt2_y[gpt_i].nonzero()[0]\n",
    "    \n",
    "    if (tfidf_labels != gpt_labels).all():\n",
    "        print('found not equal', 'gpt:', gpt_i, 'tfidf:', tfidf_i)\n",
    "        \n",
    "    gpt_i += 1\n",
    "    tfidf_i += 1\n",
    "    \n",
    "    "
   ]
  },
  {
   "cell_type": "code",
   "execution_count": 88,
   "metadata": {},
   "outputs": [
    {
     "data": {
      "text/plain": [
       "array([0, 0, 0, 0, 0, 0, 0, 0, 0, 0, 0, 0, 0, 0, 0, 0, 0, 0, 0, 0, 0, 0,\n",
       "       0, 0, 0, 0, 0, 0, 0, 0, 0, 0, 0, 0, 0, 0, 0, 0, 0, 0, 0, 0, 0, 0,\n",
       "       0, 0, 0, 0, 0, 0, 0, 0, 0, 0, 0, 0, 0, 0, 0, 0, 0, 0, 0, 0, 0, 0,\n",
       "       0, 0, 0, 0, 0, 0, 0, 0, 0, 0, 0, 0, 1, 0, 0, 0, 0, 0, 0, 0, 0, 0,\n",
       "       0, 0, 0, 0, 0, 0, 0, 0, 0, 0, 0, 0, 0, 0, 0, 0, 0, 0, 0, 0, 0, 0,\n",
       "       0, 0, 0, 0, 0, 0, 0, 0, 0, 0, 0, 0, 0, 0, 0, 0, 0, 0, 0, 0, 0, 0,\n",
       "       0, 0, 0, 0, 0, 0, 0, 0, 0, 0, 0, 0, 0, 1, 0, 0, 0, 0, 0, 0, 0, 0,\n",
       "       0, 0, 0, 0, 0, 0, 0, 0, 0, 0, 0, 0, 0, 0, 0, 0, 0, 0, 0, 0, 0, 0,\n",
       "       0, 0, 0, 0, 0, 0, 0, 0, 0, 0, 0, 0, 0, 0, 0, 0, 0, 0, 0, 0, 0, 0,\n",
       "       0, 0, 0, 0, 0, 0, 0, 0, 0, 0, 0, 0, 0, 0, 0, 0, 0, 0, 0, 0, 0, 0,\n",
       "       0, 0, 0, 0, 0, 0, 0, 0, 0, 0, 0, 0, 0, 0, 0, 0, 0, 0, 0, 0, 0, 0,\n",
       "       0, 0, 0, 0, 0, 0, 0, 0, 0, 0, 0, 0, 0, 0, 0, 0, 0, 0, 0, 0, 0, 0,\n",
       "       0, 0, 0, 0, 0, 0, 0, 0, 0, 0, 0, 0, 0, 0, 0, 0, 0, 0, 0, 0, 0, 0,\n",
       "       0, 0, 0, 0, 0, 0, 0, 0, 0, 0, 0, 0, 0, 0, 0, 0, 0, 0, 0, 0, 0, 0,\n",
       "       0, 0, 0, 0, 0, 0, 0, 0, 0, 0, 0, 0, 0, 0, 0, 0, 0, 0, 0, 0, 0, 0,\n",
       "       0, 0, 0, 0, 0, 0, 0, 0, 0, 0, 0, 0, 0, 0, 0, 0, 0, 0, 0, 0, 0, 0,\n",
       "       0, 0, 0, 0, 0, 0, 0, 0, 0, 0, 0, 0, 0, 0, 0, 0, 0, 0, 0, 0, 0, 0,\n",
       "       0, 0, 0, 0, 0, 0, 0, 0, 0, 0, 0, 0, 0, 0, 0, 0, 0, 0, 0, 0, 0, 0,\n",
       "       0, 0, 0, 0, 0, 0, 0, 0, 0, 0, 0, 0, 0, 0, 0, 0, 0, 0, 0, 0, 0, 0,\n",
       "       0, 0, 0, 0, 0, 0, 0, 0, 0, 0, 0, 0, 0, 0, 0, 0, 0, 0, 0, 0, 0, 0,\n",
       "       0, 0, 0, 0, 0, 0, 0, 0, 0, 0, 0, 0, 0, 0, 0, 0, 0, 0, 0, 0, 0, 0,\n",
       "       0, 0, 0, 0, 0, 0, 0, 0, 0, 0, 0, 0, 0, 0, 0, 0, 0, 0, 0, 0, 0, 0,\n",
       "       0, 0, 0, 0, 0, 0, 0, 0, 0, 0, 0, 0, 0, 0, 0, 0, 0, 0, 0, 0, 0, 0,\n",
       "       0, 0, 0, 0, 0, 0, 0, 0, 0, 0, 0, 0, 0, 0, 0, 0, 0, 0, 0, 0, 0, 0,\n",
       "       0, 0, 0, 0, 0, 0, 0, 0, 0, 0])"
      ]
     },
     "execution_count": 88,
     "metadata": {},
     "output_type": "execute_result"
    }
   ],
   "source": [
    "tfidf_y[51940]"
   ]
  },
  {
   "cell_type": "code",
   "execution_count": 89,
   "metadata": {},
   "outputs": [
    {
     "data": {
      "text/plain": [
       "array([0, 0, 0, 0, 0, 0, 0, 0, 0, 0, 0, 0, 0, 0, 0, 0, 0, 0, 0, 0, 0, 0,\n",
       "       0, 0, 0, 0, 0, 0, 0, 0, 0, 0, 0, 0, 0, 0, 0, 0, 0, 0, 0, 0, 0, 0,\n",
       "       0, 0, 0, 0, 0, 0, 0, 0, 0, 0, 0, 0, 0, 0, 0, 0, 0, 0, 0, 0, 0, 0,\n",
       "       0, 0, 0, 0, 0, 0, 0, 0, 0, 0, 0, 0, 1, 0, 0, 0, 0, 0, 0, 0, 0, 0,\n",
       "       0, 0, 0, 0, 0, 0, 0, 0, 0, 0, 0, 0, 0, 0, 0, 0, 0, 0, 0, 0, 0, 0,\n",
       "       0, 0, 0, 0, 0, 0, 0, 0, 0, 0, 0, 0, 0, 0, 0, 0, 0, 0, 0, 0, 0, 0,\n",
       "       0, 0, 0, 0, 0, 0, 0, 0, 0, 0, 0, 0, 0, 1, 0, 0, 0, 0, 0, 0, 0, 0,\n",
       "       0, 0, 0, 0, 0, 0, 0, 0, 0, 0, 0, 0, 0, 0, 0, 0, 0, 0, 0, 0, 0, 0,\n",
       "       0, 0, 0, 0, 0, 0, 0, 0, 0, 0, 0, 0, 0, 0, 0, 0, 0, 0, 0, 0, 0, 0,\n",
       "       0, 0, 0, 0, 0, 0, 0, 0, 0, 0, 0, 0, 0, 0, 0, 0, 0, 0, 0, 0, 0, 0,\n",
       "       0, 0, 0, 0, 0, 0, 0, 0, 0, 0, 0, 0, 0, 0, 0, 0, 0, 0, 0, 0, 0, 0,\n",
       "       0, 0, 0, 0, 0, 0, 0, 0, 0, 0, 0, 0, 0, 0, 0, 0, 0, 0, 0, 0, 0, 0,\n",
       "       0, 0, 0, 0, 0, 0, 0, 0, 0, 0, 0, 0, 0, 0, 0, 0, 0, 0, 0, 0, 0, 0,\n",
       "       0, 0, 0, 0, 0, 0, 0, 0, 0, 0, 0, 0, 0, 0, 0, 0, 0, 0, 0, 0, 0, 0,\n",
       "       0, 0, 0, 0, 0, 0, 0, 0, 0, 0, 0, 0, 0, 0, 0, 0, 0, 0, 0, 0, 0, 0,\n",
       "       0, 0, 0, 0, 0, 0, 0, 0, 0, 0, 0, 0, 0, 0, 0, 0, 0, 0, 0, 0, 0, 0,\n",
       "       0, 0, 0, 0, 0, 0, 0, 0, 0, 0, 0, 0, 0, 0, 0, 0, 0, 0, 0, 0, 0, 0,\n",
       "       0, 0, 0, 0, 0, 0, 0, 0, 0, 0, 0, 0, 0, 0, 0, 0, 0, 0, 0, 0, 0, 0,\n",
       "       0, 0, 0, 0, 0, 0, 0, 0, 0, 0, 0, 0, 0, 0, 0, 0, 0, 0, 0, 0, 0, 0,\n",
       "       0, 0, 0, 0, 0, 0, 0, 0, 0, 0, 0, 0, 0, 0, 0, 0, 0, 0, 0, 0, 0, 0,\n",
       "       0, 0, 0, 0, 0, 0, 0, 0, 0, 0, 0, 0, 0, 0, 0, 0, 0, 0, 0, 0, 0, 0,\n",
       "       0, 0, 0, 0, 0, 0, 0, 0, 0, 0, 0, 0, 0, 0, 0, 0, 0, 0, 0, 0, 0, 0,\n",
       "       0, 0, 0, 0, 0, 0, 0, 0, 0, 0, 0, 0, 0, 0, 0, 0, 0, 0, 0, 0, 0, 0,\n",
       "       0, 0, 0, 0, 0, 0, 0, 0, 0, 0, 0, 0, 0, 0, 0, 0, 0, 0, 0, 0, 0, 0,\n",
       "       0, 0, 0, 0, 0, 0, 0, 0, 0, 0])"
      ]
     },
     "execution_count": 89,
     "metadata": {},
     "output_type": "execute_result"
    }
   ],
   "source": [
    "gpt2_y[51941]"
   ]
  },
  {
   "cell_type": "markdown",
   "metadata": {},
   "source": []
  },
  {
   "cell_type": "code",
   "execution_count": null,
   "metadata": {},
   "outputs": [],
   "source": []
  }
 ],
 "metadata": {
  "kernelspec": {
   "display_name": "Python (nlp)",
   "language": "python",
   "name": "nlp"
  },
  "language_info": {
   "codemirror_mode": {
    "name": "ipython",
    "version": 3
   },
   "file_extension": ".py",
   "mimetype": "text/x-python",
   "name": "python",
   "nbconvert_exporter": "python",
   "pygments_lexer": "ipython3",
   "version": "3.8.8"
  }
 },
 "nbformat": 4,
 "nbformat_minor": 4
}
