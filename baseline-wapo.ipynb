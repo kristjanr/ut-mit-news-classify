{
 "cells": [
  {
   "cell_type": "code",
   "execution_count": 89,
   "id": "touched-belgium",
   "metadata": {},
   "outputs": [],
   "source": [
    "from sklearn.model_selection import train_test_split\n",
    "from sklearn.feature_extraction.text import TfidfVectorizer\n",
    "import sklearn.metrics as metrics\n",
    "from sklearn.dummy import DummyClassifier\n",
    "from sklearn.naive_bayes import ComplementNB\n",
    "from sklearn.linear_model import LogisticRegression\n",
    "import gzip\n",
    "import pandas as pd\n",
    "import numpy as np"
   ]
  },
  {
   "cell_type": "code",
   "execution_count": 81,
   "id": "worldwide-massage",
   "metadata": {},
   "outputs": [],
   "source": [
    "with gzip.open('../articlesXXXXXXXX_wapo_all_opinion.tsv.gz', mode='rt') as f:\n",
    "    dfo = pd.read_csv(f, names=range(11), delimiter='\\t')\n",
    "\n",
    "with gzip.open('../articlesXXXXXXXX_wapo_all_nopinion.tsv.gz', mode='rt') as f:\n",
    "    dfno = pd.read_csv(f, names=range(11), delimiter='\\t')"
   ]
  },
  {
   "cell_type": "code",
   "execution_count": 82,
   "id": "difficult-trust",
   "metadata": {},
   "outputs": [],
   "source": [
    "import re\n",
    "\n",
    "regex = re.compile(r'(\\s+)|(\\n+)')\n",
    "\n",
    "def clean(article):\n",
    "    if type(article) != str:\n",
    "        return ''\n",
    "    return re.sub(regex, ' ', article)"
   ]
  },
  {
   "cell_type": "code",
   "execution_count": 103,
   "id": "lined-oracle",
   "metadata": {},
   "outputs": [
    {
     "data": {
      "text/plain": [
       "((21220,), (114940,))"
      ]
     },
     "execution_count": 103,
     "metadata": {},
     "output_type": "execute_result"
    }
   ],
   "source": [
    "opinion = dfo[6].map(clean)\n",
    "nopinion = dfno[6].map(clean)\n",
    "\n",
    "opinion = opinion[opinion != '']\n",
    "nopinion = nopinion[nopinion != '']\n",
    "\n",
    "opinion.shape, nopinion.shape"
   ]
  },
  {
   "cell_type": "code",
   "execution_count": 106,
   "id": "social-tennessee",
   "metadata": {},
   "outputs": [],
   "source": [
    "opinion_labels = np.ones(opinion.shape)\n",
    "nopinion_labels = np.zeros(nopinion.shape)\n",
    "\n",
    "articles = np.concatenate((np.array(opinion), np.array(nopinion)))\n",
    "labels = np.concatenate((opinion_labels, nopinion_labels))"
   ]
  },
  {
   "cell_type": "code",
   "execution_count": 108,
   "id": "incident-problem",
   "metadata": {},
   "outputs": [],
   "source": [
    "\n",
    "n_samples = 10000\n",
    "\n",
    "x_train, x_val, y_train, y_val = train_test_split(articles, labels, train_size=n_samples, test_size=n_samples, random_state=0)\n",
    "\n",
    "tfidf_vectorizer = TfidfVectorizer(\n",
    "    max_features=40000,\n",
    "    analyzer='word', \n",
    "    stop_words='english', \n",
    "    ngram_range=(1, 1), \n",
    "    strip_accents='ascii')\n",
    "\n",
    "tfidf_vectorizer.fit(x_train)\n",
    "\n",
    "x_train = tfidf_vectorizer.transform(x_train)\n",
    "x_val = tfidf_vectorizer.transform(x_val)\n",
    "\n"
   ]
  },
  {
   "cell_type": "code",
   "execution_count": 112,
   "id": "structured-height",
   "metadata": {},
   "outputs": [
    {
     "data": {
      "text/plain": [
       "0.0"
      ]
     },
     "execution_count": 112,
     "metadata": {},
     "output_type": "execute_result"
    }
   ],
   "source": [
    "model = DummyClassifier()\n",
    "model.fit(x_train, y_train)\n",
    "\n",
    "y_pred = model.predict(x_val)\n",
    "\n",
    "metrics.f1_score(y_val, y_pred)\n"
   ]
  },
  {
   "cell_type": "code",
   "execution_count": 113,
   "id": "headed-reunion",
   "metadata": {},
   "outputs": [
    {
     "data": {
      "text/plain": [
       "0.04987531172069825"
      ]
     },
     "execution_count": 113,
     "metadata": {},
     "output_type": "execute_result"
    }
   ],
   "source": [
    "model = ComplementNB()\n",
    "model.fit(x_train, y_train)\n",
    "\n",
    "y_pred = model.predict(x_val)\n",
    "\n",
    "metrics.f1_score(y_val, y_pred)\n"
   ]
  },
  {
   "cell_type": "code",
   "execution_count": 116,
   "id": "pressing-sampling",
   "metadata": {},
   "outputs": [
    {
     "data": {
      "text/plain": [
       "0.38801571709233795"
      ]
     },
     "execution_count": 116,
     "metadata": {},
     "output_type": "execute_result"
    }
   ],
   "source": [
    "model = LogisticRegression(solver='lbfgs', random_state=0)\n",
    "model.fit(x_train, y_train)\n",
    "\n",
    "y_pred = model.predict(x_val)\n",
    "\n",
    "metrics.f1_score(y_val, y_pred)\n"
   ]
  },
  {
   "cell_type": "code",
   "execution_count": null,
   "id": "considered-russell",
   "metadata": {},
   "outputs": [],
   "source": []
  }
 ],
 "metadata": {
  "kernelspec": {
   "display_name": "Python 3",
   "language": "python",
   "name": "python3"
  },
  "language_info": {
   "codemirror_mode": {
    "name": "ipython",
    "version": 3
   },
   "file_extension": ".py",
   "mimetype": "text/x-python",
   "name": "python",
   "nbconvert_exporter": "python",
   "pygments_lexer": "ipython3",
   "version": "3.9.1"
  }
 },
 "nbformat": 4,
 "nbformat_minor": 5
}
