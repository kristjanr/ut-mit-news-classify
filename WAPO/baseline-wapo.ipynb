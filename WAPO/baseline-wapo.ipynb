{
 "cells": [
  {
   "cell_type": "code",
   "execution_count": 1,
   "id": "touched-belgium",
   "metadata": {},
   "outputs": [],
   "source": [
    "from sklearn.model_selection import train_test_split\n",
    "from sklearn.feature_extraction.text import TfidfVectorizer\n",
    "import sklearn.metrics as metrics\n",
    "from sklearn.dummy import DummyClassifier\n",
    "from sklearn.naive_bayes import ComplementNB\n",
    "from sklearn.linear_model import LogisticRegression\n",
    "import gzip\n",
    "import pandas as pd\n",
    "import numpy as np"
   ]
  },
  {
   "cell_type": "code",
   "execution_count": 2,
   "metadata": {},
   "outputs": [],
   "source": [
    "# globals\n",
    "\n",
    "SEED = 0"
   ]
  },
  {
   "cell_type": "code",
   "execution_count": 3,
   "id": "worldwide-massage",
   "metadata": {},
   "outputs": [],
   "source": [
    "with gzip.open('../articlesXXXXXXXX_wapo_all_opinion.tsv.gz', mode='rt') as f:\n",
    "    dfo = pd.read_csv(f, names=range(11), delimiter='\\t')\n",
    "\n",
    "with gzip.open('../articlesXXXXXXXX_wapo_all_nopinion.tsv.gz', mode='rt') as f:\n",
    "    dfno = pd.read_csv(f, names=range(11), delimiter='\\t')"
   ]
  },
  {
   "cell_type": "code",
   "execution_count": 4,
   "id": "difficult-trust",
   "metadata": {},
   "outputs": [],
   "source": [
    "import re\n",
    "\n",
    "new_lines = re.compile(r'(\\s+)|(\\n+)')\n",
    "\n",
    "def clean(article):\n",
    "    if type(article) != str:\n",
    "        return ''\n",
    "\n",
    "    # clean garbage\n",
    "    if 'Today’s Headlines' in article: \n",
    "        return ''\n",
    "    \n",
    "    return re.sub(new_lines, ' ', article)"
   ]
  },
  {
   "cell_type": "code",
   "execution_count": 5,
   "id": "lined-oracle",
   "metadata": {},
   "outputs": [
    {
     "output_type": "stream",
     "name": "stdout",
     "text": [
      "Opinion articles: 18177\nNews (non-opinion) articles: 106008\n"
     ]
    }
   ],
   "source": [
    "opinion = dfo[6].map(clean)\n",
    "nopinion = dfno[6].map(clean)\n",
    "\n",
    "opinion = opinion[opinion != '']\n",
    "nopinion = nopinion[nopinion != '']\n",
    "\n",
    "print('Opinion articles:', len(opinion))\n",
    "print('News (non-opinion) articles:', len(nopinion))"
   ]
  },
  {
   "cell_type": "code",
   "execution_count": 6,
   "id": "social-tennessee",
   "metadata": {},
   "outputs": [],
   "source": [
    "opinion_labels = np.ones(opinion.shape)\n",
    "nopinion_labels = np.zeros(nopinion.shape)\n",
    "\n",
    "articles = np.concatenate((np.array(opinion), np.array(nopinion)))\n",
    "labels = np.concatenate((opinion_labels, nopinion_labels))"
   ]
  },
  {
   "cell_type": "code",
   "execution_count": 7,
   "id": "incident-problem",
   "metadata": {},
   "outputs": [],
   "source": [
    "n_samples = 10000\n",
    "\n",
    "x_train, x_val, y_train, y_val = train_test_split(articles, labels, train_size=n_samples, test_size=n_samples, random_state=SEED)\n"
   ]
  },
  {
   "cell_type": "code",
   "execution_count": 8,
   "metadata": {},
   "outputs": [],
   "source": [
    "tfidf_vectorizer = TfidfVectorizer(\n",
    "    max_features=40000,\n",
    "    analyzer='word', \n",
    "    stop_words='english', \n",
    "    ngram_range=(1, 1), \n",
    "    strip_accents='ascii')\n",
    "\n",
    "tfidf_vectorizer.fit(x_train)\n",
    "\n",
    "x_train = tfidf_vectorizer.transform(x_train)\n",
    "x_val = tfidf_vectorizer.transform(x_val)"
   ]
  },
  {
   "cell_type": "code",
   "execution_count": 9,
   "id": "structured-height",
   "metadata": {},
   "outputs": [
    {
     "output_type": "stream",
     "name": "stdout",
     "text": [
      "F-1 Score: 0.0000\n"
     ]
    }
   ],
   "source": [
    "model = DummyClassifier()\n",
    "model.fit(x_train, y_train)\n",
    "\n",
    "y_pred = model.predict(x_val)\n",
    "\n",
    "print(f'F-1 Score: {metrics.f1_score(y_val, y_pred):.4f}')"
   ]
  },
  {
   "cell_type": "code",
   "execution_count": 10,
   "metadata": {},
   "outputs": [
    {
     "output_type": "stream",
     "name": "stdout",
     "text": [
      "Accuracy: 0.8553\nPrecision: 0.9412\nRecall: 0.0425\nF-1 Score: 0.0813\n"
     ]
    }
   ],
   "source": [
    "model = ComplementNB()\n",
    "model.fit(x_train, y_train)\n",
    "\n",
    "y_pred = model.predict(x_val)\n",
    "\n",
    "print(f'Accuracy: {metrics.accuracy_score(y_val, y_pred):.4f}')\n",
    "print(f'Precision: {metrics.precision_score(y_val, y_pred):.4f}')\n",
    "print(f'Recall: {metrics.recall_score(y_val, y_pred):.4f}')\n",
    "print(f'F-1 Score: {metrics.f1_score(y_val, y_pred):.4f}')"
   ]
  },
  {
   "cell_type": "code",
   "execution_count": 11,
   "metadata": {},
   "outputs": [
    {
     "output_type": "stream",
     "name": "stdout",
     "text": [
      "Accuracy: 0.8885\nPrecision: 0.8368\nRecall: 0.3232\nF-1 Score: 0.4663\n"
     ]
    }
   ],
   "source": [
    "model = LogisticRegression(solver='lbfgs', random_state=SEED)\n",
    "model.fit(x_train, y_train)\n",
    "\n",
    "y_pred = model.predict(x_val)\n",
    "\n",
    "print(f'Accuracy: {metrics.accuracy_score(y_val, y_pred):.4f}')\n",
    "print(f'Precision: {metrics.precision_score(y_val, y_pred):.4f}')\n",
    "print(f'Recall: {metrics.recall_score(y_val, y_pred):.4f}')\n",
    "print(f'F-1 Score: {metrics.f1_score(y_val, y_pred):.4f}')\n"
   ]
  }
 ],
 "metadata": {
  "kernelspec": {
   "name": "python380jvsc74a57bd01d47407f50cb4f57b03fc08e1f31d8212463fce5635b845e385eb7c9dcc614a7",
   "display_name": "Python 3.8.0 64-bit ('nlp': conda)"
  },
  "language_info": {
   "codemirror_mode": {
    "name": "ipython",
    "version": 3
   },
   "file_extension": ".py",
   "mimetype": "text/x-python",
   "name": "python",
   "nbconvert_exporter": "python",
   "pygments_lexer": "ipython3",
   "version": "3.8.0-final"
  }
 },
 "nbformat": 4,
 "nbformat_minor": 5
}